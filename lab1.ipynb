{
 "cells": [
  {
   "cell_type": "code",
   "execution_count": 132,
   "metadata": {
    "_cell_guid": "b1076dfc-b9ad-4769-8c92-a6c4dae69d19",
    "_uuid": "8f2839f25d086af736a60e9eeb907d3b93b6e0e5",
    "execution": {
     "iopub.execute_input": "2025-05-20T22:27:42.789683Z",
     "iopub.status.busy": "2025-05-20T22:27:42.789015Z",
     "iopub.status.idle": "2025-05-20T22:27:42.797641Z",
     "shell.execute_reply": "2025-05-20T22:27:42.796464Z",
     "shell.execute_reply.started": "2025-05-20T22:27:42.789653Z"
    },
    "trusted": true
   },
   "outputs": [],
   "source": [
    "import numpy as np\n",
    "import pandas as pd\n",
    "\n",
    "from tqdm import tqdm\n",
    "\n",
    "from sklearn.model_selection import train_test_split\n",
    "from sklearn.metrics import mean_absolute_error\n",
    "\n",
    "import math\n",
    "import time\n",
    "import json\n",
    "import re\n",
    "\n",
    "from matplotlib import pyplot as plt\n",
    "import seaborn as sns\n",
    "\n",
    "plt.style.use(\"seaborn-v0_8\")\n",
    "%matplotlib inline"
   ]
  },
  {
   "cell_type": "code",
   "execution_count": 102,
   "metadata": {
    "execution": {
     "iopub.execute_input": "2025-05-20T22:10:47.754938Z",
     "iopub.status.busy": "2025-05-20T22:10:47.754490Z",
     "iopub.status.idle": "2025-05-20T22:10:51.535180Z",
     "shell.execute_reply": "2025-05-20T22:10:51.534236Z",
     "shell.execute_reply.started": "2025-05-20T22:10:47.754888Z"
    },
    "trusted": true
   },
   "outputs": [],
   "source": [
    "train_df = pd.read_csv('/kaggle/input/ensembles-competition/train_contest.csv')\n",
    "prediction_df = pd.read_csv('/kaggle/input/ensembles-competition/for_prediction.csv')\n",
    "\n",
    "y = train_df['mean_salary']\n",
    "ID_column = prediction_df['Id']\n",
    "\n",
    "X = train_df.drop('mean_salary', axis=1)\n",
    "X_test = prediction_df.drop('Id', axis=1)"
   ]
  },
  {
   "cell_type": "code",
   "execution_count": 3,
   "metadata": {
    "execution": {
     "iopub.execute_input": "2025-05-20T21:08:14.321701Z",
     "iopub.status.busy": "2025-05-20T21:08:14.321385Z",
     "iopub.status.idle": "2025-05-20T21:08:14.326114Z",
     "shell.execute_reply": "2025-05-20T21:08:14.324948Z",
     "shell.execute_reply.started": "2025-05-20T21:08:14.321674Z"
    },
    "trusted": true
   },
   "outputs": [],
   "source": [
    "import warnings\n",
    "warnings.filterwarnings('ignore')"
   ]
  },
  {
   "cell_type": "code",
   "execution_count": 4,
   "metadata": {
    "execution": {
     "iopub.execute_input": "2025-05-20T21:08:14.327624Z",
     "iopub.status.busy": "2025-05-20T21:08:14.327133Z",
     "iopub.status.idle": "2025-05-20T21:08:14.361729Z",
     "shell.execute_reply": "2025-05-20T21:08:14.360753Z",
     "shell.execute_reply.started": "2025-05-20T21:08:14.327514Z"
    },
    "trusted": true
   },
   "outputs": [
    {
     "data": {
      "text/html": [
       "<div>\n",
       "<style scoped>\n",
       "    .dataframe tbody tr th:only-of-type {\n",
       "        vertical-align: middle;\n",
       "    }\n",
       "\n",
       "    .dataframe tbody tr th {\n",
       "        vertical-align: top;\n",
       "    }\n",
       "\n",
       "    .dataframe thead th {\n",
       "        text-align: right;\n",
       "    }\n",
       "</style>\n",
       "<table border=\"1\" class=\"dataframe\">\n",
       "  <thead>\n",
       "    <tr style=\"text-align: right;\">\n",
       "      <th></th>\n",
       "      <th>premium</th>\n",
       "      <th>name</th>\n",
       "      <th>department</th>\n",
       "      <th>has_test</th>\n",
       "      <th>response_letter_required</th>\n",
       "      <th>area</th>\n",
       "      <th>type</th>\n",
       "      <th>address</th>\n",
       "      <th>response_url</th>\n",
       "      <th>sort_point_distance</th>\n",
       "      <th>...</th>\n",
       "      <th>working_days</th>\n",
       "      <th>working_time_intervals</th>\n",
       "      <th>working_time_modes</th>\n",
       "      <th>accept_temporary</th>\n",
       "      <th>description</th>\n",
       "      <th>experience</th>\n",
       "      <th>key_skills</th>\n",
       "      <th>specializations</th>\n",
       "      <th>region</th>\n",
       "      <th>immediate_redirect_url</th>\n",
       "    </tr>\n",
       "  </thead>\n",
       "  <tbody>\n",
       "    <tr>\n",
       "      <th>0</th>\n",
       "      <td>False</td>\n",
       "      <td>Агент по недвижимости</td>\n",
       "      <td>NaN</td>\n",
       "      <td>False</td>\n",
       "      <td>False</td>\n",
       "      <td>{'id': '2', 'name': 'Санкт-Петербург', 'url': ...</td>\n",
       "      <td>{'id': 'open', 'name': 'Открытая'}</td>\n",
       "      <td>{'city': 'Санкт-Петербург', 'street': 'Невский...</td>\n",
       "      <td>NaN</td>\n",
       "      <td>NaN</td>\n",
       "      <td>...</td>\n",
       "      <td>[]</td>\n",
       "      <td>[]</td>\n",
       "      <td>[]</td>\n",
       "      <td>False</td>\n",
       "      <td>&lt;p&gt;Мы ищем людей, которым не достаточно того, ...</td>\n",
       "      <td>{'id': 'noExperience', 'name': 'Нет опыта'}</td>\n",
       "      <td>[{'name': 'Жилая недвижимость'}, {'name': 'Акт...</td>\n",
       "      <td>[{'id': '20.20', 'name': 'Агент', 'profarea_id...</td>\n",
       "      <td>Санкт-Петербург</td>\n",
       "      <td>NaN</td>\n",
       "    </tr>\n",
       "    <tr>\n",
       "      <th>1</th>\n",
       "      <td>False</td>\n",
       "      <td>IT-специалист/ техник</td>\n",
       "      <td>NaN</td>\n",
       "      <td>False</td>\n",
       "      <td>False</td>\n",
       "      <td>{'id': '1130', 'name': 'Братск', 'url': 'https...</td>\n",
       "      <td>{'id': 'open', 'name': 'Открытая'}</td>\n",
       "      <td>NaN</td>\n",
       "      <td>NaN</td>\n",
       "      <td>NaN</td>\n",
       "      <td>...</td>\n",
       "      <td>[]</td>\n",
       "      <td>[]</td>\n",
       "      <td>[]</td>\n",
       "      <td>False</td>\n",
       "      <td>&lt;ul&gt; &lt;/ul&gt; &lt;p&gt;&lt;em&gt;&lt;strong&gt;Навыки&lt;/strong&gt;&lt;/em&gt;...</td>\n",
       "      <td>{'id': 'between1And3', 'name': 'От 1 года до 3...</td>\n",
       "      <td>[]</td>\n",
       "      <td>[{'id': '1.172', 'name': 'Начальный уровень, М...</td>\n",
       "      <td>Иркутская область</td>\n",
       "      <td>NaN</td>\n",
       "    </tr>\n",
       "    <tr>\n",
       "      <th>2</th>\n",
       "      <td>False</td>\n",
       "      <td>Старший/ведущий инженер-программист</td>\n",
       "      <td>NaN</td>\n",
       "      <td>False</td>\n",
       "      <td>False</td>\n",
       "      <td>{'id': '76', 'name': 'Ростов-на-Дону', 'url': ...</td>\n",
       "      <td>{'id': 'open', 'name': 'Открытая'}</td>\n",
       "      <td>{'city': 'Ростов-на-Дону', 'street': '60К-9, 1...</td>\n",
       "      <td>NaN</td>\n",
       "      <td>NaN</td>\n",
       "      <td>...</td>\n",
       "      <td>[]</td>\n",
       "      <td>[]</td>\n",
       "      <td>[]</td>\n",
       "      <td>False</td>\n",
       "      <td>&lt;strong&gt;Обязанности:&lt;/strong&gt; &lt;ul&gt; &lt;li&gt;Разрабо...</td>\n",
       "      <td>{'id': 'between1And3', 'name': 'От 1 года до 3...</td>\n",
       "      <td>[{'name': 'Linux'}, {'name': 'Bash'}, {'name':...</td>\n",
       "      <td>[{'id': '1.221', 'name': 'Программирование, Ра...</td>\n",
       "      <td>Ростовская область</td>\n",
       "      <td>NaN</td>\n",
       "    </tr>\n",
       "    <tr>\n",
       "      <th>3</th>\n",
       "      <td>False</td>\n",
       "      <td>Эксперт / методист приемной комиссии</td>\n",
       "      <td>NaN</td>\n",
       "      <td>False</td>\n",
       "      <td>False</td>\n",
       "      <td>{'id': '1', 'name': 'Москва', 'url': 'https://...</td>\n",
       "      <td>{'id': 'open', 'name': 'Открытая'}</td>\n",
       "      <td>{'city': 'Москва', 'street': '1-я Миусская ули...</td>\n",
       "      <td>NaN</td>\n",
       "      <td>NaN</td>\n",
       "      <td>...</td>\n",
       "      <td>[]</td>\n",
       "      <td>[]</td>\n",
       "      <td>[]</td>\n",
       "      <td>False</td>\n",
       "      <td>&lt;p&gt;Департамент информационных технологий РХТУ ...</td>\n",
       "      <td>{'id': 'between1And3', 'name': 'От 1 года до 3...</td>\n",
       "      <td>[{'name': '1С программирование'}, {'name': 'Об...</td>\n",
       "      <td>[{'id': '3.150', 'name': 'Менеджмент продукта ...</td>\n",
       "      <td>Москва</td>\n",
       "      <td>NaN</td>\n",
       "    </tr>\n",
       "    <tr>\n",
       "      <th>4</th>\n",
       "      <td>False</td>\n",
       "      <td>Табельщица/табельщик</td>\n",
       "      <td>NaN</td>\n",
       "      <td>False</td>\n",
       "      <td>False</td>\n",
       "      <td>{'id': '1613', 'name': 'Энгельс', 'url': 'http...</td>\n",
       "      <td>{'id': 'open', 'name': 'Открытая'}</td>\n",
       "      <td>{'city': None, 'street': None, 'building': Non...</td>\n",
       "      <td>NaN</td>\n",
       "      <td>NaN</td>\n",
       "      <td>...</td>\n",
       "      <td>[]</td>\n",
       "      <td>[]</td>\n",
       "      <td>[]</td>\n",
       "      <td>False</td>\n",
       "      <td>&lt;p&gt;&lt;strong&gt;Обязанности:&lt;/strong&gt;&lt;/p&gt; &lt;ul&gt; &lt;li&gt;...</td>\n",
       "      <td>{'id': 'between1And3', 'name': 'От 1 года до 3...</td>\n",
       "      <td>[{'name': 'Составление отчетности'}, {'name': ...</td>\n",
       "      <td>[{'id': '18.142', 'name': 'Машиностроение', 'p...</td>\n",
       "      <td>Саратовская область</td>\n",
       "      <td>NaN</td>\n",
       "    </tr>\n",
       "  </tbody>\n",
       "</table>\n",
       "<p>5 rows × 31 columns</p>\n",
       "</div>"
      ],
      "text/plain": [
       "   premium                                  name department  has_test  \\\n",
       "0    False                 Агент по недвижимости        NaN     False   \n",
       "1    False                 IT-специалист/ техник        NaN     False   \n",
       "2    False   Старший/ведущий инженер-программист        NaN     False   \n",
       "3    False  Эксперт / методист приемной комиссии        NaN     False   \n",
       "4    False                  Табельщица/табельщик        NaN     False   \n",
       "\n",
       "   response_letter_required  \\\n",
       "0                     False   \n",
       "1                     False   \n",
       "2                     False   \n",
       "3                     False   \n",
       "4                     False   \n",
       "\n",
       "                                                area  \\\n",
       "0  {'id': '2', 'name': 'Санкт-Петербург', 'url': ...   \n",
       "1  {'id': '1130', 'name': 'Братск', 'url': 'https...   \n",
       "2  {'id': '76', 'name': 'Ростов-на-Дону', 'url': ...   \n",
       "3  {'id': '1', 'name': 'Москва', 'url': 'https://...   \n",
       "4  {'id': '1613', 'name': 'Энгельс', 'url': 'http...   \n",
       "\n",
       "                                 type  \\\n",
       "0  {'id': 'open', 'name': 'Открытая'}   \n",
       "1  {'id': 'open', 'name': 'Открытая'}   \n",
       "2  {'id': 'open', 'name': 'Открытая'}   \n",
       "3  {'id': 'open', 'name': 'Открытая'}   \n",
       "4  {'id': 'open', 'name': 'Открытая'}   \n",
       "\n",
       "                                             address  response_url  \\\n",
       "0  {'city': 'Санкт-Петербург', 'street': 'Невский...           NaN   \n",
       "1                                                NaN           NaN   \n",
       "2  {'city': 'Ростов-на-Дону', 'street': '60К-9, 1...           NaN   \n",
       "3  {'city': 'Москва', 'street': '1-я Миусская ули...           NaN   \n",
       "4  {'city': None, 'street': None, 'building': Non...           NaN   \n",
       "\n",
       "   sort_point_distance  ... working_days working_time_intervals  \\\n",
       "0                  NaN  ...           []                     []   \n",
       "1                  NaN  ...           []                     []   \n",
       "2                  NaN  ...           []                     []   \n",
       "3                  NaN  ...           []                     []   \n",
       "4                  NaN  ...           []                     []   \n",
       "\n",
       "   working_time_modes accept_temporary  \\\n",
       "0                  []            False   \n",
       "1                  []            False   \n",
       "2                  []            False   \n",
       "3                  []            False   \n",
       "4                  []            False   \n",
       "\n",
       "                                         description  \\\n",
       "0  <p>Мы ищем людей, которым не достаточно того, ...   \n",
       "1  <ul> </ul> <p><em><strong>Навыки</strong></em>...   \n",
       "2  <strong>Обязанности:</strong> <ul> <li>Разрабо...   \n",
       "3  <p>Департамент информационных технологий РХТУ ...   \n",
       "4  <p><strong>Обязанности:</strong></p> <ul> <li>...   \n",
       "\n",
       "                                          experience  \\\n",
       "0        {'id': 'noExperience', 'name': 'Нет опыта'}   \n",
       "1  {'id': 'between1And3', 'name': 'От 1 года до 3...   \n",
       "2  {'id': 'between1And3', 'name': 'От 1 года до 3...   \n",
       "3  {'id': 'between1And3', 'name': 'От 1 года до 3...   \n",
       "4  {'id': 'between1And3', 'name': 'От 1 года до 3...   \n",
       "\n",
       "                                          key_skills  \\\n",
       "0  [{'name': 'Жилая недвижимость'}, {'name': 'Акт...   \n",
       "1                                                 []   \n",
       "2  [{'name': 'Linux'}, {'name': 'Bash'}, {'name':...   \n",
       "3  [{'name': '1С программирование'}, {'name': 'Об...   \n",
       "4  [{'name': 'Составление отчетности'}, {'name': ...   \n",
       "\n",
       "                                     specializations               region  \\\n",
       "0  [{'id': '20.20', 'name': 'Агент', 'profarea_id...      Санкт-Петербург   \n",
       "1  [{'id': '1.172', 'name': 'Начальный уровень, М...    Иркутская область   \n",
       "2  [{'id': '1.221', 'name': 'Программирование, Ра...   Ростовская область   \n",
       "3  [{'id': '3.150', 'name': 'Менеджмент продукта ...               Москва   \n",
       "4  [{'id': '18.142', 'name': 'Машиностроение', 'p...  Саратовская область   \n",
       "\n",
       "  immediate_redirect_url  \n",
       "0                    NaN  \n",
       "1                    NaN  \n",
       "2                    NaN  \n",
       "3                    NaN  \n",
       "4                    NaN  \n",
       "\n",
       "[5 rows x 31 columns]"
      ]
     },
     "execution_count": 4,
     "metadata": {},
     "output_type": "execute_result"
    }
   ],
   "source": [
    "X.head()"
   ]
  },
  {
   "cell_type": "markdown",
   "metadata": {},
   "source": [
    "## Предобработка датасета"
   ]
  },
  {
   "cell_type": "code",
   "execution_count": 111,
   "metadata": {
    "execution": {
     "iopub.execute_input": "2025-05-20T22:15:22.057310Z",
     "iopub.status.busy": "2025-05-20T22:15:22.056728Z",
     "iopub.status.idle": "2025-05-20T22:15:22.168487Z",
     "shell.execute_reply": "2025-05-20T22:15:22.167497Z",
     "shell.execute_reply.started": "2025-05-20T22:15:22.057273Z"
    },
    "trusted": true
   },
   "outputs": [],
   "source": [
    "X = X.replace({np.nan: None})"
   ]
  },
  {
   "cell_type": "markdown",
   "metadata": {},
   "source": [
    "Сначала разберемся с признаками, которые представлены в виде JSON объектов: изучим доступные поля и попробуем вытащить из них самую важную информацию\n",
    "\n",
    "Посмотрим на булевые столбцы и решим, надо ли их удалить"
   ]
  },
  {
   "cell_type": "code",
   "execution_count": 6,
   "metadata": {
    "execution": {
     "iopub.execute_input": "2025-05-20T21:08:14.475049Z",
     "iopub.status.busy": "2025-05-20T21:08:14.474727Z",
     "iopub.status.idle": "2025-05-20T21:08:15.285417Z",
     "shell.execute_reply": "2025-05-20T21:08:15.284477Z",
     "shell.execute_reply.started": "2025-05-20T21:08:14.475025Z"
    },
    "trusted": true
   },
   "outputs": [
    {
     "data": {
      "text/plain": [
       "array([[<Axes: title={'center': 'premium'}>,\n",
       "        <Axes: title={'center': 'has_test'}>],\n",
       "       [<Axes: title={'center': 'response_letter_required'}>,\n",
       "        <Axes: title={'center': 'archived'}>],\n",
       "       [<Axes: title={'center': 'accept_temporary'}>, <Axes: >]],\n",
       "      dtype=object)"
      ]
     },
     "execution_count": 6,
     "metadata": {},
     "output_type": "execute_result"
    },
    {
     "data": {
      "image/png": "[encoded data removed]",
      "text/plain": [
       "<Figure size 800x550 with 6 Axes>"
      ]
     },
     "metadata": {},
     "output_type": "display_data"
    }
   ],
   "source": [
    "X.select_dtypes(include=['bool']).astype(float).hist()"
   ]
  },
  {
   "cell_type": "markdown",
   "metadata": {},
   "source": [
    "Да, надо."
   ]
  },
  {
   "cell_type": "markdown",
   "metadata": {},
   "source": [
    "Так как в датасете используется описание вакансии, попробую достать эмбеддинги из текстового описания. Использование просто длины описания оказалось неэффективно, а содержимое вакансии может напрямую коллерировать с зарплатой"
   ]
  },
  {
   "cell_type": "code",
   "execution_count": 32,
   "metadata": {
    "execution": {
     "iopub.execute_input": "2025-05-20T21:33:15.798103Z",
     "iopub.status.busy": "2025-05-20T21:33:15.797461Z",
     "iopub.status.idle": "2025-05-20T21:36:17.006853Z",
     "shell.execute_reply": "2025-05-20T21:36:17.005225Z",
     "shell.execute_reply.started": "2025-05-20T21:33:15.798065Z"
    },
    "trusted": true
   },
   "outputs": [
    {
     "data": {
      "application/vnd.jupyter.widget-view+json": {
       "model_id": "086b2575404745bbb84a34ef857ad156",
       "version_major": 2,
       "version_minor": 0
      },
      "text/plain": [
       "model.bin:   0%|          | 0.00/7.26G [00:00<?, ?B/s]"
      ]
     },
     "metadata": {},
     "output_type": "display_data"
    }
   ],
   "source": [
    "import fasttext\n",
    "from huggingface_hub import hf_hub_download\n",
    "\n",
    "model_path = hf_hub_download(\"facebook/fasttext-ru-vectors\", \"model.bin\")\n",
    "fasttext_model = fasttext.load_model(model_path)"
   ]
  },
  {
   "cell_type": "code",
   "execution_count": 41,
   "metadata": {
    "execution": {
     "iopub.execute_input": "2025-05-20T21:38:15.364505Z",
     "iopub.status.busy": "2025-05-20T21:38:15.362949Z",
     "iopub.status.idle": "2025-05-20T21:38:16.411206Z",
     "shell.execute_reply": "2025-05-20T21:38:16.409987Z",
     "shell.execute_reply.started": "2025-05-20T21:38:15.364454Z"
    },
    "trusted": true
   },
   "outputs": [
    {
     "data": {
      "text/plain": [
       "[(0.7590396404266357, 'продажа'),\n",
       " (0.7400502562522888, 'Покупка'),\n",
       " (0.6890888214111328, 'Аренда'),\n",
       " (0.6885383129119873, '.Продажа'),\n",
       " (0.6405532956123352, '-продажа')]"
      ]
     },
     "execution_count": 41,
     "metadata": {},
     "output_type": "execute_result"
    }
   ],
   "source": [
    "fasttext_model.get_nearest_neighbors(\"Продажа\", k=5)"
   ]
  },
  {
   "cell_type": "code",
   "execution_count": 112,
   "metadata": {
    "execution": {
     "iopub.execute_input": "2025-05-20T22:15:26.504664Z",
     "iopub.status.busy": "2025-05-20T22:15:26.504302Z",
     "iopub.status.idle": "2025-05-20T22:15:26.525833Z",
     "shell.execute_reply": "2025-05-20T22:15:26.524983Z",
     "shell.execute_reply.started": "2025-05-20T22:15:26.504636Z"
    },
    "trusted": true
   },
   "outputs": [],
   "source": [
    "import ast\n",
    "\n",
    "class DFTransformer:\n",
    "    def __init__(self, X):\n",
    "        self.X = X\n",
    "\n",
    "    def transform(self):\n",
    "        self.X = self.X.replace({np.nan: None})\n",
    "        self.__drop_redundant_columns()\n",
    "        self.__extract_values_from_json()\n",
    "        self.__apply_text_processing()\n",
    "        self.__apply_encoding()\n",
    "\n",
    "    def __drop_redundant_columns(self):\n",
    "        self.X = self.X.drop(self.X.select_dtypes(include=['bool']).columns, axis=1)\n",
    "        self.X = self.X.drop([\n",
    "            'sort_point_distance', 'specializations',\n",
    "            'name', 'contacts', 'type', 'published_at',\n",
    "            'relations', 'working_days', 'working_time_intervals',\n",
    "            'working_time_modes', 'department', 'created_at',\n",
    "            'address', 'schedule', 'employer', 'insider_interview'\n",
    "        ], axis=1)\n",
    "\n",
    "        url_columns = list(filter(lambda x: \"url\" in x.lower(), self.X.columns))\n",
    "        self.X = self.X.drop(url_columns, axis=1)\n",
    "\n",
    "    def __extract_values_from_json(self):\n",
    "        self.X['experience'] = self.X['experience'].apply(lambda x: self.__select_json_field(x, 'id'))\n",
    "\n",
    "        self.X['area'] = self.X['area'].apply(lambda x: self.__select_json_field(x, 'name'))\n",
    "        self.X['area'] = self.X['area'].apply(self.__city_to_federal_district)\n",
    "\n",
    "    def __apply_text_processing(self):\n",
    "        self.X['description'] = self.X['description'].apply(lambda x: re.sub('<[^<]+?>', '', str(x)))\n",
    "\n",
    "        description_embs = pd.DataFrame(self.X['description'].apply(lambda x: fasttext_model[x]).apply(pd.Series))\n",
    "        description_embs.columns = [f'description_embedding_{i+1}' for i in range(description_embs.shape[1])]\n",
    "\n",
    "        self.X['key_skills'] = self.X['key_skills'].apply(self.__extract_text_key_skills_col)\n",
    "        self.X = pd.concat([self.X, description_embs], axis=1)\n",
    "        \n",
    "        self.X = self.X.drop(['snippet', 'description', 'region'], axis=1)\n",
    "\n",
    "    def __apply_encoding(self):\n",
    "        self.X = pd.get_dummies(self.X, columns=['experience'], dtype=int)\n",
    "        self.X = pd.get_dummies(self.X, columns=['area'], dtype=int)\n",
    "\n",
    "    def __extract_text_key_skills_col(self, x):\n",
    "        skills_list = ast.literal_eval(x)\n",
    "\n",
    "        return [skill['name'] for skill in skills_list]\n",
    "\n",
    "    def __select_json_field(self, x, field_name):\n",
    "        try:\n",
    "            val = json.loads(x.replace(\"'\", \"\\\"\"))\n",
    "            return val[field_name]\n",
    "        except:\n",
    "            return x\n",
    "\n",
    "    def __city_to_federal_district(self, city):\n",
    "        if any(x in city for x in ['Москва', 'Московская', 'Тверь', 'Тула', 'Рязань', 'Владимир', 'Ярославль',\n",
    "                                   'Иваново', 'Кострома', 'Белгород', 'Курск', 'Орёл', 'Липецк', 'Тамбов',\n",
    "                                   'Брянск', 'Новомосковск', 'Пущино', 'Домодедово', 'Подольск', 'Коломна',\n",
    "                                   'Наро-Фоминск']):\n",
    "            return 'Центральный ФО'\n",
    "\n",
    "        elif any(x in city for x in ['Санкт-Петербург', 'Ленинградская', 'Новгород', 'Псков', 'Великие Луки',\n",
    "                                     'Выборг', 'Кингисепп', 'Сестрорецк', 'Гатчина', 'Всеволожск', 'Кронштадт',\n",
    "                                     'Сосновый Бор', 'Сланцы', 'Светлогорск']):\n",
    "            return 'Северо-Западный ФО'\n",
    "\n",
    "        elif any(x in city for x in ['Ростов-на-Дону', 'Краснодар', 'Волгоград', 'Астрахань', 'Воронеж',\n",
    "                                     'Новороссийск', 'Сочи', 'Таганрог', 'Новочеркасск', 'Ростов', 'Батайск',\n",
    "                                     'Азов', 'Шахты', 'Аксай', 'Ейск', 'Каменск-Шахтинский']):\n",
    "            return 'Южный ФО'\n",
    "\n",
    "        elif any(x in city for x in ['Казань', 'Нижний Новгород', 'Самара', 'Саратов', 'Ульяновск', 'Пенза',\n",
    "                                     'Киров', 'Оренбург', 'Уфа', 'Чебоксары', 'Сызрань', 'Тольятти', 'Бугульма',\n",
    "                                     'Димитровград', 'Новокуйбышевск', 'Самарская', 'Удмуртская']):\n",
    "            return 'Приволжский ФО'\n",
    "\n",
    "        elif any(x in city for x in ['Екатеринбург', 'Челябинск', 'Тюмень', 'Курган', 'Ханты-Мансийск',\n",
    "                                     'Сургут', 'Нижневартовск', 'Ноябрьск', 'Пермь', 'Краснотурьинск',\n",
    "                                     'Нижний Тагил', 'Каменск-Уральский', 'Серов', 'Красноуральск',\n",
    "                                     'Березовский', 'Троицк', 'Кушва', 'Невьянск']):\n",
    "            return 'Уральский ФО'\n",
    "\n",
    "        elif any(x in city for x in ['Новосибирск', 'Омск', 'Томск', 'Кемерово', 'Красноярск', 'Иркутск',\n",
    "                                     'Барнаул', 'Бийск', 'Чита', 'Улан-Удэ', 'Братск', 'Норильск', 'Северск',\n",
    "                                     'Шелехов', 'Усть-Илимск', 'Кызыл', 'Абакан', 'Лесосибирск', 'Мирный']):\n",
    "            return 'Сибирский ФО'\n",
    "\n",
    "        elif any(x in city for x in ['Владивосток', 'Хабаровск', 'Благовещенск', 'Южно-Сахалинск', 'Якутск',\n",
    "                                     'Петропавловск-Камчатский', 'Магадан', 'Чукотка', 'Комсомольск-на-Амуре',\n",
    "                                     'Амурск', 'Биробиджан', 'Находка', 'Артём', 'Уссурийск', 'Лесозаводск']):\n",
    "            return 'Дальневосточный ФО'\n",
    "        else:\n",
    "            return 'Неизвестный регион'\n"
   ]
  },
  {
   "cell_type": "code",
   "execution_count": 113,
   "metadata": {
    "execution": {
     "iopub.execute_input": "2025-05-20T22:15:33.966463Z",
     "iopub.status.busy": "2025-05-20T22:15:33.966138Z",
     "iopub.status.idle": "2025-05-20T22:16:08.567204Z",
     "shell.execute_reply": "2025-05-20T22:16:08.566063Z",
     "shell.execute_reply.started": "2025-05-20T22:15:33.966439Z"
    },
    "trusted": true
   },
   "outputs": [
    {
     "name": "stdout",
     "output_type": "stream",
     "text": [
      "CPU times: user 34.6 s, sys: 258 ms, total: 34.9 s\n",
      "Wall time: 34.6 s\n"
     ]
    }
   ],
   "source": [
    "%%time\n",
    "\n",
    "df_train_transformer = DFTransformer(X)\n",
    "df_train_transformer.transform()\n",
    "\n",
    "X = df_train_transformer.X.copy()"
   ]
  },
  {
   "cell_type": "code",
   "execution_count": 115,
   "metadata": {
    "execution": {
     "iopub.execute_input": "2025-05-20T22:16:08.603033Z",
     "iopub.status.busy": "2025-05-20T22:16:08.602590Z",
     "iopub.status.idle": "2025-05-20T22:16:08.646931Z",
     "shell.execute_reply": "2025-05-20T22:16:08.646047Z",
     "shell.execute_reply.started": "2025-05-20T22:16:08.603003Z"
    },
    "trusted": true
   },
   "outputs": [],
   "source": [
    "all_skills = set([skill for sublist in X['key_skills'] for skill in sublist])"
   ]
  },
  {
   "cell_type": "code",
   "execution_count": 116,
   "metadata": {
    "execution": {
     "iopub.execute_input": "2025-05-20T22:16:08.649267Z",
     "iopub.status.busy": "2025-05-20T22:16:08.648955Z",
     "iopub.status.idle": "2025-05-20T22:19:07.597934Z",
     "shell.execute_reply": "2025-05-20T22:19:07.597079Z",
     "shell.execute_reply.started": "2025-05-20T22:16:08.649245Z"
    },
    "trusted": true
   },
   "outputs": [
    {
     "name": "stderr",
     "output_type": "stream",
     "text": [
      "100%|██████████| 7779/7779 [02:52<00:00, 45.02it/s]\n"
     ]
    }
   ],
   "source": [
    "for skill in tqdm(all_skills):\n",
    "    X[skill] = X['key_skills'].apply(lambda x: 1 if skill in x else 0)\n",
    "\n",
    "X = X.drop(['key_skills'], axis=1)"
   ]
  },
  {
   "cell_type": "code",
   "execution_count": 117,
   "metadata": {
    "execution": {
     "iopub.execute_input": "2025-05-20T22:19:07.599130Z",
     "iopub.status.busy": "2025-05-20T22:19:07.598841Z",
     "iopub.status.idle": "2025-05-20T22:19:16.359015Z",
     "shell.execute_reply": "2025-05-20T22:19:16.358030Z",
     "shell.execute_reply.started": "2025-05-20T22:19:07.599108Z"
    },
    "trusted": true
   },
   "outputs": [
    {
     "name": "stdout",
     "output_type": "stream",
     "text": [
      "CPU times: user 8.75 s, sys: 19.2 ms, total: 8.77 s\n",
      "Wall time: 8.76 s\n"
     ]
    }
   ],
   "source": [
    "%%time\n",
    "\n",
    "df_test_transformer = DFTransformer(X_test)\n",
    "df_test_transformer.transform()\n",
    "\n",
    "X_test = df_test_transformer.X.copy()"
   ]
  },
  {
   "cell_type": "code",
   "execution_count": 118,
   "metadata": {
    "execution": {
     "iopub.execute_input": "2025-05-20T22:19:16.360794Z",
     "iopub.status.busy": "2025-05-20T22:19:16.360128Z",
     "iopub.status.idle": "2025-05-20T22:20:24.018732Z",
     "shell.execute_reply": "2025-05-20T22:20:24.017842Z",
     "shell.execute_reply.started": "2025-05-20T22:19:16.360763Z"
    },
    "trusted": true
   },
   "outputs": [
    {
     "name": "stderr",
     "output_type": "stream",
     "text": [
      "100%|██████████| 7779/7779 [01:05<00:00, 118.75it/s]\n"
     ]
    }
   ],
   "source": [
    "for skill in tqdm(all_skills):\n",
    "    X_test[skill] = X_test['key_skills'].apply(lambda x: 1 if skill in x else 0)\n",
    "\n",
    "X_test = X_test.drop(['key_skills'], axis=1)"
   ]
  },
  {
   "cell_type": "code",
   "execution_count": 119,
   "metadata": {
    "execution": {
     "iopub.execute_input": "2025-05-20T22:20:24.024312Z",
     "iopub.status.busy": "2025-05-20T22:20:24.023977Z",
     "iopub.status.idle": "2025-05-20T22:20:24.379506Z",
     "shell.execute_reply": "2025-05-20T22:20:24.378632Z",
     "shell.execute_reply.started": "2025-05-20T22:20:24.024288Z"
    },
    "trusted": true
   },
   "outputs": [],
   "source": [
    "X_test = X_test[X.columns]"
   ]
  },
  {
   "cell_type": "code",
   "execution_count": 120,
   "metadata": {
    "execution": {
     "iopub.execute_input": "2025-05-20T22:20:24.382488Z",
     "iopub.status.busy": "2025-05-20T22:20:24.382083Z",
     "iopub.status.idle": "2025-05-20T22:20:24.387562Z",
     "shell.execute_reply": "2025-05-20T22:20:24.386422Z",
     "shell.execute_reply.started": "2025-05-20T22:20:24.382439Z"
    },
    "trusted": true
   },
   "outputs": [],
   "source": [
    "import xgboost as xgb"
   ]
  },
  {
   "cell_type": "code",
   "execution_count": 121,
   "metadata": {
    "execution": {
     "iopub.execute_input": "2025-05-20T22:20:24.389156Z",
     "iopub.status.busy": "2025-05-20T22:20:24.388810Z",
     "iopub.status.idle": "2025-05-20T22:20:32.357786Z",
     "shell.execute_reply": "2025-05-20T22:20:32.356888Z",
     "shell.execute_reply.started": "2025-05-20T22:20:24.389122Z"
    },
    "trusted": true
   },
   "outputs": [],
   "source": [
    "X_train, X_test_lib, y_train, y_test = train_test_split(X, y, test_size=0.2, random_state=42)"
   ]
  },
  {
   "cell_type": "code",
   "execution_count": 122,
   "metadata": {
    "execution": {
     "iopub.execute_input": "2025-05-20T22:20:32.361728Z",
     "iopub.status.busy": "2025-05-20T22:20:32.361366Z",
     "iopub.status.idle": "2025-05-20T22:20:32.366528Z",
     "shell.execute_reply": "2025-05-20T22:20:32.365602Z",
     "shell.execute_reply.started": "2025-05-20T22:20:32.361705Z"
    },
    "trusted": true
   },
   "outputs": [],
   "source": [
    "xgb_model = xgb.XGBRegressor(\n",
    "    objective='reg:squarederror',\n",
    "    learning_rate=0.1,\n",
    "    max_depth=5,\n",
    "    n_estimators=100,\n",
    "    seed=42\n",
    ")"
   ]
  },
  {
   "cell_type": "code",
   "execution_count": 134,
   "metadata": {
    "execution": {
     "iopub.execute_input": "2025-05-20T22:33:01.158581Z",
     "iopub.status.busy": "2025-05-20T22:33:01.158078Z",
     "iopub.status.idle": "2025-05-20T22:33:47.390017Z",
     "shell.execute_reply": "2025-05-20T22:33:47.388981Z",
     "shell.execute_reply.started": "2025-05-20T22:33:01.158550Z"
    },
    "trusted": true
   },
   "outputs": [
    {
     "data": {
      "text/plain": [
       "38551.68361225841"
      ]
     },
     "execution_count": 134,
     "metadata": {},
     "output_type": "execute_result"
    }
   ],
   "source": [
    "xgb_model.fit(X_train, y_train)\n",
    "y_pred = xgb_model.predict(X_test_lib)\n",
    "\n",
    "mean_absolute_error(y_pred, y_test)"
   ]
  },
  {
   "cell_type": "code",
   "execution_count": 123,
   "metadata": {
    "execution": {
     "iopub.execute_input": "2025-05-20T22:20:32.368993Z",
     "iopub.status.busy": "2025-05-20T22:20:32.368677Z",
     "iopub.status.idle": "2025-05-20T22:21:25.866876Z",
     "shell.execute_reply": "2025-05-20T22:21:25.865767Z",
     "shell.execute_reply.started": "2025-05-20T22:20:32.368970Z"
    },
    "trusted": true
   },
   "outputs": [
    {
     "data": {
      "text/html": [
       "<style>#sk-container-id-4 {color: black;background-color: white;}#sk-container-id-4 pre{padding: 0;}#sk-container-id-4 div.sk-toggleable {background-color: white;}#sk-container-id-4 label.sk-toggleable__label {cursor: pointer;display: block;width: 100%;margin-bottom: 0;padding: 0.3em;box-sizing: border-box;text-align: center;}#sk-container-id-4 label.sk-toggleable__label-arrow:before {content: \"▸\";float: left;margin-right: 0.25em;color: #696969;}#sk-container-id-4 label.sk-toggleable__label-arrow:hover:before {color: black;}#sk-container-id-4 div.sk-estimator:hover label.sk-toggleable__label-arrow:before {color: black;}#sk-container-id-4 div.sk-toggleable__content {max-height: 0;max-width: 0;overflow: hidden;text-align: left;background-color: #f0f8ff;}#sk-container-id-4 div.sk-toggleable__content pre {margin: 0.2em;color: black;border-radius: 0.25em;background-color: #f0f8ff;}#sk-container-id-4 input.sk-toggleable__control:checked~div.sk-toggleable__content {max-height: 200px;max-width: 100%;overflow: auto;}#sk-container-id-4 input.sk-toggleable__control:checked~label.sk-toggleable__label-arrow:before {content: \"▾\";}#sk-container-id-4 div.sk-estimator input.sk-toggleable__control:checked~label.sk-toggleable__label {background-color: #d4ebff;}#sk-container-id-4 div.sk-label input.sk-toggleable__control:checked~label.sk-toggleable__label {background-color: #d4ebff;}#sk-container-id-4 input.sk-hidden--visually {border: 0;clip: rect(1px 1px 1px 1px);clip: rect(1px, 1px, 1px, 1px);height: 1px;margin: -1px;overflow: hidden;padding: 0;position: absolute;width: 1px;}#sk-container-id-4 div.sk-estimator {font-family: monospace;background-color: #f0f8ff;border: 1px dotted black;border-radius: 0.25em;box-sizing: border-box;margin-bottom: 0.5em;}#sk-container-id-4 div.sk-estimator:hover {background-color: #d4ebff;}#sk-container-id-4 div.sk-parallel-item::after {content: \"\";width: 100%;border-bottom: 1px solid gray;flex-grow: 1;}#sk-container-id-4 div.sk-label:hover label.sk-toggleable__label {background-color: #d4ebff;}#sk-container-id-4 div.sk-serial::before {content: \"\";position: absolute;border-left: 1px solid gray;box-sizing: border-box;top: 0;bottom: 0;left: 50%;z-index: 0;}#sk-container-id-4 div.sk-serial {display: flex;flex-direction: column;align-items: center;background-color: white;padding-right: 0.2em;padding-left: 0.2em;position: relative;}#sk-container-id-4 div.sk-item {position: relative;z-index: 1;}#sk-container-id-4 div.sk-parallel {display: flex;align-items: stretch;justify-content: center;background-color: white;position: relative;}#sk-container-id-4 div.sk-item::before, #sk-container-id-4 div.sk-parallel-item::before {content: \"\";position: absolute;border-left: 1px solid gray;box-sizing: border-box;top: 0;bottom: 0;left: 50%;z-index: -1;}#sk-container-id-4 div.sk-parallel-item {display: flex;flex-direction: column;z-index: 1;position: relative;background-color: white;}#sk-container-id-4 div.sk-parallel-item:first-child::after {align-self: flex-end;width: 50%;}#sk-container-id-4 div.sk-parallel-item:last-child::after {align-self: flex-start;width: 50%;}#sk-container-id-4 div.sk-parallel-item:only-child::after {width: 0;}#sk-container-id-4 div.sk-dashed-wrapped {border: 1px dashed gray;margin: 0 0.4em 0.5em 0.4em;box-sizing: border-box;padding-bottom: 0.4em;background-color: white;}#sk-container-id-4 div.sk-label label {font-family: monospace;font-weight: bold;display: inline-block;line-height: 1.2em;}#sk-container-id-4 div.sk-label-container {text-align: center;}#sk-container-id-4 div.sk-container {/* jupyter's `normalize.less` sets `[hidden] { display: none; }` but bootstrap.min.css set `[hidden] { display: none !important; }` so we also need the `!important` here to be able to override the default hidden behavior on the sphinx rendered scikit-learn.org. See: https://github.com/scikit-learn/scikit-learn/issues/21755 */display: inline-block !important;position: relative;}#sk-container-id-4 div.sk-text-repr-fallback {display: none;}</style><div id=\"sk-container-id-4\" class=\"sk-top-container\"><div class=\"sk-text-repr-fallback\"><pre>XGBRegressor(alpha=10, base_score=None, booster=None, callbacks=None,\n",
       "             colsample_bylevel=None, colsample_bynode=None,\n",
       "             colsample_bytree=None, device=None, early_stopping_rounds=None,\n",
       "             enable_categorical=False, eval_metric=None, feature_types=None,\n",
       "             gamma=None, grow_policy=None, importance_type=None,\n",
       "             interaction_constraints=None, learning_rate=0.1, max_bin=None,\n",
       "             max_cat_threshold=None, max_cat_to_onehot=None,\n",
       "             max_delta_step=None, max_depth=5, max_leaves=None,\n",
       "             min_child_weight=None, missing=nan, monotone_constraints=None,\n",
       "             multi_strategy=None, n_estimators=100, n_jobs=None,\n",
       "             num_parallel_tree=None, ...)</pre><b>In a Jupyter environment, please rerun this cell to show the HTML representation or trust the notebook. <br />On GitHub, the HTML representation is unable to render, please try loading this page with nbviewer.org.</b></div><div class=\"sk-container\" hidden><div class=\"sk-item\"><div class=\"sk-estimator sk-toggleable\"><input class=\"sk-toggleable__control sk-hidden--visually\" id=\"sk-estimator-id-4\" type=\"checkbox\" checked><label for=\"sk-estimator-id-4\" class=\"sk-toggleable__label sk-toggleable__label-arrow\">XGBRegressor</label><div class=\"sk-toggleable__content\"><pre>XGBRegressor(alpha=10, base_score=None, booster=None, callbacks=None,\n",
       "             colsample_bylevel=None, colsample_bynode=None,\n",
       "             colsample_bytree=None, device=None, early_stopping_rounds=None,\n",
       "             enable_categorical=False, eval_metric=None, feature_types=None,\n",
       "             gamma=None, grow_policy=None, importance_type=None,\n",
       "             interaction_constraints=None, learning_rate=0.1, max_bin=None,\n",
       "             max_cat_threshold=None, max_cat_to_onehot=None,\n",
       "             max_delta_step=None, max_depth=5, max_leaves=None,\n",
       "             min_child_weight=None, missing=nan, monotone_constraints=None,\n",
       "             multi_strategy=None, n_estimators=100, n_jobs=None,\n",
       "             num_parallel_tree=None, ...)</pre></div></div></div></div></div>"
      ],
      "text/plain": [
       "XGBRegressor(alpha=10, base_score=None, booster=None, callbacks=None,\n",
       "             colsample_bylevel=None, colsample_bynode=None,\n",
       "             colsample_bytree=None, device=None, early_stopping_rounds=None,\n",
       "             enable_categorical=False, eval_metric=None, feature_types=None,\n",
       "             gamma=None, grow_policy=None, importance_type=None,\n",
       "             interaction_constraints=None, learning_rate=0.1, max_bin=None,\n",
       "             max_cat_threshold=None, max_cat_to_onehot=None,\n",
       "             max_delta_step=None, max_depth=5, max_leaves=None,\n",
       "             min_child_weight=None, missing=nan, monotone_constraints=None,\n",
       "             multi_strategy=None, n_estimators=100, n_jobs=None,\n",
       "             num_parallel_tree=None, ...)"
      ]
     },
     "execution_count": 123,
     "metadata": {},
     "output_type": "execute_result"
    }
   ],
   "source": [
    "xgb_model.fit(X, y)"
   ]
  },
  {
   "cell_type": "code",
   "execution_count": 124,
   "metadata": {
    "execution": {
     "iopub.execute_input": "2025-05-20T22:21:25.868370Z",
     "iopub.status.busy": "2025-05-20T22:21:25.868106Z",
     "iopub.status.idle": "2025-05-20T22:21:25.896587Z",
     "shell.execute_reply": "2025-05-20T22:21:25.895665Z",
     "shell.execute_reply.started": "2025-05-20T22:21:25.868349Z"
    },
    "trusted": true
   },
   "outputs": [
    {
     "data": {
      "text/html": [
       "<div>\n",
       "<style scoped>\n",
       "    .dataframe tbody tr th:only-of-type {\n",
       "        vertical-align: middle;\n",
       "    }\n",
       "\n",
       "    .dataframe tbody tr th {\n",
       "        vertical-align: top;\n",
       "    }\n",
       "\n",
       "    .dataframe thead th {\n",
       "        text-align: right;\n",
       "    }\n",
       "</style>\n",
       "<table border=\"1\" class=\"dataframe\">\n",
       "  <thead>\n",
       "    <tr style=\"text-align: right;\">\n",
       "      <th></th>\n",
       "      <th>feature_key</th>\n",
       "      <th>feature_importance</th>\n",
       "    </tr>\n",
       "  </thead>\n",
       "  <tbody>\n",
       "    <tr>\n",
       "      <th>0</th>\n",
       "      <td>description_embedding_1</td>\n",
       "      <td>112.0</td>\n",
       "    </tr>\n",
       "    <tr>\n",
       "      <th>1</th>\n",
       "      <td>description_embedding_287</td>\n",
       "      <td>39.0</td>\n",
       "    </tr>\n",
       "    <tr>\n",
       "      <th>2</th>\n",
       "      <td>description_embedding_3</td>\n",
       "      <td>36.0</td>\n",
       "    </tr>\n",
       "    <tr>\n",
       "      <th>3</th>\n",
       "      <td>area_Центральный ФО</td>\n",
       "      <td>33.0</td>\n",
       "    </tr>\n",
       "    <tr>\n",
       "      <th>4</th>\n",
       "      <td>description_embedding_69</td>\n",
       "      <td>30.0</td>\n",
       "    </tr>\n",
       "    <tr>\n",
       "      <th>...</th>\n",
       "      <td>...</td>\n",
       "      <td>...</td>\n",
       "    </tr>\n",
       "    <tr>\n",
       "      <th>457</th>\n",
       "      <td>Телефонные переговоры</td>\n",
       "      <td>1.0</td>\n",
       "    </tr>\n",
       "    <tr>\n",
       "      <th>458</th>\n",
       "      <td>Желание зарабатывать</td>\n",
       "      <td>1.0</td>\n",
       "    </tr>\n",
       "    <tr>\n",
       "      <th>459</th>\n",
       "      <td>B2C продажи</td>\n",
       "      <td>1.0</td>\n",
       "    </tr>\n",
       "    <tr>\n",
       "      <th>460</th>\n",
       "      <td>NoSQL</td>\n",
       "      <td>1.0</td>\n",
       "    </tr>\n",
       "    <tr>\n",
       "      <th>461</th>\n",
       "      <td>Математическая статистика</td>\n",
       "      <td>1.0</td>\n",
       "    </tr>\n",
       "  </tbody>\n",
       "</table>\n",
       "<p>462 rows × 2 columns</p>\n",
       "</div>"
      ],
      "text/plain": [
       "                   feature_key  feature_importance\n",
       "0      description_embedding_1               112.0\n",
       "1    description_embedding_287                39.0\n",
       "2      description_embedding_3                36.0\n",
       "3          area_Центральный ФО                33.0\n",
       "4     description_embedding_69                30.0\n",
       "..                         ...                 ...\n",
       "457      Телефонные переговоры                 1.0\n",
       "458       Желание зарабатывать                 1.0\n",
       "459                B2C продажи                 1.0\n",
       "460                      NoSQL                 1.0\n",
       "461  Математическая статистика                 1.0\n",
       "\n",
       "[462 rows x 2 columns]"
      ]
     },
     "execution_count": 124,
     "metadata": {},
     "output_type": "execute_result"
    }
   ],
   "source": [
    "weight_rating = xgb_model.get_booster().get_score(importance_type='weight')\n",
    "weight_rating = dict(sorted(weight_rating.items(), key=lambda item: item[1], reverse=True))\n",
    "\n",
    "feature_importance_df = pd.DataFrame({'feature_key': weight_rating.keys(), 'feature_importance': weight_rating.values()})\n",
    "feature_importance_df"
   ]
  },
  {
   "cell_type": "code",
   "execution_count": 131,
   "metadata": {
    "execution": {
     "iopub.execute_input": "2025-05-20T22:26:05.856334Z",
     "iopub.status.busy": "2025-05-20T22:26:05.855980Z",
     "iopub.status.idle": "2025-05-20T22:26:05.867328Z",
     "shell.execute_reply": "2025-05-20T22:26:05.866284Z",
     "shell.execute_reply.started": "2025-05-20T22:26:05.856309Z"
    },
    "trusted": true
   },
   "outputs": [
    {
     "data": {
      "text/html": [
       "<div>\n",
       "<style scoped>\n",
       "    .dataframe tbody tr th:only-of-type {\n",
       "        vertical-align: middle;\n",
       "    }\n",
       "\n",
       "    .dataframe tbody tr th {\n",
       "        vertical-align: top;\n",
       "    }\n",
       "\n",
       "    .dataframe thead th {\n",
       "        text-align: right;\n",
       "    }\n",
       "</style>\n",
       "<table border=\"1\" class=\"dataframe\">\n",
       "  <thead>\n",
       "    <tr style=\"text-align: right;\">\n",
       "      <th></th>\n",
       "      <th>feature_key</th>\n",
       "      <th>feature_importance</th>\n",
       "    </tr>\n",
       "  </thead>\n",
       "  <tbody>\n",
       "    <tr>\n",
       "      <th>0</th>\n",
       "      <td>description_embedding_1</td>\n",
       "      <td>112.0</td>\n",
       "    </tr>\n",
       "    <tr>\n",
       "      <th>1</th>\n",
       "      <td>description_embedding_287</td>\n",
       "      <td>39.0</td>\n",
       "    </tr>\n",
       "    <tr>\n",
       "      <th>2</th>\n",
       "      <td>description_embedding_3</td>\n",
       "      <td>36.0</td>\n",
       "    </tr>\n",
       "    <tr>\n",
       "      <th>3</th>\n",
       "      <td>area_Центральный ФО</td>\n",
       "      <td>33.0</td>\n",
       "    </tr>\n",
       "    <tr>\n",
       "      <th>4</th>\n",
       "      <td>description_embedding_69</td>\n",
       "      <td>30.0</td>\n",
       "    </tr>\n",
       "    <tr>\n",
       "      <th>5</th>\n",
       "      <td>experience_moreThan6</td>\n",
       "      <td>30.0</td>\n",
       "    </tr>\n",
       "    <tr>\n",
       "      <th>6</th>\n",
       "      <td>description_embedding_77</td>\n",
       "      <td>29.0</td>\n",
       "    </tr>\n",
       "    <tr>\n",
       "      <th>7</th>\n",
       "      <td>description_embedding_162</td>\n",
       "      <td>29.0</td>\n",
       "    </tr>\n",
       "    <tr>\n",
       "      <th>8</th>\n",
       "      <td>description_embedding_2</td>\n",
       "      <td>28.0</td>\n",
       "    </tr>\n",
       "    <tr>\n",
       "      <th>9</th>\n",
       "      <td>description_embedding_21</td>\n",
       "      <td>28.0</td>\n",
       "    </tr>\n",
       "  </tbody>\n",
       "</table>\n",
       "</div>"
      ],
      "text/plain": [
       "                 feature_key  feature_importance\n",
       "0    description_embedding_1               112.0\n",
       "1  description_embedding_287                39.0\n",
       "2    description_embedding_3                36.0\n",
       "3        area_Центральный ФО                33.0\n",
       "4   description_embedding_69                30.0\n",
       "5       experience_moreThan6                30.0\n",
       "6   description_embedding_77                29.0\n",
       "7  description_embedding_162                29.0\n",
       "8    description_embedding_2                28.0\n",
       "9   description_embedding_21                28.0"
      ]
     },
     "execution_count": 131,
     "metadata": {},
     "output_type": "execute_result"
    }
   ],
   "source": [
    "feature_importance_df[:10]"
   ]
  },
  {
   "cell_type": "code",
   "execution_count": 125,
   "metadata": {
    "execution": {
     "iopub.execute_input": "2025-05-20T22:21:25.897568Z",
     "iopub.status.busy": "2025-05-20T22:21:25.897343Z",
     "iopub.status.idle": "2025-05-20T22:21:27.234786Z",
     "shell.execute_reply": "2025-05-20T22:21:27.234125Z",
     "shell.execute_reply.started": "2025-05-20T22:21:25.897552Z"
    },
    "trusted": true
   },
   "outputs": [],
   "source": [
    "y_pred = xgb_model.predict(X_test)"
   ]
  },
  {
   "cell_type": "code",
   "execution_count": 128,
   "metadata": {
    "execution": {
     "iopub.execute_input": "2025-05-20T22:21:42.213456Z",
     "iopub.status.busy": "2025-05-20T22:21:42.212762Z",
     "iopub.status.idle": "2025-05-20T22:21:42.233964Z",
     "shell.execute_reply": "2025-05-20T22:21:42.233066Z",
     "shell.execute_reply.started": "2025-05-20T22:21:42.213426Z"
    },
    "trusted": true
   },
   "outputs": [],
   "source": [
    "submission = pd.DataFrame({ 'Id': ID_column, 'Predicted': y_pred })\n",
    "submission.to_csv('submission.csv', sep=',', index=False, header=True)"
   ]
  }
 ],
 "metadata": {
  "kaggle": {
   "accelerator": "none",
   "dataSources": [
    {
     "databundleVersionId": 11148610,
     "sourceId": 93602,
     "sourceType": "competition"
    }
   ],
   "dockerImageVersionId": 31040,
   "isGpuEnabled": false,
   "isInternetEnabled": true,
   "language": "python",
   "sourceType": "notebook"
  },
  "kernelspec": {
   "display_name": "Python 3",
   "language": "python",
   "name": "python3"
  },
  "language_info": {
   "codemirror_mode": {
    "name": "ipython",
    "version": 3
   },
   "file_extension": ".py",
   "mimetype": "text/x-python",
   "name": "python",
   "nbconvert_exporter": "python",
   "pygments_lexer": "ipython3",
   "version": "3.11.11"
  }
 },
 "nbformat": 4,
 "nbformat_minor": 4
}
