{
 "cells": [
  {
   "cell_type": "code",
   "execution_count": null,
   "metadata": {
    "trusted": true
   },
   "outputs": [],
   "source": [
    "import torch\n",
    "import numpy as np\n",
    "\n",
    "train_on_gpu = torch.cuda.is_available()\n",
    "\n",
    "if not train_on_gpu:\n",
    "    print('CUDA is not available.  Training on CPU ...')\n",
    "else:\n",
    "    print('CUDA is available!  Training on GPU ...')\n",
    "\n",
    "import time\n",
    "from tqdm import tqdm, trange"
   ]
  },
  {
   "cell_type": "code",
   "execution_count": null,
   "metadata": {
    "execution": {
     "iopub.status.busy": "2025-04-28T19:49:00.854466Z",
     "iopub.status.idle": "2025-04-28T19:49:00.854844Z",
     "shell.execute_reply": "2025-04-28T19:49:00.854729Z",
     "shell.execute_reply.started": "2025-04-28T19:49:00.854716Z"
    },
    "trusted": true
   },
   "outputs": [],
   "source": [
    "import PIL\n",
    "print(PIL.__version__)"
   ]
  },
  {
   "cell_type": "code",
   "execution_count": 6,
   "metadata": {
    "execution": {
     "iopub.execute_input": "2025-04-28T15:40:22.378932Z",
     "iopub.status.busy": "2025-04-28T15:40:22.378654Z",
     "iopub.status.idle": "2025-04-28T15:40:22.774463Z",
     "shell.execute_reply": "2025-04-28T15:40:22.773897Z",
     "shell.execute_reply.started": "2025-04-28T15:40:22.378903Z"
    },
    "trusted": true
   },
   "outputs": [],
   "source": [
    "import pandas as pd"
   ]
  },
  {
   "cell_type": "code",
   "execution_count": 7,
   "metadata": {
    "execution": {
     "iopub.execute_input": "2025-04-28T15:40:22.776741Z",
     "iopub.status.busy": "2025-04-28T15:40:22.776402Z",
     "iopub.status.idle": "2025-04-28T15:40:23.021985Z",
     "shell.execute_reply": "2025-04-28T15:40:23.021109Z",
     "shell.execute_reply.started": "2025-04-28T15:40:22.776722Z"
    },
    "trusted": true
   },
   "outputs": [
    {
     "name": "stdout",
     "output_type": "stream",
     "text": [
      "Mon Apr 28 15:40:22 2025       \n",
      "+-----------------------------------------------------------------------------------------+\n",
      "| NVIDIA-SMI 560.35.03              Driver Version: 560.35.03      CUDA Version: 12.6     |\n",
      "|-----------------------------------------+------------------------+----------------------+\n",
      "| GPU  Name                 Persistence-M | Bus-Id          Disp.A | Volatile Uncorr. ECC |\n",
      "| Fan  Temp   Perf          Pwr:Usage/Cap |           Memory-Usage | GPU-Util  Compute M. |\n",
      "|                                         |                        |               MIG M. |\n",
      "|=========================================+========================+======================|\n",
      "|   0  Tesla T4                       Off |   00000000:00:04.0 Off |                    0 |\n",
      "| N/A   40C    P8             10W /   70W |       3MiB /  15360MiB |      0%      Default |\n",
      "|                                         |                        |                  N/A |\n",
      "+-----------------------------------------+------------------------+----------------------+\n",
      "|   1  Tesla T4                       Off |   00000000:00:05.0 Off |                    0 |\n",
      "| N/A   38C    P8              9W /   70W |       3MiB /  15360MiB |      0%      Default |\n",
      "|                                         |                        |                  N/A |\n",
      "+-----------------------------------------+------------------------+----------------------+\n",
      "                                                                                         \n",
      "+-----------------------------------------------------------------------------------------+\n",
      "| Processes:                                                                              |\n",
      "|  GPU   GI   CI        PID   Type   Process name                              GPU Memory |\n",
      "|        ID   ID                                                               Usage      |\n",
      "|=========================================================================================|\n",
      "|  No running processes found                                                             |\n",
      "+-----------------------------------------------------------------------------------------+\n"
     ]
    },
    {
     "data": {
      "text/plain": [
       "True"
      ]
     },
     "execution_count": 7,
     "metadata": {},
     "output_type": "execute_result"
    }
   ],
   "source": [
    "!nvidia-smi\n",
    "import torch\n",
    "torch.cuda.is_available()"
   ]
  },
  {
   "cell_type": "code",
   "execution_count": 8,
   "metadata": {
    "execution": {
     "iopub.execute_input": "2025-04-28T15:40:23.024137Z",
     "iopub.status.busy": "2025-04-28T15:40:23.023208Z",
     "iopub.status.idle": "2025-04-28T15:40:24.737107Z",
     "shell.execute_reply": "2025-04-28T15:40:24.735938Z",
     "shell.execute_reply.started": "2025-04-28T15:40:23.024100Z"
    },
    "trusted": true
   },
   "outputs": [],
   "source": [
    "import pickle\n",
    "import numpy as np\n",
    "from skimage import io\n",
    "\n",
    "from tqdm import tqdm, tqdm_notebook\n",
    "from PIL import Image\n",
    "from pathlib import Path\n",
    "\n",
    "from torchvision import transforms\n",
    "from multiprocessing.pool import ThreadPool\n",
    "from sklearn.preprocessing import LabelEncoder\n",
    "from torch.utils.data import Dataset, DataLoader\n",
    "import torch.nn as nn\n",
    "\n",
    "from matplotlib import colors, pyplot as plt\n",
    "%matplotlib inline\n",
    "\n",
    "# в sklearn не все гладко, чтобы в colab удобно выводить картинки\n",
    "# мы будем игнорировать warnings\n",
    "import warnings\n",
    "warnings.filterwarnings(action='ignore', category=DeprecationWarning)\n"
   ]
  },
  {
   "cell_type": "code",
   "execution_count": 9,
   "metadata": {
    "execution": {
     "iopub.execute_input": "2025-04-28T15:40:24.738617Z",
     "iopub.status.busy": "2025-04-28T15:40:24.738153Z",
     "iopub.status.idle": "2025-04-28T15:40:24.937386Z",
     "shell.execute_reply": "2025-04-28T15:40:24.936617Z",
     "shell.execute_reply.started": "2025-04-28T15:40:24.738591Z"
    },
    "trusted": true
   },
   "outputs": [],
   "source": [
    "import json\n",
    "\n",
    "with open('/kaggle/input/adadaaf/_annotations.coco.json') as f:\n",
    "    d = json.load(f)\n",
    "    # print(d)"
   ]
  },
  {
   "cell_type": "code",
   "execution_count": 10,
   "metadata": {
    "execution": {
     "iopub.execute_input": "2025-04-28T15:40:24.938527Z",
     "iopub.status.busy": "2025-04-28T15:40:24.938265Z",
     "iopub.status.idle": "2025-04-28T15:40:24.943064Z",
     "shell.execute_reply": "2025-04-28T15:40:24.942179Z",
     "shell.execute_reply.started": "2025-04-28T15:40:24.938504Z"
    },
    "trusted": true
   },
   "outputs": [],
   "source": [
    "def extract_between_last_dots(filename):\n",
    "    # Ищем часть между предпоследней и последней точкой\n",
    "    m = filename.split('rf.')[1].replace('.jpg', '').strip()\n",
    "    return m  # или можно вернуть исходную строку, если не найдено\n"
   ]
  },
  {
   "cell_type": "code",
   "execution_count": 11,
   "metadata": {
    "execution": {
     "iopub.execute_input": "2025-04-28T15:40:24.944171Z",
     "iopub.status.busy": "2025-04-28T15:40:24.943924Z",
     "iopub.status.idle": "2025-04-28T15:40:25.003613Z",
     "shell.execute_reply": "2025-04-28T15:40:25.002994Z",
     "shell.execute_reply.started": "2025-04-28T15:40:24.944151Z"
    },
    "trusted": true
   },
   "outputs": [],
   "source": [
    "with open('/kaggle/input/adadaaf/_annotations.coco.json') as f:\n",
    "    d = json.load(f)\n",
    "\n",
    "# Создаем словарь с метаданными изображений\n",
    "images_id = { \n",
    "    a['id']: {\n",
    "        'file_name': a['file_name'],\n",
    "        'width': a['width'],\n",
    "        'height': a['height']\n",
    "    } for a in d['images']\n",
    "}\n",
    "\n",
    "# Создаем словарь с повреждениями\n",
    "images_damages = {}\n",
    "for ann in d['annotations']:\n",
    "    image_id = ann['image_id']\n",
    "    file_key = extract_between_last_dots(images_id[image_id]['file_name'])\n",
    "    \n",
    "    images_damages[file_key] = {\n",
    "        'cat_id': ann['category_id'],\n",
    "        'box': ann['bbox'],\n",
    "        'width': images_id[image_id]['width'],  # Добавляем размеры\n",
    "        'height': images_id[image_id]['height']\n",
    "    }"
   ]
  },
  {
   "cell_type": "code",
   "execution_count": 12,
   "metadata": {
    "execution": {
     "iopub.execute_input": "2025-04-28T15:40:25.004741Z",
     "iopub.status.busy": "2025-04-28T15:40:25.004454Z",
     "iopub.status.idle": "2025-04-28T15:40:25.009192Z",
     "shell.execute_reply": "2025-04-28T15:40:25.008482Z",
     "shell.execute_reply.started": "2025-04-28T15:40:25.004719Z"
    },
    "trusted": true
   },
   "outputs": [],
   "source": [
    "# разные режимы датасета\n",
    "DATA_MODES = ['train', 'val', 'test']\n",
    "# все изображения будут масштабированы к размеру 224x224 px\n",
    "RESCALE_SIZE = 224\n",
    "# работаем на видеокарте\n",
    "DEVICE = torch.device(\"cuda\")"
   ]
  },
  {
   "cell_type": "code",
   "execution_count": 13,
   "metadata": {
    "execution": {
     "iopub.execute_input": "2025-04-28T15:40:25.012194Z",
     "iopub.status.busy": "2025-04-28T15:40:25.011990Z",
     "iopub.status.idle": "2025-04-28T15:40:25.032571Z",
     "shell.execute_reply": "2025-04-28T15:40:25.031908Z",
     "shell.execute_reply.started": "2025-04-28T15:40:25.012179Z"
    },
    "trusted": true
   },
   "outputs": [],
   "source": [
    "class MyDataset(Dataset):\n",
    "    \"\"\"\n",
    "    Датасет с картинками, который паралельно подгружает их из папок\n",
    "    производит скалирование и превращение в торчевые тензоры\n",
    "    \"\"\"\n",
    "    def __init__(self, files, mode):\n",
    "        super().__init__()\n",
    "        # список файлов для загрузки\n",
    "        self.files = sorted(files)\n",
    "        # режим работы\n",
    "        self.mode = mode\n",
    "\n",
    "        if self.mode not in DATA_MODES:\n",
    "            print(f\"{self.mode} is not correct; correct modes: {DATA_MODES}\")\n",
    "            raise NameError\n",
    "\n",
    "        self.len_ = len(self.files)\n",
    "\n",
    "        self.label_encoder = LabelEncoder()\n",
    "\n",
    "        if self.mode != 'test':\n",
    "            self.labels =  [\n",
    "                      images_damages[extract_between_last_dots(a.stem)]['cat_id']\n",
    "                      if extract_between_last_dots(a.stem) in images_damages\n",
    "                      else 'nolabel'\n",
    "                      for a in self.files\n",
    "                      ]  #[path.parent.name for path in self.files]\n",
    "            self.label_encoder.fit(self.labels)\n",
    "\n",
    "            with open('label_encoder.pkl', 'wb') as le_dump_file:\n",
    "                  pickle.dump(self.label_encoder, le_dump_file)\n",
    "\n",
    "    def __len__(self):\n",
    "        return self.len_\n",
    "\n",
    "    def load_sample(self, file):\n",
    "        image = Image.open(file)\n",
    "        image.load()\n",
    "        return image\n",
    "\n",
    "    def __getitem__(self, index):\n",
    "        # для преобразования изображений в тензоры PyTorch и нормализации входа\n",
    "\n",
    "        if self.mode in ['train', 'val']:\n",
    "          transform = transforms.Compose([\n",
    "              transforms.ToTensor(),\n",
    "              transforms.Normalize([0.485, 0.456, 0.406], [0.229, 0.224, 0.225])\n",
    "          ])\n",
    "        else:\n",
    "          transform = transforms.Compose([\n",
    "              transforms.ToTensor(),\n",
    "              transforms.Normalize([0.485,\n",
    "                                    0.456,\n",
    "                                    0.406],\n",
    "                                   [0.229,\n",
    "                                    0.224,\n",
    "                                    0.225])\n",
    "          ])\n",
    "        x = self.load_sample(self.files[index])\n",
    "        x = self._prepare_sample(x)\n",
    "        x = np.array(x / 255, dtype='float32')\n",
    "        x = transform(x)\n",
    "\n",
    "        if self.mode == 'test':\n",
    "            return x\n",
    "        else:\n",
    "            label = self.labels[index]\n",
    "            label_id = self.label_encoder.transform([label])\n",
    "            y = label_id.item()\n",
    "            return x, y\n",
    "\n",
    "    def _prepare_sample(self, image):\n",
    "        image = image.resize((RESCALE_SIZE, RESCALE_SIZE))\n",
    "        return np.array(image)"
   ]
  },
  {
   "cell_type": "code",
   "execution_count": 14,
   "metadata": {
    "execution": {
     "iopub.execute_input": "2025-04-28T15:40:25.033543Z",
     "iopub.status.busy": "2025-04-28T15:40:25.033309Z",
     "iopub.status.idle": "2025-04-28T15:40:25.048611Z",
     "shell.execute_reply": "2025-04-28T15:40:25.047896Z",
     "shell.execute_reply.started": "2025-04-28T15:40:25.033524Z"
    },
    "trusted": true
   },
   "outputs": [],
   "source": [
    "import matplotlib.patches as patches\n",
    "\n",
    "def imshow(inp, title=None, plt_ax=None, default=False, box=None):\n",
    "    \"\"\"Imshow для тензоров с поддержкой bounding box\"\"\"\n",
    "    # Конвертация тензора в numpy и изменение порядка осей\n",
    "    inp = inp.numpy().transpose((1, 2, 0))\n",
    "\n",
    "    # Денормализация\n",
    "    mean = np.array([0.485, 0.456, 0.406])\n",
    "    std = np.array([0.229, 0.224, 0.225])\n",
    "    inp = std * inp + mean\n",
    "    inp = np.clip(inp, 0, 1)\n",
    "\n",
    "    # Создаём фигуру и оси, если не переданы\n",
    "    if plt_ax is None:\n",
    "        fig, plt_ax = plt.subplots()\n",
    "\n",
    "    # Отображаем изображение\n",
    "    plt_ax.imshow(inp)\n",
    "\n",
    "    # Рисуем bounding box если задан\n",
    "    if box is not None:\n",
    "        x, y, w, h = box\n",
    "        img_width = inp.shape[0]\n",
    "        img_height = inp.shape[1]\n",
    "\n",
    "        x, w = x * img_width, w * img_width\n",
    "        y, h = y * img_height, h * img_height\n",
    "        rect = patches.Rectangle(\n",
    "            (x, y), w, h,\n",
    "            linewidth=2, edgecolor='r', facecolor='none'\n",
    "        )\n",
    "        plt_ax.add_patch(rect)\n",
    "\n",
    "    if title is not None:\n",
    "        plt_ax.set_title(title)\n",
    "    plt_ax.grid(False)\n",
    "\n",
    "    # Если создавали новую фигуру - показываем\n",
    "    if plt_ax is None:\n",
    "        plt.show()"
   ]
  },
  {
   "cell_type": "code",
   "execution_count": 15,
   "metadata": {
    "execution": {
     "iopub.execute_input": "2025-04-28T15:40:25.049708Z",
     "iopub.status.busy": "2025-04-28T15:40:25.049472Z",
     "iopub.status.idle": "2025-04-28T15:40:25.064224Z",
     "shell.execute_reply": "2025-04-28T15:40:25.063469Z",
     "shell.execute_reply.started": "2025-04-28T15:40:25.049684Z"
    },
    "trusted": true
   },
   "outputs": [],
   "source": [
    "#определим директории с тренировочными и тестовыми файлами\n",
    "TRAIN_DIR = Path('/kaggle/input/wind-turbine-damage-challenges/Wind Turbine damage/train/')\n",
    "VAL_DIR = Path('/kaggle/input/wind-turbine-damage-challenges/Wind Turbine damage/valid/')\n",
    "TEST_DIR = Path('/kaggle/input/wind-turbine-damage-challenges/Wind Turbine damage/test/')"
   ]
  },
  {
   "cell_type": "code",
   "execution_count": 16,
   "metadata": {
    "execution": {
     "iopub.execute_input": "2025-04-28T15:40:25.065161Z",
     "iopub.status.busy": "2025-04-28T15:40:25.064954Z",
     "iopub.status.idle": "2025-04-28T15:40:25.686386Z",
     "shell.execute_reply": "2025-04-28T15:40:25.685273Z",
     "shell.execute_reply.started": "2025-04-28T15:40:25.065145Z"
    },
    "trusted": true
   },
   "outputs": [],
   "source": [
    "train_val_files = sorted(list(TRAIN_DIR.rglob('*.jpg')))\n",
    "valid_files = sorted(list(VAL_DIR.rglob('*.jpg')))\n",
    "test_files = sorted(list(TEST_DIR.rglob('*.jpg')))"
   ]
  },
  {
   "cell_type": "code",
   "execution_count": 17,
   "metadata": {
    "execution": {
     "iopub.execute_input": "2025-04-28T15:40:25.688076Z",
     "iopub.status.busy": "2025-04-28T15:40:25.687381Z",
     "iopub.status.idle": "2025-04-28T15:40:25.692943Z",
     "shell.execute_reply": "2025-04-28T15:40:25.692260Z",
     "shell.execute_reply.started": "2025-04-28T15:40:25.688048Z"
    },
    "trusted": true
   },
   "outputs": [
    {
     "data": {
      "text/plain": [
       "(1070, 271, 151)"
      ]
     },
     "execution_count": 17,
     "metadata": {},
     "output_type": "execute_result"
    }
   ],
   "source": [
    "len(train_val_files), len(valid_files) ,len(test_files)"
   ]
  },
  {
   "cell_type": "code",
   "execution_count": 18,
   "metadata": {
    "execution": {
     "iopub.execute_input": "2025-04-28T15:40:25.693847Z",
     "iopub.status.busy": "2025-04-28T15:40:25.693617Z",
     "iopub.status.idle": "2025-04-28T15:40:25.704037Z",
     "shell.execute_reply": "2025-04-28T15:40:25.703430Z",
     "shell.execute_reply.started": "2025-04-28T15:40:25.693831Z"
    },
    "trusted": true
   },
   "outputs": [],
   "source": [
    "# train_ann_files = []\n",
    "# for image in train_val_files:\n",
    "#     if extract_between_last_dots(image.stem) in  images_damages:\n",
    "#         train_ann_files.append(image)\n",
    "\n",
    "# val_ann_files = []\n",
    "# for image in valid_files:\n",
    "#     if extract_between_last_dots(image.stem) in images_damages:\n",
    "#         val_ann_files.append(image)"
   ]
  },
  {
   "cell_type": "code",
   "execution_count": 19,
   "metadata": {
    "execution": {
     "iopub.execute_input": "2025-04-28T15:40:25.704939Z",
     "iopub.status.busy": "2025-04-28T15:40:25.704722Z",
     "iopub.status.idle": "2025-04-28T15:40:25.720094Z",
     "shell.execute_reply": "2025-04-28T15:40:25.719471Z",
     "shell.execute_reply.started": "2025-04-28T15:40:25.704924Z"
    },
    "trusted": true
   },
   "outputs": [
    {
     "data": {
      "text/plain": [
       "(1070, 271)"
      ]
     },
     "execution_count": 19,
     "metadata": {},
     "output_type": "execute_result"
    }
   ],
   "source": [
    "len(train_val_files), len(valid_files)"
   ]
  },
  {
   "cell_type": "code",
   "execution_count": 20,
   "metadata": {
    "execution": {
     "iopub.execute_input": "2025-04-28T15:40:25.721137Z",
     "iopub.status.busy": "2025-04-28T15:40:25.720915Z",
     "iopub.status.idle": "2025-04-28T15:40:25.756888Z",
     "shell.execute_reply": "2025-04-28T15:40:25.756075Z",
     "shell.execute_reply.started": "2025-04-28T15:40:25.721120Z"
    },
    "trusted": true
   },
   "outputs": [],
   "source": [
    "from sklearn.model_selection import train_test_split\n",
    "\n",
    "train_val_labels = [images_damages[extract_between_last_dots(image.stem)]['cat_id']\n",
    "                    if extract_between_last_dots(image.stem) in images_damages\n",
    "                    else 0\n",
    "                    for image in train_val_files]\n",
    "train_val_boxes = [images_damages[extract_between_last_dots(image.stem)]['box']\n",
    "                   if extract_between_last_dots(image.stem) in images_damages\n",
    "                    else []\n",
    "                    for image in train_val_files]\n",
    "\n",
    "valid_val_labels = [images_damages[extract_between_last_dots(image.stem)]['cat_id']\n",
    "                    if extract_between_last_dots(image.stem) in images_damages\n",
    "                    else 0\n",
    "                    for image in valid_files]\n",
    "valid_val_boxes = [images_damages[extract_between_last_dots(image.stem)]['box']\n",
    "                   if extract_between_last_dots(image.stem) in images_damages\n",
    "                    else []\n",
    "                    for image in valid_files]\n",
    "test_val_labels = [images_damages[extract_between_last_dots(image.stem)]['cat_id']\n",
    "                    if extract_between_last_dots(image.stem) in images_damages\n",
    "                    else 0\n",
    "                    for image in test_files]\n",
    "test_val_boxes = [images_damages[extract_between_last_dots(image.stem)]['box']\n",
    "                   if extract_between_last_dots(image.stem) in images_damages\n",
    "                    else []\n",
    "                    for image in test_files]\n",
    "# train_files, val_files = train_test_split(train_ann_files, test_size=0.25, \\\n",
    "                                          # stratify=train_val_labels)\n",
    "\n",
    "train_files = train_val_files\n",
    "val_files = valid_files"
   ]
  },
  {
   "cell_type": "code",
   "execution_count": 21,
   "metadata": {
    "execution": {
     "iopub.execute_input": "2025-04-28T15:40:25.757999Z",
     "iopub.status.busy": "2025-04-28T15:40:25.757749Z",
     "iopub.status.idle": "2025-04-28T15:40:25.766695Z",
     "shell.execute_reply": "2025-04-28T15:40:25.765914Z",
     "shell.execute_reply.started": "2025-04-28T15:40:25.757981Z"
    },
    "trusted": true
   },
   "outputs": [],
   "source": [
    "val_dataset = MyDataset(val_files, mode='val')\n",
    "train_dataset = MyDataset(train_files, mode='train')\n",
    "test_dataset = MyDataset(test_files, mode='test')"
   ]
  },
  {
   "cell_type": "code",
   "execution_count": 22,
   "metadata": {
    "execution": {
     "iopub.execute_input": "2025-04-28T15:40:25.767734Z",
     "iopub.status.busy": "2025-04-28T15:40:25.767536Z",
     "iopub.status.idle": "2025-04-28T15:40:28.283892Z",
     "shell.execute_reply": "2025-04-28T15:40:28.283151Z",
     "shell.execute_reply.started": "2025-04-28T15:40:25.767719Z"
    },
    "trusted": true
   },
   "outputs": [
    {
     "data": {
      "image/png": "[encoded data removed]",
      "text/plain": [
       "<Figure size 800x800 with 9 Axes>"
      ]
     },
     "metadata": {},
     "output_type": "display_data"
    }
   ],
   "source": [
    "fig, ax = plt.subplots(nrows=3, ncols=3,figsize=(8, 8), \\\n",
    "                        sharey=True, sharex=True)\n",
    "for fig_x in ax.flatten():\n",
    "    random_characters = int(np.random.uniform(0,150))\n",
    "    im_val, label = val_dataset[random_characters]\n",
    "\n",
    "    file_name = extract_between_last_dots(train_val_files[random_characters].stem)\n",
    "    box = []\n",
    "    # if file_name in images_damages:\n",
    "    #   box = images_damages[file_name]['box']\n",
    "\n",
    "    # img_label = \" \".join(map(lambda x: x.capitalize(),\\\n",
    "                # val_dataset.label_encoder.inverse_transform([label])[0].split('_')))\n",
    "    img_label = str(label)\n",
    "    imshow(im_val.data.cpu(), \\\n",
    "          title=img_label,plt_ax=fig_x )"
   ]
  },
  {
   "cell_type": "code",
   "execution_count": 23,
   "metadata": {
    "execution": {
     "iopub.execute_input": "2025-04-28T15:40:28.284993Z",
     "iopub.status.busy": "2025-04-28T15:40:28.284757Z",
     "iopub.status.idle": "2025-04-28T15:40:28.289966Z",
     "shell.execute_reply": "2025-04-28T15:40:28.289150Z",
     "shell.execute_reply.started": "2025-04-28T15:40:28.284976Z"
    },
    "trusted": true
   },
   "outputs": [],
   "source": [
    "train_loader = DataLoader(train_dataset, batch_size=64, shuffle=True, num_workers=2)\n",
    "val_loader = DataLoader(val_dataset, batch_size=64, shuffle=False, num_workers=2)\n",
    "test_loader = DataLoader(test_dataset, batch_size=64, shuffle=False, num_workers=2)"
   ]
  },
  {
   "cell_type": "code",
   "execution_count": 24,
   "metadata": {
    "execution": {
     "iopub.execute_input": "2025-04-28T15:40:28.291050Z",
     "iopub.status.busy": "2025-04-28T15:40:28.290754Z",
     "iopub.status.idle": "2025-04-28T15:40:28.302129Z",
     "shell.execute_reply": "2025-04-28T15:40:28.301385Z",
     "shell.execute_reply.started": "2025-04-28T15:40:28.291033Z"
    },
    "trusted": true
   },
   "outputs": [],
   "source": [
    "from torchvision import datasets, models, transforms\n"
   ]
  },
  {
   "cell_type": "code",
   "execution_count": 25,
   "metadata": {
    "execution": {
     "iopub.execute_input": "2025-04-28T15:40:28.303099Z",
     "iopub.status.busy": "2025-04-28T15:40:28.302835Z",
     "iopub.status.idle": "2025-04-28T15:40:28.317124Z",
     "shell.execute_reply": "2025-04-28T15:40:28.316401Z",
     "shell.execute_reply.started": "2025-04-28T15:40:28.303083Z"
    },
    "trusted": true
   },
   "outputs": [],
   "source": [
    "def train_model(model, criterion, optimizer, scheduler, num_epochs=25):\n",
    "    since = time.time()\n",
    "\n",
    "    best_model_wts = model.state_dict()\n",
    "    best_acc = 0.0\n",
    "\n",
    "    #Ваш код здесь\n",
    "    losses = {'train': [], \"val\": []}\n",
    "\n",
    "    pbar = trange(num_epochs, desc=\"Epoch:\")\n",
    "\n",
    "    for epoch in pbar:\n",
    "\n",
    "        # каждя эпоха имеет обучающую и тестовую стадии\n",
    "        for phase in ['train', 'val']:\n",
    "            if phase == 'train':\n",
    "                scheduler.step()\n",
    "                model.train(True)  # установаить модель в режим обучения\n",
    "            else:\n",
    "                model.eval()\n",
    "\n",
    "            running_loss = 0.0\n",
    "            running_corrects = 0\n",
    "\n",
    "            curr_data = val_loader\n",
    "            ln_d = len(val_loader)\n",
    "            if phase == 'train':\n",
    "              curr_data = train_loader\n",
    "              ln_d = len(train_loader)\n",
    "\n",
    "            # итерируемся по батчам\n",
    "            for data in tqdm(curr_data, leave=False, desc=f\"{phase} iter:\"):\n",
    "                # получаем картинки и метки\n",
    "                inputs, labels = data\n",
    "\n",
    "                # оборачиваем в переменные\n",
    "                if train_on_gpu:\n",
    "                    inputs = inputs.cuda()\n",
    "                    labels = labels.cuda()\n",
    "                else:\n",
    "                    inputs, labels = inputs, labels\n",
    "\n",
    "                # инициализируем градиенты параметров\n",
    "                if phase==\"train\":\n",
    "                    optimizer.zero_grad()\n",
    "\n",
    "                # forward pass\n",
    "                if phase == \"eval\":\n",
    "                    with torch.no_grad():\n",
    "                        outputs = model(inputs)\n",
    "                else:\n",
    "                    outputs = model(inputs)\n",
    "                preds = torch.argmax(outputs, -1)\n",
    "                loss = criterion(outputs, labels)\n",
    "\n",
    "                # backward pass + оптимизируем только если это стадия обучения\n",
    "                if phase == 'train':\n",
    "                    loss.backward()\n",
    "                    optimizer.step()\n",
    "\n",
    "                # статистика\n",
    "                running_loss += loss.item()\n",
    "                running_corrects += int(torch.sum(preds == labels.data))\n",
    "\n",
    "\n",
    "            epoch_loss = running_loss / ln_d\n",
    "            epoch_acc = running_corrects / ln_d\n",
    "\n",
    "            losses[phase].append(epoch_loss)\n",
    "\n",
    "            pbar.set_description('{} Loss: {:.4f} Acc: {:.4f}'.format(\n",
    "                                    phase, epoch_loss, epoch_acc\n",
    "                                ))\n",
    "\n",
    "            #print('{} Loss: {:.4f} Acc: {:.4f}'.format(\n",
    "             #                       phase, epoch_loss, epoch_acc\n",
    "              #                  ))\n",
    "            if phase == 'val' and epoch_acc > best_acc:\n",
    "                best_acc = epoch_acc\n",
    "                best_model_wts = model.state_dict()\n",
    "\n",
    "\n",
    "    time_elapsed = time.time() - since\n",
    "    print('Training complete in {:.0f}m {:.0f}s'.format(\n",
    "        time_elapsed // 60, time_elapsed % 60))\n",
    "    print('Best val Acc: {:4f}'.format(best_acc))\n",
    "\n",
    "    # загрузим лучшие веса модели\n",
    "    model.load_state_dict(best_model_wts)\n",
    "    return model, losses"
   ]
  },
  {
   "cell_type": "code",
   "execution_count": null,
   "metadata": {
    "trusted": true
   },
   "outputs": [],
   "source": []
  },
  {
   "cell_type": "code",
   "execution_count": 43,
   "metadata": {
    "execution": {
     "iopub.execute_input": "2025-04-28T16:41:07.963620Z",
     "iopub.status.busy": "2025-04-28T16:41:07.962784Z",
     "iopub.status.idle": "2025-04-28T16:41:14.828519Z",
     "shell.execute_reply": "2025-04-28T16:41:14.827474Z",
     "shell.execute_reply.started": "2025-04-28T16:41:07.963589Z"
    },
    "trusted": true
   },
   "outputs": [
    {
     "name": "stderr",
     "output_type": "stream",
     "text": [
      "100%|██████████| 1070/1070 [00:04<00:00, 231.48it/s]\n",
      "100%|██████████| 271/271 [00:01<00:00, 257.61it/s]\n",
      "100%|██████████| 151/151 [00:00<00:00, 280.78it/s]\n"
     ]
    }
   ],
   "source": [
    "import yaml\n",
    "from tqdm import tqdm\n",
    "import shutil\n",
    "import os\n",
    "\n",
    "# Создаем структуру папок\n",
    "!mkdir -p yolo_dataset/train/images yolo_dataset/train/labels\n",
    "!mkdir -p yolo_dataset/val/images yolo_dataset/val/labels\n",
    "!mkdir -p yolo_dataset/test/images\n",
    "\n",
    "# Создаем dataset.yaml\n",
    "\n",
    "train_dest_img_path = '/kaggle/working/yolo_dataset/train/images'\n",
    "train_dest_label_path = '/kaggle/working/yolo_dataset/train/labels'\n",
    "\n",
    "val_dest_img_path = '/kaggle/working/yolo_dataset/val/images'\n",
    "val_dest_label_path = '/kaggle/working/yolo_dataset/val/labels'\n",
    "\n",
    "test_dest_img_path = '/kaggle/working/yolo_dataset/test/images'\n",
    "test_dest_label_path = '/kaggle/working/yolo_dataset/test/labels'\n",
    "\n",
    "data = {\n",
    "    'train': '/kaggle/working/yolo_dataset/train',\n",
    "    'val': '/kaggle/working/yolo_dataset/val',\n",
    "    'test': '/kaggle/working/yolo_dataset/test',\n",
    "    'names': ['no effect', 'corrosion', 'lightning', 'lightning receptor', 'missing teeth', 'patch'],\n",
    "    'nc': 6\n",
    "}\n",
    "\n",
    "\n",
    "os.makedirs('/kaggle/working/yolo_dataset', exist_ok=True)\n",
    "\n",
    "with open('/kaggle/working/yolo_dataset/dataset.yaml', 'w') as f:\n",
    "    yaml.dump(data, f)\n",
    "\n",
    "# Функция конвертации в YOLO формат\n",
    "def convert_to_yolo_format(src_files, dest_img_dir, dest_label_dir,\n",
    "                           test_mode = False):\n",
    "    for file in tqdm(src_files):\n",
    "        key = extract_between_last_dots(file.stem)\n",
    "        \n",
    "        # Копируем изображение\n",
    "        dest_img = Path(dest_img_dir) / file.name\n",
    "        shutil.copy(file, dest_img)\n",
    "        \n",
    "        # Создаем аннотацию\n",
    "        txt_file = Path(dest_label_dir) / (dest_img.stem + '.txt')\n",
    "        \n",
    "        if key in images_damages:\n",
    "            damage = images_damages[key]\n",
    "            \n",
    "            # Получаем размеры из словаря damages\n",
    "            orig_width = damage['width']\n",
    "            orig_height = damage['height']\n",
    "            \n",
    "            # Извлекаем и нормализуем координаты\n",
    "            x, y, w, h = damage['box']\n",
    "            x_center = (x + w/2) / orig_width\n",
    "            y_center = (y + h/2) / orig_height\n",
    "            width_n = w / orig_width\n",
    "            height_n = h / orig_height\n",
    "            \n",
    "            with open(txt_file, 'w') as f:\n",
    "                f.write(f\"{damage['cat_id']} {x_center} {y_center} {width_n} {height_n}\\n\")\n",
    "        else:\n",
    "            if not test_mode:\n",
    "                with open(txt_file, 'w') as f:\n",
    "                    f.write(\"0 0.5 0.5 1.0 1.0\\n\")\n",
    "\n",
    "# Конвертируем данные\n",
    "\n",
    "\n",
    "convert_to_yolo_format(train_files, train_dest_img_path, train_dest_label_path)\n",
    "convert_to_yolo_format(val_files, val_dest_img_path, val_dest_label_path)\n",
    "convert_to_yolo_format(test_files, test_dest_img_path, test_dest_label_path,\n",
    "                      True)"
   ]
  },
  {
   "cell_type": "code",
   "execution_count": null,
   "metadata": {
    "execution": {
     "iopub.execute_input": "2025-04-28T15:43:55.516262Z",
     "iopub.status.busy": "2025-04-28T15:43:55.515939Z",
     "iopub.status.idle": "2025-04-28T15:43:58.945062Z",
     "shell.execute_reply": "2025-04-28T15:43:58.944139Z",
     "shell.execute_reply.started": "2025-04-28T15:43:55.516239Z"
    },
    "trusted": true
   },
   "outputs": [],
   "source": [
    "pip install ultralytics"
   ]
  },
  {
   "cell_type": "code",
   "execution_count": null,
   "metadata": {
    "execution": {
     "iopub.execute_input": "2025-04-28T17:25:57.541311Z",
     "iopub.status.busy": "2025-04-28T17:25:57.540507Z"
    },
    "trusted": true
   },
   "outputs": [
    {
     "name": "stdout",
     "output_type": "stream",
     "text": [
      "Transferred 355/355 items from pretrained weights\n",
      "Ultralytics 8.3.119 🚀 Python-3.11.11 torch-2.5.1+cu124 CUDA:0 (Tesla T4, 15095MiB)\n",
      "\u001b[34m\u001b[1mengine/trainer: \u001b[0mtask=detect, mode=train, model=yolov8n.pt, data=/kaggle/working/yolo_dataset/dataset.yaml, epochs=100, time=None, patience=100, batch=4, imgsz=1280, save=True, save_period=-1, cache=False, device=0, workers=8, project=None, name=train7, exist_ok=False, pretrained=yolov8n.pt, optimizer=auto, verbose=True, seed=0, deterministic=True, single_cls=False, rect=False, cos_lr=False, close_mosaic=10, resume=False, amp=True, fraction=1.0, profile=False, freeze=None, multi_scale=False, overlap_mask=True, mask_ratio=4, dropout=0.1, val=True, split=val, save_json=False, conf=None, iou=0.7, max_det=300, half=False, dnn=False, plots=True, source=None, vid_stride=1, stream_buffer=False, visualize=False, augment=False, agnostic_nms=False, classes=None, retina_masks=False, embed=None, show=False, save_frames=False, save_txt=False, save_conf=False, save_crop=False, show_labels=True, show_conf=True, show_boxes=True, line_width=None, format=torchscript, keras=False, optimize=False, int8=False, dynamic=False, simplify=True, opset=None, workspace=None, nms=False, lr0=0.01, lrf=0.01, momentum=0.937, weight_decay=0.0005, warmup_epochs=3, warmup_momentum=0.8, warmup_bias_lr=0.1, box=7.5, cls=0.5, dfl=1.5, pose=12.0, kobj=1.0, nbs=64, hsv_h=0.015, hsv_s=0.7, hsv_v=0.4, degrees=15, translate=0.1, scale=0.5, shear=0.1, perspective=0.0001, flipud=0.0, fliplr=0.5, bgr=0.0, mosaic=1.0, mixup=0.2, cutmix=0.0, copy_paste=0.2, copy_paste_mode=flip, auto_augment=randaugment, erasing=0.4, cfg=None, tracker=botsort.yaml, save_dir=runs/detect/train7\n",
      "Overriding model.yaml nc=80 with nc=6\n",
      "\n",
      "                   from  n    params  module                                       arguments                     \n",
      "  0                  -1  1       464  ultralytics.nn.modules.conv.Conv             [3, 16, 3, 2]                 \n",
      "  1                  -1  1      4672  ultralytics.nn.modules.conv.Conv             [16, 32, 3, 2]                \n",
      "  2                  -1  1      7360  ultralytics.nn.modules.block.C2f             [32, 32, 1, True]             \n",
      "  3                  -1  1     18560  ultralytics.nn.modules.conv.Conv             [32, 64, 3, 2]                \n",
      "  4                  -1  2     49664  ultralytics.nn.modules.block.C2f             [64, 64, 2, True]             \n",
      "  5                  -1  1     73984  ultralytics.nn.modules.conv.Conv             [64, 128, 3, 2]               \n",
      "  6                  -1  2    197632  ultralytics.nn.modules.block.C2f             [128, 128, 2, True]           \n",
      "  7                  -1  1    295424  ultralytics.nn.modules.conv.Conv             [128, 256, 3, 2]              \n",
      "  8                  -1  1    460288  ultralytics.nn.modules.block.C2f             [256, 256, 1, True]           \n",
      "  9                  -1  1    164608  ultralytics.nn.modules.block.SPPF            [256, 256, 5]                 \n",
      " 10                  -1  1         0  torch.nn.modules.upsampling.Upsample         [None, 2, 'nearest']          \n",
      " 11             [-1, 6]  1         0  ultralytics.nn.modules.conv.Concat           [1]                           \n",
      " 12                  -1  1    148224  ultralytics.nn.modules.block.C2f             [384, 128, 1]                 \n",
      " 13                  -1  1         0  torch.nn.modules.upsampling.Upsample         [None, 2, 'nearest']          \n",
      " 14             [-1, 4]  1         0  ultralytics.nn.modules.conv.Concat           [1]                           \n",
      " 15                  -1  1     37248  ultralytics.nn.modules.block.C2f             [192, 64, 1]                  \n",
      " 16                  -1  1     36992  ultralytics.nn.modules.conv.Conv             [64, 64, 3, 2]                \n",
      " 17            [-1, 12]  1         0  ultralytics.nn.modules.conv.Concat           [1]                           \n",
      " 18                  -1  1    123648  ultralytics.nn.modules.block.C2f             [192, 128, 1]                 \n",
      " 19                  -1  1    147712  ultralytics.nn.modules.conv.Conv             [128, 128, 3, 2]              \n",
      " 20             [-1, 9]  1         0  ultralytics.nn.modules.conv.Concat           [1]                           \n",
      " 21                  -1  1    493056  ultralytics.nn.modules.block.C2f             [384, 256, 1]                 \n",
      " 22        [15, 18, 21]  1    752482  ultralytics.nn.modules.head.Detect           [6, [64, 128, 256]]           \n",
      "Model summary: 129 layers, 3,012,018 parameters, 3,012,002 gradients, 8.2 GFLOPs\n",
      "\n",
      "Transferred 319/355 items from pretrained weights\n",
      "Freezing layer 'model.22.dfl.conv.weight'\n",
      "\u001b[34m\u001b[1mAMP: \u001b[0mrunning Automatic Mixed Precision (AMP) checks...\n",
      "\u001b[34m\u001b[1mAMP: \u001b[0mchecks passed ✅\n",
      "\u001b[34m\u001b[1mtrain: \u001b[0mFast image access ✅ (ping: 0.0±0.0 ms, read: 2290.9±529.4 MB/s, size: 1488.7 KB)\n"
     ]
    },
    {
     "name": "stderr",
     "output_type": "stream",
     "text": [
      "\u001b[34m\u001b[1mtrain: \u001b[0mScanning /kaggle/working/yolo_dataset/train/labels.cache... 1070 images, 0 backgrounds, 0 corrupt: 100%|██████████| 1070/1070 [00:00<?, ?it/s]"
     ]
    },
    {
     "name": "stdout",
     "output_type": "stream",
     "text": [
      "\u001b[34m\u001b[1malbumentations: \u001b[0mBlur(p=0.01, blur_limit=(3, 7)), MedianBlur(p=0.01, blur_limit=(3, 7)), ToGray(p=0.01, num_output_channels=3, method='weighted_average'), CLAHE(p=0.01, clip_limit=(1.0, 4.0), tile_grid_size=(8, 8))\n"
     ]
    },
    {
     "name": "stderr",
     "output_type": "stream",
     "text": [
      "\n"
     ]
    },
    {
     "name": "stdout",
     "output_type": "stream",
     "text": [
      "\u001b[34m\u001b[1mval: \u001b[0mFast image access ✅ (ping: 0.0±0.0 ms, read: 404.2±147.6 MB/s, size: 806.6 KB)\n"
     ]
    },
    {
     "name": "stderr",
     "output_type": "stream",
     "text": [
      "\u001b[34m\u001b[1mval: \u001b[0mScanning /kaggle/working/yolo_dataset/val/labels.cache... 271 images, 0 backgrounds, 0 corrupt: 100%|██████████| 271/271 [00:00<?, ?it/s]\n"
     ]
    },
    {
     "name": "stdout",
     "output_type": "stream",
     "text": [
      "Plotting labels to runs/detect/train7/labels.jpg... \n",
      "\u001b[34m\u001b[1moptimizer:\u001b[0m 'optimizer=auto' found, ignoring 'lr0=0.01' and 'momentum=0.937' and determining best 'optimizer', 'lr0' and 'momentum' automatically... \n",
      "\u001b[34m\u001b[1moptimizer:\u001b[0m AdamW(lr=0.001, momentum=0.9) with parameter groups 57 weight(decay=0.0), 64 weight(decay=0.0005), 63 bias(decay=0.0)\n",
      "Image sizes 1280 train, 1280 val\n",
      "Using 4 dataloader workers\n",
      "Logging results to \u001b[1mruns/detect/train7\u001b[0m\n",
      "Starting training for 100 epochs...\n",
      "\n",
      "      Epoch    GPU_mem   box_loss   cls_loss   dfl_loss  Instances       Size\n"
     ]
    },
    {
     "name": "stderr",
     "output_type": "stream",
     "text": [
      "      1/100      2.12G      2.591      12.09      2.665          8       1280: 100%|██████████| 268/268 [01:21<00:00,  3.30it/s]\n",
      "                 Class     Images  Instances      Box(P          R      mAP50  mAP50-95): 100%|██████████| 34/34 [00:08<00:00,  3.93it/s]"
     ]
    },
    {
     "name": "stdout",
     "output_type": "stream",
     "text": [
      "                   all        271        271      0.418       0.31      0.226     0.0576\n"
     ]
    },
    {
     "name": "stderr",
     "output_type": "stream",
     "text": [
      "\n"
     ]
    },
    {
     "name": "stdout",
     "output_type": "stream",
     "text": [
      "\n",
      "      Epoch    GPU_mem   box_loss   cls_loss   dfl_loss  Instances       Size\n"
     ]
    },
    {
     "name": "stderr",
     "output_type": "stream",
     "text": [
      "      2/100      2.57G      2.297      8.283       2.26          2       1280: 100%|██████████| 268/268 [01:19<00:00,  3.37it/s]\n",
      "                 Class     Images  Instances      Box(P          R      mAP50  mAP50-95): 100%|██████████| 34/34 [00:08<00:00,  4.05it/s]\n"
     ]
    },
    {
     "name": "stdout",
     "output_type": "stream",
     "text": [
      "                   all        271        271      0.345      0.461      0.265      0.068\n",
      "\n",
      "      Epoch    GPU_mem   box_loss   cls_loss   dfl_loss  Instances       Size\n"
     ]
    },
    {
     "name": "stderr",
     "output_type": "stream",
     "text": [
      "      3/100      2.57G      2.081      5.579      2.183          4       1280: 100%|██████████| 268/268 [01:18<00:00,  3.42it/s]\n",
      "                 Class     Images  Instances      Box(P          R      mAP50  mAP50-95): 100%|██████████| 34/34 [00:07<00:00,  4.56it/s]"
     ]
    },
    {
     "name": "stdout",
     "output_type": "stream",
     "text": [
      "                   all        271        271      0.345      0.424      0.331       0.09\n"
     ]
    },
    {
     "name": "stderr",
     "output_type": "stream",
     "text": [
      "\n"
     ]
    },
    {
     "name": "stdout",
     "output_type": "stream",
     "text": [
      "\n",
      "      Epoch    GPU_mem   box_loss   cls_loss   dfl_loss  Instances       Size\n"
     ]
    },
    {
     "name": "stderr",
     "output_type": "stream",
     "text": [
      "      4/100      2.57G      2.009      4.668      2.081          3       1280: 100%|██████████| 268/268 [01:20<00:00,  3.32it/s]\n",
      "                 Class     Images  Instances      Box(P          R      mAP50  mAP50-95): 100%|██████████| 34/34 [00:07<00:00,  4.65it/s]"
     ]
    },
    {
     "name": "stdout",
     "output_type": "stream",
     "text": [
      "                   all        271        271      0.332      0.561      0.337     0.0962\n"
     ]
    },
    {
     "name": "stderr",
     "output_type": "stream",
     "text": [
      "\n"
     ]
    },
    {
     "name": "stdout",
     "output_type": "stream",
     "text": [
      "\n",
      "      Epoch    GPU_mem   box_loss   cls_loss   dfl_loss  Instances       Size\n"
     ]
    },
    {
     "name": "stderr",
     "output_type": "stream",
     "text": [
      "      5/100      2.57G      1.925       3.73      2.058          9       1280: 100%|██████████| 268/268 [01:17<00:00,  3.45it/s]\n",
      "                 Class     Images  Instances      Box(P          R      mAP50  mAP50-95): 100%|██████████| 34/34 [00:06<00:00,  4.87it/s]"
     ]
    },
    {
     "name": "stdout",
     "output_type": "stream",
     "text": [
      "                   all        271        271      0.264      0.559      0.317      0.106\n"
     ]
    },
    {
     "name": "stderr",
     "output_type": "stream",
     "text": [
      "\n"
     ]
    },
    {
     "name": "stdout",
     "output_type": "stream",
     "text": [
      "\n",
      "      Epoch    GPU_mem   box_loss   cls_loss   dfl_loss  Instances       Size\n"
     ]
    },
    {
     "name": "stderr",
     "output_type": "stream",
     "text": [
      "      6/100      2.57G       1.84      3.179      1.982          5       1280: 100%|██████████| 268/268 [01:18<00:00,  3.40it/s]\n",
      "                 Class     Images  Instances      Box(P          R      mAP50  mAP50-95): 100%|██████████| 34/34 [00:07<00:00,  4.53it/s]"
     ]
    },
    {
     "name": "stdout",
     "output_type": "stream",
     "text": [
      "                   all        271        271      0.388      0.369      0.364      0.116\n"
     ]
    },
    {
     "name": "stderr",
     "output_type": "stream",
     "text": [
      "\n"
     ]
    },
    {
     "name": "stdout",
     "output_type": "stream",
     "text": [
      "\n",
      "      Epoch    GPU_mem   box_loss   cls_loss   dfl_loss  Instances       Size\n"
     ]
    },
    {
     "name": "stderr",
     "output_type": "stream",
     "text": [
      "      7/100      2.57G      1.813      3.083      1.949          9       1280: 100%|██████████| 268/268 [01:17<00:00,  3.44it/s]\n",
      "                 Class     Images  Instances      Box(P          R      mAP50  mAP50-95): 100%|██████████| 34/34 [00:07<00:00,  4.55it/s]"
     ]
    },
    {
     "name": "stdout",
     "output_type": "stream",
     "text": [
      "                   all        271        271      0.334       0.45      0.392      0.126\n"
     ]
    },
    {
     "name": "stderr",
     "output_type": "stream",
     "text": [
      "\n"
     ]
    },
    {
     "name": "stdout",
     "output_type": "stream",
     "text": [
      "\n",
      "      Epoch    GPU_mem   box_loss   cls_loss   dfl_loss  Instances       Size\n"
     ]
    },
    {
     "name": "stderr",
     "output_type": "stream",
     "text": [
      "      8/100      2.57G      1.821      2.878      1.932          6       1280: 100%|██████████| 268/268 [01:21<00:00,  3.27it/s]\n",
      "                 Class     Images  Instances      Box(P          R      mAP50  mAP50-95): 100%|██████████| 34/34 [00:07<00:00,  4.56it/s]"
     ]
    },
    {
     "name": "stdout",
     "output_type": "stream",
     "text": [
      "                   all        271        271      0.316      0.472      0.333      0.112\n"
     ]
    },
    {
     "name": "stderr",
     "output_type": "stream",
     "text": [
      "\n"
     ]
    },
    {
     "name": "stdout",
     "output_type": "stream",
     "text": [
      "\n",
      "      Epoch    GPU_mem   box_loss   cls_loss   dfl_loss  Instances       Size\n"
     ]
    },
    {
     "name": "stderr",
     "output_type": "stream",
     "text": [
      "      9/100      2.57G       1.76       2.62      1.897          6       1280: 100%|██████████| 268/268 [01:18<00:00,  3.43it/s]\n",
      "                 Class     Images  Instances      Box(P          R      mAP50  mAP50-95): 100%|██████████| 34/34 [00:07<00:00,  4.54it/s]"
     ]
    },
    {
     "name": "stdout",
     "output_type": "stream",
     "text": [
      "                   all        271        271      0.348      0.395      0.371      0.111\n"
     ]
    },
    {
     "name": "stderr",
     "output_type": "stream",
     "text": [
      "\n"
     ]
    },
    {
     "name": "stdout",
     "output_type": "stream",
     "text": [
      "\n",
      "      Epoch    GPU_mem   box_loss   cls_loss   dfl_loss  Instances       Size\n"
     ]
    },
    {
     "name": "stderr",
     "output_type": "stream",
     "text": [
      "     10/100      2.57G      1.744      2.473      1.849          1       1280: 100%|██████████| 268/268 [01:15<00:00,  3.54it/s]\n",
      "                 Class     Images  Instances      Box(P          R      mAP50  mAP50-95): 100%|██████████| 34/34 [00:08<00:00,  4.22it/s]\n"
     ]
    },
    {
     "name": "stdout",
     "output_type": "stream",
     "text": [
      "                   all        271        271      0.331      0.506       0.37      0.123\n",
      "\n",
      "      Epoch    GPU_mem   box_loss   cls_loss   dfl_loss  Instances       Size\n"
     ]
    },
    {
     "name": "stderr",
     "output_type": "stream",
     "text": [
      "     11/100      2.57G      1.658      2.256      1.835          5       1280: 100%|██████████| 268/268 [01:16<00:00,  3.52it/s]\n",
      "                 Class     Images  Instances      Box(P          R      mAP50  mAP50-95): 100%|██████████| 34/34 [00:07<00:00,  4.57it/s]\n"
     ]
    },
    {
     "name": "stdout",
     "output_type": "stream",
     "text": [
      "                   all        271        271      0.478      0.402       0.41      0.149\n",
      "\n",
      "      Epoch    GPU_mem   box_loss   cls_loss   dfl_loss  Instances       Size\n"
     ]
    },
    {
     "name": "stderr",
     "output_type": "stream",
     "text": [
      "     12/100      2.57G       1.66      2.291      1.837          3       1280: 100%|██████████| 268/268 [01:21<00:00,  3.29it/s]\n",
      "                 Class     Images  Instances      Box(P          R      mAP50  mAP50-95): 100%|██████████| 34/34 [00:06<00:00,  4.87it/s]"
     ]
    },
    {
     "name": "stdout",
     "output_type": "stream",
     "text": [
      "                   all        271        271      0.341      0.605      0.391      0.124\n"
     ]
    },
    {
     "name": "stderr",
     "output_type": "stream",
     "text": [
      "\n"
     ]
    },
    {
     "name": "stdout",
     "output_type": "stream",
     "text": [
      "\n",
      "      Epoch    GPU_mem   box_loss   cls_loss   dfl_loss  Instances       Size\n"
     ]
    },
    {
     "name": "stderr",
     "output_type": "stream",
     "text": [
      "     13/100      2.57G      1.625      2.198      1.807          2       1280: 100%|██████████| 268/268 [01:18<00:00,  3.43it/s]\n",
      "                 Class     Images  Instances      Box(P          R      mAP50  mAP50-95): 100%|██████████| 34/34 [00:07<00:00,  4.31it/s]"
     ]
    },
    {
     "name": "stdout",
     "output_type": "stream",
     "text": [
      "                   all        271        271      0.379      0.343      0.319     0.0908\n"
     ]
    },
    {
     "name": "stderr",
     "output_type": "stream",
     "text": [
      "\n"
     ]
    },
    {
     "name": "stdout",
     "output_type": "stream",
     "text": [
      "\n",
      "      Epoch    GPU_mem   box_loss   cls_loss   dfl_loss  Instances       Size\n"
     ]
    },
    {
     "name": "stderr",
     "output_type": "stream",
     "text": [
      "     14/100      2.57G      1.635      2.094       1.74          8       1280: 100%|██████████| 268/268 [01:18<00:00,  3.39it/s]\n",
      "                 Class     Images  Instances      Box(P          R      mAP50  mAP50-95): 100%|██████████| 34/34 [00:07<00:00,  4.46it/s]\n"
     ]
    },
    {
     "name": "stdout",
     "output_type": "stream",
     "text": [
      "                   all        271        271      0.363      0.613      0.426      0.142\n",
      "\n",
      "      Epoch    GPU_mem   box_loss   cls_loss   dfl_loss  Instances       Size\n"
     ]
    },
    {
     "name": "stderr",
     "output_type": "stream",
     "text": [
      "     15/100      2.57G      1.653      2.128       1.75          2       1280: 100%|██████████| 268/268 [01:19<00:00,  3.37it/s]\n",
      "                 Class     Images  Instances      Box(P          R      mAP50  mAP50-95): 100%|██████████| 34/34 [00:06<00:00,  4.94it/s]"
     ]
    },
    {
     "name": "stdout",
     "output_type": "stream",
     "text": [
      "                   all        271        271      0.381       0.48      0.369      0.134\n"
     ]
    },
    {
     "name": "stderr",
     "output_type": "stream",
     "text": [
      "\n"
     ]
    },
    {
     "name": "stdout",
     "output_type": "stream",
     "text": [
      "\n",
      "      Epoch    GPU_mem   box_loss   cls_loss   dfl_loss  Instances       Size\n"
     ]
    },
    {
     "name": "stderr",
     "output_type": "stream",
     "text": [
      "     16/100      2.57G      1.561      1.994       1.69          2       1280: 100%|██████████| 268/268 [01:15<00:00,  3.53it/s]\n",
      "                 Class     Images  Instances      Box(P          R      mAP50  mAP50-95): 100%|██████████| 34/34 [00:07<00:00,  4.28it/s]\n"
     ]
    },
    {
     "name": "stdout",
     "output_type": "stream",
     "text": [
      "                   all        271        271      0.414      0.624      0.468      0.149\n",
      "\n",
      "      Epoch    GPU_mem   box_loss   cls_loss   dfl_loss  Instances       Size\n"
     ]
    },
    {
     "name": "stderr",
     "output_type": "stream",
     "text": [
      "     17/100      2.57G       1.54      1.987      1.682          3       1280: 100%|██████████| 268/268 [01:16<00:00,  3.49it/s]\n",
      "                 Class     Images  Instances      Box(P          R      mAP50  mAP50-95): 100%|██████████| 34/34 [00:07<00:00,  4.46it/s]\n"
     ]
    },
    {
     "name": "stdout",
     "output_type": "stream",
     "text": [
      "                   all        271        271      0.326      0.616      0.396      0.129\n",
      "\n",
      "      Epoch    GPU_mem   box_loss   cls_loss   dfl_loss  Instances       Size\n"
     ]
    },
    {
     "name": "stderr",
     "output_type": "stream",
     "text": [
      "     18/100      2.57G      1.628      2.136       1.69          2       1280: 100%|██████████| 268/268 [01:18<00:00,  3.42it/s]\n",
      "                 Class     Images  Instances      Box(P          R      mAP50  mAP50-95): 100%|██████████| 34/34 [00:07<00:00,  4.84it/s]"
     ]
    },
    {
     "name": "stdout",
     "output_type": "stream",
     "text": [
      "                   all        271        271      0.339       0.59      0.417      0.138\n"
     ]
    },
    {
     "name": "stderr",
     "output_type": "stream",
     "text": [
      "\n"
     ]
    },
    {
     "name": "stdout",
     "output_type": "stream",
     "text": [
      "\n",
      "      Epoch    GPU_mem   box_loss   cls_loss   dfl_loss  Instances       Size\n"
     ]
    },
    {
     "name": "stderr",
     "output_type": "stream",
     "text": [
      "     19/100      2.57G      1.566      2.073      1.694          5       1280: 100%|██████████| 268/268 [01:19<00:00,  3.38it/s]\n",
      "                 Class     Images  Instances      Box(P          R      mAP50  mAP50-95): 100%|██████████| 34/34 [00:07<00:00,  4.42it/s]"
     ]
    },
    {
     "name": "stdout",
     "output_type": "stream",
     "text": [
      "                   all        271        271      0.402      0.635      0.508      0.164\n"
     ]
    },
    {
     "name": "stderr",
     "output_type": "stream",
     "text": [
      "\n"
     ]
    },
    {
     "name": "stdout",
     "output_type": "stream",
     "text": [
      "\n",
      "      Epoch    GPU_mem   box_loss   cls_loss   dfl_loss  Instances       Size\n"
     ]
    },
    {
     "name": "stderr",
     "output_type": "stream",
     "text": [
      "     20/100      2.57G      1.518      2.033      1.662          3       1280: 100%|██████████| 268/268 [01:15<00:00,  3.54it/s]\n",
      "                 Class     Images  Instances      Box(P          R      mAP50  mAP50-95): 100%|██████████| 34/34 [00:06<00:00,  4.92it/s]\n"
     ]
    },
    {
     "name": "stdout",
     "output_type": "stream",
     "text": [
      "                   all        271        271      0.354      0.616      0.408      0.132\n",
      "\n",
      "      Epoch    GPU_mem   box_loss   cls_loss   dfl_loss  Instances       Size\n"
     ]
    },
    {
     "name": "stderr",
     "output_type": "stream",
     "text": [
      "     21/100      2.57G      1.559      2.014      1.657          6       1280: 100%|██████████| 268/268 [01:20<00:00,  3.32it/s]\n",
      "                 Class     Images  Instances      Box(P          R      mAP50  mAP50-95): 100%|██████████| 34/34 [00:07<00:00,  4.81it/s]"
     ]
    },
    {
     "name": "stdout",
     "output_type": "stream",
     "text": [
      "                   all        271        271      0.391      0.427      0.404      0.133\n"
     ]
    },
    {
     "name": "stderr",
     "output_type": "stream",
     "text": [
      "\n"
     ]
    },
    {
     "name": "stdout",
     "output_type": "stream",
     "text": [
      "\n",
      "      Epoch    GPU_mem   box_loss   cls_loss   dfl_loss  Instances       Size\n"
     ]
    },
    {
     "name": "stderr",
     "output_type": "stream",
     "text": [
      "     22/100      2.57G      1.511      1.902      1.685          5       1280: 100%|██████████| 268/268 [01:19<00:00,  3.36it/s]\n",
      "                 Class     Images  Instances      Box(P          R      mAP50  mAP50-95): 100%|██████████| 34/34 [00:07<00:00,  4.61it/s]"
     ]
    },
    {
     "name": "stdout",
     "output_type": "stream",
     "text": [
      "                   all        271        271      0.412       0.63      0.511      0.172\n"
     ]
    },
    {
     "name": "stderr",
     "output_type": "stream",
     "text": [
      "\n"
     ]
    },
    {
     "name": "stdout",
     "output_type": "stream",
     "text": [
      "\n",
      "      Epoch    GPU_mem   box_loss   cls_loss   dfl_loss  Instances       Size\n"
     ]
    },
    {
     "name": "stderr",
     "output_type": "stream",
     "text": [
      "     23/100      2.57G      1.483      1.898       1.62          4       1280: 100%|██████████| 268/268 [01:16<00:00,  3.50it/s]\n",
      "                 Class     Images  Instances      Box(P          R      mAP50  mAP50-95): 100%|██████████| 34/34 [00:06<00:00,  4.88it/s]"
     ]
    },
    {
     "name": "stdout",
     "output_type": "stream",
     "text": [
      "                   all        271        271       0.42      0.694      0.464      0.149\n"
     ]
    },
    {
     "name": "stderr",
     "output_type": "stream",
     "text": [
      "\n"
     ]
    },
    {
     "name": "stdout",
     "output_type": "stream",
     "text": [
      "\n",
      "      Epoch    GPU_mem   box_loss   cls_loss   dfl_loss  Instances       Size\n"
     ]
    },
    {
     "name": "stderr",
     "output_type": "stream",
     "text": [
      "     24/100      2.57G      1.515      1.984      1.577         10       1280:  33%|███▎      | 89/268 [00:25<00:44,  4.07it/s]"
     ]
    }
   ],
   "source": [
    "from ultralytics import YOLO\n",
    "\n",
    "# Инициализация модели\n",
    "model = YOLO('yolov8n.pt').load('yolov8n.pt') #YOLO('yolov8n.pt')  # Предобученная модель\n",
    "\n",
    "# Гиперпараметры\n",
    "# Новые настройки обучения\n",
    "# config = {\n",
    "#     'data': 'yolo_dataset/dataset.yaml',\n",
    "#     'epochs': 20,  # Уменьшаем количество эпох\n",
    "#     'imgsz': 640,\n",
    "#     'batch': 8,     # Уменьшаем batch size\n",
    "#     'optimizer': 'AdamW',\n",
    "#     'lr0': 0.0001,  # Уменьшаем learning rate\n",
    "#     'patience': 10,\n",
    "#     'device': 0,\n",
    "#     'augment': True,  # Включаем аугментации\n",
    "#     'dropout': 0.2,   # Регуляризация\n",
    "#     'weight_decay': 0.0005,\n",
    "#     'freeze': 10\n",
    "# }\n",
    "\n",
    "# config = {\n",
    "#     'data': '/kaggle/working/yolo_dataset/dataset.yaml',\n",
    "#     'epochs': 100,\n",
    "#     'imgsz': 1280,\n",
    "#     'batch': 4,  # Уменьшить batch size\n",
    "#     'lr0': 0.01,\n",
    "#     'lrf': 0.01,\n",
    "#     'augment': True,\n",
    "#     'mosaic': 0.5,\n",
    "#     'mixup': 0.1,\n",
    "#     'copy_paste': 0.1,\n",
    "#     'fliplr': 0.5,\n",
    "#     'degrees': 45,\n",
    "#     'shear': 0.2,\n",
    "#     'perspective': 0.0005,\n",
    "#     'dropout': 0.2,\n",
    "#     'weight_decay': 0.0005,\n",
    "#     'device': 0\n",
    "# }\n",
    "\n",
    "config = {\n",
    "    'data': '/kaggle/working/yolo_dataset/dataset.yaml',\n",
    "    'epochs': 100,  # Увеличить количество эпох\n",
    "    'imgsz': 1280,  # Увеличить разрешение (если позволяет память GPU)\n",
    "    'batch': 4,     # Уменьшить batch size для больших изображений\n",
    "    'lr0': 0.01,    # Повысить learning rate\n",
    "    'lrf': 0.01,    # Конечный LR (cosine annealing)\n",
    "    'momentum': 0.937,\n",
    "    'weight_decay': 0.0005,\n",
    "    'warmup_epochs': 3,\n",
    "    'warmup_momentum': 0.8,\n",
    "    'fliplr': 0.5,\n",
    "    'mosaic': 1.0,  # Усилить аугментацию\n",
    "    'mixup': 0.2,\n",
    "    'copy_paste': 0.2,\n",
    "    'degrees': 15,   # Уменьшить вращение\n",
    "    'shear': 0.1,    # Уменьшить сдвиг\n",
    "    'perspective': 0.0001,\n",
    "    'hsv_h': 0.015,  # HSV аугментация\n",
    "    'hsv_s': 0.7,\n",
    "    'hsv_v': 0.4,\n",
    "    'translate': 0.1,\n",
    "    'scale': 0.5,\n",
    "    'dropout': 0.1,  # Уменьшить dropout\n",
    "    'device': 0\n",
    "}\n",
    "\n",
    "# Запуск обучения\n",
    "results = model.train(**config)\n",
    "\n",
    "# Валидация\n",
    "metrics = model.val()\n",
    "print(f\"mAP@50-95: {metrics.box.map:.4f}\")\n",
    "print(f\"mAP@50: {metrics.box.map50:.4f}\")"
   ]
  },
  {
   "cell_type": "code",
   "execution_count": 64,
   "metadata": {
    "execution": {
     "iopub.execute_input": "2025-04-27T00:26:36.622379Z",
     "iopub.status.busy": "2025-04-27T00:26:36.622134Z",
     "iopub.status.idle": "2025-04-27T00:26:36.626351Z",
     "shell.execute_reply": "2025-04-27T00:26:36.625721Z",
     "shell.execute_reply.started": "2025-04-27T00:26:36.622354Z"
    },
    "trusted": true
   },
   "outputs": [],
   "source": [
    "# # Предсказание на тестовых данных\n",
    "# test_results = model.predict('/kaggle/input/wind-turbine-damage-challenges/Wind Turbine damage/test', save=True, conf=0.25)\n",
    "\n",
    "# # Визуализация результатов\n",
    "# for result in test_results:\n",
    "#     result.show()\n",
    "\n",
    "# # Экспорт модели в ONNX\n",
    "# model.export(format='onnx')"
   ]
  },
  {
   "cell_type": "code",
   "execution_count": 111,
   "metadata": {
    "execution": {
     "iopub.execute_input": "2025-04-28T20:44:27.660730Z",
     "iopub.status.busy": "2025-04-28T20:44:27.659959Z",
     "iopub.status.idle": "2025-04-28T20:44:27.665911Z",
     "shell.execute_reply": "2025-04-28T20:44:27.664969Z",
     "shell.execute_reply.started": "2025-04-28T20:44:27.660706Z"
    },
    "trusted": true
   },
   "outputs": [
    {
     "data": {
      "text/plain": [
       "2.2777777777777777"
      ]
     },
     "execution_count": 111,
     "metadata": {},
     "output_type": "execute_result"
    }
   ],
   "source": [
    "82 * 100  / 60 /60"
   ]
  },
  {
   "cell_type": "code",
   "execution_count": 46,
   "metadata": {
    "execution": {
     "iopub.execute_input": "2025-04-27T00:00:51.523213Z",
     "iopub.status.busy": "2025-04-27T00:00:51.522484Z",
     "iopub.status.idle": "2025-04-27T00:00:51.526995Z",
     "shell.execute_reply": "2025-04-27T00:00:51.526441Z",
     "shell.execute_reply.started": "2025-04-27T00:00:51.523191Z"
    },
    "trusted": true
   },
   "outputs": [],
   "source": [
    "# from pycocotools.coco import COCO\n",
    "# from pycocotools.cocoeval import COCOeval\n",
    "\n",
    "# # Конвертация результатов в COCO формат\n",
    "# coco_results = []\n",
    "# for result in test_results:\n",
    "#     image_id = Path(result.path).stem\n",
    "#     boxes = result.boxes.xywhn.cpu().numpy()\n",
    "#     scores = result.boxes.conf.cpu().numpy()\n",
    "#     labels = result.boxes.cls.cpu().numpy().astype(int)\n",
    "    \n",
    "#     for box, score, label in zip(boxes, scores, labels):\n",
    "#         coco_results.append({\n",
    "#             'image_id': image_id,\n",
    "#             'category_id': int(label),\n",
    "#             'bbox': [float(box[0]), float(box[1]), float(box[2]), float(box[3])],\n",
    "#             'score': float(score)\n",
    "#         })\n",
    "\n",
    "# # Сохранение и оценка\n",
    "# # os.makedirs('/content/Wind Turbine damage/train/labels', exist_ok=True)\n",
    "\n",
    "# with open('/kaggle/working/yolo_dataset/coco_predictions.json', 'w') as f:\n",
    "#     json.dump(coco_results, f)\n",
    "\n",
    "# coco_gt = COCO('/kaggle/input/adadaaf/_annotations.coco.json') #COCO('/kaggle/working/yolo_dataset/annotations.json')\n",
    "# coco_dt = coco_gt.loadRes('/kaggle/working/yolo_dataset/coco_predictions.json')\n",
    "\n",
    "# coco_eval = COCOeval(coco_gt, coco_dt, 'bbox')\n",
    "# coco_eval.evaluate()\n",
    "# coco_eval.accumulate()\n",
    "# coco_eval.summarize()"
   ]
  },
  {
   "cell_type": "code",
   "execution_count": 90,
   "metadata": {
    "execution": {
     "iopub.execute_input": "2025-04-28T19:52:02.241453Z",
     "iopub.status.busy": "2025-04-28T19:52:02.240598Z",
     "iopub.status.idle": "2025-04-28T19:52:02.299102Z",
     "shell.execute_reply": "2025-04-28T19:52:02.298353Z",
     "shell.execute_reply.started": "2025-04-28T19:52:02.241427Z"
    },
    "trusted": true
   },
   "outputs": [],
   "source": [
    "model_predict = '/kaggle/working/yolo11n.pt'\n",
    "model_predict = YOLO('/kaggle/working/runs/detect/train7/weights/best.pt')  # Полный путь к файлу\n"
   ]
  },
  {
   "cell_type": "code",
   "execution_count": 108,
   "metadata": {
    "execution": {
     "iopub.execute_input": "2025-04-28T20:14:49.919471Z",
     "iopub.status.busy": "2025-04-28T20:14:49.918807Z",
     "iopub.status.idle": "2025-04-28T20:16:13.297247Z",
     "shell.execute_reply": "2025-04-28T20:16:13.296236Z",
     "shell.execute_reply.started": "2025-04-28T20:14:49.919442Z"
    },
    "trusted": true
   },
   "outputs": [
    {
     "name": "stdout",
     "output_type": "stream",
     "text": [
      "\n",
      "Генерация предсказаний с параметрами {'conf': 0.0005, 'iou': 0.2, 'augment': True, 'half': True, 'max_det': 300}\n"
     ]
    },
    {
     "name": "stderr",
     "output_type": "stream",
     "text": [
      "  0%|          | 0/151 [00:00<?, ?it/s]"
     ]
    },
    {
     "name": "stdout",
     "output_type": "stream",
     "text": [
      "\n",
      "image 1/1 /kaggle/input/wind-turbine-damage-challenges/Wind Turbine damage/test/20240120_150729_jpg.rf.5925f54483de8cc52f75fdd1dc0ec3a0.jpg: 1280x1280 1 no effect, 4 corrosions, 2 missing teeths, 31.3ms\n",
      "Speed: 12.8ms preprocess, 31.3ms inference, 1.9ms postprocess per image at shape (1, 3, 1280, 1280)\n"
     ]
    },
    {
     "name": "stderr",
     "output_type": "stream",
     "text": [
      "  1%|          | 1/151 [00:00<00:20,  7.31it/s]"
     ]
    },
    {
     "name": "stdout",
     "output_type": "stream",
     "text": [
      "\n",
      "image 1/1 /kaggle/input/wind-turbine-damage-challenges/Wind Turbine damage/test/20240120_153628_jpg.rf.67030e3c4592587d26d7762e8e091020.jpg: 1280x1280 1 no effect, 13 corrosions, 4 missing teeths, 31.7ms\n",
      "Speed: 14.3ms preprocess, 31.7ms inference, 1.6ms postprocess per image at shape (1, 3, 1280, 1280)\n"
     ]
    },
    {
     "name": "stderr",
     "output_type": "stream",
     "text": [
      "  1%|▏         | 2/151 [00:00<00:54,  2.72it/s]"
     ]
    },
    {
     "name": "stdout",
     "output_type": "stream",
     "text": [
      "\n",
      "image 1/1 /kaggle/input/wind-turbine-damage-challenges/Wind Turbine damage/test/20240120_153658_jpg.rf.66dc04dc4ee8194ccc19397d4ad42f2e.jpg: 1280x1280 3 no effects, 1 corrosion, 31.7ms\n",
      "Speed: 14.1ms preprocess, 31.7ms inference, 1.6ms postprocess per image at shape (1, 3, 1280, 1280)\n"
     ]
    },
    {
     "name": "stderr",
     "output_type": "stream",
     "text": [
      "  2%|▏         | 3/151 [00:01<01:03,  2.34it/s]"
     ]
    },
    {
     "name": "stdout",
     "output_type": "stream",
     "text": [
      "\n",
      "image 1/1 /kaggle/input/wind-turbine-damage-challenges/Wind Turbine damage/test/20240120_153711_jpg.rf.3a50aa9daa881abe4296c7f12b03fcf9.jpg: 1280x1280 2 no effects, 15 corrosions, 20 missing teeths, 31.3ms\n",
      "Speed: 13.9ms preprocess, 31.3ms inference, 1.7ms postprocess per image at shape (1, 3, 1280, 1280)\n"
     ]
    },
    {
     "name": "stderr",
     "output_type": "stream",
     "text": [
      "  3%|▎         | 4/151 [00:01<01:07,  2.17it/s]"
     ]
    },
    {
     "name": "stdout",
     "output_type": "stream",
     "text": [
      "\n",
      "image 1/1 /kaggle/input/wind-turbine-damage-challenges/Wind Turbine damage/test/20240120_153748-0-_jpg.rf.6c50a8089bf3ccd32bb61e347e9f4019.jpg: 1280x1280 2 no effects, 5 corrosions, 31.2ms\n",
      "Speed: 13.6ms preprocess, 31.2ms inference, 1.5ms postprocess per image at shape (1, 3, 1280, 1280)\n"
     ]
    },
    {
     "name": "stderr",
     "output_type": "stream",
     "text": [
      "  3%|▎         | 5/151 [00:02<01:10,  2.07it/s]"
     ]
    },
    {
     "name": "stdout",
     "output_type": "stream",
     "text": [
      "\n",
      "image 1/1 /kaggle/input/wind-turbine-damage-challenges/Wind Turbine damage/test/20240120_153754_jpg.rf.01e099db13ef7c0beee133daa6379466.jpg: 1280x1280 1 no effect, 4 corrosions, 1 missing teeth, 1 patch, 31.7ms\n",
      "Speed: 13.7ms preprocess, 31.7ms inference, 1.6ms postprocess per image at shape (1, 3, 1280, 1280)\n"
     ]
    },
    {
     "name": "stderr",
     "output_type": "stream",
     "text": [
      "  4%|▍         | 6/151 [00:02<01:12,  1.99it/s]"
     ]
    },
    {
     "name": "stdout",
     "output_type": "stream",
     "text": [
      "\n",
      "image 1/1 /kaggle/input/wind-turbine-damage-challenges/Wind Turbine damage/test/20240120_153843-0-_jpg.rf.60b55d7dd594d0869bf7216a34d16385.jpg: 1280x1280 2 no effects, 20 corrosions, 4 missing teeths, 1 patch, 32.6ms\n",
      "Speed: 13.4ms preprocess, 32.6ms inference, 1.8ms postprocess per image at shape (1, 3, 1280, 1280)\n"
     ]
    },
    {
     "name": "stderr",
     "output_type": "stream",
     "text": [
      "  5%|▍         | 7/151 [00:02<00:54,  2.65it/s]"
     ]
    },
    {
     "name": "stdout",
     "output_type": "stream",
     "text": [
      "\n",
      "image 1/1 /kaggle/input/wind-turbine-damage-challenges/Wind Turbine damage/test/20240120_153843_jpg.rf.b24d413669fa575889018912a2b372e9.jpg: 1280x1280 3 no effects, 14 corrosions, 1 lightning, 3 missing teeths, 4 patchs, 31.8ms\n",
      "Speed: 13.1ms preprocess, 31.8ms inference, 1.6ms postprocess per image at shape (1, 3, 1280, 1280)\n"
     ]
    },
    {
     "name": "stderr",
     "output_type": "stream",
     "text": [
      "  5%|▌         | 8/151 [00:02<00:42,  3.37it/s]"
     ]
    },
    {
     "name": "stdout",
     "output_type": "stream",
     "text": [
      "\n",
      "image 1/1 /kaggle/input/wind-turbine-damage-challenges/Wind Turbine damage/test/20240120_155211_mp4-0000_jpg.rf.66e7e87b86904e97508657a58ba9972c.jpg: 1280x736 1 no effect, 7 corrosions, 1 missing teeth, 25.4ms\n",
      "Speed: 7.0ms preprocess, 25.4ms inference, 1.6ms postprocess per image at shape (1, 3, 1280, 736)\n",
      "\n",
      "image 1/1 /kaggle/input/wind-turbine-damage-challenges/Wind Turbine damage/test/20240120_155211_mp4-0015_jpg.rf.62ada8738a17b071f5859ef2ba587652.jpg: 1280x736 1 no effect, 2 corrosions, 25.7ms\n",
      "Speed: 6.8ms preprocess, 25.7ms inference, 1.6ms postprocess per image at shape (1, 3, 1280, 736)\n"
     ]
    },
    {
     "name": "stderr",
     "output_type": "stream",
     "text": [
      "  7%|▋         | 10/151 [00:03<00:25,  5.46it/s]"
     ]
    },
    {
     "name": "stdout",
     "output_type": "stream",
     "text": [
      "\n",
      "image 1/1 /kaggle/input/wind-turbine-damage-challenges/Wind Turbine damage/test/20240120_155211_mp4-0034_jpg.rf.32c6d4c6f0fe3e919f7db3fea5d74dca.jpg: 1280x736 1 no effect, 3 corrosions, 1 patch, 26.3ms\n",
      "Speed: 6.4ms preprocess, 26.3ms inference, 1.6ms postprocess per image at shape (1, 3, 1280, 736)\n",
      "\n",
      "image 1/1 /kaggle/input/wind-turbine-damage-challenges/Wind Turbine damage/test/20240120_155211_mp4-0061_jpg.rf.ea7113440055cbce048892f47f14cd42.jpg: 1280x736 1 no effect, 4 corrosions, 1 missing teeth, 26.8ms\n",
      "Speed: 6.6ms preprocess, 26.8ms inference, 1.5ms postprocess per image at shape (1, 3, 1280, 736)\n"
     ]
    },
    {
     "name": "stderr",
     "output_type": "stream",
     "text": [
      "  8%|▊         | 12/151 [00:03<00:18,  7.56it/s]"
     ]
    },
    {
     "name": "stdout",
     "output_type": "stream",
     "text": [
      "\n",
      "image 1/1 /kaggle/input/wind-turbine-damage-challenges/Wind Turbine damage/test/20240120_155211_mp4-0075_jpg.rf.82235fee115b78aac2460ceb4f6758a0.jpg: 1280x736 1 no effect, 9 corrosions, 1 missing teeth, 1 patch, 26.0ms\n",
      "Speed: 6.7ms preprocess, 26.0ms inference, 1.5ms postprocess per image at shape (1, 3, 1280, 736)\n",
      "\n",
      "image 1/1 /kaggle/input/wind-turbine-damage-challenges/Wind Turbine damage/test/20240120_155211_mp4-0077_jpg.rf.17e71709fd53ea08911fdec60dd0f3df.jpg: 1280x736 1 no effect, 2 corrosions, 26.8ms\n",
      "Speed: 6.5ms preprocess, 26.8ms inference, 1.5ms postprocess per image at shape (1, 3, 1280, 736)\n"
     ]
    },
    {
     "name": "stderr",
     "output_type": "stream",
     "text": [
      "  9%|▉         | 14/151 [00:03<00:14,  9.59it/s]"
     ]
    },
    {
     "name": "stdout",
     "output_type": "stream",
     "text": [
      "\n",
      "image 1/1 /kaggle/input/wind-turbine-damage-challenges/Wind Turbine damage/test/20240120_155211_mp4-0079_jpg.rf.ed1b222a0cf341a04f27bcdc26a65687.jpg: 1280x736 1 no effect, 2 corrosions, 1 patch, 26.3ms\n",
      "Speed: 6.7ms preprocess, 26.3ms inference, 1.7ms postprocess per image at shape (1, 3, 1280, 736)\n",
      "\n",
      "image 1/1 /kaggle/input/wind-turbine-damage-challenges/Wind Turbine damage/test/20240120_155211_mp4-0081_jpg.rf.47e59973cbd4e1f40363bf218c380254.jpg: 1280x736 1 no effect, 3 corrosions, 26.4ms\n",
      "Speed: 6.8ms preprocess, 26.4ms inference, 1.6ms postprocess per image at shape (1, 3, 1280, 736)\n"
     ]
    },
    {
     "name": "stderr",
     "output_type": "stream",
     "text": [
      " 11%|█         | 16/151 [00:03<00:11, 11.29it/s]"
     ]
    },
    {
     "name": "stdout",
     "output_type": "stream",
     "text": [
      "\n",
      "image 1/1 /kaggle/input/wind-turbine-damage-challenges/Wind Turbine damage/test/20240120_155211_mp4-0084_jpg.rf.de984895faf812264c6c6a416eb62e02.jpg: 1280x736 1 no effect, 1 corrosion, 1 missing teeth, 25.6ms\n",
      "Speed: 6.7ms preprocess, 25.6ms inference, 1.7ms postprocess per image at shape (1, 3, 1280, 736)\n",
      "\n",
      "image 1/1 /kaggle/input/wind-turbine-damage-challenges/Wind Turbine damage/test/20240120_155211_mp4-0086_jpg.rf.1d43d0c9b738b921d5601116df4d1965.jpg: 1280x736 1 no effect, 2 corrosions, 28.1ms\n",
      "Speed: 7.0ms preprocess, 28.1ms inference, 1.6ms postprocess per image at shape (1, 3, 1280, 736)\n"
     ]
    },
    {
     "name": "stderr",
     "output_type": "stream",
     "text": [
      " 12%|█▏        | 18/151 [00:03<00:10, 12.80it/s]"
     ]
    },
    {
     "name": "stdout",
     "output_type": "stream",
     "text": [
      "\n",
      "image 1/1 /kaggle/input/wind-turbine-damage-challenges/Wind Turbine damage/test/20240120_155211_mp4-0088_jpg.rf.ef0c44646fd1469ebacc82989015336b.jpg: 1280x736 1 no effect, 4 corrosions, 26.0ms\n",
      "Speed: 6.6ms preprocess, 26.0ms inference, 1.6ms postprocess per image at shape (1, 3, 1280, 736)\n",
      "\n",
      "image 1/1 /kaggle/input/wind-turbine-damage-challenges/Wind Turbine damage/test/20240120_155211_mp4-0095_jpg.rf.40c05c5950a48627a9add8cb56d60ca9.jpg: 1280x736 1 no effect, 2 corrosions, 26.2ms\n",
      "Speed: 6.8ms preprocess, 26.2ms inference, 1.6ms postprocess per image at shape (1, 3, 1280, 736)\n"
     ]
    },
    {
     "name": "stderr",
     "output_type": "stream",
     "text": [
      " 13%|█▎        | 20/151 [00:03<00:09, 13.63it/s]"
     ]
    },
    {
     "name": "stdout",
     "output_type": "stream",
     "text": [
      "\n",
      "image 1/1 /kaggle/input/wind-turbine-damage-challenges/Wind Turbine damage/test/20240120_155211_mp4-0110_jpg.rf.a5ed327b0bb16f8bc19802aab18f92f0.jpg: 1280x736 1 no effect, 1 corrosion, 26.6ms\n",
      "Speed: 6.9ms preprocess, 26.6ms inference, 1.6ms postprocess per image at shape (1, 3, 1280, 736)\n",
      "\n",
      "image 1/1 /kaggle/input/wind-turbine-damage-challenges/Wind Turbine damage/test/20240120_155211_mp4-0126_jpg.rf.5a9e67fd5bce7969a5775f6ff5273805.jpg: 1280x736 1 no effect, 1 corrosion, 28.0ms\n",
      "Speed: 6.8ms preprocess, 28.0ms inference, 1.6ms postprocess per image at shape (1, 3, 1280, 736)\n"
     ]
    },
    {
     "name": "stderr",
     "output_type": "stream",
     "text": [
      " 15%|█▍        | 22/151 [00:03<00:08, 14.69it/s]"
     ]
    },
    {
     "name": "stdout",
     "output_type": "stream",
     "text": [
      "\n",
      "image 1/1 /kaggle/input/wind-turbine-damage-challenges/Wind Turbine damage/test/20240120_155211_mp4-0134_jpg.rf.5aa81e12178bd71422c009b29fde0726.jpg: 1280x736 1 no effect, 1 corrosion, 28.6ms\n",
      "Speed: 6.6ms preprocess, 28.6ms inference, 1.7ms postprocess per image at shape (1, 3, 1280, 736)\n",
      "\n",
      "image 1/1 /kaggle/input/wind-turbine-damage-challenges/Wind Turbine damage/test/20240120_155211_mp4-0149_jpg.rf.45490f1c8ade5580d1279140588b187b.jpg: 1280x736 1 no effect, 3 corrosions, 1 missing teeth, 26.3ms\n",
      "Speed: 6.8ms preprocess, 26.3ms inference, 1.7ms postprocess per image at shape (1, 3, 1280, 736)\n"
     ]
    },
    {
     "name": "stderr",
     "output_type": "stream",
     "text": [
      " 16%|█▌        | 24/151 [00:03<00:08, 15.39it/s]"
     ]
    },
    {
     "name": "stdout",
     "output_type": "stream",
     "text": [
      "\n",
      "image 1/1 /kaggle/input/wind-turbine-damage-challenges/Wind Turbine damage/test/20240120_155211_mp4-0155_jpg.rf.2ae5c8fbaa05347ec7fd8a91a06defe3.jpg: 1280x736 1 no effect, 1 corrosion, 1 missing teeth, 26.2ms\n",
      "Speed: 6.7ms preprocess, 26.2ms inference, 1.6ms postprocess per image at shape (1, 3, 1280, 736)\n",
      "\n",
      "image 1/1 /kaggle/input/wind-turbine-damage-challenges/Wind Turbine damage/test/20240120_155211_mp4-0160_jpg.rf.94f5e7408084ab5c0e36cec28179010d.jpg: 1280x736 1 no effect, 4 corrosions, 26.2ms\n",
      "Speed: 6.6ms preprocess, 26.2ms inference, 1.7ms postprocess per image at shape (1, 3, 1280, 736)\n"
     ]
    },
    {
     "name": "stderr",
     "output_type": "stream",
     "text": [
      " 17%|█▋        | 26/151 [00:04<00:07, 16.09it/s]"
     ]
    },
    {
     "name": "stdout",
     "output_type": "stream",
     "text": [
      "\n",
      "image 1/1 /kaggle/input/wind-turbine-damage-challenges/Wind Turbine damage/test/20240120_155211_mp4-0162_jpg.rf.8b7f8d55232f8cb9ddf65739df72e6a7.jpg: 1280x736 1 no effect, 3 corrosions, 1 missing teeth, 26.4ms\n",
      "Speed: 6.5ms preprocess, 26.4ms inference, 1.7ms postprocess per image at shape (1, 3, 1280, 736)\n",
      "\n",
      "image 1/1 /kaggle/input/wind-turbine-damage-challenges/Wind Turbine damage/test/20240120_155211_mp4-0169_jpg.rf.5e1be9ba9931db503f8f947f84fe617c.jpg: 1280x736 1 no effect, 8 corrosions, 1 missing teeth, 26.2ms\n",
      "Speed: 6.4ms preprocess, 26.2ms inference, 1.7ms postprocess per image at shape (1, 3, 1280, 736)\n"
     ]
    },
    {
     "name": "stderr",
     "output_type": "stream",
     "text": [
      " 19%|█▊        | 28/151 [00:04<00:07, 16.70it/s]"
     ]
    },
    {
     "name": "stdout",
     "output_type": "stream",
     "text": [
      "\n",
      "image 1/1 /kaggle/input/wind-turbine-damage-challenges/Wind Turbine damage/test/20240120_155211_mp4-0181_jpg.rf.66646f9753d87d16a241d1a3e292f0b6.jpg: 1280x736 1 no effect, 2 corrosions, 2 patchs, 27.1ms\n",
      "Speed: 6.6ms preprocess, 27.1ms inference, 1.5ms postprocess per image at shape (1, 3, 1280, 736)\n",
      "\n",
      "image 1/1 /kaggle/input/wind-turbine-damage-challenges/Wind Turbine damage/test/20240120_155211_mp4-0191_jpg.rf.f484f72de307f2e534029f265407a11a.jpg: 1280x736 1 no effect, 1 corrosion, 26.0ms\n",
      "Speed: 6.7ms preprocess, 26.0ms inference, 1.5ms postprocess per image at shape (1, 3, 1280, 736)\n"
     ]
    },
    {
     "name": "stderr",
     "output_type": "stream",
     "text": [
      " 20%|█▉        | 30/151 [00:04<00:07, 17.02it/s]"
     ]
    },
    {
     "name": "stdout",
     "output_type": "stream",
     "text": [
      "\n",
      "image 1/1 /kaggle/input/wind-turbine-damage-challenges/Wind Turbine damage/test/20240120_155211_mp4-0194_jpg.rf.d159889f8505128041a06c158de5722c.jpg: 1280x736 1 no effect, 2 corrosions, 26.1ms\n",
      "Speed: 6.7ms preprocess, 26.1ms inference, 1.5ms postprocess per image at shape (1, 3, 1280, 736)\n",
      "\n",
      "image 1/1 /kaggle/input/wind-turbine-damage-challenges/Wind Turbine damage/test/20240120_155211_mp4-0197_jpg.rf.441cee5d1329381499818d23066115d8.jpg: 1280x736 1 no effect, 3 corrosions, 26.1ms\n",
      "Speed: 6.4ms preprocess, 26.1ms inference, 1.7ms postprocess per image at shape (1, 3, 1280, 736)\n"
     ]
    },
    {
     "name": "stderr",
     "output_type": "stream",
     "text": [
      " 21%|██        | 32/151 [00:04<00:06, 17.26it/s]"
     ]
    },
    {
     "name": "stdout",
     "output_type": "stream",
     "text": [
      "\n",
      "image 1/1 /kaggle/input/wind-turbine-damage-challenges/Wind Turbine damage/test/20240120_155211_mp4-0202_jpg.rf.635e5d1d6357a368cd07285e3859f2f4.jpg: 1280x736 1 no effect, 4 corrosions, 25.7ms\n",
      "Speed: 6.3ms preprocess, 25.7ms inference, 1.5ms postprocess per image at shape (1, 3, 1280, 736)\n",
      "\n",
      "image 1/1 /kaggle/input/wind-turbine-damage-challenges/Wind Turbine damage/test/20240120_155211_mp4-0214_jpg.rf.3c67777e183c90e06f84a4c5b9115c0d.jpg: 1280x736 1 no effect, 2 corrosions, 27.0ms\n",
      "Speed: 6.4ms preprocess, 27.0ms inference, 1.5ms postprocess per image at shape (1, 3, 1280, 736)\n"
     ]
    },
    {
     "name": "stderr",
     "output_type": "stream",
     "text": [
      " 23%|██▎       | 34/151 [00:04<00:06, 17.23it/s]"
     ]
    },
    {
     "name": "stdout",
     "output_type": "stream",
     "text": [
      "\n",
      "image 1/1 /kaggle/input/wind-turbine-damage-challenges/Wind Turbine damage/test/20240120_155211_mp4-0222_jpg.rf.10d6752c3fb32b117287db9cb9ba6e0b.jpg: 1280x736 1 no effect, 3 corrosions, 1 patch, 25.8ms\n",
      "Speed: 6.4ms preprocess, 25.8ms inference, 1.6ms postprocess per image at shape (1, 3, 1280, 736)\n",
      "\n",
      "image 1/1 /kaggle/input/wind-turbine-damage-challenges/Wind Turbine damage/test/20240120_160457-0-_jpg.rf.609b8e725f177836e00fd543f6d92f73.jpg: 1280x1280 2 no effects, 168 corrosions, 31 missing teeths, 1 patch, 30.1ms\n",
      "Speed: 12.9ms preprocess, 30.1ms inference, 1.7ms postprocess per image at shape (1, 3, 1280, 1280)\n"
     ]
    },
    {
     "name": "stderr",
     "output_type": "stream",
     "text": [
      " 24%|██▍       | 36/151 [00:04<00:08, 13.03it/s]"
     ]
    },
    {
     "name": "stdout",
     "output_type": "stream",
     "text": [
      "\n",
      "image 1/1 /kaggle/input/wind-turbine-damage-challenges/Wind Turbine damage/test/20240120_160553_jpg.rf.02cafabaceab373ddc1e5c30e1ba8499.jpg: 1280x1280 3 no effects, 213 corrosions, 2 lightnings, 41 missing teeths, 29.9ms\n",
      "Speed: 12.8ms preprocess, 29.9ms inference, 1.9ms postprocess per image at shape (1, 3, 1280, 1280)\n",
      "\n",
      "image 1/1 /kaggle/input/wind-turbine-damage-challenges/Wind Turbine damage/test/20240120_160557_jpg.rf.4d9909256e4bcb526d3eb1b63082b093.jpg: 1280x1280 1 no effect, 122 corrosions, 1 lightning, 17 missing teeths, 2 patchs, 30.4ms\n",
      "Speed: 12.9ms preprocess, 30.4ms inference, 1.7ms postprocess per image at shape (1, 3, 1280, 1280)\n"
     ]
    },
    {
     "name": "stderr",
     "output_type": "stream",
     "text": [
      " 25%|██▌       | 38/151 [00:04<00:10, 10.39it/s]"
     ]
    },
    {
     "name": "stdout",
     "output_type": "stream",
     "text": [
      "\n",
      "image 1/1 /kaggle/input/wind-turbine-damage-challenges/Wind Turbine damage/test/20240120_160706-0-_jpg.rf.8582ddb4316cf299a51bcb10f58e36a5.jpg: 1280x1280 2 no effects, 31 corrosions, 2 missing teeths, 30.0ms\n",
      "Speed: 12.6ms preprocess, 30.0ms inference, 1.6ms postprocess per image at shape (1, 3, 1280, 1280)\n",
      "\n",
      "image 1/1 /kaggle/input/wind-turbine-damage-challenges/Wind Turbine damage/test/20240120_160706_jpg.rf.6b2e2b4a13dc2e6d5946abcebccaa874.jpg: 1280x1280 1 no effect, 47 corrosions, 11 missing teeths, 37.5ms\n",
      "Speed: 15.7ms preprocess, 37.5ms inference, 1.9ms postprocess per image at shape (1, 3, 1280, 1280)\n"
     ]
    },
    {
     "name": "stderr",
     "output_type": "stream",
     "text": [
      " 26%|██▋       | 40/151 [00:05<00:12,  9.18it/s]"
     ]
    },
    {
     "name": "stdout",
     "output_type": "stream",
     "text": [
      "\n",
      "image 1/1 /kaggle/input/wind-turbine-damage-challenges/Wind Turbine damage/test/20240120_160957_jpg.rf.5155c81578046677bece204ddb26c09d.jpg: 1280x1280 4 no effects, 16 corrosions, 3 missing teeths, 30.1ms\n",
      "Speed: 13.0ms preprocess, 30.1ms inference, 1.6ms postprocess per image at shape (1, 3, 1280, 1280)\n",
      "\n",
      "image 1/1 /kaggle/input/wind-turbine-damage-challenges/Wind Turbine damage/test/20240120_161014_jpg.rf.a886dd45473612fae63ab4fed235c9de.jpg: 1280x1280 4 no effects, 16 corrosions, 2 missing teeths, 30.4ms\n",
      "Speed: 12.7ms preprocess, 30.4ms inference, 1.6ms postprocess per image at shape (1, 3, 1280, 1280)\n"
     ]
    },
    {
     "name": "stderr",
     "output_type": "stream",
     "text": [
      " 28%|██▊       | 42/151 [00:05<00:12,  8.62it/s]"
     ]
    },
    {
     "name": "stdout",
     "output_type": "stream",
     "text": [
      "\n",
      "image 1/1 /kaggle/input/wind-turbine-damage-challenges/Wind Turbine damage/test/20240120_161017_jpg.rf.951c430467f8f672bd6885680ab7dadc.jpg: 1280x1280 1 no effect, 1 corrosion, 2 missing teeths, 30.4ms\n",
      "Speed: 14.3ms preprocess, 30.4ms inference, 1.7ms postprocess per image at shape (1, 3, 1280, 1280)\n"
     ]
    },
    {
     "name": "stderr",
     "output_type": "stream",
     "text": [
      " 28%|██▊       | 43/151 [00:05<00:12,  8.38it/s]"
     ]
    },
    {
     "name": "stdout",
     "output_type": "stream",
     "text": [
      "\n",
      "image 1/1 /kaggle/input/wind-turbine-damage-challenges/Wind Turbine damage/test/20240120_161023_jpg.rf.1af5fe6c0ba91aacdc8502f9365d62dc.jpg: 1280x1280 2 no effects, 72 corrosions, 4 missing teeths, 1 patch, 30.0ms\n",
      "Speed: 12.9ms preprocess, 30.0ms inference, 1.7ms postprocess per image at shape (1, 3, 1280, 1280)\n"
     ]
    },
    {
     "name": "stderr",
     "output_type": "stream",
     "text": [
      " 29%|██▉       | 44/151 [00:05<00:13,  7.86it/s]"
     ]
    },
    {
     "name": "stdout",
     "output_type": "stream",
     "text": [
      "\n",
      "image 1/1 /kaggle/input/wind-turbine-damage-challenges/Wind Turbine damage/test/20240120_161103-0-_jpg.rf.7ac8bc94eb0190afc02b4a4ceab49ac1.jpg: 1280x1280 3 no effects, 73 corrosions, 14 missing teeths, 1 patch, 29.7ms\n",
      "Speed: 13.4ms preprocess, 29.7ms inference, 1.7ms postprocess per image at shape (1, 3, 1280, 1280)\n"
     ]
    },
    {
     "name": "stderr",
     "output_type": "stream",
     "text": [
      " 30%|██▉       | 45/151 [00:05<00:13,  7.85it/s]"
     ]
    },
    {
     "name": "stdout",
     "output_type": "stream",
     "text": [
      "\n",
      "image 1/1 /kaggle/input/wind-turbine-damage-challenges/Wind Turbine damage/test/20240120_161118_jpg.rf.c474047ad5d392415971b82ea2691ff5.jpg: 1280x1280 1 no effect, 6 corrosions, 1 missing teeth, 32.0ms\n",
      "Speed: 13.1ms preprocess, 32.0ms inference, 1.6ms postprocess per image at shape (1, 3, 1280, 1280)\n"
     ]
    },
    {
     "name": "stderr",
     "output_type": "stream",
     "text": [
      " 30%|███       | 46/151 [00:06<00:13,  7.61it/s]"
     ]
    },
    {
     "name": "stdout",
     "output_type": "stream",
     "text": [
      "\n",
      "image 1/1 /kaggle/input/wind-turbine-damage-challenges/Wind Turbine damage/test/20240120_161126_jpg.rf.af941467cefb044aa50ac875b6bdc0e8.jpg: 1280x1280 3 no effects, 62 corrosions, 6 missing teeths, 32.2ms\n",
      "Speed: 13.1ms preprocess, 32.2ms inference, 1.6ms postprocess per image at shape (1, 3, 1280, 1280)\n"
     ]
    },
    {
     "name": "stderr",
     "output_type": "stream",
     "text": [
      " 31%|███       | 47/151 [00:06<00:14,  7.15it/s]"
     ]
    },
    {
     "name": "stdout",
     "output_type": "stream",
     "text": [
      "\n",
      "image 1/1 /kaggle/input/wind-turbine-damage-challenges/Wind Turbine damage/test/20240120_161133-0-_jpg.rf.dcddf116ed0ce393efa094713138319c.jpg: 1280x1280 2 no effects, 3 corrosions, 18 missing teeths, 31.9ms\n",
      "Speed: 12.7ms preprocess, 31.9ms inference, 1.7ms postprocess per image at shape (1, 3, 1280, 1280)\n"
     ]
    },
    {
     "name": "stderr",
     "output_type": "stream",
     "text": [
      " 32%|███▏      | 48/151 [00:06<00:14,  7.23it/s]"
     ]
    },
    {
     "name": "stdout",
     "output_type": "stream",
     "text": [
      "\n",
      "image 1/1 /kaggle/input/wind-turbine-damage-challenges/Wind Turbine damage/test/20240120_161134-0-_jpg.rf.bdb581aa01a6efc955bd97285dbd74e1.jpg: 1280x1280 2 no effects, 1 corrosion, 31.8ms\n",
      "Speed: 12.8ms preprocess, 31.8ms inference, 1.7ms postprocess per image at shape (1, 3, 1280, 1280)\n"
     ]
    },
    {
     "name": "stderr",
     "output_type": "stream",
     "text": [
      " 32%|███▏      | 49/151 [00:06<00:13,  7.37it/s]"
     ]
    },
    {
     "name": "stdout",
     "output_type": "stream",
     "text": [
      "\n",
      "image 1/1 /kaggle/input/wind-turbine-damage-challenges/Wind Turbine damage/test/20240120_161207_jpg.rf.b811af46b8e7c338c1ffaabeb5cf66bb.jpg: 1280x1280 3 no effects, 2 corrosions, 32.3ms\n",
      "Speed: 13.2ms preprocess, 32.3ms inference, 1.6ms postprocess per image at shape (1, 3, 1280, 1280)\n"
     ]
    },
    {
     "name": "stderr",
     "output_type": "stream",
     "text": [
      " 33%|███▎      | 50/151 [00:06<00:12,  7.78it/s]"
     ]
    },
    {
     "name": "stdout",
     "output_type": "stream",
     "text": [
      "\n",
      "image 1/1 /kaggle/input/wind-turbine-damage-challenges/Wind Turbine damage/test/20240120_161228_jpg.rf.8551f713d2a16451aa3ba4c2b155e00b.jpg: 1280x1280 1 no effect, 3 corrosions, 59 missing teeths, 33.4ms\n",
      "Speed: 12.8ms preprocess, 33.4ms inference, 2.2ms postprocess per image at shape (1, 3, 1280, 1280)\n"
     ]
    },
    {
     "name": "stderr",
     "output_type": "stream",
     "text": [
      " 34%|███▍      | 51/151 [00:06<00:13,  7.47it/s]"
     ]
    },
    {
     "name": "stdout",
     "output_type": "stream",
     "text": [
      "\n",
      "image 1/1 /kaggle/input/wind-turbine-damage-challenges/Wind Turbine damage/test/20240120_162824_jpg.rf.a51b12875976d0bffc12c06581c56936.jpg: 1280x1280 1 no effect, 1 corrosion, 53 missing teeths, 31.7ms\n",
      "Speed: 12.6ms preprocess, 31.7ms inference, 1.9ms postprocess per image at shape (1, 3, 1280, 1280)\n"
     ]
    },
    {
     "name": "stderr",
     "output_type": "stream",
     "text": [
      " 34%|███▍      | 52/151 [00:06<00:13,  7.45it/s]"
     ]
    },
    {
     "name": "stdout",
     "output_type": "stream",
     "text": [
      "\n",
      "image 1/1 /kaggle/input/wind-turbine-damage-challenges/Wind Turbine damage/test/20240120_162828-1-_jpg.rf.4fdac321731d4d3db13d4b820258854b.jpg: 1280x1280 1 no effect, 4 corrosions, 1 missing teeth, 31.7ms\n",
      "Speed: 12.9ms preprocess, 31.7ms inference, 1.6ms postprocess per image at shape (1, 3, 1280, 1280)\n"
     ]
    },
    {
     "name": "stderr",
     "output_type": "stream",
     "text": [
      " 35%|███▌      | 53/151 [00:07<00:12,  7.57it/s]"
     ]
    },
    {
     "name": "stdout",
     "output_type": "stream",
     "text": [
      "\n",
      "image 1/1 /kaggle/input/wind-turbine-damage-challenges/Wind Turbine damage/test/20240120_162838_jpg.rf.306512a3b2d96f18f9dea28941d46350.jpg: 1280x1280 2 no effects, 7 corrosions, 5 missing teeths, 31.7ms\n",
      "Speed: 13.0ms preprocess, 31.7ms inference, 1.7ms postprocess per image at shape (1, 3, 1280, 1280)\n"
     ]
    },
    {
     "name": "stderr",
     "output_type": "stream",
     "text": [
      " 36%|███▌      | 54/151 [00:07<00:12,  7.63it/s]"
     ]
    },
    {
     "name": "stdout",
     "output_type": "stream",
     "text": [
      "\n",
      "image 1/1 /kaggle/input/wind-turbine-damage-challenges/Wind Turbine damage/test/20240120_162844-0-_jpg.rf.9b6edc74a2607728b200221a9fdc546b.jpg: 1280x1280 1 no effect, 13 corrosions, 49 missing teeths, 31.9ms\n",
      "Speed: 12.7ms preprocess, 31.9ms inference, 1.7ms postprocess per image at shape (1, 3, 1280, 1280)\n"
     ]
    },
    {
     "name": "stderr",
     "output_type": "stream",
     "text": [
      " 36%|███▋      | 55/151 [00:07<00:13,  7.38it/s]"
     ]
    },
    {
     "name": "stdout",
     "output_type": "stream",
     "text": [
      "\n",
      "image 1/1 /kaggle/input/wind-turbine-damage-challenges/Wind Turbine damage/test/20240120_162844-1-_jpg.rf.c25211b4ab0af41936afc89d5946f32b.jpg: 1280x1280 1 no effect, 14 corrosions, 15 missing teeths, 31.7ms\n",
      "Speed: 12.9ms preprocess, 31.7ms inference, 1.7ms postprocess per image at shape (1, 3, 1280, 1280)\n"
     ]
    },
    {
     "name": "stderr",
     "output_type": "stream",
     "text": [
      " 37%|███▋      | 56/151 [00:07<00:13,  7.27it/s]"
     ]
    },
    {
     "name": "stdout",
     "output_type": "stream",
     "text": [
      "\n",
      "image 1/1 /kaggle/input/wind-turbine-damage-challenges/Wind Turbine damage/test/20240120_162851-0-_jpg.rf.5becbe16d62094a5106285708a1ec473.jpg: 1280x1280 1 no effect, 7 corrosions, 48 missing teeths, 1 patch, 31.9ms\n",
      "Speed: 13.0ms preprocess, 31.9ms inference, 1.7ms postprocess per image at shape (1, 3, 1280, 1280)\n"
     ]
    },
    {
     "name": "stderr",
     "output_type": "stream",
     "text": [
      " 38%|███▊      | 57/151 [00:07<00:12,  7.25it/s]"
     ]
    },
    {
     "name": "stdout",
     "output_type": "stream",
     "text": [
      "\n",
      "image 1/1 /kaggle/input/wind-turbine-damage-challenges/Wind Turbine damage/test/20240120_162905-0-_jpg.rf.cec91a04d4d97418ef532934b05aa31d.jpg: 1280x1280 1 no effect, 2 corrosions, 39 missing teeths, 32.0ms\n",
      "Speed: 12.5ms preprocess, 32.0ms inference, 1.7ms postprocess per image at shape (1, 3, 1280, 1280)\n"
     ]
    },
    {
     "name": "stderr",
     "output_type": "stream",
     "text": [
      " 38%|███▊      | 58/151 [00:07<00:12,  7.31it/s]"
     ]
    },
    {
     "name": "stdout",
     "output_type": "stream",
     "text": [
      "\n",
      "image 1/1 /kaggle/input/wind-turbine-damage-challenges/Wind Turbine damage/test/20240120_162912-0-_jpg.rf.3d1a61f602d2413278b9f6cb2f8f111f.jpg: 1280x1280 1 no effect, 18 corrosions, 12 missing teeths, 32.1ms\n",
      "Speed: 12.9ms preprocess, 32.1ms inference, 1.7ms postprocess per image at shape (1, 3, 1280, 1280)\n"
     ]
    },
    {
     "name": "stderr",
     "output_type": "stream",
     "text": [
      " 39%|███▉      | 59/151 [00:07<00:12,  7.29it/s]"
     ]
    },
    {
     "name": "stdout",
     "output_type": "stream",
     "text": [
      "\n",
      "image 1/1 /kaggle/input/wind-turbine-damage-challenges/Wind Turbine damage/test/20240120_162914-0-_jpg.rf.f59673051fd81362e6b0d7794bab432b.jpg: 1280x1280 2 no effects, 3 corrosions, 38 missing teeths, 32.1ms\n",
      "Speed: 13.1ms preprocess, 32.1ms inference, 1.7ms postprocess per image at shape (1, 3, 1280, 1280)\n"
     ]
    },
    {
     "name": "stderr",
     "output_type": "stream",
     "text": [
      " 40%|███▉      | 60/151 [00:08<00:12,  7.38it/s]"
     ]
    },
    {
     "name": "stdout",
     "output_type": "stream",
     "text": [
      "\n",
      "image 1/1 /kaggle/input/wind-turbine-damage-challenges/Wind Turbine damage/test/20240120_162955-0-_jpg.rf.1495715f852a7fff8456e044dd26cc11.jpg: 1280x1280 2 no effects, 2 corrosions, 52 missing teeths, 32.9ms\n",
      "Speed: 13.1ms preprocess, 32.9ms inference, 1.7ms postprocess per image at shape (1, 3, 1280, 1280)\n"
     ]
    },
    {
     "name": "stderr",
     "output_type": "stream",
     "text": [
      " 40%|████      | 61/151 [00:08<00:12,  7.32it/s]"
     ]
    },
    {
     "name": "stdout",
     "output_type": "stream",
     "text": [
      "\n",
      "image 1/1 /kaggle/input/wind-turbine-damage-challenges/Wind Turbine damage/test/20240120_163003-1-_jpg.rf.e256f36bd594cafc2041415d9a119600.jpg: 1280x1280 3 no effects, 2 corrosions, 31.8ms\n",
      "Speed: 12.6ms preprocess, 31.8ms inference, 1.7ms postprocess per image at shape (1, 3, 1280, 1280)\n"
     ]
    },
    {
     "name": "stderr",
     "output_type": "stream",
     "text": [
      " 41%|████      | 62/151 [00:08<00:11,  7.47it/s]"
     ]
    },
    {
     "name": "stdout",
     "output_type": "stream",
     "text": [
      "\n",
      "image 1/1 /kaggle/input/wind-turbine-damage-challenges/Wind Turbine damage/test/20240120_163005-0-_jpg.rf.ab8c91946df2390ab574f5de89fba09e.jpg: 1280x1280 2 no effects, 5 corrosions, 1 missing teeth, 31.8ms\n",
      "Speed: 13.2ms preprocess, 31.8ms inference, 1.5ms postprocess per image at shape (1, 3, 1280, 1280)\n"
     ]
    },
    {
     "name": "stderr",
     "output_type": "stream",
     "text": [
      " 42%|████▏     | 63/151 [00:08<00:11,  7.60it/s]"
     ]
    },
    {
     "name": "stdout",
     "output_type": "stream",
     "text": [
      "\n",
      "image 1/1 /kaggle/input/wind-turbine-damage-challenges/Wind Turbine damage/test/20240120_163020-0-_jpg.rf.e503792ced04bce579305e19fa3a485c.jpg: 1280x1280 2 no effects, 20 corrosions, 21 missing teeths, 31.9ms\n",
      "Speed: 13.1ms preprocess, 31.9ms inference, 1.6ms postprocess per image at shape (1, 3, 1280, 1280)\n"
     ]
    },
    {
     "name": "stderr",
     "output_type": "stream",
     "text": [
      " 42%|████▏     | 64/151 [00:08<00:11,  7.48it/s]"
     ]
    },
    {
     "name": "stdout",
     "output_type": "stream",
     "text": [
      "\n",
      "image 1/1 /kaggle/input/wind-turbine-damage-challenges/Wind Turbine damage/test/20240120_163021-0-_jpg.rf.2b48f3937dc7bd85cc5b2570c331b0fe.jpg: 1280x1280 1 no effect, 22 corrosions, 39 missing teeths, 31.9ms\n",
      "Speed: 13.1ms preprocess, 31.9ms inference, 1.7ms postprocess per image at shape (1, 3, 1280, 1280)\n"
     ]
    },
    {
     "name": "stderr",
     "output_type": "stream",
     "text": [
      " 43%|████▎     | 65/151 [00:08<00:11,  7.33it/s]"
     ]
    },
    {
     "name": "stdout",
     "output_type": "stream",
     "text": [
      "\n",
      "image 1/1 /kaggle/input/wind-turbine-damage-challenges/Wind Turbine damage/test/20240120_163033-0-_jpg.rf.baf4645828be43c72d9e8fcfc24b64b5.jpg: 1280x1280 1 no effect, 19 corrosions, 73 missing teeths, 31.5ms\n",
      "Speed: 13.3ms preprocess, 31.5ms inference, 1.7ms postprocess per image at shape (1, 3, 1280, 1280)\n"
     ]
    },
    {
     "name": "stderr",
     "output_type": "stream",
     "text": [
      " 44%|████▎     | 66/151 [00:08<00:11,  7.21it/s]"
     ]
    },
    {
     "name": "stdout",
     "output_type": "stream",
     "text": [
      "\n",
      "image 1/1 /kaggle/input/wind-turbine-damage-challenges/Wind Turbine damage/test/20240120_163038_jpg.rf.dc1643fa88e3f647d7664ce37a39f3fe.jpg: 1280x1280 1 no effect, 19 corrosions, 79 missing teeths, 31.4ms\n",
      "Speed: 13.2ms preprocess, 31.4ms inference, 1.6ms postprocess per image at shape (1, 3, 1280, 1280)\n"
     ]
    },
    {
     "name": "stderr",
     "output_type": "stream",
     "text": [
      " 44%|████▍     | 67/151 [00:08<00:11,  7.11it/s]"
     ]
    },
    {
     "name": "stdout",
     "output_type": "stream",
     "text": [
      "\n",
      "image 1/1 /kaggle/input/wind-turbine-damage-challenges/Wind Turbine damage/test/20240120_163040-0-_jpg.rf.9a6a8c19c726628a53bd9f5db3f2f439.jpg: 1280x1280 1 no effect, 20 corrosions, 75 missing teeths, 31.7ms\n",
      "Speed: 13.1ms preprocess, 31.7ms inference, 1.7ms postprocess per image at shape (1, 3, 1280, 1280)\n"
     ]
    },
    {
     "name": "stderr",
     "output_type": "stream",
     "text": [
      " 45%|████▌     | 68/151 [00:09<00:11,  7.02it/s]"
     ]
    },
    {
     "name": "stdout",
     "output_type": "stream",
     "text": [
      "\n",
      "image 1/1 /kaggle/input/wind-turbine-damage-challenges/Wind Turbine damage/test/20240120_163044_jpg.rf.9d8b6fcd8b4cbab86c02647c41f007d5.jpg: 1280x1280 2 no effects, 21 corrosions, 44 missing teeths, 2 patchs, 31.3ms\n",
      "Speed: 13.2ms preprocess, 31.3ms inference, 1.6ms postprocess per image at shape (1, 3, 1280, 1280)\n"
     ]
    },
    {
     "name": "stderr",
     "output_type": "stream",
     "text": [
      " 46%|████▌     | 69/151 [00:09<00:11,  7.02it/s]"
     ]
    },
    {
     "name": "stdout",
     "output_type": "stream",
     "text": [
      "\n",
      "image 1/1 /kaggle/input/wind-turbine-damage-challenges/Wind Turbine damage/test/20240120_163045-0-_jpg.rf.ee9cb8ff7b1709019cea1ed609b67d2f.jpg: 1280x1280 1 no effect, 24 corrosions, 32 missing teeths, 1 patch, 31.9ms\n",
      "Speed: 12.7ms preprocess, 31.9ms inference, 1.8ms postprocess per image at shape (1, 3, 1280, 1280)\n"
     ]
    },
    {
     "name": "stderr",
     "output_type": "stream",
     "text": [
      " 46%|████▋     | 70/151 [00:09<00:11,  7.03it/s]"
     ]
    },
    {
     "name": "stdout",
     "output_type": "stream",
     "text": [
      "\n",
      "image 1/1 /kaggle/input/wind-turbine-damage-challenges/Wind Turbine damage/test/20240120_163052_jpg.rf.111fcd1bad265aa0c2447269bca9a49a.jpg: 1280x1280 1 no effect, 4 corrosions, 51 missing teeths, 31.6ms\n",
      "Speed: 13.0ms preprocess, 31.6ms inference, 1.6ms postprocess per image at shape (1, 3, 1280, 1280)\n"
     ]
    },
    {
     "name": "stderr",
     "output_type": "stream",
     "text": [
      " 47%|████▋     | 71/151 [00:09<00:11,  7.16it/s]"
     ]
    },
    {
     "name": "stdout",
     "output_type": "stream",
     "text": [
      "\n",
      "image 1/1 /kaggle/input/wind-turbine-damage-challenges/Wind Turbine damage/test/20240120_163053-1-_jpg.rf.d5e4b0912ebe72247db35232ba3fffdd.jpg: 1280x1280 2 no effects, 4 corrosions, 57 missing teeths, 31.4ms\n",
      "Speed: 13.1ms preprocess, 31.4ms inference, 1.6ms postprocess per image at shape (1, 3, 1280, 1280)\n"
     ]
    },
    {
     "name": "stderr",
     "output_type": "stream",
     "text": [
      " 48%|████▊     | 72/151 [00:09<00:10,  7.26it/s]"
     ]
    },
    {
     "name": "stdout",
     "output_type": "stream",
     "text": [
      "\n",
      "image 1/1 /kaggle/input/wind-turbine-damage-challenges/Wind Turbine damage/test/20240120_163054_jpg.rf.9456e409d5d472605b41e51c47f80d04.jpg: 1280x1280 1 no effect, 2 corrosions, 54 missing teeths, 31.9ms\n",
      "Speed: 13.0ms preprocess, 31.9ms inference, 1.8ms postprocess per image at shape (1, 3, 1280, 1280)\n"
     ]
    },
    {
     "name": "stderr",
     "output_type": "stream",
     "text": [
      " 48%|████▊     | 73/151 [00:09<00:10,  7.34it/s]"
     ]
    },
    {
     "name": "stdout",
     "output_type": "stream",
     "text": [
      "\n",
      "image 1/1 /kaggle/input/wind-turbine-damage-challenges/Wind Turbine damage/test/20240120_163623_jpg.rf.dadee9dfb41e95b4016dd97010437f84.jpg: 1280x1280 1 no effect, 29 corrosions, 10 missing teeths, 31.2ms\n",
      "Speed: 13.3ms preprocess, 31.2ms inference, 1.6ms postprocess per image at shape (1, 3, 1280, 1280)\n"
     ]
    },
    {
     "name": "stderr",
     "output_type": "stream",
     "text": [
      " 49%|████▉     | 74/151 [00:09<00:10,  7.26it/s]"
     ]
    },
    {
     "name": "stdout",
     "output_type": "stream",
     "text": [
      "\n",
      "image 1/1 /kaggle/input/wind-turbine-damage-challenges/Wind Turbine damage/test/20240120_163626_jpg.rf.bb15a2c995255433bb8e8aabcd91c8b5.jpg: 1280x1280 1 no effect, 34 corrosions, 11 missing teeths, 31.2ms\n",
      "Speed: 13.1ms preprocess, 31.2ms inference, 1.7ms postprocess per image at shape (1, 3, 1280, 1280)\n"
     ]
    },
    {
     "name": "stderr",
     "output_type": "stream",
     "text": [
      " 50%|████▉     | 75/151 [00:10<00:10,  7.18it/s]"
     ]
    },
    {
     "name": "stdout",
     "output_type": "stream",
     "text": [
      "\n",
      "image 1/1 /kaggle/input/wind-turbine-damage-challenges/Wind Turbine damage/test/20240120_163642_jpg.rf.a184fefcd0f1c68991113d7b4d82cf0c.jpg: 1280x1280 1 no effect, 2 corrosions, 60 missing teeths, 31.4ms\n",
      "Speed: 13.1ms preprocess, 31.4ms inference, 1.6ms postprocess per image at shape (1, 3, 1280, 1280)\n"
     ]
    },
    {
     "name": "stderr",
     "output_type": "stream",
     "text": [
      " 50%|█████     | 76/151 [00:10<00:10,  7.17it/s]"
     ]
    },
    {
     "name": "stdout",
     "output_type": "stream",
     "text": [
      "\n",
      "image 1/1 /kaggle/input/wind-turbine-damage-challenges/Wind Turbine damage/test/20240120_163644-0-_jpg.rf.968f7d72ae7be6ef8733b42490c03aed.jpg: 1280x1280 1 no effect, 5 corrosions, 85 missing teeths, 31.6ms\n",
      "Speed: 13.7ms preprocess, 31.6ms inference, 1.5ms postprocess per image at shape (1, 3, 1280, 1280)\n"
     ]
    },
    {
     "name": "stderr",
     "output_type": "stream",
     "text": [
      " 51%|█████     | 77/151 [00:10<00:10,  7.10it/s]"
     ]
    },
    {
     "name": "stdout",
     "output_type": "stream",
     "text": [
      "\n",
      "image 1/1 /kaggle/input/wind-turbine-damage-challenges/Wind Turbine damage/test/20240120_163650-0-_jpg.rf.6ff26d6832686600c6f18b4be821482e.jpg: 1280x1280 1 no effect, 6 corrosions, 57 missing teeths, 1 patch, 31.3ms\n",
      "Speed: 12.9ms preprocess, 31.3ms inference, 1.6ms postprocess per image at shape (1, 3, 1280, 1280)\n"
     ]
    },
    {
     "name": "stderr",
     "output_type": "stream",
     "text": [
      " 52%|█████▏    | 78/151 [00:10<00:10,  7.13it/s]"
     ]
    },
    {
     "name": "stdout",
     "output_type": "stream",
     "text": [
      "\n",
      "image 1/1 /kaggle/input/wind-turbine-damage-challenges/Wind Turbine damage/test/20240120_163650_jpg.rf.d420c98f550cdddfdcf15388a6232091.jpg: 1280x1280 1 no effect, 5 corrosions, 58 missing teeths, 1 patch, 31.4ms\n",
      "Speed: 12.9ms preprocess, 31.4ms inference, 1.7ms postprocess per image at shape (1, 3, 1280, 1280)\n"
     ]
    },
    {
     "name": "stderr",
     "output_type": "stream",
     "text": [
      " 52%|█████▏    | 79/151 [00:10<00:10,  7.07it/s]"
     ]
    },
    {
     "name": "stdout",
     "output_type": "stream",
     "text": [
      "\n",
      "image 1/1 /kaggle/input/wind-turbine-damage-challenges/Wind Turbine damage/test/20240120_163730-0-_jpg.rf.7139d077e629ae78b03081e5ca84dd98.jpg: 1280x1280 2 no effects, 28 corrosions, 24 missing teeths, 31.4ms\n",
      "Speed: 13.3ms preprocess, 31.4ms inference, 1.7ms postprocess per image at shape (1, 3, 1280, 1280)\n"
     ]
    },
    {
     "name": "stderr",
     "output_type": "stream",
     "text": [
      " 53%|█████▎    | 80/151 [00:10<00:09,  7.12it/s]"
     ]
    },
    {
     "name": "stdout",
     "output_type": "stream",
     "text": [
      "\n",
      "image 1/1 /kaggle/input/wind-turbine-damage-challenges/Wind Turbine damage/test/20240120_164156_jpg.rf.271c749cefc88f123dd383e89b32dfed.jpg: 1280x1280 6 no effects, 18 corrosions, 9 missing teeths, 32.0ms\n",
      "Speed: 13.2ms preprocess, 32.0ms inference, 1.6ms postprocess per image at shape (1, 3, 1280, 1280)\n"
     ]
    },
    {
     "name": "stderr",
     "output_type": "stream",
     "text": [
      " 54%|█████▎    | 81/151 [00:10<00:09,  7.30it/s]"
     ]
    },
    {
     "name": "stdout",
     "output_type": "stream",
     "text": [
      "\n",
      "image 1/1 /kaggle/input/wind-turbine-damage-challenges/Wind Turbine damage/test/20240120_164348_mp4-2330_jpg.rf.99f885a1881dee8e72b0e2cc91350290.jpg: 1280x736 1 no effect, 3 corrosions, 13 missing teeths, 25.7ms\n",
      "Speed: 6.6ms preprocess, 25.7ms inference, 1.8ms postprocess per image at shape (1, 3, 1280, 736)\n",
      "\n",
      "image 1/1 /kaggle/input/wind-turbine-damage-challenges/Wind Turbine damage/test/20240120_164348_mp4-2500_jpg.rf.f8151151ee2c00ac3ff469cadc42e2dc.jpg: 1280x736 1 no effect, 13 corrosions, 1 lightning, 25.7ms\n",
      "Speed: 6.7ms preprocess, 25.7ms inference, 1.5ms postprocess per image at shape (1, 3, 1280, 736)\n"
     ]
    },
    {
     "name": "stderr",
     "output_type": "stream",
     "text": [
      " 55%|█████▍    | 83/151 [00:11<00:06,  9.87it/s]"
     ]
    },
    {
     "name": "stdout",
     "output_type": "stream",
     "text": [
      "\n",
      "image 1/1 /kaggle/input/wind-turbine-damage-challenges/Wind Turbine damage/test/20240120_164348_mp4-4110_jpg.rf.bc5bdabb1f57eb50d3bd4098c921d1fd.jpg: 1280x736 1 no effect, 4 corrosions, 25.6ms\n",
      "Speed: 6.8ms preprocess, 25.6ms inference, 1.7ms postprocess per image at shape (1, 3, 1280, 736)\n",
      "\n",
      "image 1/1 /kaggle/input/wind-turbine-damage-challenges/Wind Turbine damage/test/20240120_164348_mp4-4114_jpg.rf.5fa408a4c5bfd3b186f2a54dc555e753.jpg: 1280x736 1 no effect, 3 corrosions, 1 patch, 26.5ms\n",
      "Speed: 6.5ms preprocess, 26.5ms inference, 1.5ms postprocess per image at shape (1, 3, 1280, 736)\n"
     ]
    },
    {
     "name": "stderr",
     "output_type": "stream",
     "text": [
      " 56%|█████▋    | 85/151 [00:11<00:05, 12.06it/s]"
     ]
    },
    {
     "name": "stdout",
     "output_type": "stream",
     "text": [
      "\n",
      "image 1/1 /kaggle/input/wind-turbine-damage-challenges/Wind Turbine damage/test/20240120_164348_mp4-4148_jpg.rf.816f4ef4d1de664e9f6fcc45f6dfa11f.jpg: 1280x736 2 no effects, 5 corrosions, 1 lightning, 26.1ms\n",
      "Speed: 6.5ms preprocess, 26.1ms inference, 1.6ms postprocess per image at shape (1, 3, 1280, 736)\n",
      "\n",
      "image 1/1 /kaggle/input/wind-turbine-damage-challenges/Wind Turbine damage/test/20240120_164348_mp4-4186_jpg.rf.acc31c48a0599af4ab5b90bf6b4a6136.jpg: 1280x736 2 no effects, 11 corrosions, 5 missing teeths, 25.1ms\n",
      "Speed: 6.5ms preprocess, 25.1ms inference, 1.5ms postprocess per image at shape (1, 3, 1280, 736)\n"
     ]
    },
    {
     "name": "stderr",
     "output_type": "stream",
     "text": [
      " 58%|█████▊    | 87/151 [00:11<00:04, 13.66it/s]"
     ]
    },
    {
     "name": "stdout",
     "output_type": "stream",
     "text": [
      "\n",
      "image 1/1 /kaggle/input/wind-turbine-damage-challenges/Wind Turbine damage/test/20240120_164348_mp4-4190_jpg.rf.35c7cf908606d69f9e88e50415690b7f.jpg: 1280x736 2 no effects, 12 corrosions, 5 missing teeths, 25.9ms\n",
      "Speed: 6.8ms preprocess, 25.9ms inference, 1.6ms postprocess per image at shape (1, 3, 1280, 736)\n",
      "\n",
      "image 1/1 /kaggle/input/wind-turbine-damage-challenges/Wind Turbine damage/test/20240120_164348_mp4-4714_jpg.rf.ab56dbe039b90c154f6ebacce19869f1.jpg: 1280x736 1 no effect, 26.6ms\n",
      "Speed: 6.6ms preprocess, 26.6ms inference, 1.6ms postprocess per image at shape (1, 3, 1280, 736)\n"
     ]
    },
    {
     "name": "stderr",
     "output_type": "stream",
     "text": [
      " 59%|█████▉    | 89/151 [00:11<00:04, 14.89it/s]"
     ]
    },
    {
     "name": "stdout",
     "output_type": "stream",
     "text": [
      "\n",
      "image 1/1 /kaggle/input/wind-turbine-damage-challenges/Wind Turbine damage/test/20240120_164348_mp4-4724_jpg.rf.db7990b2d0a32e3af5930cb8d63704b6.jpg: 1280x736 1 no effect, 25.6ms\n",
      "Speed: 6.8ms preprocess, 25.6ms inference, 1.5ms postprocess per image at shape (1, 3, 1280, 736)\n",
      "\n",
      "image 1/1 /kaggle/input/wind-turbine-damage-challenges/Wind Turbine damage/test/20240120_164348_mp4-4758_jpg.rf.7ec5f576a67700199ac4c7e897253413.jpg: 1280x736 1 no effect, 25.6ms\n",
      "Speed: 6.4ms preprocess, 25.6ms inference, 1.5ms postprocess per image at shape (1, 3, 1280, 736)\n"
     ]
    },
    {
     "name": "stderr",
     "output_type": "stream",
     "text": [
      " 60%|██████    | 91/151 [00:11<00:03, 16.08it/s]"
     ]
    },
    {
     "name": "stdout",
     "output_type": "stream",
     "text": [
      "\n",
      "image 1/1 /kaggle/input/wind-turbine-damage-challenges/Wind Turbine damage/test/20240120_164348_mp4-4881_jpg.rf.4682e343f5944b5f911d891965f0b6d8.jpg: 1280x736 1 no effect, 6 corrosions, 25.8ms\n",
      "Speed: 6.4ms preprocess, 25.8ms inference, 1.6ms postprocess per image at shape (1, 3, 1280, 736)\n",
      "\n",
      "image 1/1 /kaggle/input/wind-turbine-damage-challenges/Wind Turbine damage/test/20240120_164348_mp4-4909_jpg.rf.c2880db9ff2ebe752daa97bc61d1b947.jpg: 1280x736 1 no effect, 7 corrosions, 1 missing teeth, 26.0ms\n",
      "Speed: 6.6ms preprocess, 26.0ms inference, 1.7ms postprocess per image at shape (1, 3, 1280, 736)\n"
     ]
    },
    {
     "name": "stderr",
     "output_type": "stream",
     "text": [
      " 62%|██████▏   | 93/151 [00:11<00:03, 16.63it/s]"
     ]
    },
    {
     "name": "stdout",
     "output_type": "stream",
     "text": [
      "\n",
      "image 1/1 /kaggle/input/wind-turbine-damage-challenges/Wind Turbine damage/test/DJI_0685-1-_JPG.rf.28e5acd6707444bdffa08e561f9b676b.jpg: 736x1280 1 no effect, 13 corrosions, 39 missing teeths, 25.2ms\n",
      "Speed: 8.0ms preprocess, 25.2ms inference, 1.6ms postprocess per image at shape (1, 3, 736, 1280)\n",
      "\n",
      "image 1/1 /kaggle/input/wind-turbine-damage-challenges/Wind Turbine damage/test/DJI_0689-1-_JPG.rf.fa20919f9ea6451ed2d49be4f6f58f08.jpg: 736x1280 2 no effects, 26 corrosions, 40 missing teeths, 25.8ms\n",
      "Speed: 7.9ms preprocess, 25.8ms inference, 1.6ms postprocess per image at shape (1, 3, 736, 1280)\n"
     ]
    },
    {
     "name": "stderr",
     "output_type": "stream",
     "text": [
      " 63%|██████▎   | 95/151 [00:12<00:06,  8.25it/s]"
     ]
    },
    {
     "name": "stdout",
     "output_type": "stream",
     "text": [
      "\n",
      "image 1/1 /kaggle/input/wind-turbine-damage-challenges/Wind Turbine damage/test/DJI_0694-1-_JPG.rf.b82a3198da2abe3ac2509df4a524d049.jpg: 736x1280 1 no effect, 16 corrosions, 10 missing teeths, 1 patch, 25.7ms\n",
      "Speed: 7.6ms preprocess, 25.7ms inference, 1.6ms postprocess per image at shape (1, 3, 736, 1280)\n",
      "\n",
      "image 1/1 /kaggle/input/wind-turbine-damage-challenges/Wind Turbine damage/test/DJI_0695-1-_JPG.rf.a246dba06279f2c5e22e99852bcbbb99.jpg: 736x1280 2 no effects, 13 corrosions, 3 missing teeths, 5 patchs, 25.7ms\n",
      "Speed: 7.7ms preprocess, 25.7ms inference, 1.6ms postprocess per image at shape (1, 3, 736, 1280)\n"
     ]
    },
    {
     "name": "stderr",
     "output_type": "stream",
     "text": [
      " 64%|██████▍   | 97/151 [00:12<00:08,  6.12it/s]"
     ]
    },
    {
     "name": "stdout",
     "output_type": "stream",
     "text": [
      "\n",
      "image 1/1 /kaggle/input/wind-turbine-damage-challenges/Wind Turbine damage/test/DJI_0700-1-_JPG.rf.5959c97c6fecf8a47de229ce1efd54a3.jpg: 736x1280 1 no effect, 13 corrosions, 2 lightnings, 3 missing teeths, 25.4ms\n",
      "Speed: 7.9ms preprocess, 25.4ms inference, 1.6ms postprocess per image at shape (1, 3, 736, 1280)\n",
      "\n",
      "image 1/1 /kaggle/input/wind-turbine-damage-challenges/Wind Turbine damage/test/DJI_0702-1-_JPG.rf.eb0e2024c06c73aec47ff061322e5159.jpg: 736x1280 1 no effect, 7 corrosions, 1 lightning, 2 missing teeths, 1 patch, 24.9ms\n",
      "Speed: 8.0ms preprocess, 24.9ms inference, 1.6ms postprocess per image at shape (1, 3, 736, 1280)\n"
     ]
    },
    {
     "name": "stderr",
     "output_type": "stream",
     "text": [
      " 66%|██████▌   | 99/151 [00:13<00:09,  5.25it/s]"
     ]
    },
    {
     "name": "stdout",
     "output_type": "stream",
     "text": [
      "\n",
      "image 1/1 /kaggle/input/wind-turbine-damage-challenges/Wind Turbine damage/test/DJI_0703-1-_JPG.rf.f37e56bcbcea4be50fbb69163950b25e.jpg: 736x1280 1 no effect, 6 corrosions, 1 missing teeth, 25.0ms\n",
      "Speed: 8.1ms preprocess, 25.0ms inference, 1.5ms postprocess per image at shape (1, 3, 736, 1280)\n"
     ]
    },
    {
     "name": "stderr",
     "output_type": "stream",
     "text": [
      " 66%|██████▌   | 100/151 [00:13<00:10,  4.99it/s]"
     ]
    },
    {
     "name": "stdout",
     "output_type": "stream",
     "text": [
      "\n",
      "image 1/1 /kaggle/input/wind-turbine-damage-challenges/Wind Turbine damage/test/DJI_0704-1-_JPG.rf.60db0f08429e9bc32a75f95e3ee2d118.jpg: 736x1280 1 no effect, 8 corrosions, 2 missing teeths, 26.2ms\n",
      "Speed: 8.1ms preprocess, 26.2ms inference, 1.7ms postprocess per image at shape (1, 3, 736, 1280)\n"
     ]
    },
    {
     "name": "stderr",
     "output_type": "stream",
     "text": [
      " 67%|██████▋   | 101/151 [00:13<00:10,  4.77it/s]"
     ]
    },
    {
     "name": "stdout",
     "output_type": "stream",
     "text": [
      "\n",
      "image 1/1 /kaggle/input/wind-turbine-damage-challenges/Wind Turbine damage/test/DJI_0706-1-_JPG.rf.266efc3b31622fd7c6e2043e77815f0f.jpg: 736x1280 1 no effect, 9 corrosions, 1 lightning, 1 missing teeth, 1 patch, 25.3ms\n",
      "Speed: 7.9ms preprocess, 25.3ms inference, 1.6ms postprocess per image at shape (1, 3, 736, 1280)\n"
     ]
    },
    {
     "name": "stderr",
     "output_type": "stream",
     "text": [
      " 68%|██████▊   | 102/151 [00:13<00:10,  4.53it/s]"
     ]
    },
    {
     "name": "stdout",
     "output_type": "stream",
     "text": [
      "\n",
      "image 1/1 /kaggle/input/wind-turbine-damage-challenges/Wind Turbine damage/test/DJI_0713-1-_JPG.rf.d5f2b2b8460d6addaded7f49160182be.jpg: 736x1280 1 no effect, 17 corrosions, 51 missing teeths, 1 patch, 25.5ms\n",
      "Speed: 7.8ms preprocess, 25.5ms inference, 1.6ms postprocess per image at shape (1, 3, 736, 1280)\n"
     ]
    },
    {
     "name": "stderr",
     "output_type": "stream",
     "text": [
      " 68%|██████▊   | 103/151 [00:14<00:10,  4.36it/s]"
     ]
    },
    {
     "name": "stdout",
     "output_type": "stream",
     "text": [
      "\n",
      "image 1/1 /kaggle/input/wind-turbine-damage-challenges/Wind Turbine damage/test/DJI_0719-1-_JPG.rf.875b60e2f99c3faa08041c475b4e99ba.jpg: 736x1280 1 no effect, 2 corrosions, 25.5ms\n",
      "Speed: 7.6ms preprocess, 25.5ms inference, 1.5ms postprocess per image at shape (1, 3, 736, 1280)\n"
     ]
    },
    {
     "name": "stderr",
     "output_type": "stream",
     "text": [
      " 69%|██████▉   | 104/151 [00:14<00:10,  4.28it/s]"
     ]
    },
    {
     "name": "stdout",
     "output_type": "stream",
     "text": [
      "\n",
      "image 1/1 /kaggle/input/wind-turbine-damage-challenges/Wind Turbine damage/test/DJI_0724-1-_JPG.rf.6a190fc02e39550aab35e08235f34f30.jpg: 736x1280 3 no effects, 47 corrosions, 7 missing teeths, 1 patch, 25.6ms\n",
      "Speed: 7.8ms preprocess, 25.6ms inference, 1.6ms postprocess per image at shape (1, 3, 736, 1280)\n"
     ]
    },
    {
     "name": "stderr",
     "output_type": "stream",
     "text": [
      " 70%|██████▉   | 105/151 [00:14<00:11,  4.17it/s]"
     ]
    },
    {
     "name": "stdout",
     "output_type": "stream",
     "text": [
      "\n",
      "image 1/1 /kaggle/input/wind-turbine-damage-challenges/Wind Turbine damage/test/DJI_0727-1-_JPG.rf.1ba9bf8c97c13eca16e3840a2f576076.jpg: 736x1280 1 no effect, 14 corrosions, 6 missing teeths, 24.9ms\n",
      "Speed: 7.9ms preprocess, 24.9ms inference, 1.6ms postprocess per image at shape (1, 3, 736, 1280)\n"
     ]
    },
    {
     "name": "stderr",
     "output_type": "stream",
     "text": [
      " 70%|███████   | 106/151 [00:14<00:10,  4.12it/s]"
     ]
    },
    {
     "name": "stdout",
     "output_type": "stream",
     "text": [
      "\n",
      "image 1/1 /kaggle/input/wind-turbine-damage-challenges/Wind Turbine damage/test/DJI_0728-1-_JPG.rf.55ae4b479b0e282856186143e1fbbe72.jpg: 736x1280 1 no effect, 5 corrosions, 1 missing teeth, 1 patch, 25.6ms\n",
      "Speed: 7.8ms preprocess, 25.6ms inference, 1.6ms postprocess per image at shape (1, 3, 736, 1280)\n"
     ]
    },
    {
     "name": "stderr",
     "output_type": "stream",
     "text": [
      " 71%|███████   | 107/151 [00:15<00:10,  4.10it/s]"
     ]
    },
    {
     "name": "stdout",
     "output_type": "stream",
     "text": [
      "\n",
      "image 1/1 /kaggle/input/wind-turbine-damage-challenges/Wind Turbine damage/test/DJI_0735-1-_JPG.rf.c2b5abc13f2bb4a92bbe500391cd6e2f.jpg: 736x1280 1 no effect, 25.0ms\n",
      "Speed: 7.9ms preprocess, 25.0ms inference, 1.9ms postprocess per image at shape (1, 3, 736, 1280)\n"
     ]
    },
    {
     "name": "stderr",
     "output_type": "stream",
     "text": [
      " 72%|███████▏  | 108/151 [00:15<00:10,  4.07it/s]"
     ]
    },
    {
     "name": "stdout",
     "output_type": "stream",
     "text": [
      "\n",
      "image 1/1 /kaggle/input/wind-turbine-damage-challenges/Wind Turbine damage/test/DJI_0736-1-_JPG.rf.91063e4bfc57903ac1c1a3e62eeae0e0.jpg: 736x1280 2 no effects, 1 corrosion, 25.9ms\n",
      "Speed: 7.9ms preprocess, 25.9ms inference, 1.7ms postprocess per image at shape (1, 3, 736, 1280)\n"
     ]
    },
    {
     "name": "stderr",
     "output_type": "stream",
     "text": [
      " 72%|███████▏  | 109/151 [00:15<00:10,  4.03it/s]"
     ]
    },
    {
     "name": "stdout",
     "output_type": "stream",
     "text": [
      "\n",
      "image 1/1 /kaggle/input/wind-turbine-damage-challenges/Wind Turbine damage/test/DJI_0738-1-_JPG.rf.38dac02166d65ecaf77d9c7babd45d4f.jpg: 736x1280 1 no effect, 1 corrosion, 26.1ms\n",
      "Speed: 7.7ms preprocess, 26.1ms inference, 1.7ms postprocess per image at shape (1, 3, 736, 1280)\n"
     ]
    },
    {
     "name": "stderr",
     "output_type": "stream",
     "text": [
      " 73%|███████▎  | 110/151 [00:15<00:10,  4.03it/s]"
     ]
    },
    {
     "name": "stdout",
     "output_type": "stream",
     "text": [
      "\n",
      "image 1/1 /kaggle/input/wind-turbine-damage-challenges/Wind Turbine damage/test/DJI_0739-1-_JPG.rf.773353bbf8434865979f18dfd494cfb1.jpg: 736x1280 1 no effect, 2 corrosions, 25.0ms\n",
      "Speed: 7.9ms preprocess, 25.0ms inference, 1.7ms postprocess per image at shape (1, 3, 736, 1280)\n"
     ]
    },
    {
     "name": "stderr",
     "output_type": "stream",
     "text": [
      " 74%|███████▎  | 111/151 [00:16<00:09,  4.02it/s]"
     ]
    },
    {
     "name": "stdout",
     "output_type": "stream",
     "text": [
      "\n",
      "image 1/1 /kaggle/input/wind-turbine-damage-challenges/Wind Turbine damage/test/DJI_0740-1-_JPG.rf.ab961f1d9d46ff49368e7edb5c8aead4.jpg: 736x1280 1 no effect, 25.4ms\n",
      "Speed: 7.8ms preprocess, 25.4ms inference, 1.6ms postprocess per image at shape (1, 3, 736, 1280)\n"
     ]
    },
    {
     "name": "stderr",
     "output_type": "stream",
     "text": [
      " 74%|███████▍  | 112/151 [00:16<00:09,  4.02it/s]"
     ]
    },
    {
     "name": "stdout",
     "output_type": "stream",
     "text": [
      "\n",
      "image 1/1 /kaggle/input/wind-turbine-damage-challenges/Wind Turbine damage/test/DJI_0747-1-_JPG.rf.4e371df6acba379f00cee896d44c5536.jpg: 736x1280 1 no effect, 6 corrosions, 25.5ms\n",
      "Speed: 7.6ms preprocess, 25.5ms inference, 1.6ms postprocess per image at shape (1, 3, 736, 1280)\n"
     ]
    },
    {
     "name": "stderr",
     "output_type": "stream",
     "text": [
      " 75%|███████▍  | 113/151 [00:16<00:09,  4.04it/s]"
     ]
    },
    {
     "name": "stdout",
     "output_type": "stream",
     "text": [
      "\n",
      "image 1/1 /kaggle/input/wind-turbine-damage-challenges/Wind Turbine damage/test/DJI_0748-1-_JPG.rf.0d8420a917a8186fa103932f63c7b501.jpg: 736x1280 1 no effect, 8 corrosions, 2 missing teeths, 25.6ms\n",
      "Speed: 7.9ms preprocess, 25.6ms inference, 1.6ms postprocess per image at shape (1, 3, 736, 1280)\n"
     ]
    },
    {
     "name": "stderr",
     "output_type": "stream",
     "text": [
      " 75%|███████▌  | 114/151 [00:16<00:09,  4.02it/s]"
     ]
    },
    {
     "name": "stdout",
     "output_type": "stream",
     "text": [
      "\n",
      "image 1/1 /kaggle/input/wind-turbine-damage-challenges/Wind Turbine damage/test/DJI_0749-1-_JPG.rf.356be7f5b3ec7e31c5594426b6aba5eb.jpg: 736x1280 1 no effect, 6 corrosions, 2 missing teeths, 24.8ms\n",
      "Speed: 7.2ms preprocess, 24.8ms inference, 1.5ms postprocess per image at shape (1, 3, 736, 1280)\n"
     ]
    },
    {
     "name": "stderr",
     "output_type": "stream",
     "text": [
      " 76%|███████▌  | 115/151 [00:17<00:08,  4.04it/s]"
     ]
    },
    {
     "name": "stdout",
     "output_type": "stream",
     "text": [
      "\n",
      "image 1/1 /kaggle/input/wind-turbine-damage-challenges/Wind Turbine damage/test/DJI_0751-1-_JPG.rf.3ce670d8f2209ef6c78270a89b642fba.jpg: 736x1280 2 no effects, 9 corrosions, 4 missing teeths, 24.3ms\n",
      "Speed: 8.0ms preprocess, 24.3ms inference, 1.5ms postprocess per image at shape (1, 3, 736, 1280)\n"
     ]
    },
    {
     "name": "stderr",
     "output_type": "stream",
     "text": [
      " 77%|███████▋  | 116/151 [00:17<00:08,  4.04it/s]"
     ]
    },
    {
     "name": "stdout",
     "output_type": "stream",
     "text": [
      "\n",
      "image 1/1 /kaggle/input/wind-turbine-damage-challenges/Wind Turbine damage/test/DJI_0752-1-_JPG.rf.a82cba01167ad4cf275b98e201de6601.jpg: 736x1280 1 no effect, 10 corrosions, 7 missing teeths, 26.5ms\n",
      "Speed: 8.2ms preprocess, 26.5ms inference, 1.7ms postprocess per image at shape (1, 3, 736, 1280)\n"
     ]
    },
    {
     "name": "stderr",
     "output_type": "stream",
     "text": [
      " 77%|███████▋  | 117/151 [00:17<00:08,  4.03it/s]"
     ]
    },
    {
     "name": "stdout",
     "output_type": "stream",
     "text": [
      "\n",
      "image 1/1 /kaggle/input/wind-turbine-damage-challenges/Wind Turbine damage/test/DJI_0753-1-_JPG.rf.7b2ffc0f3cdeacc24f83ad692cade3f6.jpg: 736x1280 1 no effect, 6 corrosions, 4 missing teeths, 26.4ms\n",
      "Speed: 7.9ms preprocess, 26.4ms inference, 1.7ms postprocess per image at shape (1, 3, 736, 1280)\n"
     ]
    },
    {
     "name": "stderr",
     "output_type": "stream",
     "text": [
      " 78%|███████▊  | 118/151 [00:17<00:08,  4.00it/s]"
     ]
    },
    {
     "name": "stdout",
     "output_type": "stream",
     "text": [
      "\n",
      "image 1/1 /kaggle/input/wind-turbine-damage-challenges/Wind Turbine damage/test/DJI_0755-1-_JPG.rf.5cc110a79566dd9ab3ab412e985a33da.jpg: 736x1280 1 no effect, 6 corrosions, 8 missing teeths, 25.6ms\n",
      "Speed: 7.8ms preprocess, 25.6ms inference, 1.6ms postprocess per image at shape (1, 3, 736, 1280)\n"
     ]
    },
    {
     "name": "stderr",
     "output_type": "stream",
     "text": [
      " 79%|███████▉  | 119/151 [00:18<00:07,  4.01it/s]"
     ]
    },
    {
     "name": "stdout",
     "output_type": "stream",
     "text": [
      "\n",
      "image 1/1 /kaggle/input/wind-turbine-damage-challenges/Wind Turbine damage/test/DJI_0756-1-_JPG.rf.e06774dbaeadae553f8a5707f33b59df.jpg: 736x1280 1 no effect, 4 corrosions, 12 missing teeths, 27.1ms\n",
      "Speed: 8.3ms preprocess, 27.1ms inference, 1.7ms postprocess per image at shape (1, 3, 736, 1280)\n"
     ]
    },
    {
     "name": "stderr",
     "output_type": "stream",
     "text": [
      " 79%|███████▉  | 120/151 [00:18<00:07,  3.97it/s]"
     ]
    },
    {
     "name": "stdout",
     "output_type": "stream",
     "text": [
      "\n",
      "image 1/1 /kaggle/input/wind-turbine-damage-challenges/Wind Turbine damage/test/DJI_0757-1-_JPG.rf.55e66031eb54e212c90c8c7d09065a73.jpg: 736x1280 1 no effect, 4 corrosions, 7 missing teeths, 26.2ms\n",
      "Speed: 7.8ms preprocess, 26.2ms inference, 1.6ms postprocess per image at shape (1, 3, 736, 1280)\n"
     ]
    },
    {
     "name": "stderr",
     "output_type": "stream",
     "text": [
      " 80%|████████  | 121/151 [00:18<00:07,  3.97it/s]"
     ]
    },
    {
     "name": "stdout",
     "output_type": "stream",
     "text": [
      "\n",
      "image 1/1 /kaggle/input/wind-turbine-damage-challenges/Wind Turbine damage/test/DJI_0758-1-_JPG.rf.4ccae74fb152cab9f4899aea4b7002ff.jpg: 736x1280 1 no effect, 3 corrosions, 9 missing teeths, 26.1ms\n",
      "Speed: 8.0ms preprocess, 26.1ms inference, 1.6ms postprocess per image at shape (1, 3, 736, 1280)\n"
     ]
    },
    {
     "name": "stderr",
     "output_type": "stream",
     "text": [
      " 81%|████████  | 122/151 [00:18<00:07,  3.94it/s]"
     ]
    },
    {
     "name": "stdout",
     "output_type": "stream",
     "text": [
      "\n",
      "image 1/1 /kaggle/input/wind-turbine-damage-challenges/Wind Turbine damage/test/DJI_0762-1-_JPG.rf.ad96cbe9564933c045e82407f8379d47.jpg: 736x1280 3 no effects, 18 corrosions, 4 missing teeths, 26.0ms\n",
      "Speed: 8.0ms preprocess, 26.0ms inference, 1.7ms postprocess per image at shape (1, 3, 736, 1280)\n"
     ]
    },
    {
     "name": "stderr",
     "output_type": "stream",
     "text": [
      " 81%|████████▏ | 123/151 [00:19<00:07,  3.84it/s]"
     ]
    },
    {
     "name": "stdout",
     "output_type": "stream",
     "text": [
      "\n",
      "image 1/1 /kaggle/input/wind-turbine-damage-challenges/Wind Turbine damage/test/DJI_0764-1-_JPG.rf.dda28e9da6a04fb32538af96498b7b55.jpg: 736x1280 2 no effects, 21 corrosions, 5 missing teeths, 25.7ms\n",
      "Speed: 7.8ms preprocess, 25.7ms inference, 1.7ms postprocess per image at shape (1, 3, 736, 1280)\n"
     ]
    },
    {
     "name": "stderr",
     "output_type": "stream",
     "text": [
      " 82%|████████▏ | 124/151 [00:19<00:07,  3.81it/s]"
     ]
    },
    {
     "name": "stdout",
     "output_type": "stream",
     "text": [
      "\n",
      "image 1/1 /kaggle/input/wind-turbine-damage-challenges/Wind Turbine damage/test/DJI_0765-1-_JPG.rf.500d5a743566278e0be2d7cd60ce180c.jpg: 736x1280 3 no effects, 22 corrosions, 11 missing teeths, 26.0ms\n",
      "Speed: 8.0ms preprocess, 26.0ms inference, 1.7ms postprocess per image at shape (1, 3, 736, 1280)\n"
     ]
    },
    {
     "name": "stderr",
     "output_type": "stream",
     "text": [
      " 83%|████████▎ | 125/151 [00:19<00:06,  3.80it/s]"
     ]
    },
    {
     "name": "stdout",
     "output_type": "stream",
     "text": [
      "\n",
      "image 1/1 /kaggle/input/wind-turbine-damage-challenges/Wind Turbine damage/test/DJI_0766-1-_JPG.rf.23aa70af0a4a9b9557902b4207972685.jpg: 736x1280 1 no effect, 11 corrosions, 5 missing teeths, 26.5ms\n",
      "Speed: 8.1ms preprocess, 26.5ms inference, 1.7ms postprocess per image at shape (1, 3, 736, 1280)\n"
     ]
    },
    {
     "name": "stderr",
     "output_type": "stream",
     "text": [
      " 83%|████████▎ | 126/151 [00:19<00:06,  3.78it/s]"
     ]
    },
    {
     "name": "stdout",
     "output_type": "stream",
     "text": [
      "\n",
      "image 1/1 /kaggle/input/wind-turbine-damage-challenges/Wind Turbine damage/test/DJI_0767-1-_JPG.rf.6bf30033ae02a537b4dc2a335dc1ba98.jpg: 736x1280 2 no effects, 4 corrosions, 3 missing teeths, 26.5ms\n",
      "Speed: 8.1ms preprocess, 26.5ms inference, 1.6ms postprocess per image at shape (1, 3, 736, 1280)\n"
     ]
    },
    {
     "name": "stderr",
     "output_type": "stream",
     "text": [
      " 84%|████████▍ | 127/151 [00:20<00:06,  3.77it/s]"
     ]
    },
    {
     "name": "stdout",
     "output_type": "stream",
     "text": [
      "\n",
      "image 1/1 /kaggle/input/wind-turbine-damage-challenges/Wind Turbine damage/test/DJI_0769-1-_JPG.rf.fc54d0bf4a5c1e1a7c32533f01a4b287.jpg: 736x1280 2 no effects, 14 corrosions, 4 missing teeths, 1 patch, 26.6ms\n",
      "Speed: 8.1ms preprocess, 26.6ms inference, 1.8ms postprocess per image at shape (1, 3, 736, 1280)\n"
     ]
    },
    {
     "name": "stderr",
     "output_type": "stream",
     "text": [
      " 85%|████████▍ | 128/151 [00:20<00:06,  3.76it/s]"
     ]
    },
    {
     "name": "stdout",
     "output_type": "stream",
     "text": [
      "\n",
      "image 1/1 /kaggle/input/wind-turbine-damage-challenges/Wind Turbine damage/test/DJI_0771_JPG.rf.ef6771f47ce45dac8789ea590c7c9f88.jpg: 736x1280 2 no effects, 19 corrosions, 2 missing teeths, 27.0ms\n",
      "Speed: 8.2ms preprocess, 27.0ms inference, 1.7ms postprocess per image at shape (1, 3, 736, 1280)\n"
     ]
    },
    {
     "name": "stderr",
     "output_type": "stream",
     "text": [
      " 85%|████████▌ | 129/151 [00:20<00:05,  3.74it/s]"
     ]
    },
    {
     "name": "stdout",
     "output_type": "stream",
     "text": [
      "\n",
      "image 1/1 /kaggle/input/wind-turbine-damage-challenges/Wind Turbine damage/test/DJI_0774_JPG.rf.4e79666308c10060b119179e067f6b5f.jpg: 736x1280 3 no effects, 30 corrosions, 6 missing teeths, 26.9ms\n",
      "Speed: 8.2ms preprocess, 26.9ms inference, 1.7ms postprocess per image at shape (1, 3, 736, 1280)\n"
     ]
    },
    {
     "name": "stderr",
     "output_type": "stream",
     "text": [
      " 86%|████████▌ | 130/151 [00:21<00:05,  3.73it/s]"
     ]
    },
    {
     "name": "stdout",
     "output_type": "stream",
     "text": [
      "\n",
      "image 1/1 /kaggle/input/wind-turbine-damage-challenges/Wind Turbine damage/test/DJI_0775_JPG.rf.559241cce67f8a1b9d038bd9a07d73ad.jpg: 736x1280 2 no effects, 19 corrosions, 4 missing teeths, 27.0ms\n",
      "Speed: 8.2ms preprocess, 27.0ms inference, 1.7ms postprocess per image at shape (1, 3, 736, 1280)\n"
     ]
    },
    {
     "name": "stderr",
     "output_type": "stream",
     "text": [
      " 87%|████████▋ | 131/151 [00:21<00:05,  3.73it/s]"
     ]
    },
    {
     "name": "stdout",
     "output_type": "stream",
     "text": [
      "\n",
      "image 1/1 /kaggle/input/wind-turbine-damage-challenges/Wind Turbine damage/test/DJI_0782_JPG.rf.20122d86e06af6481889f80a37481234.jpg: 736x1280 2 no effects, 22 corrosions, 1 missing teeth, 26.8ms\n",
      "Speed: 8.3ms preprocess, 26.8ms inference, 1.7ms postprocess per image at shape (1, 3, 736, 1280)\n"
     ]
    },
    {
     "name": "stderr",
     "output_type": "stream",
     "text": [
      " 87%|████████▋ | 132/151 [00:21<00:05,  3.75it/s]"
     ]
    },
    {
     "name": "stdout",
     "output_type": "stream",
     "text": [
      "\n",
      "image 1/1 /kaggle/input/wind-turbine-damage-challenges/Wind Turbine damage/test/DJI_0783_JPG.rf.064314252ff22a8de6b1a64e759ced69.jpg: 736x1280 2 no effects, 16 corrosions, 3 missing teeths, 27.2ms\n",
      "Speed: 8.1ms preprocess, 27.2ms inference, 1.8ms postprocess per image at shape (1, 3, 736, 1280)\n"
     ]
    },
    {
     "name": "stderr",
     "output_type": "stream",
     "text": [
      " 88%|████████▊ | 133/151 [00:21<00:04,  3.79it/s]"
     ]
    },
    {
     "name": "stdout",
     "output_type": "stream",
     "text": [
      "\n",
      "image 1/1 /kaggle/input/wind-turbine-damage-challenges/Wind Turbine damage/test/DJI_0786_JPG.rf.8393511dd03727861777c834fdfd3d93.jpg: 736x1280 3 no effects, 27 corrosions, 14 missing teeths, 27.4ms\n",
      "Speed: 8.2ms preprocess, 27.4ms inference, 1.8ms postprocess per image at shape (1, 3, 736, 1280)\n"
     ]
    },
    {
     "name": "stderr",
     "output_type": "stream",
     "text": [
      " 89%|████████▊ | 134/151 [00:22<00:04,  3.81it/s]"
     ]
    },
    {
     "name": "stdout",
     "output_type": "stream",
     "text": [
      "\n",
      "image 1/1 /kaggle/input/wind-turbine-damage-challenges/Wind Turbine damage/test/DJI_0787_JPG.rf.b33e0b3720d9ad9f30ece0e2ce4fb2ab.jpg: 736x1280 2 no effects, 33 corrosions, 13 missing teeths, 26.7ms\n",
      "Speed: 8.2ms preprocess, 26.7ms inference, 1.7ms postprocess per image at shape (1, 3, 736, 1280)\n"
     ]
    },
    {
     "name": "stderr",
     "output_type": "stream",
     "text": [
      " 89%|████████▉ | 135/151 [00:22<00:04,  3.79it/s]"
     ]
    },
    {
     "name": "stdout",
     "output_type": "stream",
     "text": [
      "\n",
      "image 1/1 /kaggle/input/wind-turbine-damage-challenges/Wind Turbine damage/test/DJI_0788_JPG.rf.2460e49d3538464c7bab22faf38f32e8.jpg: 736x1280 3 no effects, 51 corrosions, 17 missing teeths, 26.5ms\n",
      "Speed: 8.2ms preprocess, 26.5ms inference, 1.7ms postprocess per image at shape (1, 3, 736, 1280)\n"
     ]
    },
    {
     "name": "stderr",
     "output_type": "stream",
     "text": [
      " 90%|█████████ | 136/151 [00:22<00:04,  3.70it/s]"
     ]
    },
    {
     "name": "stdout",
     "output_type": "stream",
     "text": [
      "\n",
      "image 1/1 /kaggle/input/wind-turbine-damage-challenges/Wind Turbine damage/test/DJI_0789_JPG.rf.6e8cb81795ced0a81ad14f33ca8d26bc.jpg: 736x1280 2 no effects, 45 corrosions, 18 missing teeths, 1 patch, 26.7ms\n",
      "Speed: 8.2ms preprocess, 26.7ms inference, 1.7ms postprocess per image at shape (1, 3, 736, 1280)\n"
     ]
    },
    {
     "name": "stderr",
     "output_type": "stream",
     "text": [
      " 91%|█████████ | 137/151 [00:22<00:03,  3.68it/s]"
     ]
    },
    {
     "name": "stdout",
     "output_type": "stream",
     "text": [
      "\n",
      "image 1/1 /kaggle/input/wind-turbine-damage-challenges/Wind Turbine damage/test/DJI_0975_JPG.rf.37c894ef2602f302978e698b1cd65746.jpg: 736x1280 1 no effect, 33 corrosions, 7 missing teeths, 26.4ms\n",
      "Speed: 8.2ms preprocess, 26.4ms inference, 1.6ms postprocess per image at shape (1, 3, 736, 1280)\n"
     ]
    },
    {
     "name": "stderr",
     "output_type": "stream",
     "text": [
      " 91%|█████████▏| 138/151 [00:23<00:03,  3.47it/s]"
     ]
    },
    {
     "name": "stdout",
     "output_type": "stream",
     "text": [
      "\n",
      "image 1/1 /kaggle/input/wind-turbine-damage-challenges/Wind Turbine damage/test/DJI_0978_JPG.rf.31c2820f9214cfe6e1c0279d732e9ec1.jpg: 736x1280 1 no effect, 31 corrosions, 4 missing teeths, 26.4ms\n",
      "Speed: 7.9ms preprocess, 26.4ms inference, 1.6ms postprocess per image at shape (1, 3, 736, 1280)\n"
     ]
    },
    {
     "name": "stderr",
     "output_type": "stream",
     "text": [
      " 92%|█████████▏| 139/151 [00:23<00:03,  3.35it/s]"
     ]
    },
    {
     "name": "stdout",
     "output_type": "stream",
     "text": [
      "\n",
      "image 1/1 /kaggle/input/wind-turbine-damage-challenges/Wind Turbine damage/test/DJI_0979_JPG.rf.95e4156ad7c15913188dc03681b81e5a.jpg: 736x1280 2 no effects, 39 corrosions, 2 missing teeths, 27.2ms\n",
      "Speed: 8.5ms preprocess, 27.2ms inference, 1.8ms postprocess per image at shape (1, 3, 736, 1280)\n"
     ]
    },
    {
     "name": "stderr",
     "output_type": "stream",
     "text": [
      " 93%|█████████▎| 140/151 [00:23<00:03,  3.32it/s]"
     ]
    },
    {
     "name": "stdout",
     "output_type": "stream",
     "text": [
      "\n",
      "image 1/1 /kaggle/input/wind-turbine-damage-challenges/Wind Turbine damage/test/DJI_0980_JPG.rf.9aae1abc3fdead93968f7a06073e9b87.jpg: 736x1280 2 no effects, 28 corrosions, 2 missing teeths, 1 patch, 27.0ms\n",
      "Speed: 8.0ms preprocess, 27.0ms inference, 1.7ms postprocess per image at shape (1, 3, 736, 1280)\n"
     ]
    },
    {
     "name": "stderr",
     "output_type": "stream",
     "text": [
      " 93%|█████████▎| 141/151 [00:24<00:03,  3.24it/s]"
     ]
    },
    {
     "name": "stdout",
     "output_type": "stream",
     "text": [
      "\n",
      "image 1/1 /kaggle/input/wind-turbine-damage-challenges/Wind Turbine damage/test/DJI_0981_JPG.rf.49d83249cf60fcac1705593e4a86258b.jpg: 736x1280 2 no effects, 31 corrosions, 3 missing teeths, 26.6ms\n",
      "Speed: 8.0ms preprocess, 26.6ms inference, 1.7ms postprocess per image at shape (1, 3, 736, 1280)\n"
     ]
    },
    {
     "name": "stderr",
     "output_type": "stream",
     "text": [
      " 94%|█████████▍| 142/151 [00:24<00:02,  3.18it/s]"
     ]
    },
    {
     "name": "stdout",
     "output_type": "stream",
     "text": [
      "\n",
      "image 1/1 /kaggle/input/wind-turbine-damage-challenges/Wind Turbine damage/test/DJI_0985_JPG.rf.aa69ccc4ef0830be243fc06f42e91c53.jpg: 736x1280 2 no effects, 23 corrosions, 4 missing teeths, 28.2ms\n",
      "Speed: 8.4ms preprocess, 28.2ms inference, 1.7ms postprocess per image at shape (1, 3, 736, 1280)\n"
     ]
    },
    {
     "name": "stderr",
     "output_type": "stream",
     "text": [
      " 95%|█████████▍| 143/151 [00:24<00:02,  3.13it/s]"
     ]
    },
    {
     "name": "stdout",
     "output_type": "stream",
     "text": [
      "\n",
      "image 1/1 /kaggle/input/wind-turbine-damage-challenges/Wind Turbine damage/test/DJI_0987_JPG.rf.c2002d99afd301f941c19bd6e56a916a.jpg: 736x1280 1 no effect, 24 corrosions, 5 missing teeths, 26.4ms\n",
      "Speed: 8.0ms preprocess, 26.4ms inference, 1.7ms postprocess per image at shape (1, 3, 736, 1280)\n"
     ]
    },
    {
     "name": "stderr",
     "output_type": "stream",
     "text": [
      " 95%|█████████▌| 144/151 [00:25<00:02,  3.12it/s]"
     ]
    },
    {
     "name": "stdout",
     "output_type": "stream",
     "text": [
      "\n",
      "image 1/1 /kaggle/input/wind-turbine-damage-challenges/Wind Turbine damage/test/DJI_0989_JPG.rf.c88276836792084a0205e542b79fb91c.jpg: 736x1280 2 no effects, 51 corrosions, 1 missing teeth, 3 patchs, 26.6ms\n",
      "Speed: 8.0ms preprocess, 26.6ms inference, 1.7ms postprocess per image at shape (1, 3, 736, 1280)\n"
     ]
    },
    {
     "name": "stderr",
     "output_type": "stream",
     "text": [
      " 96%|█████████▌| 145/151 [00:25<00:01,  3.11it/s]"
     ]
    },
    {
     "name": "stdout",
     "output_type": "stream",
     "text": [
      "\n",
      "image 1/1 /kaggle/input/wind-turbine-damage-challenges/Wind Turbine damage/test/DJI_0991_JPG.rf.54622f4cc224fae47bb990abe7a57d51.jpg: 736x1280 2 no effects, 46 corrosions, 12 missing teeths, 2 patchs, 27.4ms\n",
      "Speed: 8.2ms preprocess, 27.4ms inference, 1.7ms postprocess per image at shape (1, 3, 736, 1280)\n"
     ]
    },
    {
     "name": "stderr",
     "output_type": "stream",
     "text": [
      " 97%|█████████▋| 146/151 [00:25<00:01,  3.10it/s]"
     ]
    },
    {
     "name": "stdout",
     "output_type": "stream",
     "text": [
      "\n",
      "image 1/1 /kaggle/input/wind-turbine-damage-challenges/Wind Turbine damage/test/DJI_0992_JPG.rf.8adbc7b8fa4895501467ea9eaf53f0d4.jpg: 736x1280 2 no effects, 42 corrosions, 5 missing teeths, 2 patchs, 26.9ms\n",
      "Speed: 8.2ms preprocess, 26.9ms inference, 1.6ms postprocess per image at shape (1, 3, 736, 1280)\n"
     ]
    },
    {
     "name": "stderr",
     "output_type": "stream",
     "text": [
      " 97%|█████████▋| 147/151 [00:26<00:01,  3.11it/s]"
     ]
    },
    {
     "name": "stdout",
     "output_type": "stream",
     "text": [
      "\n",
      "image 1/1 /kaggle/input/wind-turbine-damage-challenges/Wind Turbine damage/test/DJI_0993_JPG.rf.f33b6663ee70d58a17f1b41a031a28c7.jpg: 736x1280 3 no effects, 39 corrosions, 12 missing teeths, 26.3ms\n",
      "Speed: 8.3ms preprocess, 26.3ms inference, 1.7ms postprocess per image at shape (1, 3, 736, 1280)\n"
     ]
    },
    {
     "name": "stderr",
     "output_type": "stream",
     "text": [
      " 98%|█████████▊| 148/151 [00:26<00:00,  3.10it/s]"
     ]
    },
    {
     "name": "stdout",
     "output_type": "stream",
     "text": [
      "\n",
      "image 1/1 /kaggle/input/wind-turbine-damage-challenges/Wind Turbine damage/test/DJI_0994_JPG.rf.e5bf13e77518256c8c3f6ae62f9612b7.jpg: 736x1280 3 no effects, 39 corrosions, 5 missing teeths, 2 patchs, 26.1ms\n",
      "Speed: 8.1ms preprocess, 26.1ms inference, 1.7ms postprocess per image at shape (1, 3, 736, 1280)\n"
     ]
    },
    {
     "name": "stderr",
     "output_type": "stream",
     "text": [
      " 99%|█████████▊| 149/151 [00:26<00:00,  3.11it/s]"
     ]
    },
    {
     "name": "stdout",
     "output_type": "stream",
     "text": [
      "\n",
      "image 1/1 /kaggle/input/wind-turbine-damage-challenges/Wind Turbine damage/test/DJI_0995_JPG.rf.09f70312420808da47c3a4aaf186ca92.jpg: 736x1280 2 no effects, 42 corrosions, 9 missing teeths, 26.1ms\n",
      "Speed: 8.2ms preprocess, 26.1ms inference, 1.6ms postprocess per image at shape (1, 3, 736, 1280)\n"
     ]
    },
    {
     "name": "stderr",
     "output_type": "stream",
     "text": [
      " 99%|█████████▉| 150/151 [00:27<00:00,  3.17it/s]"
     ]
    },
    {
     "name": "stdout",
     "output_type": "stream",
     "text": [
      "\n",
      "image 1/1 /kaggle/input/wind-turbine-damage-challenges/Wind Turbine damage/test/DJI_0997_JPG.rf.9f5f2b599b0927db0d1121a39516f4e0.jpg: 736x1280 2 no effects, 39 corrosions, 6 missing teeths, 26.4ms\n",
      "Speed: 8.2ms preprocess, 26.4ms inference, 1.6ms postprocess per image at shape (1, 3, 736, 1280)\n"
     ]
    },
    {
     "name": "stderr",
     "output_type": "stream",
     "text": [
      "100%|██████████| 151/151 [00:27<00:00,  5.51it/s]\n"
     ]
    },
    {
     "name": "stdout",
     "output_type": "stream",
     "text": [
      "Файл submission_v1.csv успешно сохранен\n",
      "\n",
      "Генерация предсказаний с параметрами {'conf': 0.001, 'iou': 0.25, 'augment': True, 'half': False, 'max_det': 200}\n"
     ]
    },
    {
     "name": "stderr",
     "output_type": "stream",
     "text": [
      "  0%|          | 0/151 [00:00<?, ?it/s]"
     ]
    },
    {
     "name": "stdout",
     "output_type": "stream",
     "text": [
      "\n",
      "image 1/1 /kaggle/input/wind-turbine-damage-challenges/Wind Turbine damage/test/20240120_150729_jpg.rf.5925f54483de8cc52f75fdd1dc0ec3a0.jpg: 1280x1280 1 no effect, 4 corrosions, 2 missing teeths, 32.1ms\n",
      "Speed: 13.6ms preprocess, 32.1ms inference, 1.9ms postprocess per image at shape (1, 3, 1280, 1280)\n"
     ]
    },
    {
     "name": "stderr",
     "output_type": "stream",
     "text": [
      "  1%|          | 1/151 [00:00<00:24,  6.06it/s]"
     ]
    },
    {
     "name": "stdout",
     "output_type": "stream",
     "text": [
      "\n",
      "image 1/1 /kaggle/input/wind-turbine-damage-challenges/Wind Turbine damage/test/20240120_153628_jpg.rf.67030e3c4592587d26d7762e8e091020.jpg: 1280x1280 2 no effects, 8 corrosions, 2 missing teeths, 32.0ms\n",
      "Speed: 14.6ms preprocess, 32.0ms inference, 1.7ms postprocess per image at shape (1, 3, 1280, 1280)\n"
     ]
    },
    {
     "name": "stderr",
     "output_type": "stream",
     "text": [
      "  1%|▏         | 2/151 [00:00<00:58,  2.54it/s]"
     ]
    },
    {
     "name": "stdout",
     "output_type": "stream",
     "text": [
      "\n",
      "image 1/1 /kaggle/input/wind-turbine-damage-challenges/Wind Turbine damage/test/20240120_153658_jpg.rf.66dc04dc4ee8194ccc19397d4ad42f2e.jpg: 1280x1280 2 no effects, 32.5ms\n",
      "Speed: 14.0ms preprocess, 32.5ms inference, 1.6ms postprocess per image at shape (1, 3, 1280, 1280)\n"
     ]
    },
    {
     "name": "stderr",
     "output_type": "stream",
     "text": [
      "  2%|▏         | 3/151 [00:01<01:06,  2.22it/s]"
     ]
    },
    {
     "name": "stdout",
     "output_type": "stream",
     "text": [
      "\n",
      "image 1/1 /kaggle/input/wind-turbine-damage-challenges/Wind Turbine damage/test/20240120_153711_jpg.rf.3a50aa9daa881abe4296c7f12b03fcf9.jpg: 1280x1280 2 no effects, 8 corrosions, 13 missing teeths, 32.0ms\n",
      "Speed: 14.1ms preprocess, 32.0ms inference, 1.7ms postprocess per image at shape (1, 3, 1280, 1280)\n"
     ]
    },
    {
     "name": "stderr",
     "output_type": "stream",
     "text": [
      "  3%|▎         | 4/151 [00:01<01:11,  2.07it/s]"
     ]
    },
    {
     "name": "stdout",
     "output_type": "stream",
     "text": [
      "\n",
      "image 1/1 /kaggle/input/wind-turbine-damage-challenges/Wind Turbine damage/test/20240120_153748-0-_jpg.rf.6c50a8089bf3ccd32bb61e347e9f4019.jpg: 1280x1280 2 no effects, 1 corrosion, 31.8ms\n",
      "Speed: 14.0ms preprocess, 31.8ms inference, 1.7ms postprocess per image at shape (1, 3, 1280, 1280)\n"
     ]
    },
    {
     "name": "stderr",
     "output_type": "stream",
     "text": [
      "  3%|▎         | 5/151 [00:02<01:14,  1.97it/s]"
     ]
    },
    {
     "name": "stdout",
     "output_type": "stream",
     "text": [
      "\n",
      "image 1/1 /kaggle/input/wind-turbine-damage-challenges/Wind Turbine damage/test/20240120_153754_jpg.rf.01e099db13ef7c0beee133daa6379466.jpg: 1280x1280 2 no effects, 3 corrosions, 32.4ms\n",
      "Speed: 16.3ms preprocess, 32.4ms inference, 1.7ms postprocess per image at shape (1, 3, 1280, 1280)\n"
     ]
    },
    {
     "name": "stderr",
     "output_type": "stream",
     "text": [
      "  4%|▍         | 6/151 [00:02<01:16,  1.91it/s]"
     ]
    },
    {
     "name": "stdout",
     "output_type": "stream",
     "text": [
      "\n",
      "image 1/1 /kaggle/input/wind-turbine-damage-challenges/Wind Turbine damage/test/20240120_153843-0-_jpg.rf.60b55d7dd594d0869bf7216a34d16385.jpg: 1280x1280 2 no effects, 10 corrosions, 3 missing teeths, 1 patch, 31.8ms\n",
      "Speed: 13.4ms preprocess, 31.8ms inference, 1.7ms postprocess per image at shape (1, 3, 1280, 1280)\n"
     ]
    },
    {
     "name": "stderr",
     "output_type": "stream",
     "text": [
      "  5%|▍         | 7/151 [00:03<00:56,  2.54it/s]"
     ]
    },
    {
     "name": "stdout",
     "output_type": "stream",
     "text": [
      "\n",
      "image 1/1 /kaggle/input/wind-turbine-damage-challenges/Wind Turbine damage/test/20240120_153843_jpg.rf.b24d413669fa575889018912a2b372e9.jpg: 1280x1280 3 no effects, 8 corrosions, 1 missing teeth, 3 patchs, 31.9ms\n",
      "Speed: 13.2ms preprocess, 31.9ms inference, 1.7ms postprocess per image at shape (1, 3, 1280, 1280)\n"
     ]
    },
    {
     "name": "stderr",
     "output_type": "stream",
     "text": [
      "  5%|▌         | 8/151 [00:03<00:44,  3.22it/s]"
     ]
    },
    {
     "name": "stdout",
     "output_type": "stream",
     "text": [
      "\n",
      "image 1/1 /kaggle/input/wind-turbine-damage-challenges/Wind Turbine damage/test/20240120_155211_mp4-0000_jpg.rf.66e7e87b86904e97508657a58ba9972c.jpg: 1280x736 1 no effect, 4 corrosions, 27.0ms\n",
      "Speed: 6.7ms preprocess, 27.0ms inference, 1.6ms postprocess per image at shape (1, 3, 1280, 736)\n",
      "\n",
      "image 1/1 /kaggle/input/wind-turbine-damage-challenges/Wind Turbine damage/test/20240120_155211_mp4-0015_jpg.rf.62ada8738a17b071f5859ef2ba587652.jpg: 1280x736 1 no effect, 26.8ms\n",
      "Speed: 6.9ms preprocess, 26.8ms inference, 1.6ms postprocess per image at shape (1, 3, 1280, 736)\n"
     ]
    },
    {
     "name": "stderr",
     "output_type": "stream",
     "text": [
      "  7%|▋         | 10/151 [00:03<00:26,  5.24it/s]"
     ]
    },
    {
     "name": "stdout",
     "output_type": "stream",
     "text": [
      "\n",
      "image 1/1 /kaggle/input/wind-turbine-damage-challenges/Wind Turbine damage/test/20240120_155211_mp4-0034_jpg.rf.32c6d4c6f0fe3e919f7db3fea5d74dca.jpg: 1280x736 1 no effect, 26.5ms\n",
      "Speed: 6.9ms preprocess, 26.5ms inference, 1.6ms postprocess per image at shape (1, 3, 1280, 736)\n",
      "\n",
      "image 1/1 /kaggle/input/wind-turbine-damage-challenges/Wind Turbine damage/test/20240120_155211_mp4-0061_jpg.rf.ea7113440055cbce048892f47f14cd42.jpg: 1280x736 1 no effect, 2 corrosions, 1 missing teeth, 26.7ms\n",
      "Speed: 6.7ms preprocess, 26.7ms inference, 1.6ms postprocess per image at shape (1, 3, 1280, 736)\n"
     ]
    },
    {
     "name": "stderr",
     "output_type": "stream",
     "text": [
      "  8%|▊         | 12/151 [00:03<00:18,  7.33it/s]"
     ]
    },
    {
     "name": "stdout",
     "output_type": "stream",
     "text": [
      "\n",
      "image 1/1 /kaggle/input/wind-turbine-damage-challenges/Wind Turbine damage/test/20240120_155211_mp4-0075_jpg.rf.82235fee115b78aac2460ceb4f6758a0.jpg: 1280x736 1 no effect, 5 corrosions, 1 missing teeth, 1 patch, 26.3ms\n",
      "Speed: 6.7ms preprocess, 26.3ms inference, 2.3ms postprocess per image at shape (1, 3, 1280, 736)\n",
      "\n",
      "image 1/1 /kaggle/input/wind-turbine-damage-challenges/Wind Turbine damage/test/20240120_155211_mp4-0077_jpg.rf.17e71709fd53ea08911fdec60dd0f3df.jpg: 1280x736 1 no effect, 27.7ms\n",
      "Speed: 6.9ms preprocess, 27.7ms inference, 1.7ms postprocess per image at shape (1, 3, 1280, 736)\n"
     ]
    },
    {
     "name": "stderr",
     "output_type": "stream",
     "text": [
      "  9%|▉         | 14/151 [00:03<00:14,  9.33it/s]"
     ]
    },
    {
     "name": "stdout",
     "output_type": "stream",
     "text": [
      "\n",
      "image 1/1 /kaggle/input/wind-turbine-damage-challenges/Wind Turbine damage/test/20240120_155211_mp4-0079_jpg.rf.ed1b222a0cf341a04f27bcdc26a65687.jpg: 1280x736 1 no effect, 1 corrosion, 25.8ms\n",
      "Speed: 6.6ms preprocess, 25.8ms inference, 1.6ms postprocess per image at shape (1, 3, 1280, 736)\n",
      "\n",
      "image 1/1 /kaggle/input/wind-turbine-damage-challenges/Wind Turbine damage/test/20240120_155211_mp4-0081_jpg.rf.47e59973cbd4e1f40363bf218c380254.jpg: 1280x736 1 no effect, 2 corrosions, 27.3ms\n",
      "Speed: 6.9ms preprocess, 27.3ms inference, 1.6ms postprocess per image at shape (1, 3, 1280, 736)\n"
     ]
    },
    {
     "name": "stderr",
     "output_type": "stream",
     "text": [
      " 11%|█         | 16/151 [00:03<00:12, 11.17it/s]"
     ]
    },
    {
     "name": "stdout",
     "output_type": "stream",
     "text": [
      "\n",
      "image 1/1 /kaggle/input/wind-turbine-damage-challenges/Wind Turbine damage/test/20240120_155211_mp4-0084_jpg.rf.de984895faf812264c6c6a416eb62e02.jpg: 1280x736 1 no effect, 1 corrosion, 27.5ms\n",
      "Speed: 6.6ms preprocess, 27.5ms inference, 1.6ms postprocess per image at shape (1, 3, 1280, 736)\n",
      "\n",
      "image 1/1 /kaggle/input/wind-turbine-damage-challenges/Wind Turbine damage/test/20240120_155211_mp4-0086_jpg.rf.1d43d0c9b738b921d5601116df4d1965.jpg: 1280x736 1 no effect, 1 corrosion, 26.5ms\n",
      "Speed: 6.7ms preprocess, 26.5ms inference, 1.6ms postprocess per image at shape (1, 3, 1280, 736)\n"
     ]
    },
    {
     "name": "stderr",
     "output_type": "stream",
     "text": [
      " 12%|█▏        | 18/151 [00:03<00:10, 12.77it/s]"
     ]
    },
    {
     "name": "stdout",
     "output_type": "stream",
     "text": [
      "\n",
      "image 1/1 /kaggle/input/wind-turbine-damage-challenges/Wind Turbine damage/test/20240120_155211_mp4-0088_jpg.rf.ef0c44646fd1469ebacc82989015336b.jpg: 1280x736 1 no effect, 2 corrosions, 26.5ms\n",
      "Speed: 6.8ms preprocess, 26.5ms inference, 1.5ms postprocess per image at shape (1, 3, 1280, 736)\n",
      "\n",
      "image 1/1 /kaggle/input/wind-turbine-damage-challenges/Wind Turbine damage/test/20240120_155211_mp4-0095_jpg.rf.40c05c5950a48627a9add8cb56d60ca9.jpg: 1280x736 1 no effect, 26.6ms\n",
      "Speed: 6.7ms preprocess, 26.6ms inference, 1.6ms postprocess per image at shape (1, 3, 1280, 736)\n"
     ]
    },
    {
     "name": "stderr",
     "output_type": "stream",
     "text": [
      " 13%|█▎        | 20/151 [00:03<00:09, 14.07it/s]"
     ]
    },
    {
     "name": "stdout",
     "output_type": "stream",
     "text": [
      "\n",
      "image 1/1 /kaggle/input/wind-turbine-damage-challenges/Wind Turbine damage/test/20240120_155211_mp4-0110_jpg.rf.a5ed327b0bb16f8bc19802aab18f92f0.jpg: 1280x736 1 no effect, 1 corrosion, 26.9ms\n",
      "Speed: 7.1ms preprocess, 26.9ms inference, 1.7ms postprocess per image at shape (1, 3, 1280, 736)\n",
      "\n",
      "image 1/1 /kaggle/input/wind-turbine-damage-challenges/Wind Turbine damage/test/20240120_155211_mp4-0126_jpg.rf.5a9e67fd5bce7969a5775f6ff5273805.jpg: 1280x736 1 no effect, 1 corrosion, 27.4ms\n",
      "Speed: 6.7ms preprocess, 27.4ms inference, 1.6ms postprocess per image at shape (1, 3, 1280, 736)\n"
     ]
    },
    {
     "name": "stderr",
     "output_type": "stream",
     "text": [
      " 15%|█▍        | 22/151 [00:03<00:08, 15.04it/s]"
     ]
    },
    {
     "name": "stdout",
     "output_type": "stream",
     "text": [
      "\n",
      "image 1/1 /kaggle/input/wind-turbine-damage-challenges/Wind Turbine damage/test/20240120_155211_mp4-0134_jpg.rf.5aa81e12178bd71422c009b29fde0726.jpg: 1280x736 1 no effect, 1 corrosion, 27.3ms\n",
      "Speed: 6.6ms preprocess, 27.3ms inference, 1.7ms postprocess per image at shape (1, 3, 1280, 736)\n",
      "\n",
      "image 1/1 /kaggle/input/wind-turbine-damage-challenges/Wind Turbine damage/test/20240120_155211_mp4-0149_jpg.rf.45490f1c8ade5580d1279140588b187b.jpg: 1280x736 1 no effect, 2 corrosions, 27.0ms\n",
      "Speed: 6.9ms preprocess, 27.0ms inference, 1.6ms postprocess per image at shape (1, 3, 1280, 736)\n"
     ]
    },
    {
     "name": "stderr",
     "output_type": "stream",
     "text": [
      " 16%|█▌        | 24/151 [00:04<00:08, 15.79it/s]"
     ]
    },
    {
     "name": "stdout",
     "output_type": "stream",
     "text": [
      "\n",
      "image 1/1 /kaggle/input/wind-turbine-damage-challenges/Wind Turbine damage/test/20240120_155211_mp4-0155_jpg.rf.2ae5c8fbaa05347ec7fd8a91a06defe3.jpg: 1280x736 1 no effect, 26.4ms\n",
      "Speed: 6.5ms preprocess, 26.4ms inference, 1.6ms postprocess per image at shape (1, 3, 1280, 736)\n",
      "\n",
      "image 1/1 /kaggle/input/wind-turbine-damage-challenges/Wind Turbine damage/test/20240120_155211_mp4-0160_jpg.rf.94f5e7408084ab5c0e36cec28179010d.jpg: 1280x736 1 no effect, 4 corrosions, 27.3ms\n",
      "Speed: 7.0ms preprocess, 27.3ms inference, 1.6ms postprocess per image at shape (1, 3, 1280, 736)\n"
     ]
    },
    {
     "name": "stderr",
     "output_type": "stream",
     "text": [
      " 17%|█▋        | 26/151 [00:04<00:07, 16.40it/s]"
     ]
    },
    {
     "name": "stdout",
     "output_type": "stream",
     "text": [
      "\n",
      "image 1/1 /kaggle/input/wind-turbine-damage-challenges/Wind Turbine damage/test/20240120_155211_mp4-0162_jpg.rf.8b7f8d55232f8cb9ddf65739df72e6a7.jpg: 1280x736 1 no effect, 1 corrosion, 1 missing teeth, 27.0ms\n",
      "Speed: 6.8ms preprocess, 27.0ms inference, 1.6ms postprocess per image at shape (1, 3, 1280, 736)\n",
      "\n",
      "image 1/1 /kaggle/input/wind-turbine-damage-challenges/Wind Turbine damage/test/20240120_155211_mp4-0169_jpg.rf.5e1be9ba9931db503f8f947f84fe617c.jpg: 1280x736 1 no effect, 5 corrosions, 27.4ms\n",
      "Speed: 7.0ms preprocess, 27.4ms inference, 1.6ms postprocess per image at shape (1, 3, 1280, 736)\n"
     ]
    },
    {
     "name": "stderr",
     "output_type": "stream",
     "text": [
      " 19%|█▊        | 28/151 [00:04<00:07, 16.73it/s]"
     ]
    },
    {
     "name": "stdout",
     "output_type": "stream",
     "text": [
      "\n",
      "image 1/1 /kaggle/input/wind-turbine-damage-challenges/Wind Turbine damage/test/20240120_155211_mp4-0181_jpg.rf.66646f9753d87d16a241d1a3e292f0b6.jpg: 1280x736 1 no effect, 1 patch, 26.4ms\n",
      "Speed: 6.8ms preprocess, 26.4ms inference, 1.5ms postprocess per image at shape (1, 3, 1280, 736)\n",
      "\n",
      "image 1/1 /kaggle/input/wind-turbine-damage-challenges/Wind Turbine damage/test/20240120_155211_mp4-0191_jpg.rf.f484f72de307f2e534029f265407a11a.jpg: 1280x736 1 no effect, 26.3ms\n",
      "Speed: 6.7ms preprocess, 26.3ms inference, 1.6ms postprocess per image at shape (1, 3, 1280, 736)\n"
     ]
    },
    {
     "name": "stderr",
     "output_type": "stream",
     "text": [
      " 20%|█▉        | 30/151 [00:04<00:07, 17.10it/s]"
     ]
    },
    {
     "name": "stdout",
     "output_type": "stream",
     "text": [
      "\n",
      "image 1/1 /kaggle/input/wind-turbine-damage-challenges/Wind Turbine damage/test/20240120_155211_mp4-0194_jpg.rf.d159889f8505128041a06c158de5722c.jpg: 1280x736 1 no effect, 1 corrosion, 28.3ms\n",
      "Speed: 6.6ms preprocess, 28.3ms inference, 1.7ms postprocess per image at shape (1, 3, 1280, 736)\n",
      "\n",
      "image 1/1 /kaggle/input/wind-turbine-damage-challenges/Wind Turbine damage/test/20240120_155211_mp4-0197_jpg.rf.441cee5d1329381499818d23066115d8.jpg: 1280x736 1 no effect, 26.8ms\n",
      "Speed: 6.8ms preprocess, 26.8ms inference, 1.7ms postprocess per image at shape (1, 3, 1280, 736)\n"
     ]
    },
    {
     "name": "stderr",
     "output_type": "stream",
     "text": [
      " 21%|██        | 32/151 [00:04<00:07, 16.82it/s]"
     ]
    },
    {
     "name": "stdout",
     "output_type": "stream",
     "text": [
      "\n",
      "image 1/1 /kaggle/input/wind-turbine-damage-challenges/Wind Turbine damage/test/20240120_155211_mp4-0202_jpg.rf.635e5d1d6357a368cd07285e3859f2f4.jpg: 1280x736 1 no effect, 27.2ms\n",
      "Speed: 6.9ms preprocess, 27.2ms inference, 1.7ms postprocess per image at shape (1, 3, 1280, 736)\n",
      "\n",
      "image 1/1 /kaggle/input/wind-turbine-damage-challenges/Wind Turbine damage/test/20240120_155211_mp4-0214_jpg.rf.3c67777e183c90e06f84a4c5b9115c0d.jpg: 1280x736 1 no effect, 1 corrosion, 26.7ms\n",
      "Speed: 6.7ms preprocess, 26.7ms inference, 1.6ms postprocess per image at shape (1, 3, 1280, 736)\n"
     ]
    },
    {
     "name": "stderr",
     "output_type": "stream",
     "text": [
      " 23%|██▎       | 34/151 [00:04<00:06, 17.05it/s]"
     ]
    },
    {
     "name": "stdout",
     "output_type": "stream",
     "text": [
      "\n",
      "image 1/1 /kaggle/input/wind-turbine-damage-challenges/Wind Turbine damage/test/20240120_155211_mp4-0222_jpg.rf.10d6752c3fb32b117287db9cb9ba6e0b.jpg: 1280x736 1 no effect, 1 corrosion, 1 patch, 26.8ms\n",
      "Speed: 7.0ms preprocess, 26.8ms inference, 1.6ms postprocess per image at shape (1, 3, 1280, 736)\n",
      "\n",
      "image 1/1 /kaggle/input/wind-turbine-damage-challenges/Wind Turbine damage/test/20240120_160457-0-_jpg.rf.609b8e725f177836e00fd543f6d92f73.jpg: 1280x1280 2 no effects, 122 corrosions, 21 missing teeths, 1 patch, 30.8ms\n",
      "Speed: 14.1ms preprocess, 30.8ms inference, 2.0ms postprocess per image at shape (1, 3, 1280, 1280)\n"
     ]
    },
    {
     "name": "stderr",
     "output_type": "stream",
     "text": [
      " 24%|██▍       | 36/151 [00:04<00:08, 12.87it/s]"
     ]
    },
    {
     "name": "stdout",
     "output_type": "stream",
     "text": [
      "\n",
      "image 1/1 /kaggle/input/wind-turbine-damage-challenges/Wind Turbine damage/test/20240120_160553_jpg.rf.02cafabaceab373ddc1e5c30e1ba8499.jpg: 1280x1280 2 no effects, 170 corrosions, 28 missing teeths, 38.6ms\n",
      "Speed: 15.4ms preprocess, 38.6ms inference, 2.3ms postprocess per image at shape (1, 3, 1280, 1280)\n",
      "\n",
      "image 1/1 /kaggle/input/wind-turbine-damage-challenges/Wind Turbine damage/test/20240120_160557_jpg.rf.4d9909256e4bcb526d3eb1b63082b093.jpg: 1280x1280 1 no effect, 104 corrosions, 11 missing teeths, 2 patchs, 30.6ms\n",
      "Speed: 13.3ms preprocess, 30.6ms inference, 1.8ms postprocess per image at shape (1, 3, 1280, 1280)\n"
     ]
    },
    {
     "name": "stderr",
     "output_type": "stream",
     "text": [
      " 25%|██▌       | 38/151 [00:05<00:11,  9.99it/s]"
     ]
    },
    {
     "name": "stdout",
     "output_type": "stream",
     "text": [
      "\n",
      "image 1/1 /kaggle/input/wind-turbine-damage-challenges/Wind Turbine damage/test/20240120_160706-0-_jpg.rf.8582ddb4316cf299a51bcb10f58e36a5.jpg: 1280x1280 2 no effects, 19 corrosions, 1 missing teeth, 30.6ms\n",
      "Speed: 13.5ms preprocess, 30.6ms inference, 1.7ms postprocess per image at shape (1, 3, 1280, 1280)\n",
      "\n",
      "image 1/1 /kaggle/input/wind-turbine-damage-challenges/Wind Turbine damage/test/20240120_160706_jpg.rf.6b2e2b4a13dc2e6d5946abcebccaa874.jpg: 1280x1280 1 no effect, 32 corrosions, 7 missing teeths, 31.2ms\n",
      "Speed: 13.3ms preprocess, 31.2ms inference, 2.5ms postprocess per image at shape (1, 3, 1280, 1280)\n"
     ]
    },
    {
     "name": "stderr",
     "output_type": "stream",
     "text": [
      " 26%|██▋       | 40/151 [00:05<00:12,  8.98it/s]"
     ]
    },
    {
     "name": "stdout",
     "output_type": "stream",
     "text": [
      "\n",
      "image 1/1 /kaggle/input/wind-turbine-damage-challenges/Wind Turbine damage/test/20240120_160957_jpg.rf.5155c81578046677bece204ddb26c09d.jpg: 1280x1280 3 no effects, 10 corrosions, 1 missing teeth, 30.4ms\n",
      "Speed: 13.1ms preprocess, 30.4ms inference, 1.7ms postprocess per image at shape (1, 3, 1280, 1280)\n",
      "\n",
      "image 1/1 /kaggle/input/wind-turbine-damage-challenges/Wind Turbine damage/test/20240120_161014_jpg.rf.a886dd45473612fae63ab4fed235c9de.jpg: 1280x1280 4 no effects, 13 corrosions, 30.8ms\n",
      "Speed: 13.5ms preprocess, 30.8ms inference, 1.7ms postprocess per image at shape (1, 3, 1280, 1280)\n"
     ]
    },
    {
     "name": "stderr",
     "output_type": "stream",
     "text": [
      " 28%|██▊       | 42/151 [00:05<00:12,  8.50it/s]"
     ]
    },
    {
     "name": "stdout",
     "output_type": "stream",
     "text": [
      "\n",
      "image 1/1 /kaggle/input/wind-turbine-damage-challenges/Wind Turbine damage/test/20240120_161017_jpg.rf.951c430467f8f672bd6885680ab7dadc.jpg: 1280x1280 1 no effect, 1 corrosion, 32.1ms\n",
      "Speed: 13.4ms preprocess, 32.1ms inference, 1.7ms postprocess per image at shape (1, 3, 1280, 1280)\n"
     ]
    },
    {
     "name": "stderr",
     "output_type": "stream",
     "text": [
      " 28%|██▊       | 43/151 [00:05<00:13,  8.27it/s]"
     ]
    },
    {
     "name": "stdout",
     "output_type": "stream",
     "text": [
      "\n",
      "image 1/1 /kaggle/input/wind-turbine-damage-challenges/Wind Turbine damage/test/20240120_161023_jpg.rf.1af5fe6c0ba91aacdc8502f9365d62dc.jpg: 1280x1280 2 no effects, 59 corrosions, 2 missing teeths, 1 patch, 32.3ms\n",
      "Speed: 13.5ms preprocess, 32.3ms inference, 2.0ms postprocess per image at shape (1, 3, 1280, 1280)\n"
     ]
    },
    {
     "name": "stderr",
     "output_type": "stream",
     "text": [
      " 29%|██▉       | 44/151 [00:05<00:13,  7.95it/s]"
     ]
    },
    {
     "name": "stdout",
     "output_type": "stream",
     "text": [
      "\n",
      "image 1/1 /kaggle/input/wind-turbine-damage-challenges/Wind Turbine damage/test/20240120_161103-0-_jpg.rf.7ac8bc94eb0190afc02b4a4ceab49ac1.jpg: 1280x1280 3 no effects, 48 corrosions, 11 missing teeths, 1 patch, 31.9ms\n",
      "Speed: 13.5ms preprocess, 31.9ms inference, 1.7ms postprocess per image at shape (1, 3, 1280, 1280)\n"
     ]
    },
    {
     "name": "stderr",
     "output_type": "stream",
     "text": [
      " 30%|██▉       | 45/151 [00:06<00:13,  7.95it/s]"
     ]
    },
    {
     "name": "stdout",
     "output_type": "stream",
     "text": [
      "\n",
      "image 1/1 /kaggle/input/wind-turbine-damage-challenges/Wind Turbine damage/test/20240120_161118_jpg.rf.c474047ad5d392415971b82ea2691ff5.jpg: 1280x1280 2 no effects, 7 corrosions, 1 missing teeth, 31.9ms\n",
      "Speed: 13.2ms preprocess, 31.9ms inference, 1.6ms postprocess per image at shape (1, 3, 1280, 1280)\n"
     ]
    },
    {
     "name": "stderr",
     "output_type": "stream",
     "text": [
      " 30%|███       | 46/151 [00:06<00:13,  7.77it/s]"
     ]
    },
    {
     "name": "stdout",
     "output_type": "stream",
     "text": [
      "\n",
      "image 1/1 /kaggle/input/wind-turbine-damage-challenges/Wind Turbine damage/test/20240120_161126_jpg.rf.af941467cefb044aa50ac875b6bdc0e8.jpg: 1280x1280 2 no effects, 40 corrosions, 2 missing teeths, 31.7ms\n",
      "Speed: 13.4ms preprocess, 31.7ms inference, 1.7ms postprocess per image at shape (1, 3, 1280, 1280)\n"
     ]
    },
    {
     "name": "stderr",
     "output_type": "stream",
     "text": [
      " 31%|███       | 47/151 [00:06<00:13,  7.44it/s]"
     ]
    },
    {
     "name": "stdout",
     "output_type": "stream",
     "text": [
      "\n",
      "image 1/1 /kaggle/input/wind-turbine-damage-challenges/Wind Turbine damage/test/20240120_161133-0-_jpg.rf.dcddf116ed0ce393efa094713138319c.jpg: 1280x1280 2 no effects, 1 corrosion, 14 missing teeths, 31.7ms\n",
      "Speed: 13.4ms preprocess, 31.7ms inference, 1.7ms postprocess per image at shape (1, 3, 1280, 1280)\n"
     ]
    },
    {
     "name": "stderr",
     "output_type": "stream",
     "text": [
      " 32%|███▏      | 48/151 [00:06<00:13,  7.45it/s]"
     ]
    },
    {
     "name": "stdout",
     "output_type": "stream",
     "text": [
      "\n",
      "image 1/1 /kaggle/input/wind-turbine-damage-challenges/Wind Turbine damage/test/20240120_161134-0-_jpg.rf.bdb581aa01a6efc955bd97285dbd74e1.jpg: 1280x1280 2 no effects, 1 corrosion, 31.8ms\n",
      "Speed: 13.5ms preprocess, 31.8ms inference, 1.6ms postprocess per image at shape (1, 3, 1280, 1280)\n"
     ]
    },
    {
     "name": "stderr",
     "output_type": "stream",
     "text": [
      " 32%|███▏      | 49/151 [00:06<00:13,  7.47it/s]"
     ]
    },
    {
     "name": "stdout",
     "output_type": "stream",
     "text": [
      "\n",
      "image 1/1 /kaggle/input/wind-turbine-damage-challenges/Wind Turbine damage/test/20240120_161207_jpg.rf.b811af46b8e7c338c1ffaabeb5cf66bb.jpg: 1280x1280 2 no effects, 32.2ms\n",
      "Speed: 13.5ms preprocess, 32.2ms inference, 1.6ms postprocess per image at shape (1, 3, 1280, 1280)\n"
     ]
    },
    {
     "name": "stderr",
     "output_type": "stream",
     "text": [
      " 33%|███▎      | 50/151 [00:06<00:12,  7.84it/s]"
     ]
    },
    {
     "name": "stdout",
     "output_type": "stream",
     "text": [
      "\n",
      "image 1/1 /kaggle/input/wind-turbine-damage-challenges/Wind Turbine damage/test/20240120_161228_jpg.rf.8551f713d2a16451aa3ba4c2b155e00b.jpg: 1280x1280 1 no effect, 1 corrosion, 56 missing teeths, 31.8ms\n",
      "Speed: 13.2ms preprocess, 31.8ms inference, 1.7ms postprocess per image at shape (1, 3, 1280, 1280)\n"
     ]
    },
    {
     "name": "stderr",
     "output_type": "stream",
     "text": [
      " 34%|███▍      | 51/151 [00:06<00:13,  7.65it/s]"
     ]
    },
    {
     "name": "stdout",
     "output_type": "stream",
     "text": [
      "\n",
      "image 1/1 /kaggle/input/wind-turbine-damage-challenges/Wind Turbine damage/test/20240120_162824_jpg.rf.a51b12875976d0bffc12c06581c56936.jpg: 1280x1280 1 no effect, 1 corrosion, 48 missing teeths, 31.8ms\n",
      "Speed: 13.5ms preprocess, 31.8ms inference, 1.6ms postprocess per image at shape (1, 3, 1280, 1280)\n"
     ]
    },
    {
     "name": "stderr",
     "output_type": "stream",
     "text": [
      " 34%|███▍      | 52/151 [00:07<00:13,  7.51it/s]"
     ]
    },
    {
     "name": "stdout",
     "output_type": "stream",
     "text": [
      "\n",
      "image 1/1 /kaggle/input/wind-turbine-damage-challenges/Wind Turbine damage/test/20240120_162828-1-_jpg.rf.4fdac321731d4d3db13d4b820258854b.jpg: 1280x1280 1 no effect, 4 corrosions, 31.7ms\n",
      "Speed: 13.5ms preprocess, 31.7ms inference, 1.6ms postprocess per image at shape (1, 3, 1280, 1280)\n"
     ]
    },
    {
     "name": "stderr",
     "output_type": "stream",
     "text": [
      " 35%|███▌      | 53/151 [00:07<00:12,  7.57it/s]"
     ]
    },
    {
     "name": "stdout",
     "output_type": "stream",
     "text": [
      "\n",
      "image 1/1 /kaggle/input/wind-turbine-damage-challenges/Wind Turbine damage/test/20240120_162838_jpg.rf.306512a3b2d96f18f9dea28941d46350.jpg: 1280x1280 1 no effect, 7 corrosions, 5 missing teeths, 32.0ms\n",
      "Speed: 13.5ms preprocess, 32.0ms inference, 1.6ms postprocess per image at shape (1, 3, 1280, 1280)\n"
     ]
    },
    {
     "name": "stderr",
     "output_type": "stream",
     "text": [
      " 36%|███▌      | 54/151 [00:07<00:12,  7.59it/s]"
     ]
    },
    {
     "name": "stdout",
     "output_type": "stream",
     "text": [
      "\n",
      "image 1/1 /kaggle/input/wind-turbine-damage-challenges/Wind Turbine damage/test/20240120_162844-0-_jpg.rf.9b6edc74a2607728b200221a9fdc546b.jpg: 1280x1280 1 no effect, 8 corrosions, 38 missing teeths, 32.1ms\n",
      "Speed: 13.5ms preprocess, 32.1ms inference, 1.7ms postprocess per image at shape (1, 3, 1280, 1280)\n"
     ]
    },
    {
     "name": "stderr",
     "output_type": "stream",
     "text": [
      " 36%|███▋      | 55/151 [00:07<00:13,  7.33it/s]"
     ]
    },
    {
     "name": "stdout",
     "output_type": "stream",
     "text": [
      "\n",
      "image 1/1 /kaggle/input/wind-turbine-damage-challenges/Wind Turbine damage/test/20240120_162844-1-_jpg.rf.c25211b4ab0af41936afc89d5946f32b.jpg: 1280x1280 1 no effect, 10 corrosions, 9 missing teeths, 31.8ms\n",
      "Speed: 13.5ms preprocess, 31.8ms inference, 1.7ms postprocess per image at shape (1, 3, 1280, 1280)\n"
     ]
    },
    {
     "name": "stderr",
     "output_type": "stream",
     "text": [
      " 37%|███▋      | 56/151 [00:07<00:13,  7.20it/s]"
     ]
    },
    {
     "name": "stdout",
     "output_type": "stream",
     "text": [
      "\n",
      "image 1/1 /kaggle/input/wind-turbine-damage-challenges/Wind Turbine damage/test/20240120_162851-0-_jpg.rf.5becbe16d62094a5106285708a1ec473.jpg: 1280x1280 1 no effect, 4 corrosions, 32 missing teeths, 1 patch, 31.8ms\n",
      "Speed: 13.4ms preprocess, 31.8ms inference, 1.6ms postprocess per image at shape (1, 3, 1280, 1280)\n"
     ]
    },
    {
     "name": "stderr",
     "output_type": "stream",
     "text": [
      " 38%|███▊      | 57/151 [00:07<00:13,  7.17it/s]"
     ]
    },
    {
     "name": "stdout",
     "output_type": "stream",
     "text": [
      "\n",
      "image 1/1 /kaggle/input/wind-turbine-damage-challenges/Wind Turbine damage/test/20240120_162905-0-_jpg.rf.cec91a04d4d97418ef532934b05aa31d.jpg: 1280x1280 1 no effect, 27 missing teeths, 32.5ms\n",
      "Speed: 13.6ms preprocess, 32.5ms inference, 1.7ms postprocess per image at shape (1, 3, 1280, 1280)\n"
     ]
    },
    {
     "name": "stderr",
     "output_type": "stream",
     "text": [
      " 38%|███▊      | 58/151 [00:07<00:12,  7.21it/s]"
     ]
    },
    {
     "name": "stdout",
     "output_type": "stream",
     "text": [
      "\n",
      "image 1/1 /kaggle/input/wind-turbine-damage-challenges/Wind Turbine damage/test/20240120_162912-0-_jpg.rf.3d1a61f602d2413278b9f6cb2f8f111f.jpg: 1280x1280 1 no effect, 12 corrosions, 7 missing teeths, 32.0ms\n",
      "Speed: 13.5ms preprocess, 32.0ms inference, 1.7ms postprocess per image at shape (1, 3, 1280, 1280)\n"
     ]
    },
    {
     "name": "stderr",
     "output_type": "stream",
     "text": [
      " 39%|███▉      | 59/151 [00:08<00:13,  7.04it/s]"
     ]
    },
    {
     "name": "stdout",
     "output_type": "stream",
     "text": [
      "\n",
      "image 1/1 /kaggle/input/wind-turbine-damage-challenges/Wind Turbine damage/test/20240120_162914-0-_jpg.rf.f59673051fd81362e6b0d7794bab432b.jpg: 1280x1280 1 no effect, 2 corrosions, 32 missing teeths, 31.8ms\n",
      "Speed: 13.5ms preprocess, 31.8ms inference, 1.7ms postprocess per image at shape (1, 3, 1280, 1280)\n"
     ]
    },
    {
     "name": "stderr",
     "output_type": "stream",
     "text": [
      " 40%|███▉      | 60/151 [00:08<00:12,  7.14it/s]"
     ]
    },
    {
     "name": "stdout",
     "output_type": "stream",
     "text": [
      "\n",
      "image 1/1 /kaggle/input/wind-turbine-damage-challenges/Wind Turbine damage/test/20240120_162955-0-_jpg.rf.1495715f852a7fff8456e044dd26cc11.jpg: 1280x1280 1 no effect, 2 corrosions, 46 missing teeths, 31.9ms\n",
      "Speed: 13.3ms preprocess, 31.9ms inference, 1.7ms postprocess per image at shape (1, 3, 1280, 1280)\n"
     ]
    },
    {
     "name": "stderr",
     "output_type": "stream",
     "text": [
      " 40%|████      | 61/151 [00:08<00:12,  7.13it/s]"
     ]
    },
    {
     "name": "stdout",
     "output_type": "stream",
     "text": [
      "\n",
      "image 1/1 /kaggle/input/wind-turbine-damage-challenges/Wind Turbine damage/test/20240120_163003-1-_jpg.rf.e256f36bd594cafc2041415d9a119600.jpg: 1280x1280 2 no effects, 2 corrosions, 33.0ms\n",
      "Speed: 13.2ms preprocess, 33.0ms inference, 1.7ms postprocess per image at shape (1, 3, 1280, 1280)\n"
     ]
    },
    {
     "name": "stderr",
     "output_type": "stream",
     "text": [
      " 41%|████      | 62/151 [00:08<00:12,  7.25it/s]"
     ]
    },
    {
     "name": "stdout",
     "output_type": "stream",
     "text": [
      "\n",
      "image 1/1 /kaggle/input/wind-turbine-damage-challenges/Wind Turbine damage/test/20240120_163005-0-_jpg.rf.ab8c91946df2390ab574f5de89fba09e.jpg: 1280x1280 2 no effects, 4 corrosions, 31.7ms\n",
      "Speed: 13.2ms preprocess, 31.7ms inference, 1.6ms postprocess per image at shape (1, 3, 1280, 1280)\n"
     ]
    },
    {
     "name": "stderr",
     "output_type": "stream",
     "text": [
      " 42%|████▏     | 63/151 [00:08<00:11,  7.38it/s]"
     ]
    },
    {
     "name": "stdout",
     "output_type": "stream",
     "text": [
      "\n",
      "image 1/1 /kaggle/input/wind-turbine-damage-challenges/Wind Turbine damage/test/20240120_163020-0-_jpg.rf.e503792ced04bce579305e19fa3a485c.jpg: 1280x1280 1 no effect, 14 corrosions, 23 missing teeths, 32.8ms\n",
      "Speed: 13.9ms preprocess, 32.8ms inference, 1.8ms postprocess per image at shape (1, 3, 1280, 1280)\n"
     ]
    },
    {
     "name": "stderr",
     "output_type": "stream",
     "text": [
      " 42%|████▏     | 64/151 [00:08<00:12,  7.06it/s]"
     ]
    },
    {
     "name": "stdout",
     "output_type": "stream",
     "text": [
      "\n",
      "image 1/1 /kaggle/input/wind-turbine-damage-challenges/Wind Turbine damage/test/20240120_163021-0-_jpg.rf.2b48f3937dc7bd85cc5b2570c331b0fe.jpg: 1280x1280 1 no effect, 12 corrosions, 31 missing teeths, 33.3ms\n",
      "Speed: 13.2ms preprocess, 33.3ms inference, 1.8ms postprocess per image at shape (1, 3, 1280, 1280)\n"
     ]
    },
    {
     "name": "stderr",
     "output_type": "stream",
     "text": [
      " 43%|████▎     | 65/151 [00:08<00:12,  6.87it/s]"
     ]
    },
    {
     "name": "stdout",
     "output_type": "stream",
     "text": [
      "\n",
      "image 1/1 /kaggle/input/wind-turbine-damage-challenges/Wind Turbine damage/test/20240120_163033-0-_jpg.rf.baf4645828be43c72d9e8fcfc24b64b5.jpg: 1280x1280 1 no effect, 16 corrosions, 51 missing teeths, 33.2ms\n",
      "Speed: 13.7ms preprocess, 33.2ms inference, 1.7ms postprocess per image at shape (1, 3, 1280, 1280)\n"
     ]
    },
    {
     "name": "stderr",
     "output_type": "stream",
     "text": [
      " 44%|████▎     | 66/151 [00:09<00:12,  6.72it/s]"
     ]
    },
    {
     "name": "stdout",
     "output_type": "stream",
     "text": [
      "\n",
      "image 1/1 /kaggle/input/wind-turbine-damage-challenges/Wind Turbine damage/test/20240120_163038_jpg.rf.dc1643fa88e3f647d7664ce37a39f3fe.jpg: 1280x1280 1 no effect, 13 corrosions, 60 missing teeths, 32.9ms\n",
      "Speed: 13.6ms preprocess, 32.9ms inference, 1.7ms postprocess per image at shape (1, 3, 1280, 1280)\n"
     ]
    },
    {
     "name": "stderr",
     "output_type": "stream",
     "text": [
      " 44%|████▍     | 67/151 [00:09<00:12,  6.67it/s]"
     ]
    },
    {
     "name": "stdout",
     "output_type": "stream",
     "text": [
      "\n",
      "image 1/1 /kaggle/input/wind-turbine-damage-challenges/Wind Turbine damage/test/20240120_163040-0-_jpg.rf.9a6a8c19c726628a53bd9f5db3f2f439.jpg: 1280x1280 1 no effect, 14 corrosions, 48 missing teeths, 32.3ms\n",
      "Speed: 13.6ms preprocess, 32.3ms inference, 1.8ms postprocess per image at shape (1, 3, 1280, 1280)\n"
     ]
    },
    {
     "name": "stderr",
     "output_type": "stream",
     "text": [
      " 45%|████▌     | 68/151 [00:09<00:12,  6.66it/s]"
     ]
    },
    {
     "name": "stdout",
     "output_type": "stream",
     "text": [
      "\n",
      "image 1/1 /kaggle/input/wind-turbine-damage-challenges/Wind Turbine damage/test/20240120_163044_jpg.rf.9d8b6fcd8b4cbab86c02647c41f007d5.jpg: 1280x1280 1 no effect, 19 corrosions, 29 missing teeths, 2 patchs, 39.9ms\n",
      "Speed: 18.9ms preprocess, 39.9ms inference, 1.9ms postprocess per image at shape (1, 3, 1280, 1280)\n"
     ]
    },
    {
     "name": "stderr",
     "output_type": "stream",
     "text": [
      " 46%|████▌     | 69/151 [00:09<00:12,  6.45it/s]"
     ]
    },
    {
     "name": "stdout",
     "output_type": "stream",
     "text": [
      "\n",
      "image 1/1 /kaggle/input/wind-turbine-damage-challenges/Wind Turbine damage/test/20240120_163045-0-_jpg.rf.ee9cb8ff7b1709019cea1ed609b67d2f.jpg: 1280x1280 1 no effect, 17 corrosions, 22 missing teeths, 32.0ms\n",
      "Speed: 13.9ms preprocess, 32.0ms inference, 1.7ms postprocess per image at shape (1, 3, 1280, 1280)\n"
     ]
    },
    {
     "name": "stderr",
     "output_type": "stream",
     "text": [
      " 46%|████▋     | 70/151 [00:09<00:12,  6.48it/s]"
     ]
    },
    {
     "name": "stdout",
     "output_type": "stream",
     "text": [
      "\n",
      "image 1/1 /kaggle/input/wind-turbine-damage-challenges/Wind Turbine damage/test/20240120_163052_jpg.rf.111fcd1bad265aa0c2447269bca9a49a.jpg: 1280x1280 2 no effects, 4 corrosions, 40 missing teeths, 31.9ms\n",
      "Speed: 13.9ms preprocess, 31.9ms inference, 1.9ms postprocess per image at shape (1, 3, 1280, 1280)\n"
     ]
    },
    {
     "name": "stderr",
     "output_type": "stream",
     "text": [
      " 47%|████▋     | 71/151 [00:09<00:12,  6.61it/s]"
     ]
    },
    {
     "name": "stdout",
     "output_type": "stream",
     "text": [
      "\n",
      "image 1/1 /kaggle/input/wind-turbine-damage-challenges/Wind Turbine damage/test/20240120_163053-1-_jpg.rf.d5e4b0912ebe72247db35232ba3fffdd.jpg: 1280x1280 1 no effect, 3 corrosions, 38 missing teeths, 36.9ms\n",
      "Speed: 13.8ms preprocess, 36.9ms inference, 2.8ms postprocess per image at shape (1, 3, 1280, 1280)\n"
     ]
    },
    {
     "name": "stderr",
     "output_type": "stream",
     "text": [
      " 48%|████▊     | 72/151 [00:09<00:11,  6.65it/s]"
     ]
    },
    {
     "name": "stdout",
     "output_type": "stream",
     "text": [
      "\n",
      "image 1/1 /kaggle/input/wind-turbine-damage-challenges/Wind Turbine damage/test/20240120_163054_jpg.rf.9456e409d5d472605b41e51c47f80d04.jpg: 1280x1280 1 no effect, 2 corrosions, 35 missing teeths, 31.8ms\n",
      "Speed: 13.5ms preprocess, 31.8ms inference, 1.7ms postprocess per image at shape (1, 3, 1280, 1280)\n"
     ]
    },
    {
     "name": "stderr",
     "output_type": "stream",
     "text": [
      " 48%|████▊     | 73/151 [00:10<00:11,  6.71it/s]"
     ]
    },
    {
     "name": "stdout",
     "output_type": "stream",
     "text": [
      "\n",
      "image 1/1 /kaggle/input/wind-turbine-damage-challenges/Wind Turbine damage/test/20240120_163623_jpg.rf.dadee9dfb41e95b4016dd97010437f84.jpg: 1280x1280 1 no effect, 20 corrosions, 7 missing teeths, 32.0ms\n",
      "Speed: 13.4ms preprocess, 32.0ms inference, 1.7ms postprocess per image at shape (1, 3, 1280, 1280)\n"
     ]
    },
    {
     "name": "stderr",
     "output_type": "stream",
     "text": [
      " 49%|████▉     | 74/151 [00:10<00:11,  6.86it/s]"
     ]
    },
    {
     "name": "stdout",
     "output_type": "stream",
     "text": [
      "\n",
      "image 1/1 /kaggle/input/wind-turbine-damage-challenges/Wind Turbine damage/test/20240120_163626_jpg.rf.bb15a2c995255433bb8e8aabcd91c8b5.jpg: 1280x1280 1 no effect, 24 corrosions, 9 missing teeths, 32.1ms\n",
      "Speed: 13.4ms preprocess, 32.1ms inference, 1.7ms postprocess per image at shape (1, 3, 1280, 1280)\n"
     ]
    },
    {
     "name": "stderr",
     "output_type": "stream",
     "text": [
      " 50%|████▉     | 75/151 [00:10<00:11,  6.71it/s]"
     ]
    },
    {
     "name": "stdout",
     "output_type": "stream",
     "text": [
      "\n",
      "image 1/1 /kaggle/input/wind-turbine-damage-challenges/Wind Turbine damage/test/20240120_163642_jpg.rf.a184fefcd0f1c68991113d7b4d82cf0c.jpg: 1280x1280 1 no effect, 1 corrosion, 53 missing teeths, 31.6ms\n",
      "Speed: 13.8ms preprocess, 31.6ms inference, 1.7ms postprocess per image at shape (1, 3, 1280, 1280)\n"
     ]
    },
    {
     "name": "stderr",
     "output_type": "stream",
     "text": [
      " 50%|█████     | 76/151 [00:10<00:11,  6.63it/s]"
     ]
    },
    {
     "name": "stdout",
     "output_type": "stream",
     "text": [
      "\n",
      "image 1/1 /kaggle/input/wind-turbine-damage-challenges/Wind Turbine damage/test/20240120_163644-0-_jpg.rf.968f7d72ae7be6ef8733b42490c03aed.jpg: 1280x1280 1 no effect, 1 corrosion, 81 missing teeths, 31.8ms\n",
      "Speed: 13.5ms preprocess, 31.8ms inference, 1.7ms postprocess per image at shape (1, 3, 1280, 1280)\n"
     ]
    },
    {
     "name": "stderr",
     "output_type": "stream",
     "text": [
      " 51%|█████     | 77/151 [00:10<00:11,  6.69it/s]"
     ]
    },
    {
     "name": "stdout",
     "output_type": "stream",
     "text": [
      "\n",
      "image 1/1 /kaggle/input/wind-turbine-damage-challenges/Wind Turbine damage/test/20240120_163650-0-_jpg.rf.6ff26d6832686600c6f18b4be821482e.jpg: 1280x1280 1 no effect, 5 corrosions, 40 missing teeths, 31.8ms\n",
      "Speed: 13.4ms preprocess, 31.8ms inference, 1.7ms postprocess per image at shape (1, 3, 1280, 1280)\n"
     ]
    },
    {
     "name": "stderr",
     "output_type": "stream",
     "text": [
      " 52%|█████▏    | 78/151 [00:10<00:10,  6.77it/s]"
     ]
    },
    {
     "name": "stdout",
     "output_type": "stream",
     "text": [
      "\n",
      "image 1/1 /kaggle/input/wind-turbine-damage-challenges/Wind Turbine damage/test/20240120_163650_jpg.rf.d420c98f550cdddfdcf15388a6232091.jpg: 1280x1280 1 no effect, 4 corrosions, 42 missing teeths, 33.7ms\n",
      "Speed: 13.1ms preprocess, 33.7ms inference, 1.7ms postprocess per image at shape (1, 3, 1280, 1280)\n"
     ]
    },
    {
     "name": "stderr",
     "output_type": "stream",
     "text": [
      " 52%|█████▏    | 79/151 [00:10<00:10,  6.82it/s]"
     ]
    },
    {
     "name": "stdout",
     "output_type": "stream",
     "text": [
      "\n",
      "image 1/1 /kaggle/input/wind-turbine-damage-challenges/Wind Turbine damage/test/20240120_163730-0-_jpg.rf.7139d077e629ae78b03081e5ca84dd98.jpg: 1280x1280 1 no effect, 24 corrosions, 16 missing teeths, 31.7ms\n",
      "Speed: 13.2ms preprocess, 31.7ms inference, 1.8ms postprocess per image at shape (1, 3, 1280, 1280)\n"
     ]
    },
    {
     "name": "stderr",
     "output_type": "stream",
     "text": [
      " 53%|█████▎    | 80/151 [00:11<00:10,  6.88it/s]"
     ]
    },
    {
     "name": "stdout",
     "output_type": "stream",
     "text": [
      "\n",
      "image 1/1 /kaggle/input/wind-turbine-damage-challenges/Wind Turbine damage/test/20240120_164156_jpg.rf.271c749cefc88f123dd383e89b32dfed.jpg: 1280x1280 6 no effects, 9 corrosions, 6 missing teeths, 31.7ms\n",
      "Speed: 13.5ms preprocess, 31.7ms inference, 1.7ms postprocess per image at shape (1, 3, 1280, 1280)\n"
     ]
    },
    {
     "name": "stderr",
     "output_type": "stream",
     "text": [
      " 54%|█████▎    | 81/151 [00:11<00:09,  7.07it/s]"
     ]
    },
    {
     "name": "stdout",
     "output_type": "stream",
     "text": [
      "\n",
      "image 1/1 /kaggle/input/wind-turbine-damage-challenges/Wind Turbine damage/test/20240120_164348_mp4-2330_jpg.rf.99f885a1881dee8e72b0e2cc91350290.jpg: 1280x736 1 no effect, 2 corrosions, 10 missing teeths, 26.7ms\n",
      "Speed: 6.4ms preprocess, 26.7ms inference, 1.7ms postprocess per image at shape (1, 3, 1280, 736)\n",
      "\n",
      "image 1/1 /kaggle/input/wind-turbine-damage-challenges/Wind Turbine damage/test/20240120_164348_mp4-2500_jpg.rf.f8151151ee2c00ac3ff469cadc42e2dc.jpg: 1280x736 1 no effect, 6 corrosions, 25.7ms\n",
      "Speed: 6.7ms preprocess, 25.7ms inference, 1.6ms postprocess per image at shape (1, 3, 1280, 736)\n"
     ]
    },
    {
     "name": "stderr",
     "output_type": "stream",
     "text": [
      " 55%|█████▍    | 83/151 [00:11<00:06,  9.72it/s]"
     ]
    },
    {
     "name": "stdout",
     "output_type": "stream",
     "text": [
      "\n",
      "image 1/1 /kaggle/input/wind-turbine-damage-challenges/Wind Turbine damage/test/20240120_164348_mp4-4110_jpg.rf.bc5bdabb1f57eb50d3bd4098c921d1fd.jpg: 1280x736 2 no effects, 3 corrosions, 25.8ms\n",
      "Speed: 6.6ms preprocess, 25.8ms inference, 1.6ms postprocess per image at shape (1, 3, 1280, 736)\n",
      "\n",
      "image 1/1 /kaggle/input/wind-turbine-damage-challenges/Wind Turbine damage/test/20240120_164348_mp4-4114_jpg.rf.5fa408a4c5bfd3b186f2a54dc555e753.jpg: 1280x736 2 no effects, 3 corrosions, 26.2ms\n",
      "Speed: 7.2ms preprocess, 26.2ms inference, 1.5ms postprocess per image at shape (1, 3, 1280, 736)\n"
     ]
    },
    {
     "name": "stderr",
     "output_type": "stream",
     "text": [
      " 56%|█████▋    | 85/151 [00:11<00:05, 11.92it/s]"
     ]
    },
    {
     "name": "stdout",
     "output_type": "stream",
     "text": [
      "\n",
      "image 1/1 /kaggle/input/wind-turbine-damage-challenges/Wind Turbine damage/test/20240120_164348_mp4-4148_jpg.rf.816f4ef4d1de664e9f6fcc45f6dfa11f.jpg: 1280x736 1 no effect, 3 corrosions, 27.1ms\n",
      "Speed: 6.9ms preprocess, 27.1ms inference, 1.6ms postprocess per image at shape (1, 3, 1280, 736)\n",
      "\n",
      "image 1/1 /kaggle/input/wind-turbine-damage-challenges/Wind Turbine damage/test/20240120_164348_mp4-4186_jpg.rf.acc31c48a0599af4ab5b90bf6b4a6136.jpg: 1280x736 1 no effect, 10 corrosions, 3 missing teeths, 26.8ms\n",
      "Speed: 6.5ms preprocess, 26.8ms inference, 1.6ms postprocess per image at shape (1, 3, 1280, 736)\n"
     ]
    },
    {
     "name": "stderr",
     "output_type": "stream",
     "text": [
      " 58%|█████▊    | 87/151 [00:11<00:04, 13.50it/s]"
     ]
    },
    {
     "name": "stdout",
     "output_type": "stream",
     "text": [
      "\n",
      "image 1/1 /kaggle/input/wind-turbine-damage-challenges/Wind Turbine damage/test/20240120_164348_mp4-4190_jpg.rf.35c7cf908606d69f9e88e50415690b7f.jpg: 1280x736 2 no effects, 10 corrosions, 1 missing teeth, 26.6ms\n",
      "Speed: 6.7ms preprocess, 26.6ms inference, 1.6ms postprocess per image at shape (1, 3, 1280, 736)\n",
      "\n",
      "image 1/1 /kaggle/input/wind-turbine-damage-challenges/Wind Turbine damage/test/20240120_164348_mp4-4714_jpg.rf.ab56dbe039b90c154f6ebacce19869f1.jpg: 1280x736 1 no effect, 26.9ms\n",
      "Speed: 6.7ms preprocess, 26.9ms inference, 1.6ms postprocess per image at shape (1, 3, 1280, 736)\n"
     ]
    },
    {
     "name": "stderr",
     "output_type": "stream",
     "text": [
      " 59%|█████▉    | 89/151 [00:11<00:04, 14.70it/s]"
     ]
    },
    {
     "name": "stdout",
     "output_type": "stream",
     "text": [
      "\n",
      "image 1/1 /kaggle/input/wind-turbine-damage-challenges/Wind Turbine damage/test/20240120_164348_mp4-4724_jpg.rf.db7990b2d0a32e3af5930cb8d63704b6.jpg: 1280x736 1 no effect, 27.1ms\n",
      "Speed: 7.0ms preprocess, 27.1ms inference, 1.6ms postprocess per image at shape (1, 3, 1280, 736)\n",
      "\n",
      "image 1/1 /kaggle/input/wind-turbine-damage-challenges/Wind Turbine damage/test/20240120_164348_mp4-4758_jpg.rf.7ec5f576a67700199ac4c7e897253413.jpg: 1280x736 1 no effect, 26.9ms\n",
      "Speed: 6.8ms preprocess, 26.9ms inference, 1.6ms postprocess per image at shape (1, 3, 1280, 736)\n"
     ]
    },
    {
     "name": "stderr",
     "output_type": "stream",
     "text": [
      " 60%|██████    | 91/151 [00:11<00:03, 15.70it/s]"
     ]
    },
    {
     "name": "stdout",
     "output_type": "stream",
     "text": [
      "\n",
      "image 1/1 /kaggle/input/wind-turbine-damage-challenges/Wind Turbine damage/test/20240120_164348_mp4-4881_jpg.rf.4682e343f5944b5f911d891965f0b6d8.jpg: 1280x736 1 no effect, 5 corrosions, 26.8ms\n",
      "Speed: 6.5ms preprocess, 26.8ms inference, 1.6ms postprocess per image at shape (1, 3, 1280, 736)\n",
      "\n",
      "image 1/1 /kaggle/input/wind-turbine-damage-challenges/Wind Turbine damage/test/20240120_164348_mp4-4909_jpg.rf.c2880db9ff2ebe752daa97bc61d1b947.jpg: 1280x736 2 no effects, 6 corrosions, 26.7ms\n",
      "Speed: 6.7ms preprocess, 26.7ms inference, 1.6ms postprocess per image at shape (1, 3, 1280, 736)\n"
     ]
    },
    {
     "name": "stderr",
     "output_type": "stream",
     "text": [
      " 62%|██████▏   | 93/151 [00:11<00:03, 16.28it/s]"
     ]
    },
    {
     "name": "stdout",
     "output_type": "stream",
     "text": [
      "\n",
      "image 1/1 /kaggle/input/wind-turbine-damage-challenges/Wind Turbine damage/test/DJI_0685-1-_JPG.rf.28e5acd6707444bdffa08e561f9b676b.jpg: 736x1280 1 no effect, 4 corrosions, 30 missing teeths, 25.8ms\n",
      "Speed: 8.0ms preprocess, 25.8ms inference, 1.7ms postprocess per image at shape (1, 3, 736, 1280)\n",
      "\n",
      "image 1/1 /kaggle/input/wind-turbine-damage-challenges/Wind Turbine damage/test/DJI_0689-1-_JPG.rf.fa20919f9ea6451ed2d49be4f6f58f08.jpg: 736x1280 1 no effect, 14 corrosions, 27 missing teeths, 26.5ms\n",
      "Speed: 8.1ms preprocess, 26.5ms inference, 2.4ms postprocess per image at shape (1, 3, 736, 1280)\n"
     ]
    },
    {
     "name": "stderr",
     "output_type": "stream",
     "text": [
      " 63%|██████▎   | 95/151 [00:12<00:06,  8.05it/s]"
     ]
    },
    {
     "name": "stdout",
     "output_type": "stream",
     "text": [
      "\n",
      "image 1/1 /kaggle/input/wind-turbine-damage-challenges/Wind Turbine damage/test/DJI_0694-1-_JPG.rf.b82a3198da2abe3ac2509df4a524d049.jpg: 736x1280 1 no effect, 13 corrosions, 8 missing teeths, 1 patch, 26.3ms\n",
      "Speed: 8.0ms preprocess, 26.3ms inference, 1.7ms postprocess per image at shape (1, 3, 736, 1280)\n",
      "\n",
      "image 1/1 /kaggle/input/wind-turbine-damage-challenges/Wind Turbine damage/test/DJI_0695-1-_JPG.rf.a246dba06279f2c5e22e99852bcbbb99.jpg: 736x1280 1 no effect, 11 corrosions, 1 missing teeth, 5 patchs, 27.4ms\n",
      "Speed: 8.1ms preprocess, 27.4ms inference, 1.6ms postprocess per image at shape (1, 3, 736, 1280)\n"
     ]
    },
    {
     "name": "stderr",
     "output_type": "stream",
     "text": [
      " 64%|██████▍   | 97/151 [00:12<00:08,  6.02it/s]"
     ]
    },
    {
     "name": "stdout",
     "output_type": "stream",
     "text": [
      "\n",
      "image 1/1 /kaggle/input/wind-turbine-damage-challenges/Wind Turbine damage/test/DJI_0700-1-_JPG.rf.5959c97c6fecf8a47de229ce1efd54a3.jpg: 736x1280 1 no effect, 9 corrosions, 3 missing teeths, 26.6ms\n",
      "Speed: 8.1ms preprocess, 26.6ms inference, 1.6ms postprocess per image at shape (1, 3, 736, 1280)\n",
      "\n",
      "image 1/1 /kaggle/input/wind-turbine-damage-challenges/Wind Turbine damage/test/DJI_0702-1-_JPG.rf.eb0e2024c06c73aec47ff061322e5159.jpg: 736x1280 1 no effect, 5 corrosions, 1 patch, 26.5ms\n",
      "Speed: 8.3ms preprocess, 26.5ms inference, 1.6ms postprocess per image at shape (1, 3, 736, 1280)\n"
     ]
    },
    {
     "name": "stderr",
     "output_type": "stream",
     "text": [
      " 66%|██████▌   | 99/151 [00:13<00:10,  5.13it/s]"
     ]
    },
    {
     "name": "stdout",
     "output_type": "stream",
     "text": [
      "\n",
      "image 1/1 /kaggle/input/wind-turbine-damage-challenges/Wind Turbine damage/test/DJI_0703-1-_JPG.rf.f37e56bcbcea4be50fbb69163950b25e.jpg: 736x1280 1 no effect, 3 corrosions, 25.7ms\n",
      "Speed: 7.9ms preprocess, 25.7ms inference, 1.6ms postprocess per image at shape (1, 3, 736, 1280)\n"
     ]
    },
    {
     "name": "stderr",
     "output_type": "stream",
     "text": [
      " 66%|██████▌   | 100/151 [00:13<00:10,  4.85it/s]"
     ]
    },
    {
     "name": "stdout",
     "output_type": "stream",
     "text": [
      "\n",
      "image 1/1 /kaggle/input/wind-turbine-damage-challenges/Wind Turbine damage/test/DJI_0704-1-_JPG.rf.60db0f08429e9bc32a75f95e3ee2d118.jpg: 736x1280 1 no effect, 6 corrosions, 26.1ms\n",
      "Speed: 8.1ms preprocess, 26.1ms inference, 1.6ms postprocess per image at shape (1, 3, 736, 1280)\n"
     ]
    },
    {
     "name": "stderr",
     "output_type": "stream",
     "text": [
      " 67%|██████▋   | 101/151 [00:14<00:10,  4.62it/s]"
     ]
    },
    {
     "name": "stdout",
     "output_type": "stream",
     "text": [
      "\n",
      "image 1/1 /kaggle/input/wind-turbine-damage-challenges/Wind Turbine damage/test/DJI_0706-1-_JPG.rf.266efc3b31622fd7c6e2043e77815f0f.jpg: 736x1280 1 no effect, 6 corrosions, 1 missing teeth, 26.3ms\n",
      "Speed: 8.1ms preprocess, 26.3ms inference, 1.6ms postprocess per image at shape (1, 3, 736, 1280)\n"
     ]
    },
    {
     "name": "stderr",
     "output_type": "stream",
     "text": [
      " 68%|██████▊   | 102/151 [00:14<00:11,  4.41it/s]"
     ]
    },
    {
     "name": "stdout",
     "output_type": "stream",
     "text": [
      "\n",
      "image 1/1 /kaggle/input/wind-turbine-damage-challenges/Wind Turbine damage/test/DJI_0713-1-_JPG.rf.d5f2b2b8460d6addaded7f49160182be.jpg: 736x1280 1 no effect, 10 corrosions, 38 missing teeths, 1 patch, 26.8ms\n",
      "Speed: 8.4ms preprocess, 26.8ms inference, 1.8ms postprocess per image at shape (1, 3, 736, 1280)\n"
     ]
    },
    {
     "name": "stderr",
     "output_type": "stream",
     "text": [
      " 68%|██████▊   | 103/151 [00:14<00:11,  4.24it/s]"
     ]
    },
    {
     "name": "stdout",
     "output_type": "stream",
     "text": [
      "\n",
      "image 1/1 /kaggle/input/wind-turbine-damage-challenges/Wind Turbine damage/test/DJI_0719-1-_JPG.rf.875b60e2f99c3faa08041c475b4e99ba.jpg: 736x1280 1 no effect, 1 corrosion, 26.2ms\n",
      "Speed: 8.3ms preprocess, 26.2ms inference, 1.6ms postprocess per image at shape (1, 3, 736, 1280)\n"
     ]
    },
    {
     "name": "stderr",
     "output_type": "stream",
     "text": [
      " 69%|██████▉   | 104/151 [00:14<00:11,  4.14it/s]"
     ]
    },
    {
     "name": "stdout",
     "output_type": "stream",
     "text": [
      "\n",
      "image 1/1 /kaggle/input/wind-turbine-damage-challenges/Wind Turbine damage/test/DJI_0724-1-_JPG.rf.6a190fc02e39550aab35e08235f34f30.jpg: 736x1280 2 no effects, 35 corrosions, 3 missing teeths, 26.3ms\n",
      "Speed: 8.1ms preprocess, 26.3ms inference, 1.7ms postprocess per image at shape (1, 3, 736, 1280)\n"
     ]
    },
    {
     "name": "stderr",
     "output_type": "stream",
     "text": [
      " 70%|██████▉   | 105/151 [00:15<00:11,  3.94it/s]"
     ]
    },
    {
     "name": "stdout",
     "output_type": "stream",
     "text": [
      "\n",
      "image 1/1 /kaggle/input/wind-turbine-damage-challenges/Wind Turbine damage/test/DJI_0727-1-_JPG.rf.1ba9bf8c97c13eca16e3840a2f576076.jpg: 736x1280 1 no effect, 10 corrosions, 1 missing teeth, 25.9ms\n",
      "Speed: 8.0ms preprocess, 25.9ms inference, 1.8ms postprocess per image at shape (1, 3, 736, 1280)\n"
     ]
    },
    {
     "name": "stderr",
     "output_type": "stream",
     "text": [
      " 70%|███████   | 106/151 [00:15<00:11,  3.91it/s]"
     ]
    },
    {
     "name": "stdout",
     "output_type": "stream",
     "text": [
      "\n",
      "image 1/1 /kaggle/input/wind-turbine-damage-challenges/Wind Turbine damage/test/DJI_0728-1-_JPG.rf.55ae4b479b0e282856186143e1fbbe72.jpg: 736x1280 1 no effect, 4 corrosions, 1 missing teeth, 1 patch, 25.9ms\n",
      "Speed: 7.9ms preprocess, 25.9ms inference, 1.6ms postprocess per image at shape (1, 3, 736, 1280)\n"
     ]
    },
    {
     "name": "stderr",
     "output_type": "stream",
     "text": [
      " 71%|███████   | 107/151 [00:15<00:11,  3.92it/s]"
     ]
    },
    {
     "name": "stdout",
     "output_type": "stream",
     "text": [
      "\n",
      "image 1/1 /kaggle/input/wind-turbine-damage-challenges/Wind Turbine damage/test/DJI_0735-1-_JPG.rf.c2b5abc13f2bb4a92bbe500391cd6e2f.jpg: 736x1280 1 no effect, 26.4ms\n",
      "Speed: 7.9ms preprocess, 26.4ms inference, 1.6ms postprocess per image at shape (1, 3, 736, 1280)\n"
     ]
    },
    {
     "name": "stderr",
     "output_type": "stream",
     "text": [
      " 72%|███████▏  | 108/151 [00:15<00:11,  3.89it/s]"
     ]
    },
    {
     "name": "stdout",
     "output_type": "stream",
     "text": [
      "\n",
      "image 1/1 /kaggle/input/wind-turbine-damage-challenges/Wind Turbine damage/test/DJI_0736-1-_JPG.rf.91063e4bfc57903ac1c1a3e62eeae0e0.jpg: 736x1280 1 no effect, 26.4ms\n",
      "Speed: 8.1ms preprocess, 26.4ms inference, 1.6ms postprocess per image at shape (1, 3, 736, 1280)\n"
     ]
    },
    {
     "name": "stderr",
     "output_type": "stream",
     "text": [
      " 72%|███████▏  | 109/151 [00:16<00:10,  3.87it/s]"
     ]
    },
    {
     "name": "stdout",
     "output_type": "stream",
     "text": [
      "\n",
      "image 1/1 /kaggle/input/wind-turbine-damage-challenges/Wind Turbine damage/test/DJI_0738-1-_JPG.rf.38dac02166d65ecaf77d9c7babd45d4f.jpg: 736x1280 1 no effect, 1 corrosion, 26.2ms\n",
      "Speed: 8.1ms preprocess, 26.2ms inference, 1.7ms postprocess per image at shape (1, 3, 736, 1280)\n"
     ]
    },
    {
     "name": "stderr",
     "output_type": "stream",
     "text": [
      " 73%|███████▎  | 110/151 [00:16<00:10,  3.86it/s]"
     ]
    },
    {
     "name": "stdout",
     "output_type": "stream",
     "text": [
      "\n",
      "image 1/1 /kaggle/input/wind-turbine-damage-challenges/Wind Turbine damage/test/DJI_0739-1-_JPG.rf.773353bbf8434865979f18dfd494cfb1.jpg: 736x1280 1 no effect, 2 corrosions, 26.7ms\n",
      "Speed: 8.1ms preprocess, 26.7ms inference, 1.6ms postprocess per image at shape (1, 3, 736, 1280)\n"
     ]
    },
    {
     "name": "stderr",
     "output_type": "stream",
     "text": [
      " 74%|███████▎  | 111/151 [00:16<00:10,  3.86it/s]"
     ]
    },
    {
     "name": "stdout",
     "output_type": "stream",
     "text": [
      "\n",
      "image 1/1 /kaggle/input/wind-turbine-damage-challenges/Wind Turbine damage/test/DJI_0740-1-_JPG.rf.ab961f1d9d46ff49368e7edb5c8aead4.jpg: 736x1280 1 no effect, 26.1ms\n",
      "Speed: 7.9ms preprocess, 26.1ms inference, 1.6ms postprocess per image at shape (1, 3, 736, 1280)\n"
     ]
    },
    {
     "name": "stderr",
     "output_type": "stream",
     "text": [
      " 74%|███████▍  | 112/151 [00:16<00:10,  3.87it/s]"
     ]
    },
    {
     "name": "stdout",
     "output_type": "stream",
     "text": [
      "\n",
      "image 1/1 /kaggle/input/wind-turbine-damage-challenges/Wind Turbine damage/test/DJI_0747-1-_JPG.rf.4e371df6acba379f00cee896d44c5536.jpg: 736x1280 1 no effect, 5 corrosions, 26.2ms\n",
      "Speed: 7.8ms preprocess, 26.2ms inference, 1.6ms postprocess per image at shape (1, 3, 736, 1280)\n"
     ]
    },
    {
     "name": "stderr",
     "output_type": "stream",
     "text": [
      " 75%|███████▍  | 113/151 [00:17<00:09,  3.88it/s]"
     ]
    },
    {
     "name": "stdout",
     "output_type": "stream",
     "text": [
      "\n",
      "image 1/1 /kaggle/input/wind-turbine-damage-challenges/Wind Turbine damage/test/DJI_0748-1-_JPG.rf.0d8420a917a8186fa103932f63c7b501.jpg: 736x1280 1 no effect, 7 corrosions, 1 missing teeth, 26.2ms\n",
      "Speed: 7.8ms preprocess, 26.2ms inference, 1.6ms postprocess per image at shape (1, 3, 736, 1280)\n"
     ]
    },
    {
     "name": "stderr",
     "output_type": "stream",
     "text": [
      " 75%|███████▌  | 114/151 [00:17<00:09,  3.87it/s]"
     ]
    },
    {
     "name": "stdout",
     "output_type": "stream",
     "text": [
      "\n",
      "image 1/1 /kaggle/input/wind-turbine-damage-challenges/Wind Turbine damage/test/DJI_0749-1-_JPG.rf.356be7f5b3ec7e31c5594426b6aba5eb.jpg: 736x1280 1 no effect, 6 corrosions, 2 missing teeths, 27.1ms\n",
      "Speed: 8.4ms preprocess, 27.1ms inference, 1.7ms postprocess per image at shape (1, 3, 736, 1280)\n"
     ]
    },
    {
     "name": "stderr",
     "output_type": "stream",
     "text": [
      " 76%|███████▌  | 115/151 [00:17<00:09,  3.86it/s]"
     ]
    },
    {
     "name": "stdout",
     "output_type": "stream",
     "text": [
      "\n",
      "image 1/1 /kaggle/input/wind-turbine-damage-challenges/Wind Turbine damage/test/DJI_0751-1-_JPG.rf.3ce670d8f2209ef6c78270a89b642fba.jpg: 736x1280 2 no effects, 8 corrosions, 3 missing teeths, 26.6ms\n",
      "Speed: 8.0ms preprocess, 26.6ms inference, 1.7ms postprocess per image at shape (1, 3, 736, 1280)\n"
     ]
    },
    {
     "name": "stderr",
     "output_type": "stream",
     "text": [
      " 77%|███████▋  | 116/151 [00:17<00:09,  3.83it/s]"
     ]
    },
    {
     "name": "stdout",
     "output_type": "stream",
     "text": [
      "\n",
      "image 1/1 /kaggle/input/wind-turbine-damage-challenges/Wind Turbine damage/test/DJI_0752-1-_JPG.rf.a82cba01167ad4cf275b98e201de6601.jpg: 736x1280 1 no effect, 8 corrosions, 6 missing teeths, 26.5ms\n",
      "Speed: 8.5ms preprocess, 26.5ms inference, 1.7ms postprocess per image at shape (1, 3, 736, 1280)\n"
     ]
    },
    {
     "name": "stderr",
     "output_type": "stream",
     "text": [
      " 77%|███████▋  | 117/151 [00:18<00:08,  3.84it/s]"
     ]
    },
    {
     "name": "stdout",
     "output_type": "stream",
     "text": [
      "\n",
      "image 1/1 /kaggle/input/wind-turbine-damage-challenges/Wind Turbine damage/test/DJI_0753-1-_JPG.rf.7b2ffc0f3cdeacc24f83ad692cade3f6.jpg: 736x1280 1 no effect, 5 corrosions, 3 missing teeths, 27.4ms\n",
      "Speed: 8.3ms preprocess, 27.4ms inference, 1.7ms postprocess per image at shape (1, 3, 736, 1280)\n"
     ]
    },
    {
     "name": "stderr",
     "output_type": "stream",
     "text": [
      " 78%|███████▊  | 118/151 [00:18<00:08,  3.83it/s]"
     ]
    },
    {
     "name": "stdout",
     "output_type": "stream",
     "text": [
      "\n",
      "image 1/1 /kaggle/input/wind-turbine-damage-challenges/Wind Turbine damage/test/DJI_0755-1-_JPG.rf.5cc110a79566dd9ab3ab412e985a33da.jpg: 736x1280 1 no effect, 4 corrosions, 4 missing teeths, 26.6ms\n",
      "Speed: 8.2ms preprocess, 26.6ms inference, 1.7ms postprocess per image at shape (1, 3, 736, 1280)\n"
     ]
    },
    {
     "name": "stderr",
     "output_type": "stream",
     "text": [
      " 79%|███████▉  | 119/151 [00:18<00:08,  3.83it/s]"
     ]
    },
    {
     "name": "stdout",
     "output_type": "stream",
     "text": [
      "\n",
      "image 1/1 /kaggle/input/wind-turbine-damage-challenges/Wind Turbine damage/test/DJI_0756-1-_JPG.rf.e06774dbaeadae553f8a5707f33b59df.jpg: 736x1280 1 no effect, 2 corrosions, 7 missing teeths, 27.6ms\n",
      "Speed: 8.2ms preprocess, 27.6ms inference, 1.6ms postprocess per image at shape (1, 3, 736, 1280)\n"
     ]
    },
    {
     "name": "stderr",
     "output_type": "stream",
     "text": [
      " 79%|███████▉  | 120/151 [00:18<00:08,  3.82it/s]"
     ]
    },
    {
     "name": "stdout",
     "output_type": "stream",
     "text": [
      "\n",
      "image 1/1 /kaggle/input/wind-turbine-damage-challenges/Wind Turbine damage/test/DJI_0757-1-_JPG.rf.55e66031eb54e212c90c8c7d09065a73.jpg: 736x1280 1 no effect, 3 corrosions, 4 missing teeths, 26.6ms\n",
      "Speed: 8.1ms preprocess, 26.6ms inference, 1.6ms postprocess per image at shape (1, 3, 736, 1280)\n"
     ]
    },
    {
     "name": "stderr",
     "output_type": "stream",
     "text": [
      " 80%|████████  | 121/151 [00:19<00:07,  3.83it/s]"
     ]
    },
    {
     "name": "stdout",
     "output_type": "stream",
     "text": [
      "\n",
      "image 1/1 /kaggle/input/wind-turbine-damage-challenges/Wind Turbine damage/test/DJI_0758-1-_JPG.rf.4ccae74fb152cab9f4899aea4b7002ff.jpg: 736x1280 2 no effects, 2 corrosions, 8 missing teeths, 26.1ms\n",
      "Speed: 9.4ms preprocess, 26.1ms inference, 1.6ms postprocess per image at shape (1, 3, 736, 1280)\n"
     ]
    },
    {
     "name": "stderr",
     "output_type": "stream",
     "text": [
      " 81%|████████  | 122/151 [00:19<00:07,  3.83it/s]"
     ]
    },
    {
     "name": "stdout",
     "output_type": "stream",
     "text": [
      "\n",
      "image 1/1 /kaggle/input/wind-turbine-damage-challenges/Wind Turbine damage/test/DJI_0762-1-_JPG.rf.ad96cbe9564933c045e82407f8379d47.jpg: 736x1280 3 no effects, 11 corrosions, 5 missing teeths, 25.9ms\n",
      "Speed: 7.8ms preprocess, 25.9ms inference, 1.6ms postprocess per image at shape (1, 3, 736, 1280)\n"
     ]
    },
    {
     "name": "stderr",
     "output_type": "stream",
     "text": [
      " 81%|████████▏ | 123/151 [00:19<00:07,  3.74it/s]"
     ]
    },
    {
     "name": "stdout",
     "output_type": "stream",
     "text": [
      "\n",
      "image 1/1 /kaggle/input/wind-turbine-damage-challenges/Wind Turbine damage/test/DJI_0764-1-_JPG.rf.dda28e9da6a04fb32538af96498b7b55.jpg: 736x1280 3 no effects, 15 corrosions, 2 missing teeths, 26.1ms\n",
      "Speed: 8.1ms preprocess, 26.1ms inference, 1.7ms postprocess per image at shape (1, 3, 736, 1280)\n"
     ]
    },
    {
     "name": "stderr",
     "output_type": "stream",
     "text": [
      " 82%|████████▏ | 124/151 [00:20<00:07,  3.71it/s]"
     ]
    },
    {
     "name": "stdout",
     "output_type": "stream",
     "text": [
      "\n",
      "image 1/1 /kaggle/input/wind-turbine-damage-challenges/Wind Turbine damage/test/DJI_0765-1-_JPG.rf.500d5a743566278e0be2d7cd60ce180c.jpg: 736x1280 3 no effects, 15 corrosions, 6 missing teeths, 26.1ms\n",
      "Speed: 8.0ms preprocess, 26.1ms inference, 1.7ms postprocess per image at shape (1, 3, 736, 1280)\n"
     ]
    },
    {
     "name": "stderr",
     "output_type": "stream",
     "text": [
      " 83%|████████▎ | 125/151 [00:20<00:07,  3.71it/s]"
     ]
    },
    {
     "name": "stdout",
     "output_type": "stream",
     "text": [
      "\n",
      "image 1/1 /kaggle/input/wind-turbine-damage-challenges/Wind Turbine damage/test/DJI_0766-1-_JPG.rf.23aa70af0a4a9b9557902b4207972685.jpg: 736x1280 1 no effect, 8 corrosions, 2 missing teeths, 25.6ms\n",
      "Speed: 7.8ms preprocess, 25.6ms inference, 1.6ms postprocess per image at shape (1, 3, 736, 1280)\n"
     ]
    },
    {
     "name": "stderr",
     "output_type": "stream",
     "text": [
      " 83%|████████▎ | 126/151 [00:20<00:06,  3.72it/s]"
     ]
    },
    {
     "name": "stdout",
     "output_type": "stream",
     "text": [
      "\n",
      "image 1/1 /kaggle/input/wind-turbine-damage-challenges/Wind Turbine damage/test/DJI_0767-1-_JPG.rf.6bf30033ae02a537b4dc2a335dc1ba98.jpg: 736x1280 2 no effects, 1 corrosion, 2 missing teeths, 25.6ms\n",
      "Speed: 7.9ms preprocess, 25.6ms inference, 1.6ms postprocess per image at shape (1, 3, 736, 1280)\n"
     ]
    },
    {
     "name": "stderr",
     "output_type": "stream",
     "text": [
      " 84%|████████▍ | 127/151 [00:20<00:06,  3.76it/s]"
     ]
    },
    {
     "name": "stdout",
     "output_type": "stream",
     "text": [
      "\n",
      "image 1/1 /kaggle/input/wind-turbine-damage-challenges/Wind Turbine damage/test/DJI_0769-1-_JPG.rf.fc54d0bf4a5c1e1a7c32533f01a4b287.jpg: 736x1280 2 no effects, 11 corrosions, 2 missing teeths, 1 patch, 25.6ms\n",
      "Speed: 8.1ms preprocess, 25.6ms inference, 1.6ms postprocess per image at shape (1, 3, 736, 1280)\n"
     ]
    },
    {
     "name": "stderr",
     "output_type": "stream",
     "text": [
      " 85%|████████▍ | 128/151 [00:21<00:06,  3.77it/s]"
     ]
    },
    {
     "name": "stdout",
     "output_type": "stream",
     "text": [
      "\n",
      "image 1/1 /kaggle/input/wind-turbine-damage-challenges/Wind Turbine damage/test/DJI_0771_JPG.rf.ef6771f47ce45dac8789ea590c7c9f88.jpg: 736x1280 2 no effects, 16 corrosions, 2 missing teeths, 25.5ms\n",
      "Speed: 7.9ms preprocess, 25.5ms inference, 1.7ms postprocess per image at shape (1, 3, 736, 1280)\n"
     ]
    },
    {
     "name": "stderr",
     "output_type": "stream",
     "text": [
      " 85%|████████▌ | 129/151 [00:21<00:05,  3.79it/s]"
     ]
    },
    {
     "name": "stdout",
     "output_type": "stream",
     "text": [
      "\n",
      "image 1/1 /kaggle/input/wind-turbine-damage-challenges/Wind Turbine damage/test/DJI_0774_JPG.rf.4e79666308c10060b119179e067f6b5f.jpg: 736x1280 2 no effects, 19 corrosions, 3 missing teeths, 25.7ms\n",
      "Speed: 7.9ms preprocess, 25.7ms inference, 1.6ms postprocess per image at shape (1, 3, 736, 1280)\n"
     ]
    },
    {
     "name": "stderr",
     "output_type": "stream",
     "text": [
      " 86%|████████▌ | 130/151 [00:21<00:05,  3.79it/s]"
     ]
    },
    {
     "name": "stdout",
     "output_type": "stream",
     "text": [
      "\n",
      "image 1/1 /kaggle/input/wind-turbine-damage-challenges/Wind Turbine damage/test/DJI_0775_JPG.rf.559241cce67f8a1b9d038bd9a07d73ad.jpg: 736x1280 2 no effects, 15 corrosions, 1 missing teeth, 26.9ms\n",
      "Speed: 8.0ms preprocess, 26.9ms inference, 1.7ms postprocess per image at shape (1, 3, 736, 1280)\n"
     ]
    },
    {
     "name": "stderr",
     "output_type": "stream",
     "text": [
      " 87%|████████▋ | 131/151 [00:21<00:05,  3.80it/s]"
     ]
    },
    {
     "name": "stdout",
     "output_type": "stream",
     "text": [
      "\n",
      "image 1/1 /kaggle/input/wind-turbine-damage-challenges/Wind Turbine damage/test/DJI_0782_JPG.rf.20122d86e06af6481889f80a37481234.jpg: 736x1280 2 no effects, 16 corrosions, 1 missing teeth, 26.3ms\n",
      "Speed: 8.2ms preprocess, 26.3ms inference, 1.7ms postprocess per image at shape (1, 3, 736, 1280)\n"
     ]
    },
    {
     "name": "stderr",
     "output_type": "stream",
     "text": [
      " 87%|████████▋ | 132/151 [00:22<00:04,  3.81it/s]"
     ]
    },
    {
     "name": "stdout",
     "output_type": "stream",
     "text": [
      "\n",
      "image 1/1 /kaggle/input/wind-turbine-damage-challenges/Wind Turbine damage/test/DJI_0783_JPG.rf.064314252ff22a8de6b1a64e759ced69.jpg: 736x1280 2 no effects, 12 corrosions, 1 missing teeth, 26.6ms\n",
      "Speed: 8.0ms preprocess, 26.6ms inference, 1.6ms postprocess per image at shape (1, 3, 736, 1280)\n"
     ]
    },
    {
     "name": "stderr",
     "output_type": "stream",
     "text": [
      " 88%|████████▊ | 133/151 [00:22<00:04,  3.81it/s]"
     ]
    },
    {
     "name": "stdout",
     "output_type": "stream",
     "text": [
      "\n",
      "image 1/1 /kaggle/input/wind-turbine-damage-challenges/Wind Turbine damage/test/DJI_0786_JPG.rf.8393511dd03727861777c834fdfd3d93.jpg: 736x1280 2 no effects, 18 corrosions, 9 missing teeths, 26.4ms\n",
      "Speed: 8.0ms preprocess, 26.4ms inference, 1.7ms postprocess per image at shape (1, 3, 736, 1280)\n"
     ]
    },
    {
     "name": "stderr",
     "output_type": "stream",
     "text": [
      " 89%|████████▊ | 134/151 [00:22<00:04,  3.81it/s]"
     ]
    },
    {
     "name": "stdout",
     "output_type": "stream",
     "text": [
      "\n",
      "image 1/1 /kaggle/input/wind-turbine-damage-challenges/Wind Turbine damage/test/DJI_0787_JPG.rf.b33e0b3720d9ad9f30ece0e2ce4fb2ab.jpg: 736x1280 2 no effects, 22 corrosions, 7 missing teeths, 26.2ms\n",
      "Speed: 8.0ms preprocess, 26.2ms inference, 1.6ms postprocess per image at shape (1, 3, 736, 1280)\n"
     ]
    },
    {
     "name": "stderr",
     "output_type": "stream",
     "text": [
      " 89%|████████▉ | 135/151 [00:22<00:04,  3.83it/s]"
     ]
    },
    {
     "name": "stdout",
     "output_type": "stream",
     "text": [
      "\n",
      "image 1/1 /kaggle/input/wind-turbine-damage-challenges/Wind Turbine damage/test/DJI_0788_JPG.rf.2460e49d3538464c7bab22faf38f32e8.jpg: 736x1280 3 no effects, 24 corrosions, 13 missing teeths, 26.7ms\n",
      "Speed: 8.1ms preprocess, 26.7ms inference, 1.7ms postprocess per image at shape (1, 3, 736, 1280)\n"
     ]
    },
    {
     "name": "stderr",
     "output_type": "stream",
     "text": [
      " 90%|█████████ | 136/151 [00:23<00:03,  3.80it/s]"
     ]
    },
    {
     "name": "stdout",
     "output_type": "stream",
     "text": [
      "\n",
      "image 1/1 /kaggle/input/wind-turbine-damage-challenges/Wind Turbine damage/test/DJI_0789_JPG.rf.6e8cb81795ced0a81ad14f33ca8d26bc.jpg: 736x1280 1 no effect, 30 corrosions, 13 missing teeths, 26.9ms\n",
      "Speed: 8.2ms preprocess, 26.9ms inference, 1.6ms postprocess per image at shape (1, 3, 736, 1280)\n"
     ]
    },
    {
     "name": "stderr",
     "output_type": "stream",
     "text": [
      " 91%|█████████ | 137/151 [00:23<00:03,  3.81it/s]"
     ]
    },
    {
     "name": "stdout",
     "output_type": "stream",
     "text": [
      "\n",
      "image 1/1 /kaggle/input/wind-turbine-damage-challenges/Wind Turbine damage/test/DJI_0975_JPG.rf.37c894ef2602f302978e698b1cd65746.jpg: 736x1280 1 no effect, 22 corrosions, 3 missing teeths, 26.0ms\n",
      "Speed: 8.2ms preprocess, 26.0ms inference, 1.6ms postprocess per image at shape (1, 3, 736, 1280)\n"
     ]
    },
    {
     "name": "stderr",
     "output_type": "stream",
     "text": [
      " 91%|█████████▏| 138/151 [00:23<00:03,  3.53it/s]"
     ]
    },
    {
     "name": "stdout",
     "output_type": "stream",
     "text": [
      "\n",
      "image 1/1 /kaggle/input/wind-turbine-damage-challenges/Wind Turbine damage/test/DJI_0978_JPG.rf.31c2820f9214cfe6e1c0279d732e9ec1.jpg: 736x1280 1 no effect, 13 corrosions, 2 missing teeths, 26.3ms\n",
      "Speed: 8.0ms preprocess, 26.3ms inference, 1.6ms postprocess per image at shape (1, 3, 736, 1280)\n"
     ]
    },
    {
     "name": "stderr",
     "output_type": "stream",
     "text": [
      " 92%|█████████▏| 139/151 [00:24<00:03,  3.40it/s]"
     ]
    },
    {
     "name": "stdout",
     "output_type": "stream",
     "text": [
      "\n",
      "image 1/1 /kaggle/input/wind-turbine-damage-challenges/Wind Turbine damage/test/DJI_0979_JPG.rf.95e4156ad7c15913188dc03681b81e5a.jpg: 736x1280 1 no effect, 27 corrosions, 26.7ms\n",
      "Speed: 8.3ms preprocess, 26.7ms inference, 1.6ms postprocess per image at shape (1, 3, 736, 1280)\n"
     ]
    },
    {
     "name": "stderr",
     "output_type": "stream",
     "text": [
      " 93%|█████████▎| 140/151 [00:24<00:03,  3.31it/s]"
     ]
    },
    {
     "name": "stdout",
     "output_type": "stream",
     "text": [
      "\n",
      "image 1/1 /kaggle/input/wind-turbine-damage-challenges/Wind Turbine damage/test/DJI_0980_JPG.rf.9aae1abc3fdead93968f7a06073e9b87.jpg: 736x1280 1 no effect, 16 corrosions, 1 missing teeth, 26.4ms\n",
      "Speed: 8.0ms preprocess, 26.4ms inference, 1.6ms postprocess per image at shape (1, 3, 736, 1280)\n"
     ]
    },
    {
     "name": "stderr",
     "output_type": "stream",
     "text": [
      " 93%|█████████▎| 141/151 [00:24<00:03,  3.25it/s]"
     ]
    },
    {
     "name": "stdout",
     "output_type": "stream",
     "text": [
      "\n",
      "image 1/1 /kaggle/input/wind-turbine-damage-challenges/Wind Turbine damage/test/DJI_0981_JPG.rf.49d83249cf60fcac1705593e4a86258b.jpg: 736x1280 1 no effect, 19 corrosions, 1 missing teeth, 27.0ms\n",
      "Speed: 8.1ms preprocess, 27.0ms inference, 1.6ms postprocess per image at shape (1, 3, 736, 1280)\n"
     ]
    },
    {
     "name": "stderr",
     "output_type": "stream",
     "text": [
      " 94%|█████████▍| 142/151 [00:25<00:02,  3.14it/s]"
     ]
    },
    {
     "name": "stdout",
     "output_type": "stream",
     "text": [
      "\n",
      "image 1/1 /kaggle/input/wind-turbine-damage-challenges/Wind Turbine damage/test/DJI_0985_JPG.rf.aa69ccc4ef0830be243fc06f42e91c53.jpg: 736x1280 1 no effect, 12 corrosions, 1 missing teeth, 27.1ms\n",
      "Speed: 8.0ms preprocess, 27.1ms inference, 1.6ms postprocess per image at shape (1, 3, 736, 1280)\n"
     ]
    },
    {
     "name": "stderr",
     "output_type": "stream",
     "text": [
      " 95%|█████████▍| 143/151 [00:25<00:02,  3.11it/s]"
     ]
    },
    {
     "name": "stdout",
     "output_type": "stream",
     "text": [
      "\n",
      "image 1/1 /kaggle/input/wind-turbine-damage-challenges/Wind Turbine damage/test/DJI_0987_JPG.rf.c2002d99afd301f941c19bd6e56a916a.jpg: 736x1280 1 no effect, 16 corrosions, 3 missing teeths, 26.7ms\n",
      "Speed: 8.0ms preprocess, 26.7ms inference, 1.7ms postprocess per image at shape (1, 3, 736, 1280)\n"
     ]
    },
    {
     "name": "stderr",
     "output_type": "stream",
     "text": [
      " 95%|█████████▌| 144/151 [00:25<00:02,  3.10it/s]"
     ]
    },
    {
     "name": "stdout",
     "output_type": "stream",
     "text": [
      "\n",
      "image 1/1 /kaggle/input/wind-turbine-damage-challenges/Wind Turbine damage/test/DJI_0989_JPG.rf.c88276836792084a0205e542b79fb91c.jpg: 736x1280 1 no effect, 35 corrosions, 1 missing teeth, 3 patchs, 26.7ms\n",
      "Speed: 8.0ms preprocess, 26.7ms inference, 1.6ms postprocess per image at shape (1, 3, 736, 1280)\n"
     ]
    },
    {
     "name": "stderr",
     "output_type": "stream",
     "text": [
      " 96%|█████████▌| 145/151 [00:26<00:01,  3.10it/s]"
     ]
    },
    {
     "name": "stdout",
     "output_type": "stream",
     "text": [
      "\n",
      "image 1/1 /kaggle/input/wind-turbine-damage-challenges/Wind Turbine damage/test/DJI_0991_JPG.rf.54622f4cc224fae47bb990abe7a57d51.jpg: 736x1280 1 no effect, 29 corrosions, 4 missing teeths, 1 patch, 26.6ms\n",
      "Speed: 8.1ms preprocess, 26.6ms inference, 1.6ms postprocess per image at shape (1, 3, 736, 1280)\n"
     ]
    },
    {
     "name": "stderr",
     "output_type": "stream",
     "text": [
      " 97%|█████████▋| 146/151 [00:26<00:01,  3.11it/s]"
     ]
    },
    {
     "name": "stdout",
     "output_type": "stream",
     "text": [
      "\n",
      "image 1/1 /kaggle/input/wind-turbine-damage-challenges/Wind Turbine damage/test/DJI_0992_JPG.rf.8adbc7b8fa4895501467ea9eaf53f0d4.jpg: 736x1280 2 no effects, 22 corrosions, 2 missing teeths, 2 patchs, 25.8ms\n",
      "Speed: 7.9ms preprocess, 25.8ms inference, 1.7ms postprocess per image at shape (1, 3, 736, 1280)\n"
     ]
    },
    {
     "name": "stderr",
     "output_type": "stream",
     "text": [
      " 97%|█████████▋| 147/151 [00:26<00:01,  3.11it/s]"
     ]
    },
    {
     "name": "stdout",
     "output_type": "stream",
     "text": [
      "\n",
      "image 1/1 /kaggle/input/wind-turbine-damage-challenges/Wind Turbine damage/test/DJI_0993_JPG.rf.f33b6663ee70d58a17f1b41a031a28c7.jpg: 736x1280 1 no effect, 20 corrosions, 4 missing teeths, 26.3ms\n",
      "Speed: 7.9ms preprocess, 26.3ms inference, 1.7ms postprocess per image at shape (1, 3, 736, 1280)\n"
     ]
    },
    {
     "name": "stderr",
     "output_type": "stream",
     "text": [
      " 98%|█████████▊| 148/151 [00:27<00:00,  3.12it/s]"
     ]
    },
    {
     "name": "stdout",
     "output_type": "stream",
     "text": [
      "\n",
      "image 1/1 /kaggle/input/wind-turbine-damage-challenges/Wind Turbine damage/test/DJI_0994_JPG.rf.e5bf13e77518256c8c3f6ae62f9612b7.jpg: 736x1280 2 no effects, 21 corrosions, 3 missing teeths, 2 patchs, 26.1ms\n",
      "Speed: 8.2ms preprocess, 26.1ms inference, 1.7ms postprocess per image at shape (1, 3, 736, 1280)\n"
     ]
    },
    {
     "name": "stderr",
     "output_type": "stream",
     "text": [
      " 99%|█████████▊| 149/151 [00:27<00:00,  3.15it/s]"
     ]
    },
    {
     "name": "stdout",
     "output_type": "stream",
     "text": [
      "\n",
      "image 1/1 /kaggle/input/wind-turbine-damage-challenges/Wind Turbine damage/test/DJI_0995_JPG.rf.09f70312420808da47c3a4aaf186ca92.jpg: 736x1280 3 no effects, 25 corrosions, 2 missing teeths, 26.3ms\n",
      "Speed: 8.0ms preprocess, 26.3ms inference, 1.6ms postprocess per image at shape (1, 3, 736, 1280)\n"
     ]
    },
    {
     "name": "stderr",
     "output_type": "stream",
     "text": [
      " 99%|█████████▉| 150/151 [00:27<00:00,  3.22it/s]"
     ]
    },
    {
     "name": "stdout",
     "output_type": "stream",
     "text": [
      "\n",
      "image 1/1 /kaggle/input/wind-turbine-damage-challenges/Wind Turbine damage/test/DJI_0997_JPG.rf.9f5f2b599b0927db0d1121a39516f4e0.jpg: 736x1280 2 no effects, 24 corrosions, 4 missing teeths, 25.9ms\n",
      "Speed: 8.0ms preprocess, 25.9ms inference, 1.6ms postprocess per image at shape (1, 3, 736, 1280)\n"
     ]
    },
    {
     "name": "stderr",
     "output_type": "stream",
     "text": [
      "100%|██████████| 151/151 [00:27<00:00,  5.40it/s]\n"
     ]
    },
    {
     "name": "stdout",
     "output_type": "stream",
     "text": [
      "Файл submission_v2.csv успешно сохранен\n",
      "\n",
      "Генерация предсказаний с параметрами {'conf': 0.001, 'iou': 0.2, 'augment': True}\n"
     ]
    },
    {
     "name": "stderr",
     "output_type": "stream",
     "text": [
      "  0%|          | 0/151 [00:00<?, ?it/s]"
     ]
    },
    {
     "name": "stdout",
     "output_type": "stream",
     "text": [
      "\n",
      "image 1/1 /kaggle/input/wind-turbine-damage-challenges/Wind Turbine damage/test/20240120_150729_jpg.rf.5925f54483de8cc52f75fdd1dc0ec3a0.jpg: 1280x1280 1 no effect, 4 corrosions, 2 missing teeths, 32.1ms\n",
      "Speed: 13.5ms preprocess, 32.1ms inference, 1.9ms postprocess per image at shape (1, 3, 1280, 1280)\n"
     ]
    },
    {
     "name": "stderr",
     "output_type": "stream",
     "text": [
      "  1%|          | 1/151 [00:00<00:25,  5.98it/s]"
     ]
    },
    {
     "name": "stdout",
     "output_type": "stream",
     "text": [
      "\n",
      "image 1/1 /kaggle/input/wind-turbine-damage-challenges/Wind Turbine damage/test/20240120_153628_jpg.rf.67030e3c4592587d26d7762e8e091020.jpg: 1280x1280 1 no effect, 8 corrosions, 2 missing teeths, 31.5ms\n",
      "Speed: 14.0ms preprocess, 31.5ms inference, 1.6ms postprocess per image at shape (1, 3, 1280, 1280)\n"
     ]
    },
    {
     "name": "stderr",
     "output_type": "stream",
     "text": [
      "  1%|▏         | 2/151 [00:00<00:59,  2.51it/s]"
     ]
    },
    {
     "name": "stdout",
     "output_type": "stream",
     "text": [
      "\n",
      "image 1/1 /kaggle/input/wind-turbine-damage-challenges/Wind Turbine damage/test/20240120_153658_jpg.rf.66dc04dc4ee8194ccc19397d4ad42f2e.jpg: 1280x1280 1 no effect, 31.8ms\n",
      "Speed: 14.1ms preprocess, 31.8ms inference, 1.6ms postprocess per image at shape (1, 3, 1280, 1280)\n"
     ]
    },
    {
     "name": "stderr",
     "output_type": "stream",
     "text": [
      "  2%|▏         | 3/151 [00:01<01:07,  2.20it/s]"
     ]
    },
    {
     "name": "stdout",
     "output_type": "stream",
     "text": [
      "\n",
      "image 1/1 /kaggle/input/wind-turbine-damage-challenges/Wind Turbine damage/test/20240120_153711_jpg.rf.3a50aa9daa881abe4296c7f12b03fcf9.jpg: 1280x1280 2 no effects, 8 corrosions, 12 missing teeths, 31.8ms\n",
      "Speed: 14.0ms preprocess, 31.8ms inference, 1.7ms postprocess per image at shape (1, 3, 1280, 1280)\n"
     ]
    },
    {
     "name": "stderr",
     "output_type": "stream",
     "text": [
      "  3%|▎         | 4/151 [00:01<01:11,  2.06it/s]"
     ]
    },
    {
     "name": "stdout",
     "output_type": "stream",
     "text": [
      "\n",
      "image 1/1 /kaggle/input/wind-turbine-damage-challenges/Wind Turbine damage/test/20240120_153748-0-_jpg.rf.6c50a8089bf3ccd32bb61e347e9f4019.jpg: 1280x1280 2 no effects, 1 corrosion, 31.4ms\n",
      "Speed: 14.2ms preprocess, 31.4ms inference, 1.7ms postprocess per image at shape (1, 3, 1280, 1280)\n"
     ]
    },
    {
     "name": "stderr",
     "output_type": "stream",
     "text": [
      "  3%|▎         | 5/151 [00:02<01:13,  1.98it/s]"
     ]
    },
    {
     "name": "stdout",
     "output_type": "stream",
     "text": [
      "\n",
      "image 1/1 /kaggle/input/wind-turbine-damage-challenges/Wind Turbine damage/test/20240120_153754_jpg.rf.01e099db13ef7c0beee133daa6379466.jpg: 1280x1280 1 no effect, 3 corrosions, 31.4ms\n",
      "Speed: 14.1ms preprocess, 31.4ms inference, 1.6ms postprocess per image at shape (1, 3, 1280, 1280)\n"
     ]
    },
    {
     "name": "stderr",
     "output_type": "stream",
     "text": [
      "  4%|▍         | 6/151 [00:02<01:15,  1.93it/s]"
     ]
    },
    {
     "name": "stdout",
     "output_type": "stream",
     "text": [
      "\n",
      "image 1/1 /kaggle/input/wind-turbine-damage-challenges/Wind Turbine damage/test/20240120_153843-0-_jpg.rf.60b55d7dd594d0869bf7216a34d16385.jpg: 1280x1280 2 no effects, 10 corrosions, 3 missing teeths, 1 patch, 31.8ms\n",
      "Speed: 13.2ms preprocess, 31.8ms inference, 1.9ms postprocess per image at shape (1, 3, 1280, 1280)\n"
     ]
    },
    {
     "name": "stderr",
     "output_type": "stream",
     "text": [
      "  5%|▍         | 7/151 [00:02<00:55,  2.57it/s]"
     ]
    },
    {
     "name": "stdout",
     "output_type": "stream",
     "text": [
      "\n",
      "image 1/1 /kaggle/input/wind-turbine-damage-challenges/Wind Turbine damage/test/20240120_153843_jpg.rf.b24d413669fa575889018912a2b372e9.jpg: 1280x1280 2 no effects, 8 corrosions, 1 missing teeth, 3 patchs, 32.1ms\n",
      "Speed: 13.2ms preprocess, 32.1ms inference, 1.7ms postprocess per image at shape (1, 3, 1280, 1280)\n"
     ]
    },
    {
     "name": "stderr",
     "output_type": "stream",
     "text": [
      "  5%|▌         | 8/151 [00:03<00:43,  3.29it/s]"
     ]
    },
    {
     "name": "stdout",
     "output_type": "stream",
     "text": [
      "\n",
      "image 1/1 /kaggle/input/wind-turbine-damage-challenges/Wind Turbine damage/test/20240120_155211_mp4-0000_jpg.rf.66e7e87b86904e97508657a58ba9972c.jpg: 1280x736 1 no effect, 4 corrosions, 26.2ms\n",
      "Speed: 6.6ms preprocess, 26.2ms inference, 1.6ms postprocess per image at shape (1, 3, 1280, 736)\n",
      "\n",
      "image 1/1 /kaggle/input/wind-turbine-damage-challenges/Wind Turbine damage/test/20240120_155211_mp4-0015_jpg.rf.62ada8738a17b071f5859ef2ba587652.jpg: 1280x736 1 no effect, 26.2ms\n",
      "Speed: 6.8ms preprocess, 26.2ms inference, 1.6ms postprocess per image at shape (1, 3, 1280, 736)\n"
     ]
    },
    {
     "name": "stderr",
     "output_type": "stream",
     "text": [
      "  7%|▋         | 10/151 [00:03<00:26,  5.34it/s]"
     ]
    },
    {
     "name": "stdout",
     "output_type": "stream",
     "text": [
      "\n",
      "image 1/1 /kaggle/input/wind-turbine-damage-challenges/Wind Turbine damage/test/20240120_155211_mp4-0034_jpg.rf.32c6d4c6f0fe3e919f7db3fea5d74dca.jpg: 1280x736 1 no effect, 27.4ms\n",
      "Speed: 6.8ms preprocess, 27.4ms inference, 1.6ms postprocess per image at shape (1, 3, 1280, 736)\n",
      "\n",
      "image 1/1 /kaggle/input/wind-turbine-damage-challenges/Wind Turbine damage/test/20240120_155211_mp4-0061_jpg.rf.ea7113440055cbce048892f47f14cd42.jpg: 1280x736 1 no effect, 2 corrosions, 1 missing teeth, 26.4ms\n",
      "Speed: 6.9ms preprocess, 26.4ms inference, 1.7ms postprocess per image at shape (1, 3, 1280, 736)\n"
     ]
    },
    {
     "name": "stderr",
     "output_type": "stream",
     "text": [
      "  8%|▊         | 12/151 [00:03<00:18,  7.38it/s]"
     ]
    },
    {
     "name": "stdout",
     "output_type": "stream",
     "text": [
      "\n",
      "image 1/1 /kaggle/input/wind-turbine-damage-challenges/Wind Turbine damage/test/20240120_155211_mp4-0075_jpg.rf.82235fee115b78aac2460ceb4f6758a0.jpg: 1280x736 1 no effect, 5 corrosions, 1 missing teeth, 1 patch, 27.0ms\n",
      "Speed: 6.6ms preprocess, 27.0ms inference, 1.6ms postprocess per image at shape (1, 3, 1280, 736)\n",
      "\n",
      "image 1/1 /kaggle/input/wind-turbine-damage-challenges/Wind Turbine damage/test/20240120_155211_mp4-0077_jpg.rf.17e71709fd53ea08911fdec60dd0f3df.jpg: 1280x736 1 no effect, 26.0ms\n",
      "Speed: 6.6ms preprocess, 26.0ms inference, 1.6ms postprocess per image at shape (1, 3, 1280, 736)\n"
     ]
    },
    {
     "name": "stderr",
     "output_type": "stream",
     "text": [
      "  9%|▉         | 14/151 [00:03<00:14,  9.42it/s]"
     ]
    },
    {
     "name": "stdout",
     "output_type": "stream",
     "text": [
      "\n",
      "image 1/1 /kaggle/input/wind-turbine-damage-challenges/Wind Turbine damage/test/20240120_155211_mp4-0079_jpg.rf.ed1b222a0cf341a04f27bcdc26a65687.jpg: 1280x736 1 no effect, 1 corrosion, 26.6ms\n",
      "Speed: 7.3ms preprocess, 26.6ms inference, 1.6ms postprocess per image at shape (1, 3, 1280, 736)\n",
      "\n",
      "image 1/1 /kaggle/input/wind-turbine-damage-challenges/Wind Turbine damage/test/20240120_155211_mp4-0081_jpg.rf.47e59973cbd4e1f40363bf218c380254.jpg: 1280x736 1 no effect, 2 corrosions, 27.8ms\n",
      "Speed: 6.8ms preprocess, 27.8ms inference, 1.6ms postprocess per image at shape (1, 3, 1280, 736)\n"
     ]
    },
    {
     "name": "stderr",
     "output_type": "stream",
     "text": [
      " 11%|█         | 16/151 [00:03<00:12, 11.19it/s]"
     ]
    },
    {
     "name": "stdout",
     "output_type": "stream",
     "text": [
      "\n",
      "image 1/1 /kaggle/input/wind-turbine-damage-challenges/Wind Turbine damage/test/20240120_155211_mp4-0084_jpg.rf.de984895faf812264c6c6a416eb62e02.jpg: 1280x736 1 no effect, 1 corrosion, 26.3ms\n",
      "Speed: 6.9ms preprocess, 26.3ms inference, 1.6ms postprocess per image at shape (1, 3, 1280, 736)\n",
      "\n",
      "image 1/1 /kaggle/input/wind-turbine-damage-challenges/Wind Turbine damage/test/20240120_155211_mp4-0086_jpg.rf.1d43d0c9b738b921d5601116df4d1965.jpg: 1280x736 1 no effect, 1 corrosion, 26.6ms\n",
      "Speed: 6.8ms preprocess, 26.6ms inference, 1.6ms postprocess per image at shape (1, 3, 1280, 736)\n"
     ]
    },
    {
     "name": "stderr",
     "output_type": "stream",
     "text": [
      " 12%|█▏        | 18/151 [00:03<00:10, 12.78it/s]"
     ]
    },
    {
     "name": "stdout",
     "output_type": "stream",
     "text": [
      "\n",
      "image 1/1 /kaggle/input/wind-turbine-damage-challenges/Wind Turbine damage/test/20240120_155211_mp4-0088_jpg.rf.ef0c44646fd1469ebacc82989015336b.jpg: 1280x736 1 no effect, 2 corrosions, 26.3ms\n",
      "Speed: 6.6ms preprocess, 26.3ms inference, 1.6ms postprocess per image at shape (1, 3, 1280, 736)\n",
      "\n",
      "image 1/1 /kaggle/input/wind-turbine-damage-challenges/Wind Turbine damage/test/20240120_155211_mp4-0095_jpg.rf.40c05c5950a48627a9add8cb56d60ca9.jpg: 1280x736 1 no effect, 27.3ms\n",
      "Speed: 6.7ms preprocess, 27.3ms inference, 1.6ms postprocess per image at shape (1, 3, 1280, 736)\n"
     ]
    },
    {
     "name": "stderr",
     "output_type": "stream",
     "text": [
      " 13%|█▎        | 20/151 [00:03<00:09, 14.07it/s]"
     ]
    },
    {
     "name": "stdout",
     "output_type": "stream",
     "text": [
      "\n",
      "image 1/1 /kaggle/input/wind-turbine-damage-challenges/Wind Turbine damage/test/20240120_155211_mp4-0110_jpg.rf.a5ed327b0bb16f8bc19802aab18f92f0.jpg: 1280x736 1 no effect, 1 corrosion, 26.1ms\n",
      "Speed: 6.6ms preprocess, 26.1ms inference, 1.6ms postprocess per image at shape (1, 3, 1280, 736)\n",
      "\n",
      "image 1/1 /kaggle/input/wind-turbine-damage-challenges/Wind Turbine damage/test/20240120_155211_mp4-0126_jpg.rf.5a9e67fd5bce7969a5775f6ff5273805.jpg: 1280x736 1 no effect, 1 corrosion, 26.4ms\n",
      "Speed: 6.4ms preprocess, 26.4ms inference, 1.6ms postprocess per image at shape (1, 3, 1280, 736)\n"
     ]
    },
    {
     "name": "stderr",
     "output_type": "stream",
     "text": [
      " 15%|█▍        | 22/151 [00:03<00:08, 15.09it/s]"
     ]
    },
    {
     "name": "stdout",
     "output_type": "stream",
     "text": [
      "\n",
      "image 1/1 /kaggle/input/wind-turbine-damage-challenges/Wind Turbine damage/test/20240120_155211_mp4-0134_jpg.rf.5aa81e12178bd71422c009b29fde0726.jpg: 1280x736 1 no effect, 1 corrosion, 26.2ms\n",
      "Speed: 6.8ms preprocess, 26.2ms inference, 1.7ms postprocess per image at shape (1, 3, 1280, 736)\n",
      "\n",
      "image 1/1 /kaggle/input/wind-turbine-damage-challenges/Wind Turbine damage/test/20240120_155211_mp4-0149_jpg.rf.45490f1c8ade5580d1279140588b187b.jpg: 1280x736 1 no effect, 2 corrosions, 27.7ms\n",
      "Speed: 6.9ms preprocess, 27.7ms inference, 1.6ms postprocess per image at shape (1, 3, 1280, 736)\n"
     ]
    },
    {
     "name": "stderr",
     "output_type": "stream",
     "text": [
      " 16%|█▌        | 24/151 [00:04<00:08, 15.83it/s]"
     ]
    },
    {
     "name": "stdout",
     "output_type": "stream",
     "text": [
      "\n",
      "image 1/1 /kaggle/input/wind-turbine-damage-challenges/Wind Turbine damage/test/20240120_155211_mp4-0155_jpg.rf.2ae5c8fbaa05347ec7fd8a91a06defe3.jpg: 1280x736 1 no effect, 26.1ms\n",
      "Speed: 6.6ms preprocess, 26.1ms inference, 1.5ms postprocess per image at shape (1, 3, 1280, 736)\n",
      "\n",
      "image 1/1 /kaggle/input/wind-turbine-damage-challenges/Wind Turbine damage/test/20240120_155211_mp4-0160_jpg.rf.94f5e7408084ab5c0e36cec28179010d.jpg: 1280x736 1 no effect, 4 corrosions, 27.4ms\n",
      "Speed: 6.9ms preprocess, 27.4ms inference, 1.6ms postprocess per image at shape (1, 3, 1280, 736)\n"
     ]
    },
    {
     "name": "stderr",
     "output_type": "stream",
     "text": [
      " 17%|█▋        | 26/151 [00:04<00:07, 16.21it/s]"
     ]
    },
    {
     "name": "stdout",
     "output_type": "stream",
     "text": [
      "\n",
      "image 1/1 /kaggle/input/wind-turbine-damage-challenges/Wind Turbine damage/test/20240120_155211_mp4-0162_jpg.rf.8b7f8d55232f8cb9ddf65739df72e6a7.jpg: 1280x736 1 no effect, 1 corrosion, 1 missing teeth, 27.7ms\n",
      "Speed: 6.9ms preprocess, 27.7ms inference, 1.6ms postprocess per image at shape (1, 3, 1280, 736)\n",
      "\n",
      "image 1/1 /kaggle/input/wind-turbine-damage-challenges/Wind Turbine damage/test/20240120_155211_mp4-0169_jpg.rf.5e1be9ba9931db503f8f947f84fe617c.jpg: 1280x736 1 no effect, 5 corrosions, 26.3ms\n",
      "Speed: 7.2ms preprocess, 26.3ms inference, 1.7ms postprocess per image at shape (1, 3, 1280, 736)\n"
     ]
    },
    {
     "name": "stderr",
     "output_type": "stream",
     "text": [
      " 19%|█▊        | 28/151 [00:04<00:07, 15.88it/s]"
     ]
    },
    {
     "name": "stdout",
     "output_type": "stream",
     "text": [
      "\n",
      "image 1/1 /kaggle/input/wind-turbine-damage-challenges/Wind Turbine damage/test/20240120_155211_mp4-0181_jpg.rf.66646f9753d87d16a241d1a3e292f0b6.jpg: 1280x736 1 no effect, 1 patch, 26.3ms\n",
      "Speed: 6.8ms preprocess, 26.3ms inference, 1.7ms postprocess per image at shape (1, 3, 1280, 736)\n",
      "\n",
      "image 1/1 /kaggle/input/wind-turbine-damage-challenges/Wind Turbine damage/test/20240120_155211_mp4-0191_jpg.rf.f484f72de307f2e534029f265407a11a.jpg: 1280x736 1 no effect, 26.5ms\n",
      "Speed: 6.6ms preprocess, 26.5ms inference, 1.6ms postprocess per image at shape (1, 3, 1280, 736)\n"
     ]
    },
    {
     "name": "stderr",
     "output_type": "stream",
     "text": [
      " 20%|█▉        | 30/151 [00:04<00:07, 16.50it/s]"
     ]
    },
    {
     "name": "stdout",
     "output_type": "stream",
     "text": [
      "\n",
      "image 1/1 /kaggle/input/wind-turbine-damage-challenges/Wind Turbine damage/test/20240120_155211_mp4-0194_jpg.rf.d159889f8505128041a06c158de5722c.jpg: 1280x736 1 no effect, 1 corrosion, 26.1ms\n",
      "Speed: 7.0ms preprocess, 26.1ms inference, 1.5ms postprocess per image at shape (1, 3, 1280, 736)\n",
      "\n",
      "image 1/1 /kaggle/input/wind-turbine-damage-challenges/Wind Turbine damage/test/20240120_155211_mp4-0197_jpg.rf.441cee5d1329381499818d23066115d8.jpg: 1280x736 1 no effect, 27.9ms\n",
      "Speed: 6.8ms preprocess, 27.9ms inference, 1.6ms postprocess per image at shape (1, 3, 1280, 736)\n"
     ]
    },
    {
     "name": "stderr",
     "output_type": "stream",
     "text": [
      " 21%|██        | 32/151 [00:04<00:07, 16.59it/s]"
     ]
    },
    {
     "name": "stdout",
     "output_type": "stream",
     "text": [
      "\n",
      "image 1/1 /kaggle/input/wind-turbine-damage-challenges/Wind Turbine damage/test/20240120_155211_mp4-0202_jpg.rf.635e5d1d6357a368cd07285e3859f2f4.jpg: 1280x736 1 no effect, 26.9ms\n",
      "Speed: 7.6ms preprocess, 26.9ms inference, 1.5ms postprocess per image at shape (1, 3, 1280, 736)\n",
      "\n",
      "image 1/1 /kaggle/input/wind-turbine-damage-challenges/Wind Turbine damage/test/20240120_155211_mp4-0214_jpg.rf.3c67777e183c90e06f84a4c5b9115c0d.jpg: 1280x736 1 no effect, 1 corrosion, 26.8ms\n",
      "Speed: 6.7ms preprocess, 26.8ms inference, 1.6ms postprocess per image at shape (1, 3, 1280, 736)\n"
     ]
    },
    {
     "name": "stderr",
     "output_type": "stream",
     "text": [
      " 23%|██▎       | 34/151 [00:04<00:06, 16.87it/s]"
     ]
    },
    {
     "name": "stdout",
     "output_type": "stream",
     "text": [
      "\n",
      "image 1/1 /kaggle/input/wind-turbine-damage-challenges/Wind Turbine damage/test/20240120_155211_mp4-0222_jpg.rf.10d6752c3fb32b117287db9cb9ba6e0b.jpg: 1280x736 1 no effect, 1 corrosion, 1 patch, 26.2ms\n",
      "Speed: 6.5ms preprocess, 26.2ms inference, 1.6ms postprocess per image at shape (1, 3, 1280, 736)\n",
      "\n",
      "image 1/1 /kaggle/input/wind-turbine-damage-challenges/Wind Turbine damage/test/20240120_160457-0-_jpg.rf.609b8e725f177836e00fd543f6d92f73.jpg: 1280x1280 2 no effects, 119 corrosions, 21 missing teeths, 1 patch, 31.4ms\n",
      "Speed: 13.5ms preprocess, 31.4ms inference, 1.6ms postprocess per image at shape (1, 3, 1280, 1280)\n"
     ]
    },
    {
     "name": "stderr",
     "output_type": "stream",
     "text": [
      " 24%|██▍       | 36/151 [00:04<00:08, 12.89it/s]"
     ]
    },
    {
     "name": "stdout",
     "output_type": "stream",
     "text": [
      "\n",
      "image 1/1 /kaggle/input/wind-turbine-damage-challenges/Wind Turbine damage/test/20240120_160553_jpg.rf.02cafabaceab373ddc1e5c30e1ba8499.jpg: 1280x1280 2 no effects, 169 corrosions, 28 missing teeths, 31.3ms\n",
      "Speed: 13.4ms preprocess, 31.3ms inference, 1.9ms postprocess per image at shape (1, 3, 1280, 1280)\n",
      "\n",
      "image 1/1 /kaggle/input/wind-turbine-damage-challenges/Wind Turbine damage/test/20240120_160557_jpg.rf.4d9909256e4bcb526d3eb1b63082b093.jpg: 1280x1280 1 no effect, 97 corrosions, 11 missing teeths, 2 patchs, 31.5ms\n",
      "Speed: 13.1ms preprocess, 31.5ms inference, 1.8ms postprocess per image at shape (1, 3, 1280, 1280)\n"
     ]
    },
    {
     "name": "stderr",
     "output_type": "stream",
     "text": [
      " 25%|██▌       | 38/151 [00:05<00:10, 10.29it/s]"
     ]
    },
    {
     "name": "stdout",
     "output_type": "stream",
     "text": [
      "\n",
      "image 1/1 /kaggle/input/wind-turbine-damage-challenges/Wind Turbine damage/test/20240120_160706-0-_jpg.rf.8582ddb4316cf299a51bcb10f58e36a5.jpg: 1280x1280 1 no effect, 18 corrosions, 1 missing teeth, 31.6ms\n",
      "Speed: 13.2ms preprocess, 31.6ms inference, 1.7ms postprocess per image at shape (1, 3, 1280, 1280)\n",
      "\n",
      "image 1/1 /kaggle/input/wind-turbine-damage-challenges/Wind Turbine damage/test/20240120_160706_jpg.rf.6b2e2b4a13dc2e6d5946abcebccaa874.jpg: 1280x1280 1 no effect, 31 corrosions, 7 missing teeths, 32.3ms\n",
      "Speed: 13.4ms preprocess, 32.3ms inference, 1.6ms postprocess per image at shape (1, 3, 1280, 1280)\n"
     ]
    },
    {
     "name": "stderr",
     "output_type": "stream",
     "text": [
      " 26%|██▋       | 40/151 [00:05<00:12,  9.17it/s]"
     ]
    },
    {
     "name": "stdout",
     "output_type": "stream",
     "text": [
      "\n",
      "image 1/1 /kaggle/input/wind-turbine-damage-challenges/Wind Turbine damage/test/20240120_160957_jpg.rf.5155c81578046677bece204ddb26c09d.jpg: 1280x1280 3 no effects, 10 corrosions, 1 missing teeth, 32.5ms\n",
      "Speed: 13.6ms preprocess, 32.5ms inference, 1.8ms postprocess per image at shape (1, 3, 1280, 1280)\n",
      "\n",
      "image 1/1 /kaggle/input/wind-turbine-damage-challenges/Wind Turbine damage/test/20240120_161014_jpg.rf.a886dd45473612fae63ab4fed235c9de.jpg: 1280x1280 4 no effects, 13 corrosions, 31.8ms\n",
      "Speed: 13.7ms preprocess, 31.8ms inference, 1.7ms postprocess per image at shape (1, 3, 1280, 1280)\n"
     ]
    },
    {
     "name": "stderr",
     "output_type": "stream",
     "text": [
      " 28%|██▊       | 42/151 [00:05<00:12,  8.57it/s]"
     ]
    },
    {
     "name": "stdout",
     "output_type": "stream",
     "text": [
      "\n",
      "image 1/1 /kaggle/input/wind-turbine-damage-challenges/Wind Turbine damage/test/20240120_161017_jpg.rf.951c430467f8f672bd6885680ab7dadc.jpg: 1280x1280 1 no effect, 1 corrosion, 32.0ms\n",
      "Speed: 13.3ms preprocess, 32.0ms inference, 1.7ms postprocess per image at shape (1, 3, 1280, 1280)\n"
     ]
    },
    {
     "name": "stderr",
     "output_type": "stream",
     "text": [
      " 28%|██▊       | 43/151 [00:05<00:13,  8.31it/s]"
     ]
    },
    {
     "name": "stdout",
     "output_type": "stream",
     "text": [
      "\n",
      "image 1/1 /kaggle/input/wind-turbine-damage-challenges/Wind Turbine damage/test/20240120_161023_jpg.rf.1af5fe6c0ba91aacdc8502f9365d62dc.jpg: 1280x1280 2 no effects, 58 corrosions, 2 missing teeths, 1 patch, 31.9ms\n",
      "Speed: 13.3ms preprocess, 31.9ms inference, 1.7ms postprocess per image at shape (1, 3, 1280, 1280)\n"
     ]
    },
    {
     "name": "stderr",
     "output_type": "stream",
     "text": [
      " 29%|██▉       | 44/151 [00:05<00:13,  7.99it/s]"
     ]
    },
    {
     "name": "stdout",
     "output_type": "stream",
     "text": [
      "\n",
      "image 1/1 /kaggle/input/wind-turbine-damage-challenges/Wind Turbine damage/test/20240120_161103-0-_jpg.rf.7ac8bc94eb0190afc02b4a4ceab49ac1.jpg: 1280x1280 2 no effects, 44 corrosions, 10 missing teeths, 1 patch, 31.7ms\n",
      "Speed: 13.1ms preprocess, 31.7ms inference, 1.7ms postprocess per image at shape (1, 3, 1280, 1280)\n"
     ]
    },
    {
     "name": "stderr",
     "output_type": "stream",
     "text": [
      " 30%|██▉       | 45/151 [00:06<00:13,  8.03it/s]"
     ]
    },
    {
     "name": "stdout",
     "output_type": "stream",
     "text": [
      "\n",
      "image 1/1 /kaggle/input/wind-turbine-damage-challenges/Wind Turbine damage/test/20240120_161118_jpg.rf.c474047ad5d392415971b82ea2691ff5.jpg: 1280x1280 1 no effect, 6 corrosions, 1 missing teeth, 31.8ms\n",
      "Speed: 13.1ms preprocess, 31.8ms inference, 1.6ms postprocess per image at shape (1, 3, 1280, 1280)\n"
     ]
    },
    {
     "name": "stderr",
     "output_type": "stream",
     "text": [
      " 30%|███       | 46/151 [00:06<00:13,  7.86it/s]"
     ]
    },
    {
     "name": "stdout",
     "output_type": "stream",
     "text": [
      "\n",
      "image 1/1 /kaggle/input/wind-turbine-damage-challenges/Wind Turbine damage/test/20240120_161126_jpg.rf.af941467cefb044aa50ac875b6bdc0e8.jpg: 1280x1280 2 no effects, 39 corrosions, 2 missing teeths, 31.6ms\n",
      "Speed: 13.3ms preprocess, 31.6ms inference, 1.6ms postprocess per image at shape (1, 3, 1280, 1280)\n"
     ]
    },
    {
     "name": "stderr",
     "output_type": "stream",
     "text": [
      " 31%|███       | 47/151 [00:06<00:13,  7.50it/s]"
     ]
    },
    {
     "name": "stdout",
     "output_type": "stream",
     "text": [
      "\n",
      "image 1/1 /kaggle/input/wind-turbine-damage-challenges/Wind Turbine damage/test/20240120_161133-0-_jpg.rf.dcddf116ed0ce393efa094713138319c.jpg: 1280x1280 2 no effects, 1 corrosion, 14 missing teeths, 31.8ms\n",
      "Speed: 13.3ms preprocess, 31.8ms inference, 1.7ms postprocess per image at shape (1, 3, 1280, 1280)\n"
     ]
    },
    {
     "name": "stderr",
     "output_type": "stream",
     "text": [
      " 32%|███▏      | 48/151 [00:06<00:13,  7.49it/s]"
     ]
    },
    {
     "name": "stdout",
     "output_type": "stream",
     "text": [
      "\n",
      "image 1/1 /kaggle/input/wind-turbine-damage-challenges/Wind Turbine damage/test/20240120_161134-0-_jpg.rf.bdb581aa01a6efc955bd97285dbd74e1.jpg: 1280x1280 2 no effects, 1 corrosion, 31.9ms\n",
      "Speed: 12.7ms preprocess, 31.9ms inference, 1.6ms postprocess per image at shape (1, 3, 1280, 1280)\n"
     ]
    },
    {
     "name": "stderr",
     "output_type": "stream",
     "text": [
      " 32%|███▏      | 49/151 [00:06<00:13,  7.45it/s]"
     ]
    },
    {
     "name": "stdout",
     "output_type": "stream",
     "text": [
      "\n",
      "image 1/1 /kaggle/input/wind-turbine-damage-challenges/Wind Turbine damage/test/20240120_161207_jpg.rf.b811af46b8e7c338c1ffaabeb5cf66bb.jpg: 1280x1280 2 no effects, 31.8ms\n",
      "Speed: 13.8ms preprocess, 31.8ms inference, 1.7ms postprocess per image at shape (1, 3, 1280, 1280)\n"
     ]
    },
    {
     "name": "stderr",
     "output_type": "stream",
     "text": [
      " 33%|███▎      | 50/151 [00:06<00:12,  7.84it/s]"
     ]
    },
    {
     "name": "stdout",
     "output_type": "stream",
     "text": [
      "\n",
      "image 1/1 /kaggle/input/wind-turbine-damage-challenges/Wind Turbine damage/test/20240120_161228_jpg.rf.8551f713d2a16451aa3ba4c2b155e00b.jpg: 1280x1280 1 no effect, 1 corrosion, 46 missing teeths, 31.9ms\n",
      "Speed: 13.8ms preprocess, 31.9ms inference, 1.7ms postprocess per image at shape (1, 3, 1280, 1280)\n"
     ]
    },
    {
     "name": "stderr",
     "output_type": "stream",
     "text": [
      " 34%|███▍      | 51/151 [00:06<00:13,  7.61it/s]"
     ]
    },
    {
     "name": "stdout",
     "output_type": "stream",
     "text": [
      "\n",
      "image 1/1 /kaggle/input/wind-turbine-damage-challenges/Wind Turbine damage/test/20240120_162824_jpg.rf.a51b12875976d0bffc12c06581c56936.jpg: 1280x1280 1 no effect, 1 corrosion, 43 missing teeths, 40.3ms\n",
      "Speed: 14.8ms preprocess, 40.3ms inference, 1.7ms postprocess per image at shape (1, 3, 1280, 1280)\n"
     ]
    },
    {
     "name": "stderr",
     "output_type": "stream",
     "text": [
      " 34%|███▍      | 52/151 [00:07<00:13,  7.26it/s]"
     ]
    },
    {
     "name": "stdout",
     "output_type": "stream",
     "text": [
      "\n",
      "image 1/1 /kaggle/input/wind-turbine-damage-challenges/Wind Turbine damage/test/20240120_162828-1-_jpg.rf.4fdac321731d4d3db13d4b820258854b.jpg: 1280x1280 1 no effect, 4 corrosions, 32.2ms\n",
      "Speed: 13.5ms preprocess, 32.2ms inference, 1.6ms postprocess per image at shape (1, 3, 1280, 1280)\n"
     ]
    },
    {
     "name": "stderr",
     "output_type": "stream",
     "text": [
      " 35%|███▌      | 53/151 [00:07<00:13,  7.27it/s]"
     ]
    },
    {
     "name": "stdout",
     "output_type": "stream",
     "text": [
      "\n",
      "image 1/1 /kaggle/input/wind-turbine-damage-challenges/Wind Turbine damage/test/20240120_162838_jpg.rf.306512a3b2d96f18f9dea28941d46350.jpg: 1280x1280 1 no effect, 6 corrosions, 4 missing teeths, 31.9ms\n",
      "Speed: 13.5ms preprocess, 31.9ms inference, 1.6ms postprocess per image at shape (1, 3, 1280, 1280)\n"
     ]
    },
    {
     "name": "stderr",
     "output_type": "stream",
     "text": [
      " 36%|███▌      | 54/151 [00:07<00:13,  7.35it/s]"
     ]
    },
    {
     "name": "stdout",
     "output_type": "stream",
     "text": [
      "\n",
      "image 1/1 /kaggle/input/wind-turbine-damage-challenges/Wind Turbine damage/test/20240120_162844-0-_jpg.rf.9b6edc74a2607728b200221a9fdc546b.jpg: 1280x1280 1 no effect, 8 corrosions, 35 missing teeths, 31.8ms\n",
      "Speed: 13.2ms preprocess, 31.8ms inference, 1.5ms postprocess per image at shape (1, 3, 1280, 1280)\n"
     ]
    },
    {
     "name": "stderr",
     "output_type": "stream",
     "text": [
      " 36%|███▋      | 55/151 [00:07<00:13,  7.23it/s]"
     ]
    },
    {
     "name": "stdout",
     "output_type": "stream",
     "text": [
      "\n",
      "image 1/1 /kaggle/input/wind-turbine-damage-challenges/Wind Turbine damage/test/20240120_162844-1-_jpg.rf.c25211b4ab0af41936afc89d5946f32b.jpg: 1280x1280 1 no effect, 9 corrosions, 9 missing teeths, 31.6ms\n",
      "Speed: 13.1ms preprocess, 31.6ms inference, 1.6ms postprocess per image at shape (1, 3, 1280, 1280)\n"
     ]
    },
    {
     "name": "stderr",
     "output_type": "stream",
     "text": [
      " 37%|███▋      | 56/151 [00:07<00:13,  7.17it/s]"
     ]
    },
    {
     "name": "stdout",
     "output_type": "stream",
     "text": [
      "\n",
      "image 1/1 /kaggle/input/wind-turbine-damage-challenges/Wind Turbine damage/test/20240120_162851-0-_jpg.rf.5becbe16d62094a5106285708a1ec473.jpg: 1280x1280 1 no effect, 4 corrosions, 31 missing teeths, 1 patch, 32.2ms\n",
      "Speed: 13.4ms preprocess, 32.2ms inference, 1.7ms postprocess per image at shape (1, 3, 1280, 1280)\n"
     ]
    },
    {
     "name": "stderr",
     "output_type": "stream",
     "text": [
      " 38%|███▊      | 57/151 [00:07<00:13,  7.19it/s]"
     ]
    },
    {
     "name": "stdout",
     "output_type": "stream",
     "text": [
      "\n",
      "image 1/1 /kaggle/input/wind-turbine-damage-challenges/Wind Turbine damage/test/20240120_162905-0-_jpg.rf.cec91a04d4d97418ef532934b05aa31d.jpg: 1280x1280 1 no effect, 25 missing teeths, 32.2ms\n",
      "Speed: 13.5ms preprocess, 32.2ms inference, 1.7ms postprocess per image at shape (1, 3, 1280, 1280)\n"
     ]
    },
    {
     "name": "stderr",
     "output_type": "stream",
     "text": [
      " 38%|███▊      | 58/151 [00:07<00:12,  7.25it/s]"
     ]
    },
    {
     "name": "stdout",
     "output_type": "stream",
     "text": [
      "\n",
      "image 1/1 /kaggle/input/wind-turbine-damage-challenges/Wind Turbine damage/test/20240120_162912-0-_jpg.rf.3d1a61f602d2413278b9f6cb2f8f111f.jpg: 1280x1280 1 no effect, 11 corrosions, 7 missing teeths, 31.9ms\n",
      "Speed: 13.0ms preprocess, 31.9ms inference, 1.7ms postprocess per image at shape (1, 3, 1280, 1280)\n"
     ]
    },
    {
     "name": "stderr",
     "output_type": "stream",
     "text": [
      " 39%|███▉      | 59/151 [00:08<00:12,  7.23it/s]"
     ]
    },
    {
     "name": "stdout",
     "output_type": "stream",
     "text": [
      "\n",
      "image 1/1 /kaggle/input/wind-turbine-damage-challenges/Wind Turbine damage/test/20240120_162914-0-_jpg.rf.f59673051fd81362e6b0d7794bab432b.jpg: 1280x1280 1 no effect, 2 corrosions, 27 missing teeths, 31.7ms\n",
      "Speed: 13.5ms preprocess, 31.7ms inference, 1.7ms postprocess per image at shape (1, 3, 1280, 1280)\n"
     ]
    },
    {
     "name": "stderr",
     "output_type": "stream",
     "text": [
      " 40%|███▉      | 60/151 [00:08<00:12,  7.35it/s]"
     ]
    },
    {
     "name": "stdout",
     "output_type": "stream",
     "text": [
      "\n",
      "image 1/1 /kaggle/input/wind-turbine-damage-challenges/Wind Turbine damage/test/20240120_162955-0-_jpg.rf.1495715f852a7fff8456e044dd26cc11.jpg: 1280x1280 1 no effect, 2 corrosions, 39 missing teeths, 31.7ms\n",
      "Speed: 13.0ms preprocess, 31.7ms inference, 1.6ms postprocess per image at shape (1, 3, 1280, 1280)\n"
     ]
    },
    {
     "name": "stderr",
     "output_type": "stream",
     "text": [
      " 40%|████      | 61/151 [00:08<00:12,  7.33it/s]"
     ]
    },
    {
     "name": "stdout",
     "output_type": "stream",
     "text": [
      "\n",
      "image 1/1 /kaggle/input/wind-turbine-damage-challenges/Wind Turbine damage/test/20240120_163003-1-_jpg.rf.e256f36bd594cafc2041415d9a119600.jpg: 1280x1280 2 no effects, 2 corrosions, 31.4ms\n",
      "Speed: 12.7ms preprocess, 31.4ms inference, 1.6ms postprocess per image at shape (1, 3, 1280, 1280)\n"
     ]
    },
    {
     "name": "stderr",
     "output_type": "stream",
     "text": [
      " 41%|████      | 62/151 [00:08<00:11,  7.47it/s]"
     ]
    },
    {
     "name": "stdout",
     "output_type": "stream",
     "text": [
      "\n",
      "image 1/1 /kaggle/input/wind-turbine-damage-challenges/Wind Turbine damage/test/20240120_163005-0-_jpg.rf.ab8c91946df2390ab574f5de89fba09e.jpg: 1280x1280 1 no effect, 4 corrosions, 31.8ms\n",
      "Speed: 13.4ms preprocess, 31.8ms inference, 2.5ms postprocess per image at shape (1, 3, 1280, 1280)\n"
     ]
    },
    {
     "name": "stderr",
     "output_type": "stream",
     "text": [
      " 42%|████▏     | 63/151 [00:08<00:11,  7.56it/s]"
     ]
    },
    {
     "name": "stdout",
     "output_type": "stream",
     "text": [
      "\n",
      "image 1/1 /kaggle/input/wind-turbine-damage-challenges/Wind Turbine damage/test/20240120_163020-0-_jpg.rf.e503792ced04bce579305e19fa3a485c.jpg: 1280x1280 1 no effect, 13 corrosions, 20 missing teeths, 32.2ms\n",
      "Speed: 13.7ms preprocess, 32.2ms inference, 1.7ms postprocess per image at shape (1, 3, 1280, 1280)\n"
     ]
    },
    {
     "name": "stderr",
     "output_type": "stream",
     "text": [
      " 42%|████▏     | 64/151 [00:08<00:11,  7.34it/s]"
     ]
    },
    {
     "name": "stdout",
     "output_type": "stream",
     "text": [
      "\n",
      "image 1/1 /kaggle/input/wind-turbine-damage-challenges/Wind Turbine damage/test/20240120_163021-0-_jpg.rf.2b48f3937dc7bd85cc5b2570c331b0fe.jpg: 1280x1280 1 no effect, 12 corrosions, 28 missing teeths, 31.6ms\n",
      "Speed: 13.1ms preprocess, 31.6ms inference, 1.7ms postprocess per image at shape (1, 3, 1280, 1280)\n"
     ]
    },
    {
     "name": "stderr",
     "output_type": "stream",
     "text": [
      " 43%|████▎     | 65/151 [00:08<00:11,  7.22it/s]"
     ]
    },
    {
     "name": "stdout",
     "output_type": "stream",
     "text": [
      "\n",
      "image 1/1 /kaggle/input/wind-turbine-damage-challenges/Wind Turbine damage/test/20240120_163033-0-_jpg.rf.baf4645828be43c72d9e8fcfc24b64b5.jpg: 1280x1280 1 no effect, 16 corrosions, 48 missing teeths, 31.9ms\n",
      "Speed: 12.9ms preprocess, 31.9ms inference, 1.6ms postprocess per image at shape (1, 3, 1280, 1280)\n"
     ]
    },
    {
     "name": "stderr",
     "output_type": "stream",
     "text": [
      " 44%|████▎     | 66/151 [00:08<00:11,  7.14it/s]"
     ]
    },
    {
     "name": "stdout",
     "output_type": "stream",
     "text": [
      "\n",
      "image 1/1 /kaggle/input/wind-turbine-damage-challenges/Wind Turbine damage/test/20240120_163038_jpg.rf.dc1643fa88e3f647d7664ce37a39f3fe.jpg: 1280x1280 1 no effect, 13 corrosions, 55 missing teeths, 31.8ms\n",
      "Speed: 12.9ms preprocess, 31.8ms inference, 1.7ms postprocess per image at shape (1, 3, 1280, 1280)\n"
     ]
    },
    {
     "name": "stderr",
     "output_type": "stream",
     "text": [
      " 44%|████▍     | 67/151 [00:09<00:11,  7.09it/s]"
     ]
    },
    {
     "name": "stdout",
     "output_type": "stream",
     "text": [
      "\n",
      "image 1/1 /kaggle/input/wind-turbine-damage-challenges/Wind Turbine damage/test/20240120_163040-0-_jpg.rf.9a6a8c19c726628a53bd9f5db3f2f439.jpg: 1280x1280 1 no effect, 14 corrosions, 44 missing teeths, 31.8ms\n",
      "Speed: 13.5ms preprocess, 31.8ms inference, 1.7ms postprocess per image at shape (1, 3, 1280, 1280)\n"
     ]
    },
    {
     "name": "stderr",
     "output_type": "stream",
     "text": [
      " 45%|████▌     | 68/151 [00:09<00:11,  7.03it/s]"
     ]
    },
    {
     "name": "stdout",
     "output_type": "stream",
     "text": [
      "\n",
      "image 1/1 /kaggle/input/wind-turbine-damage-challenges/Wind Turbine damage/test/20240120_163044_jpg.rf.9d8b6fcd8b4cbab86c02647c41f007d5.jpg: 1280x1280 1 no effect, 19 corrosions, 28 missing teeths, 2 patchs, 31.6ms\n",
      "Speed: 13.1ms preprocess, 31.6ms inference, 1.6ms postprocess per image at shape (1, 3, 1280, 1280)\n"
     ]
    },
    {
     "name": "stderr",
     "output_type": "stream",
     "text": [
      " 46%|████▌     | 69/151 [00:09<00:11,  7.05it/s]"
     ]
    },
    {
     "name": "stdout",
     "output_type": "stream",
     "text": [
      "\n",
      "image 1/1 /kaggle/input/wind-turbine-damage-challenges/Wind Turbine damage/test/20240120_163045-0-_jpg.rf.ee9cb8ff7b1709019cea1ed609b67d2f.jpg: 1280x1280 1 no effect, 17 corrosions, 18 missing teeths, 31.6ms\n",
      "Speed: 13.3ms preprocess, 31.6ms inference, 1.6ms postprocess per image at shape (1, 3, 1280, 1280)\n"
     ]
    },
    {
     "name": "stderr",
     "output_type": "stream",
     "text": [
      " 46%|████▋     | 70/151 [00:09<00:11,  7.06it/s]"
     ]
    },
    {
     "name": "stdout",
     "output_type": "stream",
     "text": [
      "\n",
      "image 1/1 /kaggle/input/wind-turbine-damage-challenges/Wind Turbine damage/test/20240120_163052_jpg.rf.111fcd1bad265aa0c2447269bca9a49a.jpg: 1280x1280 1 no effect, 3 corrosions, 36 missing teeths, 31.3ms\n",
      "Speed: 13.2ms preprocess, 31.3ms inference, 1.7ms postprocess per image at shape (1, 3, 1280, 1280)\n"
     ]
    },
    {
     "name": "stderr",
     "output_type": "stream",
     "text": [
      " 47%|████▋     | 71/151 [00:09<00:11,  7.23it/s]"
     ]
    },
    {
     "name": "stdout",
     "output_type": "stream",
     "text": [
      "\n",
      "image 1/1 /kaggle/input/wind-turbine-damage-challenges/Wind Turbine damage/test/20240120_163053-1-_jpg.rf.d5e4b0912ebe72247db35232ba3fffdd.jpg: 1280x1280 1 no effect, 3 corrosions, 37 missing teeths, 31.7ms\n",
      "Speed: 13.1ms preprocess, 31.7ms inference, 1.7ms postprocess per image at shape (1, 3, 1280, 1280)\n"
     ]
    },
    {
     "name": "stderr",
     "output_type": "stream",
     "text": [
      " 48%|████▊     | 72/151 [00:09<00:10,  7.33it/s]"
     ]
    },
    {
     "name": "stdout",
     "output_type": "stream",
     "text": [
      "\n",
      "image 1/1 /kaggle/input/wind-turbine-damage-challenges/Wind Turbine damage/test/20240120_163054_jpg.rf.9456e409d5d472605b41e51c47f80d04.jpg: 1280x1280 1 no effect, 2 corrosions, 30 missing teeths, 31.8ms\n",
      "Speed: 13.3ms preprocess, 31.8ms inference, 1.7ms postprocess per image at shape (1, 3, 1280, 1280)\n"
     ]
    },
    {
     "name": "stderr",
     "output_type": "stream",
     "text": [
      " 48%|████▊     | 73/151 [00:09<00:10,  7.39it/s]"
     ]
    },
    {
     "name": "stdout",
     "output_type": "stream",
     "text": [
      "\n",
      "image 1/1 /kaggle/input/wind-turbine-damage-challenges/Wind Turbine damage/test/20240120_163623_jpg.rf.dadee9dfb41e95b4016dd97010437f84.jpg: 1280x1280 1 no effect, 19 corrosions, 6 missing teeths, 31.7ms\n",
      "Speed: 13.2ms preprocess, 31.7ms inference, 1.7ms postprocess per image at shape (1, 3, 1280, 1280)\n"
     ]
    },
    {
     "name": "stderr",
     "output_type": "stream",
     "text": [
      " 49%|████▉     | 74/151 [00:10<00:10,  7.39it/s]"
     ]
    },
    {
     "name": "stdout",
     "output_type": "stream",
     "text": [
      "\n",
      "image 1/1 /kaggle/input/wind-turbine-damage-challenges/Wind Turbine damage/test/20240120_163626_jpg.rf.bb15a2c995255433bb8e8aabcd91c8b5.jpg: 1280x1280 1 no effect, 24 corrosions, 8 missing teeths, 32.0ms\n",
      "Speed: 13.4ms preprocess, 32.0ms inference, 1.7ms postprocess per image at shape (1, 3, 1280, 1280)\n"
     ]
    },
    {
     "name": "stderr",
     "output_type": "stream",
     "text": [
      " 50%|████▉     | 75/151 [00:10<00:10,  7.19it/s]"
     ]
    },
    {
     "name": "stdout",
     "output_type": "stream",
     "text": [
      "\n",
      "image 1/1 /kaggle/input/wind-turbine-damage-challenges/Wind Turbine damage/test/20240120_163642_jpg.rf.a184fefcd0f1c68991113d7b4d82cf0c.jpg: 1280x1280 1 no effect, 1 corrosion, 50 missing teeths, 31.5ms\n",
      "Speed: 13.4ms preprocess, 31.5ms inference, 1.6ms postprocess per image at shape (1, 3, 1280, 1280)\n"
     ]
    },
    {
     "name": "stderr",
     "output_type": "stream",
     "text": [
      " 50%|█████     | 76/151 [00:10<00:10,  7.14it/s]"
     ]
    },
    {
     "name": "stdout",
     "output_type": "stream",
     "text": [
      "\n",
      "image 1/1 /kaggle/input/wind-turbine-damage-challenges/Wind Turbine damage/test/20240120_163644-0-_jpg.rf.968f7d72ae7be6ef8733b42490c03aed.jpg: 1280x1280 1 no effect, 1 corrosion, 71 missing teeths, 31.7ms\n",
      "Speed: 13.0ms preprocess, 31.7ms inference, 1.6ms postprocess per image at shape (1, 3, 1280, 1280)\n"
     ]
    },
    {
     "name": "stderr",
     "output_type": "stream",
     "text": [
      " 51%|█████     | 77/151 [00:10<00:10,  7.08it/s]"
     ]
    },
    {
     "name": "stdout",
     "output_type": "stream",
     "text": [
      "\n",
      "image 1/1 /kaggle/input/wind-turbine-damage-challenges/Wind Turbine damage/test/20240120_163650-0-_jpg.rf.6ff26d6832686600c6f18b4be821482e.jpg: 1280x1280 1 no effect, 5 corrosions, 36 missing teeths, 31.7ms\n",
      "Speed: 13.3ms preprocess, 31.7ms inference, 1.8ms postprocess per image at shape (1, 3, 1280, 1280)\n"
     ]
    },
    {
     "name": "stderr",
     "output_type": "stream",
     "text": [
      " 52%|█████▏    | 78/151 [00:10<00:10,  7.07it/s]"
     ]
    },
    {
     "name": "stdout",
     "output_type": "stream",
     "text": [
      "\n",
      "image 1/1 /kaggle/input/wind-turbine-damage-challenges/Wind Turbine damage/test/20240120_163650_jpg.rf.d420c98f550cdddfdcf15388a6232091.jpg: 1280x1280 1 no effect, 4 corrosions, 40 missing teeths, 31.5ms\n",
      "Speed: 13.3ms preprocess, 31.5ms inference, 1.7ms postprocess per image at shape (1, 3, 1280, 1280)\n"
     ]
    },
    {
     "name": "stderr",
     "output_type": "stream",
     "text": [
      " 52%|█████▏    | 79/151 [00:10<00:10,  7.08it/s]"
     ]
    },
    {
     "name": "stdout",
     "output_type": "stream",
     "text": [
      "\n",
      "image 1/1 /kaggle/input/wind-turbine-damage-challenges/Wind Turbine damage/test/20240120_163730-0-_jpg.rf.7139d077e629ae78b03081e5ca84dd98.jpg: 1280x1280 1 no effect, 24 corrosions, 13 missing teeths, 31.5ms\n",
      "Speed: 13.2ms preprocess, 31.5ms inference, 1.6ms postprocess per image at shape (1, 3, 1280, 1280)\n"
     ]
    },
    {
     "name": "stderr",
     "output_type": "stream",
     "text": [
      " 53%|█████▎    | 80/151 [00:10<00:09,  7.12it/s]"
     ]
    },
    {
     "name": "stdout",
     "output_type": "stream",
     "text": [
      "\n",
      "image 1/1 /kaggle/input/wind-turbine-damage-challenges/Wind Turbine damage/test/20240120_164156_jpg.rf.271c749cefc88f123dd383e89b32dfed.jpg: 1280x1280 6 no effects, 9 corrosions, 5 missing teeths, 31.6ms\n",
      "Speed: 13.4ms preprocess, 31.6ms inference, 1.6ms postprocess per image at shape (1, 3, 1280, 1280)\n"
     ]
    },
    {
     "name": "stderr",
     "output_type": "stream",
     "text": [
      " 54%|█████▎    | 81/151 [00:11<00:09,  7.25it/s]"
     ]
    },
    {
     "name": "stdout",
     "output_type": "stream",
     "text": [
      "\n",
      "image 1/1 /kaggle/input/wind-turbine-damage-challenges/Wind Turbine damage/test/20240120_164348_mp4-2330_jpg.rf.99f885a1881dee8e72b0e2cc91350290.jpg: 1280x736 1 no effect, 2 corrosions, 10 missing teeths, 26.2ms\n",
      "Speed: 6.9ms preprocess, 26.2ms inference, 1.6ms postprocess per image at shape (1, 3, 1280, 736)\n",
      "\n",
      "image 1/1 /kaggle/input/wind-turbine-damage-challenges/Wind Turbine damage/test/20240120_164348_mp4-2500_jpg.rf.f8151151ee2c00ac3ff469cadc42e2dc.jpg: 1280x736 1 no effect, 6 corrosions, 26.8ms\n",
      "Speed: 6.9ms preprocess, 26.8ms inference, 1.7ms postprocess per image at shape (1, 3, 1280, 736)\n"
     ]
    },
    {
     "name": "stderr",
     "output_type": "stream",
     "text": [
      " 55%|█████▍    | 83/151 [00:11<00:06,  9.86it/s]"
     ]
    },
    {
     "name": "stdout",
     "output_type": "stream",
     "text": [
      "\n",
      "image 1/1 /kaggle/input/wind-turbine-damage-challenges/Wind Turbine damage/test/20240120_164348_mp4-4110_jpg.rf.bc5bdabb1f57eb50d3bd4098c921d1fd.jpg: 1280x736 1 no effect, 3 corrosions, 26.2ms\n",
      "Speed: 6.8ms preprocess, 26.2ms inference, 1.6ms postprocess per image at shape (1, 3, 1280, 736)\n",
      "\n",
      "image 1/1 /kaggle/input/wind-turbine-damage-challenges/Wind Turbine damage/test/20240120_164348_mp4-4114_jpg.rf.5fa408a4c5bfd3b186f2a54dc555e753.jpg: 1280x736 1 no effect, 2 corrosions, 26.8ms\n",
      "Speed: 6.6ms preprocess, 26.8ms inference, 1.6ms postprocess per image at shape (1, 3, 1280, 736)\n"
     ]
    },
    {
     "name": "stderr",
     "output_type": "stream",
     "text": [
      " 56%|█████▋    | 85/151 [00:11<00:05, 11.98it/s]"
     ]
    },
    {
     "name": "stdout",
     "output_type": "stream",
     "text": [
      "\n",
      "image 1/1 /kaggle/input/wind-turbine-damage-challenges/Wind Turbine damage/test/20240120_164348_mp4-4148_jpg.rf.816f4ef4d1de664e9f6fcc45f6dfa11f.jpg: 1280x736 1 no effect, 3 corrosions, 26.3ms\n",
      "Speed: 6.6ms preprocess, 26.3ms inference, 1.7ms postprocess per image at shape (1, 3, 1280, 736)\n",
      "\n",
      "image 1/1 /kaggle/input/wind-turbine-damage-challenges/Wind Turbine damage/test/20240120_164348_mp4-4186_jpg.rf.acc31c48a0599af4ab5b90bf6b4a6136.jpg: 1280x736 1 no effect, 9 corrosions, 3 missing teeths, 26.9ms\n",
      "Speed: 6.5ms preprocess, 26.9ms inference, 1.7ms postprocess per image at shape (1, 3, 1280, 736)\n"
     ]
    },
    {
     "name": "stderr",
     "output_type": "stream",
     "text": [
      " 58%|█████▊    | 87/151 [00:11<00:04, 13.50it/s]"
     ]
    },
    {
     "name": "stdout",
     "output_type": "stream",
     "text": [
      "\n",
      "image 1/1 /kaggle/input/wind-turbine-damage-challenges/Wind Turbine damage/test/20240120_164348_mp4-4190_jpg.rf.35c7cf908606d69f9e88e50415690b7f.jpg: 1280x736 2 no effects, 10 corrosions, 1 missing teeth, 26.4ms\n",
      "Speed: 7.0ms preprocess, 26.4ms inference, 1.6ms postprocess per image at shape (1, 3, 1280, 736)\n",
      "\n",
      "image 1/1 /kaggle/input/wind-turbine-damage-challenges/Wind Turbine damage/test/20240120_164348_mp4-4714_jpg.rf.ab56dbe039b90c154f6ebacce19869f1.jpg: 1280x736 1 no effect, 26.4ms\n",
      "Speed: 6.6ms preprocess, 26.4ms inference, 1.6ms postprocess per image at shape (1, 3, 1280, 736)\n"
     ]
    },
    {
     "name": "stderr",
     "output_type": "stream",
     "text": [
      " 59%|█████▉    | 89/151 [00:11<00:04, 14.09it/s]"
     ]
    },
    {
     "name": "stdout",
     "output_type": "stream",
     "text": [
      "\n",
      "image 1/1 /kaggle/input/wind-turbine-damage-challenges/Wind Turbine damage/test/20240120_164348_mp4-4724_jpg.rf.db7990b2d0a32e3af5930cb8d63704b6.jpg: 1280x736 1 no effect, 26.2ms\n",
      "Speed: 6.8ms preprocess, 26.2ms inference, 1.9ms postprocess per image at shape (1, 3, 1280, 736)\n",
      "\n",
      "image 1/1 /kaggle/input/wind-turbine-damage-challenges/Wind Turbine damage/test/20240120_164348_mp4-4758_jpg.rf.7ec5f576a67700199ac4c7e897253413.jpg: 1280x736 1 no effect, 26.2ms\n",
      "Speed: 7.0ms preprocess, 26.2ms inference, 1.6ms postprocess per image at shape (1, 3, 1280, 736)\n"
     ]
    },
    {
     "name": "stderr",
     "output_type": "stream",
     "text": [
      " 60%|██████    | 91/151 [00:11<00:03, 15.31it/s]"
     ]
    },
    {
     "name": "stdout",
     "output_type": "stream",
     "text": [
      "\n",
      "image 1/1 /kaggle/input/wind-turbine-damage-challenges/Wind Turbine damage/test/20240120_164348_mp4-4881_jpg.rf.4682e343f5944b5f911d891965f0b6d8.jpg: 1280x736 1 no effect, 5 corrosions, 26.4ms\n",
      "Speed: 6.8ms preprocess, 26.4ms inference, 1.6ms postprocess per image at shape (1, 3, 1280, 736)\n",
      "\n",
      "image 1/1 /kaggle/input/wind-turbine-damage-challenges/Wind Turbine damage/test/20240120_164348_mp4-4909_jpg.rf.c2880db9ff2ebe752daa97bc61d1b947.jpg: 1280x736 1 no effect, 6 corrosions, 27.7ms\n",
      "Speed: 6.7ms preprocess, 27.7ms inference, 1.6ms postprocess per image at shape (1, 3, 1280, 736)\n"
     ]
    },
    {
     "name": "stderr",
     "output_type": "stream",
     "text": [
      " 62%|██████▏   | 93/151 [00:11<00:03, 15.96it/s]"
     ]
    },
    {
     "name": "stdout",
     "output_type": "stream",
     "text": [
      "\n",
      "image 1/1 /kaggle/input/wind-turbine-damage-challenges/Wind Turbine damage/test/DJI_0685-1-_JPG.rf.28e5acd6707444bdffa08e561f9b676b.jpg: 736x1280 1 no effect, 4 corrosions, 30 missing teeths, 26.8ms\n",
      "Speed: 8.0ms preprocess, 26.8ms inference, 1.6ms postprocess per image at shape (1, 3, 736, 1280)\n",
      "\n",
      "image 1/1 /kaggle/input/wind-turbine-damage-challenges/Wind Turbine damage/test/DJI_0689-1-_JPG.rf.fa20919f9ea6451ed2d49be4f6f58f08.jpg: 736x1280 1 no effect, 14 corrosions, 25 missing teeths, 26.7ms\n",
      "Speed: 8.5ms preprocess, 26.7ms inference, 1.7ms postprocess per image at shape (1, 3, 736, 1280)\n"
     ]
    },
    {
     "name": "stderr",
     "output_type": "stream",
     "text": [
      " 63%|██████▎   | 95/151 [00:12<00:07,  7.98it/s]"
     ]
    },
    {
     "name": "stdout",
     "output_type": "stream",
     "text": [
      "\n",
      "image 1/1 /kaggle/input/wind-turbine-damage-challenges/Wind Turbine damage/test/DJI_0694-1-_JPG.rf.b82a3198da2abe3ac2509df4a524d049.jpg: 736x1280 1 no effect, 13 corrosions, 8 missing teeths, 1 patch, 26.3ms\n",
      "Speed: 8.1ms preprocess, 26.3ms inference, 1.7ms postprocess per image at shape (1, 3, 736, 1280)\n",
      "\n",
      "image 1/1 /kaggle/input/wind-turbine-damage-challenges/Wind Turbine damage/test/DJI_0695-1-_JPG.rf.a246dba06279f2c5e22e99852bcbbb99.jpg: 736x1280 1 no effect, 10 corrosions, 1 missing teeth, 5 patchs, 26.1ms\n",
      "Speed: 8.1ms preprocess, 26.1ms inference, 1.7ms postprocess per image at shape (1, 3, 736, 1280)\n"
     ]
    },
    {
     "name": "stderr",
     "output_type": "stream",
     "text": [
      " 64%|██████▍   | 97/151 [00:12<00:09,  5.98it/s]"
     ]
    },
    {
     "name": "stdout",
     "output_type": "stream",
     "text": [
      "\n",
      "image 1/1 /kaggle/input/wind-turbine-damage-challenges/Wind Turbine damage/test/DJI_0700-1-_JPG.rf.5959c97c6fecf8a47de229ce1efd54a3.jpg: 736x1280 1 no effect, 9 corrosions, 3 missing teeths, 27.0ms\n",
      "Speed: 8.0ms preprocess, 27.0ms inference, 1.7ms postprocess per image at shape (1, 3, 736, 1280)\n"
     ]
    },
    {
     "name": "stderr",
     "output_type": "stream",
     "text": [
      " 65%|██████▍   | 98/151 [00:13<00:09,  5.42it/s]"
     ]
    },
    {
     "name": "stdout",
     "output_type": "stream",
     "text": [
      "\n",
      "image 1/1 /kaggle/input/wind-turbine-damage-challenges/Wind Turbine damage/test/DJI_0702-1-_JPG.rf.eb0e2024c06c73aec47ff061322e5159.jpg: 736x1280 1 no effect, 5 corrosions, 1 patch, 26.2ms\n",
      "Speed: 9.8ms preprocess, 26.2ms inference, 1.7ms postprocess per image at shape (1, 3, 736, 1280)\n"
     ]
    },
    {
     "name": "stderr",
     "output_type": "stream",
     "text": [
      " 66%|██████▌   | 99/151 [00:13<00:10,  4.93it/s]"
     ]
    },
    {
     "name": "stdout",
     "output_type": "stream",
     "text": [
      "\n",
      "image 1/1 /kaggle/input/wind-turbine-damage-challenges/Wind Turbine damage/test/DJI_0703-1-_JPG.rf.f37e56bcbcea4be50fbb69163950b25e.jpg: 736x1280 1 no effect, 3 corrosions, 28.9ms\n",
      "Speed: 8.3ms preprocess, 28.9ms inference, 1.7ms postprocess per image at shape (1, 3, 736, 1280)\n"
     ]
    },
    {
     "name": "stderr",
     "output_type": "stream",
     "text": [
      " 66%|██████▌   | 100/151 [00:13<00:11,  4.56it/s]"
     ]
    },
    {
     "name": "stdout",
     "output_type": "stream",
     "text": [
      "\n",
      "image 1/1 /kaggle/input/wind-turbine-damage-challenges/Wind Turbine damage/test/DJI_0704-1-_JPG.rf.60db0f08429e9bc32a75f95e3ee2d118.jpg: 736x1280 1 no effect, 6 corrosions, 27.4ms\n",
      "Speed: 8.1ms preprocess, 27.4ms inference, 1.7ms postprocess per image at shape (1, 3, 736, 1280)\n"
     ]
    },
    {
     "name": "stderr",
     "output_type": "stream",
     "text": [
      " 67%|██████▋   | 101/151 [00:13<00:11,  4.32it/s]"
     ]
    },
    {
     "name": "stdout",
     "output_type": "stream",
     "text": [
      "\n",
      "image 1/1 /kaggle/input/wind-turbine-damage-challenges/Wind Turbine damage/test/DJI_0706-1-_JPG.rf.266efc3b31622fd7c6e2043e77815f0f.jpg: 736x1280 1 no effect, 6 corrosions, 1 missing teeth, 27.6ms\n",
      "Speed: 8.4ms preprocess, 27.6ms inference, 1.7ms postprocess per image at shape (1, 3, 736, 1280)\n"
     ]
    },
    {
     "name": "stderr",
     "output_type": "stream",
     "text": [
      " 68%|██████▊   | 102/151 [00:14<00:11,  4.16it/s]"
     ]
    },
    {
     "name": "stdout",
     "output_type": "stream",
     "text": [
      "\n",
      "image 1/1 /kaggle/input/wind-turbine-damage-challenges/Wind Turbine damage/test/DJI_0713-1-_JPG.rf.d5f2b2b8460d6addaded7f49160182be.jpg: 736x1280 1 no effect, 9 corrosions, 38 missing teeths, 1 patch, 27.1ms\n",
      "Speed: 8.4ms preprocess, 27.1ms inference, 1.7ms postprocess per image at shape (1, 3, 736, 1280)\n"
     ]
    },
    {
     "name": "stderr",
     "output_type": "stream",
     "text": [
      " 68%|██████▊   | 103/151 [00:14<00:11,  4.04it/s]"
     ]
    },
    {
     "name": "stdout",
     "output_type": "stream",
     "text": [
      "\n",
      "image 1/1 /kaggle/input/wind-turbine-damage-challenges/Wind Turbine damage/test/DJI_0719-1-_JPG.rf.875b60e2f99c3faa08041c475b4e99ba.jpg: 736x1280 1 no effect, 1 corrosion, 27.4ms\n",
      "Speed: 8.5ms preprocess, 27.4ms inference, 1.7ms postprocess per image at shape (1, 3, 736, 1280)\n"
     ]
    },
    {
     "name": "stderr",
     "output_type": "stream",
     "text": [
      " 69%|██████▉   | 104/151 [00:14<00:11,  3.98it/s]"
     ]
    },
    {
     "name": "stdout",
     "output_type": "stream",
     "text": [
      "\n",
      "image 1/1 /kaggle/input/wind-turbine-damage-challenges/Wind Turbine damage/test/DJI_0724-1-_JPG.rf.6a190fc02e39550aab35e08235f34f30.jpg: 736x1280 2 no effects, 34 corrosions, 3 missing teeths, 26.9ms\n",
      "Speed: 8.5ms preprocess, 26.9ms inference, 1.7ms postprocess per image at shape (1, 3, 736, 1280)\n"
     ]
    },
    {
     "name": "stderr",
     "output_type": "stream",
     "text": [
      " 70%|██████▉   | 105/151 [00:14<00:11,  3.90it/s]"
     ]
    },
    {
     "name": "stdout",
     "output_type": "stream",
     "text": [
      "\n",
      "image 1/1 /kaggle/input/wind-turbine-damage-challenges/Wind Turbine damage/test/DJI_0727-1-_JPG.rf.1ba9bf8c97c13eca16e3840a2f576076.jpg: 736x1280 1 no effect, 10 corrosions, 1 missing teeth, 26.8ms\n",
      "Speed: 8.7ms preprocess, 26.8ms inference, 1.7ms postprocess per image at shape (1, 3, 736, 1280)\n"
     ]
    },
    {
     "name": "stderr",
     "output_type": "stream",
     "text": [
      " 70%|███████   | 106/151 [00:15<00:11,  3.87it/s]"
     ]
    },
    {
     "name": "stdout",
     "output_type": "stream",
     "text": [
      "\n",
      "image 1/1 /kaggle/input/wind-turbine-damage-challenges/Wind Turbine damage/test/DJI_0728-1-_JPG.rf.55ae4b479b0e282856186143e1fbbe72.jpg: 736x1280 1 no effect, 4 corrosions, 1 missing teeth, 1 patch, 25.6ms\n",
      "Speed: 8.2ms preprocess, 25.6ms inference, 1.6ms postprocess per image at shape (1, 3, 736, 1280)\n"
     ]
    },
    {
     "name": "stderr",
     "output_type": "stream",
     "text": [
      " 71%|███████   | 107/151 [00:15<00:11,  3.89it/s]"
     ]
    },
    {
     "name": "stdout",
     "output_type": "stream",
     "text": [
      "\n",
      "image 1/1 /kaggle/input/wind-turbine-damage-challenges/Wind Turbine damage/test/DJI_0735-1-_JPG.rf.c2b5abc13f2bb4a92bbe500391cd6e2f.jpg: 736x1280 1 no effect, 26.3ms\n",
      "Speed: 8.5ms preprocess, 26.3ms inference, 1.6ms postprocess per image at shape (1, 3, 736, 1280)\n"
     ]
    },
    {
     "name": "stderr",
     "output_type": "stream",
     "text": [
      " 72%|███████▏  | 108/151 [00:15<00:11,  3.85it/s]"
     ]
    },
    {
     "name": "stdout",
     "output_type": "stream",
     "text": [
      "\n",
      "image 1/1 /kaggle/input/wind-turbine-damage-challenges/Wind Turbine damage/test/DJI_0736-1-_JPG.rf.91063e4bfc57903ac1c1a3e62eeae0e0.jpg: 736x1280 1 no effect, 26.5ms\n",
      "Speed: 7.9ms preprocess, 26.5ms inference, 1.6ms postprocess per image at shape (1, 3, 736, 1280)\n"
     ]
    },
    {
     "name": "stderr",
     "output_type": "stream",
     "text": [
      " 72%|███████▏  | 109/151 [00:15<00:10,  3.84it/s]"
     ]
    },
    {
     "name": "stdout",
     "output_type": "stream",
     "text": [
      "\n",
      "image 1/1 /kaggle/input/wind-turbine-damage-challenges/Wind Turbine damage/test/DJI_0738-1-_JPG.rf.38dac02166d65ecaf77d9c7babd45d4f.jpg: 736x1280 1 no effect, 1 corrosion, 26.8ms\n",
      "Speed: 8.0ms preprocess, 26.8ms inference, 1.7ms postprocess per image at shape (1, 3, 736, 1280)\n"
     ]
    },
    {
     "name": "stderr",
     "output_type": "stream",
     "text": [
      " 73%|███████▎  | 110/151 [00:16<00:10,  3.84it/s]"
     ]
    },
    {
     "name": "stdout",
     "output_type": "stream",
     "text": [
      "\n",
      "image 1/1 /kaggle/input/wind-turbine-damage-challenges/Wind Turbine damage/test/DJI_0739-1-_JPG.rf.773353bbf8434865979f18dfd494cfb1.jpg: 736x1280 1 no effect, 2 corrosions, 27.1ms\n",
      "Speed: 8.0ms preprocess, 27.1ms inference, 1.6ms postprocess per image at shape (1, 3, 736, 1280)\n"
     ]
    },
    {
     "name": "stderr",
     "output_type": "stream",
     "text": [
      " 74%|███████▎  | 111/151 [00:16<00:10,  3.85it/s]"
     ]
    },
    {
     "name": "stdout",
     "output_type": "stream",
     "text": [
      "\n",
      "image 1/1 /kaggle/input/wind-turbine-damage-challenges/Wind Turbine damage/test/DJI_0740-1-_JPG.rf.ab961f1d9d46ff49368e7edb5c8aead4.jpg: 736x1280 1 no effect, 27.0ms\n",
      "Speed: 8.3ms preprocess, 27.0ms inference, 1.6ms postprocess per image at shape (1, 3, 736, 1280)\n"
     ]
    },
    {
     "name": "stderr",
     "output_type": "stream",
     "text": [
      " 74%|███████▍  | 112/151 [00:16<00:10,  3.85it/s]"
     ]
    },
    {
     "name": "stdout",
     "output_type": "stream",
     "text": [
      "\n",
      "image 1/1 /kaggle/input/wind-turbine-damage-challenges/Wind Turbine damage/test/DJI_0747-1-_JPG.rf.4e371df6acba379f00cee896d44c5536.jpg: 736x1280 1 no effect, 4 corrosions, 39.3ms\n",
      "Speed: 10.9ms preprocess, 39.3ms inference, 1.8ms postprocess per image at shape (1, 3, 736, 1280)\n"
     ]
    },
    {
     "name": "stderr",
     "output_type": "stream",
     "text": [
      " 75%|███████▍  | 113/151 [00:17<00:10,  3.76it/s]"
     ]
    },
    {
     "name": "stdout",
     "output_type": "stream",
     "text": [
      "\n",
      "image 1/1 /kaggle/input/wind-turbine-damage-challenges/Wind Turbine damage/test/DJI_0748-1-_JPG.rf.0d8420a917a8186fa103932f63c7b501.jpg: 736x1280 1 no effect, 7 corrosions, 1 missing teeth, 26.5ms\n",
      "Speed: 7.9ms preprocess, 26.5ms inference, 1.7ms postprocess per image at shape (1, 3, 736, 1280)\n"
     ]
    },
    {
     "name": "stderr",
     "output_type": "stream",
     "text": [
      " 75%|███████▌  | 114/151 [00:17<00:09,  3.79it/s]"
     ]
    },
    {
     "name": "stdout",
     "output_type": "stream",
     "text": [
      "\n",
      "image 1/1 /kaggle/input/wind-turbine-damage-challenges/Wind Turbine damage/test/DJI_0749-1-_JPG.rf.356be7f5b3ec7e31c5594426b6aba5eb.jpg: 736x1280 1 no effect, 6 corrosions, 2 missing teeths, 27.7ms\n",
      "Speed: 7.6ms preprocess, 27.7ms inference, 1.6ms postprocess per image at shape (1, 3, 736, 1280)\n"
     ]
    },
    {
     "name": "stderr",
     "output_type": "stream",
     "text": [
      " 76%|███████▌  | 115/151 [00:17<00:09,  3.81it/s]"
     ]
    },
    {
     "name": "stdout",
     "output_type": "stream",
     "text": [
      "\n",
      "image 1/1 /kaggle/input/wind-turbine-damage-challenges/Wind Turbine damage/test/DJI_0751-1-_JPG.rf.3ce670d8f2209ef6c78270a89b642fba.jpg: 736x1280 2 no effects, 8 corrosions, 2 missing teeths, 26.7ms\n",
      "Speed: 8.2ms preprocess, 26.7ms inference, 1.7ms postprocess per image at shape (1, 3, 736, 1280)\n"
     ]
    },
    {
     "name": "stderr",
     "output_type": "stream",
     "text": [
      " 77%|███████▋  | 116/151 [00:17<00:09,  3.81it/s]"
     ]
    },
    {
     "name": "stdout",
     "output_type": "stream",
     "text": [
      "\n",
      "image 1/1 /kaggle/input/wind-turbine-damage-challenges/Wind Turbine damage/test/DJI_0752-1-_JPG.rf.a82cba01167ad4cf275b98e201de6601.jpg: 736x1280 1 no effect, 8 corrosions, 6 missing teeths, 25.8ms\n",
      "Speed: 7.6ms preprocess, 25.8ms inference, 1.6ms postprocess per image at shape (1, 3, 736, 1280)\n"
     ]
    },
    {
     "name": "stderr",
     "output_type": "stream",
     "text": [
      " 77%|███████▋  | 117/151 [00:18<00:08,  3.83it/s]"
     ]
    },
    {
     "name": "stdout",
     "output_type": "stream",
     "text": [
      "\n",
      "image 1/1 /kaggle/input/wind-turbine-damage-challenges/Wind Turbine damage/test/DJI_0753-1-_JPG.rf.7b2ffc0f3cdeacc24f83ad692cade3f6.jpg: 736x1280 1 no effect, 5 corrosions, 3 missing teeths, 26.0ms\n",
      "Speed: 8.0ms preprocess, 26.0ms inference, 1.6ms postprocess per image at shape (1, 3, 736, 1280)\n"
     ]
    },
    {
     "name": "stderr",
     "output_type": "stream",
     "text": [
      " 78%|███████▊  | 118/151 [00:18<00:08,  3.82it/s]"
     ]
    },
    {
     "name": "stdout",
     "output_type": "stream",
     "text": [
      "\n",
      "image 1/1 /kaggle/input/wind-turbine-damage-challenges/Wind Turbine damage/test/DJI_0755-1-_JPG.rf.5cc110a79566dd9ab3ab412e985a33da.jpg: 736x1280 1 no effect, 4 corrosions, 4 missing teeths, 26.9ms\n",
      "Speed: 7.7ms preprocess, 26.9ms inference, 1.6ms postprocess per image at shape (1, 3, 736, 1280)\n"
     ]
    },
    {
     "name": "stderr",
     "output_type": "stream",
     "text": [
      " 79%|███████▉  | 119/151 [00:18<00:08,  3.83it/s]"
     ]
    },
    {
     "name": "stdout",
     "output_type": "stream",
     "text": [
      "\n",
      "image 1/1 /kaggle/input/wind-turbine-damage-challenges/Wind Turbine damage/test/DJI_0756-1-_JPG.rf.e06774dbaeadae553f8a5707f33b59df.jpg: 736x1280 1 no effect, 2 corrosions, 6 missing teeths, 25.7ms\n",
      "Speed: 7.9ms preprocess, 25.7ms inference, 1.7ms postprocess per image at shape (1, 3, 736, 1280)\n"
     ]
    },
    {
     "name": "stderr",
     "output_type": "stream",
     "text": [
      " 79%|███████▉  | 120/151 [00:18<00:08,  3.84it/s]"
     ]
    },
    {
     "name": "stdout",
     "output_type": "stream",
     "text": [
      "\n",
      "image 1/1 /kaggle/input/wind-turbine-damage-challenges/Wind Turbine damage/test/DJI_0757-1-_JPG.rf.55e66031eb54e212c90c8c7d09065a73.jpg: 736x1280 1 no effect, 3 corrosions, 4 missing teeths, 26.6ms\n",
      "Speed: 8.3ms preprocess, 26.6ms inference, 1.7ms postprocess per image at shape (1, 3, 736, 1280)\n"
     ]
    },
    {
     "name": "stderr",
     "output_type": "stream",
     "text": [
      " 80%|████████  | 121/151 [00:19<00:07,  3.84it/s]"
     ]
    },
    {
     "name": "stdout",
     "output_type": "stream",
     "text": [
      "\n",
      "image 1/1 /kaggle/input/wind-turbine-damage-challenges/Wind Turbine damage/test/DJI_0758-1-_JPG.rf.4ccae74fb152cab9f4899aea4b7002ff.jpg: 736x1280 1 no effect, 2 corrosions, 8 missing teeths, 25.8ms\n",
      "Speed: 8.3ms preprocess, 25.8ms inference, 1.6ms postprocess per image at shape (1, 3, 736, 1280)\n"
     ]
    },
    {
     "name": "stderr",
     "output_type": "stream",
     "text": [
      " 81%|████████  | 122/151 [00:19<00:07,  3.84it/s]"
     ]
    },
    {
     "name": "stdout",
     "output_type": "stream",
     "text": [
      "\n",
      "image 1/1 /kaggle/input/wind-turbine-damage-challenges/Wind Turbine damage/test/DJI_0762-1-_JPG.rf.ad96cbe9564933c045e82407f8379d47.jpg: 736x1280 3 no effects, 11 corrosions, 4 missing teeths, 26.5ms\n",
      "Speed: 7.9ms preprocess, 26.5ms inference, 1.7ms postprocess per image at shape (1, 3, 736, 1280)\n"
     ]
    },
    {
     "name": "stderr",
     "output_type": "stream",
     "text": [
      " 81%|████████▏ | 123/151 [00:19<00:07,  3.74it/s]"
     ]
    },
    {
     "name": "stdout",
     "output_type": "stream",
     "text": [
      "\n",
      "image 1/1 /kaggle/input/wind-turbine-damage-challenges/Wind Turbine damage/test/DJI_0764-1-_JPG.rf.dda28e9da6a04fb32538af96498b7b55.jpg: 736x1280 2 no effects, 15 corrosions, 2 missing teeths, 26.7ms\n",
      "Speed: 8.0ms preprocess, 26.7ms inference, 1.6ms postprocess per image at shape (1, 3, 736, 1280)\n"
     ]
    },
    {
     "name": "stderr",
     "output_type": "stream",
     "text": [
      " 82%|████████▏ | 124/151 [00:19<00:07,  3.72it/s]"
     ]
    },
    {
     "name": "stdout",
     "output_type": "stream",
     "text": [
      "\n",
      "image 1/1 /kaggle/input/wind-turbine-damage-challenges/Wind Turbine damage/test/DJI_0765-1-_JPG.rf.500d5a743566278e0be2d7cd60ce180c.jpg: 736x1280 3 no effects, 14 corrosions, 6 missing teeths, 26.7ms\n",
      "Speed: 8.1ms preprocess, 26.7ms inference, 1.8ms postprocess per image at shape (1, 3, 736, 1280)\n"
     ]
    },
    {
     "name": "stderr",
     "output_type": "stream",
     "text": [
      " 83%|████████▎ | 125/151 [00:20<00:07,  3.71it/s]"
     ]
    },
    {
     "name": "stdout",
     "output_type": "stream",
     "text": [
      "\n",
      "image 1/1 /kaggle/input/wind-turbine-damage-challenges/Wind Turbine damage/test/DJI_0766-1-_JPG.rf.23aa70af0a4a9b9557902b4207972685.jpg: 736x1280 1 no effect, 8 corrosions, 2 missing teeths, 26.8ms\n",
      "Speed: 8.1ms preprocess, 26.8ms inference, 1.6ms postprocess per image at shape (1, 3, 736, 1280)\n"
     ]
    },
    {
     "name": "stderr",
     "output_type": "stream",
     "text": [
      " 83%|████████▎ | 126/151 [00:20<00:06,  3.71it/s]"
     ]
    },
    {
     "name": "stdout",
     "output_type": "stream",
     "text": [
      "\n",
      "image 1/1 /kaggle/input/wind-turbine-damage-challenges/Wind Turbine damage/test/DJI_0767-1-_JPG.rf.6bf30033ae02a537b4dc2a335dc1ba98.jpg: 736x1280 2 no effects, 1 corrosion, 2 missing teeths, 26.0ms\n",
      "Speed: 8.2ms preprocess, 26.0ms inference, 1.6ms postprocess per image at shape (1, 3, 736, 1280)\n"
     ]
    },
    {
     "name": "stderr",
     "output_type": "stream",
     "text": [
      " 84%|████████▍ | 127/151 [00:20<00:06,  3.71it/s]"
     ]
    },
    {
     "name": "stdout",
     "output_type": "stream",
     "text": [
      "\n",
      "image 1/1 /kaggle/input/wind-turbine-damage-challenges/Wind Turbine damage/test/DJI_0769-1-_JPG.rf.fc54d0bf4a5c1e1a7c32533f01a4b287.jpg: 736x1280 2 no effects, 10 corrosions, 2 missing teeths, 1 patch, 26.3ms\n",
      "Speed: 8.0ms preprocess, 26.3ms inference, 1.6ms postprocess per image at shape (1, 3, 736, 1280)\n"
     ]
    },
    {
     "name": "stderr",
     "output_type": "stream",
     "text": [
      " 85%|████████▍ | 128/151 [00:21<00:06,  3.72it/s]"
     ]
    },
    {
     "name": "stdout",
     "output_type": "stream",
     "text": [
      "\n",
      "image 1/1 /kaggle/input/wind-turbine-damage-challenges/Wind Turbine damage/test/DJI_0771_JPG.rf.ef6771f47ce45dac8789ea590c7c9f88.jpg: 736x1280 2 no effects, 16 corrosions, 2 missing teeths, 25.5ms\n",
      "Speed: 8.1ms preprocess, 25.5ms inference, 1.6ms postprocess per image at shape (1, 3, 736, 1280)\n"
     ]
    },
    {
     "name": "stderr",
     "output_type": "stream",
     "text": [
      " 85%|████████▌ | 129/151 [00:21<00:05,  3.75it/s]"
     ]
    },
    {
     "name": "stdout",
     "output_type": "stream",
     "text": [
      "\n",
      "image 1/1 /kaggle/input/wind-turbine-damage-challenges/Wind Turbine damage/test/DJI_0774_JPG.rf.4e79666308c10060b119179e067f6b5f.jpg: 736x1280 2 no effects, 19 corrosions, 3 missing teeths, 26.6ms\n",
      "Speed: 8.0ms preprocess, 26.6ms inference, 1.7ms postprocess per image at shape (1, 3, 736, 1280)\n"
     ]
    },
    {
     "name": "stderr",
     "output_type": "stream",
     "text": [
      " 86%|████████▌ | 130/151 [00:21<00:05,  3.75it/s]"
     ]
    },
    {
     "name": "stdout",
     "output_type": "stream",
     "text": [
      "\n",
      "image 1/1 /kaggle/input/wind-turbine-damage-challenges/Wind Turbine damage/test/DJI_0775_JPG.rf.559241cce67f8a1b9d038bd9a07d73ad.jpg: 736x1280 2 no effects, 15 corrosions, 1 missing teeth, 26.5ms\n",
      "Speed: 8.0ms preprocess, 26.5ms inference, 1.7ms postprocess per image at shape (1, 3, 736, 1280)\n"
     ]
    },
    {
     "name": "stderr",
     "output_type": "stream",
     "text": [
      " 87%|████████▋ | 131/151 [00:21<00:05,  3.75it/s]"
     ]
    },
    {
     "name": "stdout",
     "output_type": "stream",
     "text": [
      "\n",
      "image 1/1 /kaggle/input/wind-turbine-damage-challenges/Wind Turbine damage/test/DJI_0782_JPG.rf.20122d86e06af6481889f80a37481234.jpg: 736x1280 2 no effects, 14 corrosions, 1 missing teeth, 26.4ms\n",
      "Speed: 8.1ms preprocess, 26.4ms inference, 1.6ms postprocess per image at shape (1, 3, 736, 1280)\n"
     ]
    },
    {
     "name": "stderr",
     "output_type": "stream",
     "text": [
      " 87%|████████▋ | 132/151 [00:22<00:05,  3.76it/s]"
     ]
    },
    {
     "name": "stdout",
     "output_type": "stream",
     "text": [
      "\n",
      "image 1/1 /kaggle/input/wind-turbine-damage-challenges/Wind Turbine damage/test/DJI_0783_JPG.rf.064314252ff22a8de6b1a64e759ced69.jpg: 736x1280 2 no effects, 12 corrosions, 1 missing teeth, 26.3ms\n",
      "Speed: 8.1ms preprocess, 26.3ms inference, 1.7ms postprocess per image at shape (1, 3, 736, 1280)\n"
     ]
    },
    {
     "name": "stderr",
     "output_type": "stream",
     "text": [
      " 88%|████████▊ | 133/151 [00:22<00:04,  3.76it/s]"
     ]
    },
    {
     "name": "stdout",
     "output_type": "stream",
     "text": [
      "\n",
      "image 1/1 /kaggle/input/wind-turbine-damage-challenges/Wind Turbine damage/test/DJI_0786_JPG.rf.8393511dd03727861777c834fdfd3d93.jpg: 736x1280 1 no effect, 18 corrosions, 8 missing teeths, 27.0ms\n",
      "Speed: 9.0ms preprocess, 27.0ms inference, 1.7ms postprocess per image at shape (1, 3, 736, 1280)\n"
     ]
    },
    {
     "name": "stderr",
     "output_type": "stream",
     "text": [
      " 89%|████████▊ | 134/151 [00:22<00:04,  3.77it/s]"
     ]
    },
    {
     "name": "stdout",
     "output_type": "stream",
     "text": [
      "\n",
      "image 1/1 /kaggle/input/wind-turbine-damage-challenges/Wind Turbine damage/test/DJI_0787_JPG.rf.b33e0b3720d9ad9f30ece0e2ce4fb2ab.jpg: 736x1280 2 no effects, 22 corrosions, 7 missing teeths, 25.8ms\n",
      "Speed: 8.1ms preprocess, 25.8ms inference, 1.7ms postprocess per image at shape (1, 3, 736, 1280)\n"
     ]
    },
    {
     "name": "stderr",
     "output_type": "stream",
     "text": [
      " 89%|████████▉ | 135/151 [00:22<00:04,  3.81it/s]"
     ]
    },
    {
     "name": "stdout",
     "output_type": "stream",
     "text": [
      "\n",
      "image 1/1 /kaggle/input/wind-turbine-damage-challenges/Wind Turbine damage/test/DJI_0788_JPG.rf.2460e49d3538464c7bab22faf38f32e8.jpg: 736x1280 2 no effects, 24 corrosions, 10 missing teeths, 26.1ms\n",
      "Speed: 8.0ms preprocess, 26.1ms inference, 1.7ms postprocess per image at shape (1, 3, 736, 1280)\n"
     ]
    },
    {
     "name": "stderr",
     "output_type": "stream",
     "text": [
      " 90%|█████████ | 136/151 [00:23<00:03,  3.80it/s]"
     ]
    },
    {
     "name": "stdout",
     "output_type": "stream",
     "text": [
      "\n",
      "image 1/1 /kaggle/input/wind-turbine-damage-challenges/Wind Turbine damage/test/DJI_0789_JPG.rf.6e8cb81795ced0a81ad14f33ca8d26bc.jpg: 736x1280 1 no effect, 27 corrosions, 12 missing teeths, 26.1ms\n",
      "Speed: 8.0ms preprocess, 26.1ms inference, 1.7ms postprocess per image at shape (1, 3, 736, 1280)\n"
     ]
    },
    {
     "name": "stderr",
     "output_type": "stream",
     "text": [
      " 91%|█████████ | 137/151 [00:23<00:03,  3.81it/s]"
     ]
    },
    {
     "name": "stdout",
     "output_type": "stream",
     "text": [
      "\n",
      "image 1/1 /kaggle/input/wind-turbine-damage-challenges/Wind Turbine damage/test/DJI_0975_JPG.rf.37c894ef2602f302978e698b1cd65746.jpg: 736x1280 1 no effect, 21 corrosions, 3 missing teeths, 26.0ms\n",
      "Speed: 8.2ms preprocess, 26.0ms inference, 1.6ms postprocess per image at shape (1, 3, 736, 1280)\n"
     ]
    },
    {
     "name": "stderr",
     "output_type": "stream",
     "text": [
      " 91%|█████████▏| 138/151 [00:23<00:03,  3.56it/s]"
     ]
    },
    {
     "name": "stdout",
     "output_type": "stream",
     "text": [
      "\n",
      "image 1/1 /kaggle/input/wind-turbine-damage-challenges/Wind Turbine damage/test/DJI_0978_JPG.rf.31c2820f9214cfe6e1c0279d732e9ec1.jpg: 736x1280 1 no effect, 13 corrosions, 2 missing teeths, 25.9ms\n",
      "Speed: 7.9ms preprocess, 25.9ms inference, 1.6ms postprocess per image at shape (1, 3, 736, 1280)\n"
     ]
    },
    {
     "name": "stderr",
     "output_type": "stream",
     "text": [
      " 92%|█████████▏| 139/151 [00:24<00:03,  3.42it/s]"
     ]
    },
    {
     "name": "stdout",
     "output_type": "stream",
     "text": [
      "\n",
      "image 1/1 /kaggle/input/wind-turbine-damage-challenges/Wind Turbine damage/test/DJI_0979_JPG.rf.95e4156ad7c15913188dc03681b81e5a.jpg: 736x1280 1 no effect, 24 corrosions, 26.8ms\n",
      "Speed: 8.4ms preprocess, 26.8ms inference, 1.6ms postprocess per image at shape (1, 3, 736, 1280)\n"
     ]
    },
    {
     "name": "stderr",
     "output_type": "stream",
     "text": [
      " 93%|█████████▎| 140/151 [00:24<00:03,  3.31it/s]"
     ]
    },
    {
     "name": "stdout",
     "output_type": "stream",
     "text": [
      "\n",
      "image 1/1 /kaggle/input/wind-turbine-damage-challenges/Wind Turbine damage/test/DJI_0980_JPG.rf.9aae1abc3fdead93968f7a06073e9b87.jpg: 736x1280 1 no effect, 16 corrosions, 1 missing teeth, 25.9ms\n",
      "Speed: 8.2ms preprocess, 25.9ms inference, 1.6ms postprocess per image at shape (1, 3, 736, 1280)\n"
     ]
    },
    {
     "name": "stderr",
     "output_type": "stream",
     "text": [
      " 93%|█████████▎| 141/151 [00:24<00:03,  3.25it/s]"
     ]
    },
    {
     "name": "stdout",
     "output_type": "stream",
     "text": [
      "\n",
      "image 1/1 /kaggle/input/wind-turbine-damage-challenges/Wind Turbine damage/test/DJI_0981_JPG.rf.49d83249cf60fcac1705593e4a86258b.jpg: 736x1280 1 no effect, 19 corrosions, 1 missing teeth, 25.8ms\n",
      "Speed: 8.3ms preprocess, 25.8ms inference, 1.6ms postprocess per image at shape (1, 3, 736, 1280)\n"
     ]
    },
    {
     "name": "stderr",
     "output_type": "stream",
     "text": [
      " 94%|█████████▍| 142/151 [00:25<00:02,  3.20it/s]"
     ]
    },
    {
     "name": "stdout",
     "output_type": "stream",
     "text": [
      "\n",
      "image 1/1 /kaggle/input/wind-turbine-damage-challenges/Wind Turbine damage/test/DJI_0985_JPG.rf.aa69ccc4ef0830be243fc06f42e91c53.jpg: 736x1280 1 no effect, 12 corrosions, 1 missing teeth, 25.6ms\n",
      "Speed: 8.0ms preprocess, 25.6ms inference, 1.6ms postprocess per image at shape (1, 3, 736, 1280)\n"
     ]
    },
    {
     "name": "stderr",
     "output_type": "stream",
     "text": [
      " 95%|█████████▍| 143/151 [00:25<00:02,  3.16it/s]"
     ]
    },
    {
     "name": "stdout",
     "output_type": "stream",
     "text": [
      "\n",
      "image 1/1 /kaggle/input/wind-turbine-damage-challenges/Wind Turbine damage/test/DJI_0987_JPG.rf.c2002d99afd301f941c19bd6e56a916a.jpg: 736x1280 1 no effect, 15 corrosions, 3 missing teeths, 25.7ms\n",
      "Speed: 8.3ms preprocess, 25.7ms inference, 1.6ms postprocess per image at shape (1, 3, 736, 1280)\n"
     ]
    },
    {
     "name": "stderr",
     "output_type": "stream",
     "text": [
      " 95%|█████████▌| 144/151 [00:25<00:02,  3.14it/s]"
     ]
    },
    {
     "name": "stdout",
     "output_type": "stream",
     "text": [
      "\n",
      "image 1/1 /kaggle/input/wind-turbine-damage-challenges/Wind Turbine damage/test/DJI_0989_JPG.rf.c88276836792084a0205e542b79fb91c.jpg: 736x1280 1 no effect, 33 corrosions, 1 missing teeth, 3 patchs, 26.1ms\n",
      "Speed: 8.0ms preprocess, 26.1ms inference, 1.7ms postprocess per image at shape (1, 3, 736, 1280)\n"
     ]
    },
    {
     "name": "stderr",
     "output_type": "stream",
     "text": [
      " 96%|█████████▌| 145/151 [00:25<00:01,  3.14it/s]"
     ]
    },
    {
     "name": "stdout",
     "output_type": "stream",
     "text": [
      "\n",
      "image 1/1 /kaggle/input/wind-turbine-damage-challenges/Wind Turbine damage/test/DJI_0991_JPG.rf.54622f4cc224fae47bb990abe7a57d51.jpg: 736x1280 1 no effect, 28 corrosions, 4 missing teeths, 1 patch, 26.7ms\n",
      "Speed: 8.0ms preprocess, 26.7ms inference, 1.6ms postprocess per image at shape (1, 3, 736, 1280)\n"
     ]
    },
    {
     "name": "stderr",
     "output_type": "stream",
     "text": [
      " 97%|█████████▋| 146/151 [00:26<00:01,  3.14it/s]"
     ]
    },
    {
     "name": "stdout",
     "output_type": "stream",
     "text": [
      "\n",
      "image 1/1 /kaggle/input/wind-turbine-damage-challenges/Wind Turbine damage/test/DJI_0992_JPG.rf.8adbc7b8fa4895501467ea9eaf53f0d4.jpg: 736x1280 2 no effects, 22 corrosions, 2 missing teeths, 2 patchs, 27.6ms\n",
      "Speed: 8.0ms preprocess, 27.6ms inference, 1.6ms postprocess per image at shape (1, 3, 736, 1280)\n"
     ]
    },
    {
     "name": "stderr",
     "output_type": "stream",
     "text": [
      " 97%|█████████▋| 147/151 [00:26<00:01,  3.15it/s]"
     ]
    },
    {
     "name": "stdout",
     "output_type": "stream",
     "text": [
      "\n",
      "image 1/1 /kaggle/input/wind-turbine-damage-challenges/Wind Turbine damage/test/DJI_0993_JPG.rf.f33b6663ee70d58a17f1b41a031a28c7.jpg: 736x1280 1 no effect, 19 corrosions, 4 missing teeths, 28.4ms\n",
      "Speed: 8.6ms preprocess, 28.4ms inference, 1.8ms postprocess per image at shape (1, 3, 736, 1280)\n"
     ]
    },
    {
     "name": "stderr",
     "output_type": "stream",
     "text": [
      " 98%|█████████▊| 148/151 [00:26<00:00,  3.08it/s]"
     ]
    },
    {
     "name": "stdout",
     "output_type": "stream",
     "text": [
      "\n",
      "image 1/1 /kaggle/input/wind-turbine-damage-challenges/Wind Turbine damage/test/DJI_0994_JPG.rf.e5bf13e77518256c8c3f6ae62f9612b7.jpg: 736x1280 2 no effects, 21 corrosions, 3 missing teeths, 2 patchs, 25.1ms\n",
      "Speed: 7.3ms preprocess, 25.1ms inference, 1.8ms postprocess per image at shape (1, 3, 736, 1280)\n"
     ]
    },
    {
     "name": "stderr",
     "output_type": "stream",
     "text": [
      " 99%|█████████▊| 149/151 [00:27<00:00,  3.07it/s]"
     ]
    },
    {
     "name": "stdout",
     "output_type": "stream",
     "text": [
      "\n",
      "image 1/1 /kaggle/input/wind-turbine-damage-challenges/Wind Turbine damage/test/DJI_0995_JPG.rf.09f70312420808da47c3a4aaf186ca92.jpg: 736x1280 2 no effects, 25 corrosions, 2 missing teeths, 24.7ms\n",
      "Speed: 7.5ms preprocess, 24.7ms inference, 1.5ms postprocess per image at shape (1, 3, 736, 1280)\n"
     ]
    },
    {
     "name": "stderr",
     "output_type": "stream",
     "text": [
      " 99%|█████████▉| 150/151 [00:27<00:00,  3.19it/s]"
     ]
    },
    {
     "name": "stdout",
     "output_type": "stream",
     "text": [
      "\n",
      "image 1/1 /kaggle/input/wind-turbine-damage-challenges/Wind Turbine damage/test/DJI_0997_JPG.rf.9f5f2b599b0927db0d1121a39516f4e0.jpg: 736x1280 2 no effects, 23 corrosions, 4 missing teeths, 24.2ms\n",
      "Speed: 7.2ms preprocess, 24.2ms inference, 1.4ms postprocess per image at shape (1, 3, 736, 1280)\n"
     ]
    },
    {
     "name": "stderr",
     "output_type": "stream",
     "text": [
      "100%|██████████| 151/151 [00:27<00:00,  5.42it/s]\n"
     ]
    },
    {
     "name": "stdout",
     "output_type": "stream",
     "text": [
      "Файл submission_v3.csv успешно сохранен\n",
      "\n",
      "Генерация предсказаний с параметрами {'conf': [0.001, 0.01], 'iou': [0.2, 0.4], 'augment': True}\n"
     ]
    },
    {
     "name": "stderr",
     "output_type": "stream",
     "text": [
      "  0%|          | 0/151 [00:00<?, ?it/s]\n"
     ]
    },
    {
     "ename": "TypeError",
     "evalue": "'conf=[0.001, 0.01]' is of invalid type list. Valid 'conf' types are int (i.e. 'conf=0') or float (i.e. 'conf=0.5')",
     "output_type": "error",
     "traceback": [
      "\u001b[0;31m---------------------------------------------------------------------------\u001b[0m",
      "\u001b[0;31mTypeError\u001b[0m                                 Traceback (most recent call last)",
      "\u001b[0;32m/tmp/ipykernel_113/4013430219.py\u001b[0m in \u001b[0;36m<cell line: 0>\u001b[0;34m()\u001b[0m\n\u001b[1;32m    136\u001b[0m     }\n\u001b[1;32m    137\u001b[0m \u001b[0;34m\u001b[0m\u001b[0m\n\u001b[0;32m--> 138\u001b[0;31m     \u001b[0mpredictions\u001b[0m \u001b[0;34m=\u001b[0m \u001b[0mgenerate_predictions\u001b[0m\u001b[0;34m(\u001b[0m\u001b[0mtest_dir\u001b[0m\u001b[0;34m,\u001b[0m \u001b[0mfull_params\u001b[0m\u001b[0;34m)\u001b[0m\u001b[0;34m\u001b[0m\u001b[0;34m\u001b[0m\u001b[0m\n\u001b[0m\u001b[1;32m    139\u001b[0m \u001b[0;34m\u001b[0m\u001b[0m\n\u001b[1;32m    140\u001b[0m     \u001b[0;31m# Формируем DataFrame\u001b[0m\u001b[0;34m\u001b[0m\u001b[0;34m\u001b[0m\u001b[0m\n",
      "\u001b[0;32m/tmp/ipykernel_113/4013430219.py\u001b[0m in \u001b[0;36mgenerate_predictions\u001b[0;34m(test_dir, prediction_params)\u001b[0m\n\u001b[1;32m     62\u001b[0m \u001b[0;34m\u001b[0m\u001b[0m\n\u001b[1;32m     63\u001b[0m         \u001b[0;31m# Предсказание с новыми параметрами\u001b[0m\u001b[0;34m\u001b[0m\u001b[0;34m\u001b[0m\u001b[0m\n\u001b[0;32m---> 64\u001b[0;31m         \u001b[0mprediction\u001b[0m \u001b[0;34m=\u001b[0m \u001b[0mmodel_predict\u001b[0m\u001b[0;34m.\u001b[0m\u001b[0mpredict\u001b[0m\u001b[0;34m(\u001b[0m\u001b[0mimg_path\u001b[0m\u001b[0;34m,\u001b[0m \u001b[0;34m**\u001b[0m\u001b[0mprediction_params\u001b[0m\u001b[0;34m)\u001b[0m\u001b[0;34m\u001b[0m\u001b[0;34m\u001b[0m\u001b[0m\n\u001b[0m\u001b[1;32m     65\u001b[0m \u001b[0;34m\u001b[0m\u001b[0m\n\u001b[1;32m     66\u001b[0m         \u001b[0;31m# Обработка результатов\u001b[0m\u001b[0;34m\u001b[0m\u001b[0;34m\u001b[0m\u001b[0m\n",
      "\u001b[0;32m/usr/local/lib/python3.11/dist-packages/ultralytics/engine/model.py\u001b[0m in \u001b[0;36mpredict\u001b[0;34m(self, source, stream, predictor, **kwargs)\u001b[0m\n\u001b[1;32m    542\u001b[0m             \u001b[0mself\u001b[0m\u001b[0;34m.\u001b[0m\u001b[0mpredictor\u001b[0m\u001b[0;34m.\u001b[0m\u001b[0msetup_model\u001b[0m\u001b[0;34m(\u001b[0m\u001b[0mmodel\u001b[0m\u001b[0;34m=\u001b[0m\u001b[0mself\u001b[0m\u001b[0;34m.\u001b[0m\u001b[0mmodel\u001b[0m\u001b[0;34m,\u001b[0m \u001b[0mverbose\u001b[0m\u001b[0;34m=\u001b[0m\u001b[0mis_cli\u001b[0m\u001b[0;34m)\u001b[0m\u001b[0;34m\u001b[0m\u001b[0;34m\u001b[0m\u001b[0m\n\u001b[1;32m    543\u001b[0m         \u001b[0;32melse\u001b[0m\u001b[0;34m:\u001b[0m  \u001b[0;31m# only update args if predictor is already setup\u001b[0m\u001b[0;34m\u001b[0m\u001b[0;34m\u001b[0m\u001b[0m\n\u001b[0;32m--> 544\u001b[0;31m             \u001b[0mself\u001b[0m\u001b[0;34m.\u001b[0m\u001b[0mpredictor\u001b[0m\u001b[0;34m.\u001b[0m\u001b[0margs\u001b[0m \u001b[0;34m=\u001b[0m \u001b[0mget_cfg\u001b[0m\u001b[0;34m(\u001b[0m\u001b[0mself\u001b[0m\u001b[0;34m.\u001b[0m\u001b[0mpredictor\u001b[0m\u001b[0;34m.\u001b[0m\u001b[0margs\u001b[0m\u001b[0;34m,\u001b[0m \u001b[0margs\u001b[0m\u001b[0;34m)\u001b[0m\u001b[0;34m\u001b[0m\u001b[0;34m\u001b[0m\u001b[0m\n\u001b[0m\u001b[1;32m    545\u001b[0m             \u001b[0;32mif\u001b[0m \u001b[0;34m\"project\"\u001b[0m \u001b[0;32min\u001b[0m \u001b[0margs\u001b[0m \u001b[0;32mor\u001b[0m \u001b[0;34m\"name\"\u001b[0m \u001b[0;32min\u001b[0m \u001b[0margs\u001b[0m\u001b[0;34m:\u001b[0m\u001b[0;34m\u001b[0m\u001b[0;34m\u001b[0m\u001b[0m\n\u001b[1;32m    546\u001b[0m                 \u001b[0mself\u001b[0m\u001b[0;34m.\u001b[0m\u001b[0mpredictor\u001b[0m\u001b[0;34m.\u001b[0m\u001b[0msave_dir\u001b[0m \u001b[0;34m=\u001b[0m \u001b[0mget_save_dir\u001b[0m\u001b[0;34m(\u001b[0m\u001b[0mself\u001b[0m\u001b[0;34m.\u001b[0m\u001b[0mpredictor\u001b[0m\u001b[0;34m.\u001b[0m\u001b[0margs\u001b[0m\u001b[0;34m)\u001b[0m\u001b[0;34m\u001b[0m\u001b[0;34m\u001b[0m\u001b[0m\n",
      "\u001b[0;32m/usr/local/lib/python3.11/dist-packages/ultralytics/cfg/__init__.py\u001b[0m in \u001b[0;36mget_cfg\u001b[0;34m(cfg, overrides)\u001b[0m\n\u001b[1;32m    320\u001b[0m \u001b[0;34m\u001b[0m\u001b[0m\n\u001b[1;32m    321\u001b[0m     \u001b[0;31m# Type and Value checks\u001b[0m\u001b[0;34m\u001b[0m\u001b[0;34m\u001b[0m\u001b[0m\n\u001b[0;32m--> 322\u001b[0;31m     \u001b[0mcheck_cfg\u001b[0m\u001b[0;34m(\u001b[0m\u001b[0mcfg\u001b[0m\u001b[0;34m)\u001b[0m\u001b[0;34m\u001b[0m\u001b[0;34m\u001b[0m\u001b[0m\n\u001b[0m\u001b[1;32m    323\u001b[0m \u001b[0;34m\u001b[0m\u001b[0m\n\u001b[1;32m    324\u001b[0m     \u001b[0;31m# Return instance\u001b[0m\u001b[0;34m\u001b[0m\u001b[0;34m\u001b[0m\u001b[0m\n",
      "\u001b[0;32m/usr/local/lib/python3.11/dist-packages/ultralytics/cfg/__init__.py\u001b[0m in \u001b[0;36mcheck_cfg\u001b[0;34m(cfg, hard)\u001b[0m\n\u001b[1;32m    366\u001b[0m                 \u001b[0;32mif\u001b[0m \u001b[0;32mnot\u001b[0m \u001b[0misinstance\u001b[0m\u001b[0;34m(\u001b[0m\u001b[0mv\u001b[0m\u001b[0;34m,\u001b[0m \u001b[0;34m(\u001b[0m\u001b[0mint\u001b[0m\u001b[0;34m,\u001b[0m \u001b[0mfloat\u001b[0m\u001b[0;34m)\u001b[0m\u001b[0;34m)\u001b[0m\u001b[0;34m:\u001b[0m\u001b[0;34m\u001b[0m\u001b[0;34m\u001b[0m\u001b[0m\n\u001b[1;32m    367\u001b[0m                     \u001b[0;32mif\u001b[0m \u001b[0mhard\u001b[0m\u001b[0;34m:\u001b[0m\u001b[0;34m\u001b[0m\u001b[0;34m\u001b[0m\u001b[0m\n\u001b[0;32m--> 368\u001b[0;31m                         raise TypeError(\n\u001b[0m\u001b[1;32m    369\u001b[0m                             \u001b[0;34mf\"'{k}={v}' is of invalid type {type(v).__name__}. \"\u001b[0m\u001b[0;34m\u001b[0m\u001b[0;34m\u001b[0m\u001b[0m\n\u001b[1;32m    370\u001b[0m                             \u001b[0;34mf\"Valid '{k}' types are int (i.e. '{k}=0') or float (i.e. '{k}=0.5')\"\u001b[0m\u001b[0;34m\u001b[0m\u001b[0;34m\u001b[0m\u001b[0m\n",
      "\u001b[0;31mTypeError\u001b[0m: 'conf=[0.001, 0.01]' is of invalid type list. Valid 'conf' types are int (i.e. 'conf=0') or float (i.e. 'conf=0.5')"
     ]
    }
   ],
   "source": [
    "import csv\n",
    "from pathlib import Path\n",
    "from ultralytics import YOLO\n",
    "import torch\n",
    "\n",
    "import cv2\n",
    "\n",
    "def get_image_size(image_path):\n",
    "    img = cv2.imread(str(image_path))\n",
    "    height, width = img.shape[:2]\n",
    "    return width, height  # (width, height)\n",
    "\n",
    "# Загрузка обученной модели\n",
    "# model = YOLO('best.pt')  # Укажите путь к вашей обученной модели\n",
    "\n",
    "# Словарь для преобразования ID классов в имена\n",
    "class_names = {\n",
    "    0:'no effect',\n",
    "    1: 'corrosion',\n",
    "    2: 'lightning',\n",
    "    3: 'lightning receptor',\n",
    "    4: 'missing teeth',\n",
    "    5: 'patch'\n",
    "}\n",
    "\n",
    "# Функция для преобразования YOLO формата в требуемый\n",
    "def format_prediction(box, class_id, conf, orig_width, orig_height):\n",
    "    x_center = box[0].item() * orig_width\n",
    "    y_center = box[1].item() * orig_height\n",
    "    width = box[2].item() * orig_width\n",
    "    height = box[3].item() * orig_height\n",
    "\n",
    "    # Вычисляем координаты левого верхнего угла\n",
    "    x1 = x_center - (width / 2)\n",
    "    y1 = y_center - (height / 2)\n",
    "    \n",
    "    return [\n",
    "        class_names[class_id],\n",
    "        round(x1, 2),\n",
    "        round(y1, 2),\n",
    "        round(width, 2),\n",
    "        round(height, 2),\n",
    "        round(conf.item(), 5)\n",
    "    ]\n",
    "\n",
    "# Генерация предсказаний\n",
    "def generate_predictions(test_dir, prediction_params):\n",
    "    results = []\n",
    "    \n",
    "    # # Новые параметры предсказания\n",
    "    # prediction_params = {\n",
    "    #     'conf': 0.01,      # Оставить низкий порог\n",
    "    #     'iou': 0.45,        # Более строгий NMS\n",
    "    #     'agnostic_nms': False,\n",
    "    #     'augment': True,    # TTA\n",
    "    #     'half': True,       # Использовать половинную точность\n",
    "    #     'max_det': 300      # Увеличить лимит детекций\n",
    "    # }\n",
    "    \n",
    "    for img_path in tqdm(sorted(Path(test_dir).rglob('*.jpg'))):\n",
    "        orig_width, orig_height = get_image_size(img_path)\n",
    "        \n",
    "        # Предсказание с новыми параметрами\n",
    "        prediction = model_predict.predict(img_path, **prediction_params)\n",
    "        \n",
    "        # Обработка результатов\n",
    "        boxes = prediction[0].boxes.xywhn\n",
    "        classes = prediction[0].boxes.cls\n",
    "        confs = prediction[0].boxes.conf\n",
    "        \n",
    "        # Фильтрация слишком больших боксов\n",
    "        filtered = []\n",
    "        for box, class_id, conf in zip(boxes, classes, confs):\n",
    "            w = box[2].item() * orig_width\n",
    "            h = box[3].item() * orig_height\n",
    "            \n",
    "            # Фильтр по размеру (настройте под ваши данные)\n",
    "            # if 20 < w < orig_width*0.8 and 20 < h < orig_height*0.8:\n",
    "            filtered.append((box, class_id, conf))\n",
    "        \n",
    "        # Форматирование\n",
    "        formatted = [\n",
    "            format_prediction(b, int(cid), cf, orig_width, orig_height)\n",
    "            for b, cid, cf in filtered\n",
    "        ]\n",
    "        \n",
    "        results.append({\n",
    "            'image_id': img_path.name,\n",
    "            'objects': formatted\n",
    "        })\n",
    "    \n",
    "    return results\n",
    "\n",
    "# Генерируем предсказания\n",
    "test_dir = '/kaggle/input/wind-turbine-damage-challenges/Wind Turbine damage/test'\n",
    "# predictions = generate_predictions(test_dir)\n",
    "\n",
    "best_params = {\n",
    "    'conf': 0.001,       # Низкий порог (v1)\n",
    "    'iou': 0.2,          # Мягкий NMS (v1)\n",
    "    'augment': True,     # TTA (v1, v4)\n",
    "    'half': True         # FP16 (v4)\n",
    "}\n",
    "\n",
    "param_combinations  = [\n",
    "    # Вариант 7: Увеличенный лимит детекций\n",
    "    # {**best_params, 'max_det': 500},\n",
    "    \n",
    "    # Вариант 8: Строгий NMS с TTA\n",
    "    # {'conf': 0.001, 'iou': 0.5, 'augment': True, 'half': True},\n",
    "        \n",
    "    # Вариант 10: Ансамблирование (требует 2+ моделей)\n",
    "    # {'conf': 0.005, 'iou': 0.4, 'augment': True},\n",
    "\n",
    "    # Ultra-low confidence\n",
    "    {'conf': 0.0005, 'iou': 0.2, 'augment': True, 'half': True, 'max_det': 300},\n",
    "    \n",
    "    # Balanced params\n",
    "    {'conf': 0.001, 'iou': 0.25, 'augment': True, 'half': False, 'max_det': 200},\n",
    "    \n",
    "    \n",
    "    # Size filtering\n",
    "    {'conf': 0.001, 'iou': 0.2, 'augment': True},\n",
    "    \n",
    "    # Hybrid approach\n",
    "    {'conf': [0.001, 0.01], 'iou': [0.2, 0.4], 'augment': True}  # Мульти-порог\n",
    "]\n",
    "\n",
    "for i, params in enumerate(param_combinations, 1):\n",
    "    print(f\"\\nГенерация предсказаний с параметрами {params}\")\n",
    "    \n",
    "    # Добавляем обязательные параметры\n",
    "    full_params = {\n",
    "        'agnostic_nms': False,\n",
    "        **params\n",
    "    }\n",
    "    \n",
    "    predictions = generate_predictions(test_dir, full_params)\n",
    "    \n",
    "    # Формируем DataFrame\n",
    "    images = []\n",
    "    objects = []\n",
    "    \n",
    "    for pred in predictions:\n",
    "        objects_str = str([[obj[0]] + obj[1:] for obj in pred['objects']]).replace(\"'\", '\"')\n",
    "        objects.append(objects_str)\n",
    "        images.append(pred['image_id'])\n",
    "    \n",
    "    preds = pd.DataFrame({'image_id': images, 'objects': objects})\n",
    "    \n",
    "    # Сохраняем файл\n",
    "    filename = f'submission_v{i}.csv'\n",
    "    preds.to_csv(filename, index=False)\n",
    "    print(f\"Файл {filename} успешно сохранен\")\n",
    "    \n",
    "    # Для удобства сохраняем и параметры\n",
    "    with open(f'params_v{i}.txt', 'w') as f:\n",
    "        f.write(str(params))\n",
    "\n"
   ]
  },
  {
   "cell_type": "code",
   "execution_count": 93,
   "metadata": {
    "execution": {
     "iopub.execute_input": "2025-04-28T19:52:54.423752Z",
     "iopub.status.busy": "2025-04-28T19:52:54.423438Z",
     "iopub.status.idle": "2025-04-28T19:52:54.427758Z",
     "shell.execute_reply": "2025-04-28T19:52:54.426936Z",
     "shell.execute_reply.started": "2025-04-28T19:52:54.423727Z"
    },
    "trusted": true
   },
   "outputs": [],
   "source": [
    "# predictions"
   ]
  },
  {
   "cell_type": "code",
   "execution_count": 100,
   "metadata": {
    "execution": {
     "iopub.execute_input": "2025-04-28T19:57:10.235604Z",
     "iopub.status.busy": "2025-04-28T19:57:10.235353Z",
     "iopub.status.idle": "2025-04-28T19:57:10.243335Z",
     "shell.execute_reply": "2025-04-28T19:57:10.242704Z",
     "shell.execute_reply.started": "2025-04-28T19:57:10.235586Z"
    },
    "trusted": true
   },
   "outputs": [],
   "source": [
    "images = []\n",
    "objects = []\n",
    "\n",
    "for pred in predictions:\n",
    "    # Форматируем список объектов в строку\n",
    "    objects_str = str([[obj[0]] + obj[1:] for obj in pred['objects']])\\\n",
    "        .replace(\"'\", '\"')\n",
    "    objects.append(objects_str)\n",
    "    \n",
    "    images.append(pred['image_id'])\n",
    "\n",
    "preds = pd.DataFrame({'image_id': images,\n",
    "                      'objects': objects})"
   ]
  },
  {
   "cell_type": "code",
   "execution_count": 88,
   "metadata": {
    "execution": {
     "iopub.execute_input": "2025-04-28T19:49:26.657615Z",
     "iopub.status.busy": "2025-04-28T19:49:26.656754Z",
     "iopub.status.idle": "2025-04-28T19:49:26.669232Z",
     "shell.execute_reply": "2025-04-28T19:49:26.668294Z",
     "shell.execute_reply.started": "2025-04-28T19:49:26.657587Z"
    },
    "trusted": true
   },
   "outputs": [
    {
     "data": {
      "text/html": [
       "<div>\n",
       "<style scoped>\n",
       "    .dataframe tbody tr th:only-of-type {\n",
       "        vertical-align: middle;\n",
       "    }\n",
       "\n",
       "    .dataframe tbody tr th {\n",
       "        vertical-align: top;\n",
       "    }\n",
       "\n",
       "    .dataframe thead th {\n",
       "        text-align: right;\n",
       "    }\n",
       "</style>\n",
       "<table border=\"1\" class=\"dataframe\">\n",
       "  <thead>\n",
       "    <tr style=\"text-align: right;\">\n",
       "      <th></th>\n",
       "      <th>image_id</th>\n",
       "      <th>objects</th>\n",
       "    </tr>\n",
       "  </thead>\n",
       "  <tbody>\n",
       "    <tr>\n",
       "      <th>0</th>\n",
       "      <td>20240120_150729_jpg.rf.5925f54483de8cc52f75fdd...</td>\n",
       "      <td>[[\"corrosion\", 925.36, 2538.56, 36.94, 49.48, ...</td>\n",
       "    </tr>\n",
       "    <tr>\n",
       "      <th>1</th>\n",
       "      <td>20240120_153628_jpg.rf.67030e3c4592587d26d7762...</td>\n",
       "      <td>[[\"corrosion\", 3229.76, 1614.44, 41.34, 45.21,...</td>\n",
       "    </tr>\n",
       "    <tr>\n",
       "      <th>2</th>\n",
       "      <td>20240120_153658_jpg.rf.66dc04dc4ee8194ccc19397...</td>\n",
       "      <td>[[\"corrosion\", 3981.26, 5280.28, 63.53, 70.85,...</td>\n",
       "    </tr>\n",
       "    <tr>\n",
       "      <th>3</th>\n",
       "      <td>20240120_153711_jpg.rf.3a50aa9daa881abe4296c7f...</td>\n",
       "      <td>[[\"missing teeth\", 5726.22, 4423.83, 105.85, 1...</td>\n",
       "    </tr>\n",
       "    <tr>\n",
       "      <th>4</th>\n",
       "      <td>20240120_153748-0-_jpg.rf.6c50a8089bf3ccd32bb6...</td>\n",
       "      <td>[[\"corrosion\", 2738.45, 2396.48, 763.96, 773.0...</td>\n",
       "    </tr>\n",
       "    <tr>\n",
       "      <th>...</th>\n",
       "      <td>...</td>\n",
       "      <td>...</td>\n",
       "    </tr>\n",
       "    <tr>\n",
       "      <th>146</th>\n",
       "      <td>DJI_0992_JPG.rf.8adbc7b8fa4895501467ea9eaf53f0...</td>\n",
       "      <td>[[\"patch\", 0.0, 834.48, 129.04, 179.54, 0.0023...</td>\n",
       "    </tr>\n",
       "    <tr>\n",
       "      <th>147</th>\n",
       "      <td>DJI_0993_JPG.rf.f33b6663ee70d58a17f1b41a031a28...</td>\n",
       "      <td>[[\"corrosion\", 2914.7, 646.26, 77.55, 63.06, 0...</td>\n",
       "    </tr>\n",
       "    <tr>\n",
       "      <th>148</th>\n",
       "      <td>DJI_0994_JPG.rf.e5bf13e77518256c8c3f6ae62f9612...</td>\n",
       "      <td>[[\"patch\", 0.0, 2679.75, 57.62, 183.77, 0.0012...</td>\n",
       "    </tr>\n",
       "    <tr>\n",
       "      <th>149</th>\n",
       "      <td>DJI_0995_JPG.rf.09f70312420808da47c3a4aaf186ca...</td>\n",
       "      <td>[[\"missing teeth\", 2312.02, 2743.97, 53.16, 61...</td>\n",
       "    </tr>\n",
       "    <tr>\n",
       "      <th>150</th>\n",
       "      <td>DJI_0997_JPG.rf.9f5f2b599b0927db0d1121a39516f4...</td>\n",
       "      <td>[[\"corrosion\", 5062.14, 200.49, 63.13, 82.4, 0...</td>\n",
       "    </tr>\n",
       "  </tbody>\n",
       "</table>\n",
       "<p>151 rows × 2 columns</p>\n",
       "</div>"
      ],
      "text/plain": [
       "                                              image_id  \\\n",
       "0    20240120_150729_jpg.rf.5925f54483de8cc52f75fdd...   \n",
       "1    20240120_153628_jpg.rf.67030e3c4592587d26d7762...   \n",
       "2    20240120_153658_jpg.rf.66dc04dc4ee8194ccc19397...   \n",
       "3    20240120_153711_jpg.rf.3a50aa9daa881abe4296c7f...   \n",
       "4    20240120_153748-0-_jpg.rf.6c50a8089bf3ccd32bb6...   \n",
       "..                                                 ...   \n",
       "146  DJI_0992_JPG.rf.8adbc7b8fa4895501467ea9eaf53f0...   \n",
       "147  DJI_0993_JPG.rf.f33b6663ee70d58a17f1b41a031a28...   \n",
       "148  DJI_0994_JPG.rf.e5bf13e77518256c8c3f6ae62f9612...   \n",
       "149  DJI_0995_JPG.rf.09f70312420808da47c3a4aaf186ca...   \n",
       "150  DJI_0997_JPG.rf.9f5f2b599b0927db0d1121a39516f4...   \n",
       "\n",
       "                                               objects  \n",
       "0    [[\"corrosion\", 925.36, 2538.56, 36.94, 49.48, ...  \n",
       "1    [[\"corrosion\", 3229.76, 1614.44, 41.34, 45.21,...  \n",
       "2    [[\"corrosion\", 3981.26, 5280.28, 63.53, 70.85,...  \n",
       "3    [[\"missing teeth\", 5726.22, 4423.83, 105.85, 1...  \n",
       "4    [[\"corrosion\", 2738.45, 2396.48, 763.96, 773.0...  \n",
       "..                                                 ...  \n",
       "146  [[\"patch\", 0.0, 834.48, 129.04, 179.54, 0.0023...  \n",
       "147  [[\"corrosion\", 2914.7, 646.26, 77.55, 63.06, 0...  \n",
       "148  [[\"patch\", 0.0, 2679.75, 57.62, 183.77, 0.0012...  \n",
       "149  [[\"missing teeth\", 2312.02, 2743.97, 53.16, 61...  \n",
       "150  [[\"corrosion\", 5062.14, 200.49, 63.13, 82.4, 0...  \n",
       "\n",
       "[151 rows x 2 columns]"
      ]
     },
     "execution_count": 88,
     "metadata": {},
     "output_type": "execute_result"
    }
   ],
   "source": [
    "# dest_label_dir = '/kaggle/working/submission.csv'\n",
    "\n",
    "# txt_file = Path(dest_label_dir) / (dest_img.stem + '.txt')\n",
    "# with open(txt_file, 'w') as f:\n",
    "#                     f.write(\"0 0.5 0.5 1.0 1.0\\n\")\n",
    "preds"
   ]
  },
  {
   "cell_type": "code",
   "execution_count": 101,
   "metadata": {
    "execution": {
     "iopub.execute_input": "2025-04-28T19:57:10.244265Z",
     "iopub.status.busy": "2025-04-28T19:57:10.244050Z",
     "iopub.status.idle": "2025-04-28T19:57:10.263244Z",
     "shell.execute_reply": "2025-04-28T19:57:10.262348Z",
     "shell.execute_reply.started": "2025-04-28T19:57:10.244249Z"
    },
    "trusted": true
   },
   "outputs": [],
   "source": [
    "preds.to_csv(f'/kaggle/working/submission.csv', index = False)"
   ]
  },
  {
   "cell_type": "code",
   "execution_count": 73,
   "metadata": {
    "execution": {
     "iopub.execute_input": "2025-04-28T17:14:25.743848Z",
     "iopub.status.busy": "2025-04-28T17:14:25.743278Z",
     "iopub.status.idle": "2025-04-28T17:14:25.752964Z",
     "shell.execute_reply": "2025-04-28T17:14:25.752264Z",
     "shell.execute_reply.started": "2025-04-28T17:14:25.743825Z"
    },
    "trusted": true
   },
   "outputs": [
    {
     "name": "stdout",
     "output_type": "stream",
     "text": [
      "Submission file created: /kaggle/working\n"
     ]
    }
   ],
   "source": [
    "# Создаем submission файл\n",
    "submission_file = '/kaggle/working'\n",
    "txt_file = Path(submission_file) / ('submission' + '.txt')\n",
    "with open(txt_file, 'w', newline='') as f:\n",
    "    writer = csv.writer(f)\n",
    "    writer.writerow(['image_id', 'objects'])\n",
    "    \n",
    "    for pred in predictions:\n",
    "        # Форматируем список объектов в строку\n",
    "        objects_str = str([[obj[0]] + obj[1:] for obj in pred['objects']])\\\n",
    "            .replace(\"'\", '\"')\n",
    "        \n",
    "        writer.writerow([pred['image_id'], objects_str])\n",
    "\n",
    "print(f'Submission file created: {submission_file}')"
   ]
  },
  {
   "cell_type": "code",
   "execution_count": 76,
   "metadata": {
    "execution": {
     "iopub.execute_input": "2025-04-28T17:14:39.022712Z",
     "iopub.status.busy": "2025-04-28T17:14:39.022103Z",
     "iopub.status.idle": "2025-04-28T17:14:39.032332Z",
     "shell.execute_reply": "2025-04-28T17:14:39.031656Z",
     "shell.execute_reply.started": "2025-04-28T17:14:39.022689Z"
    },
    "trusted": true
   },
   "outputs": [
    {
     "data": {
      "text/html": [
       "<div>\n",
       "<style scoped>\n",
       "    .dataframe tbody tr th:only-of-type {\n",
       "        vertical-align: middle;\n",
       "    }\n",
       "\n",
       "    .dataframe tbody tr th {\n",
       "        vertical-align: top;\n",
       "    }\n",
       "\n",
       "    .dataframe thead th {\n",
       "        text-align: right;\n",
       "    }\n",
       "</style>\n",
       "<table border=\"1\" class=\"dataframe\">\n",
       "  <thead>\n",
       "    <tr style=\"text-align: right;\">\n",
       "      <th></th>\n",
       "      <th>image_id</th>\n",
       "      <th>objects</th>\n",
       "    </tr>\n",
       "  </thead>\n",
       "  <tbody>\n",
       "    <tr>\n",
       "      <th>0</th>\n",
       "      <td>20240120_150729_jpg.rf.5925f54483de8cc52f75fdd...</td>\n",
       "      <td>[[\"corrosion\", 925.36, 2538.56, 36.94, 49.48, ...</td>\n",
       "    </tr>\n",
       "    <tr>\n",
       "      <th>1</th>\n",
       "      <td>20240120_153628_jpg.rf.67030e3c4592587d26d7762...</td>\n",
       "      <td>[]</td>\n",
       "    </tr>\n",
       "    <tr>\n",
       "      <th>2</th>\n",
       "      <td>20240120_153658_jpg.rf.66dc04dc4ee8194ccc19397...</td>\n",
       "      <td>[[\"corrosion\", 3981.26, 5280.28, 63.53, 70.85,...</td>\n",
       "    </tr>\n",
       "    <tr>\n",
       "      <th>3</th>\n",
       "      <td>20240120_153711_jpg.rf.3a50aa9daa881abe4296c7f...</td>\n",
       "      <td>[[\"missing teeth\", 5726.22, 4423.83, 105.85, 1...</td>\n",
       "    </tr>\n",
       "    <tr>\n",
       "      <th>4</th>\n",
       "      <td>20240120_153748-0-_jpg.rf.6c50a8089bf3ccd32bb6...</td>\n",
       "      <td>[]</td>\n",
       "    </tr>\n",
       "  </tbody>\n",
       "</table>\n",
       "</div>"
      ],
      "text/plain": [
       "                                            image_id  \\\n",
       "0  20240120_150729_jpg.rf.5925f54483de8cc52f75fdd...   \n",
       "1  20240120_153628_jpg.rf.67030e3c4592587d26d7762...   \n",
       "2  20240120_153658_jpg.rf.66dc04dc4ee8194ccc19397...   \n",
       "3  20240120_153711_jpg.rf.3a50aa9daa881abe4296c7f...   \n",
       "4  20240120_153748-0-_jpg.rf.6c50a8089bf3ccd32bb6...   \n",
       "\n",
       "                                             objects  \n",
       "0  [[\"corrosion\", 925.36, 2538.56, 36.94, 49.48, ...  \n",
       "1                                                 []  \n",
       "2  [[\"corrosion\", 3981.26, 5280.28, 63.53, 70.85,...  \n",
       "3  [[\"missing teeth\", 5726.22, 4423.83, 105.85, 1...  \n",
       "4                                                 []  "
      ]
     },
     "execution_count": 76,
     "metadata": {},
     "output_type": "execute_result"
    }
   ],
   "source": [
    "# Проверяем первые 5 строк сохраненного файла\n",
    "pd.read_csv('/kaggle/working/submission.csv').head()"
   ]
  },
  {
   "cell_type": "code",
   "execution_count": 48,
   "metadata": {
    "execution": {
     "iopub.execute_input": "2025-04-28T16:50:23.335997Z",
     "iopub.status.busy": "2025-04-28T16:50:23.335586Z",
     "iopub.status.idle": "2025-04-28T16:50:35.238254Z",
     "shell.execute_reply": "2025-04-28T16:50:35.237347Z",
     "shell.execute_reply.started": "2025-04-28T16:50:23.335967Z"
    },
    "trusted": true
   },
   "outputs": [
    {
     "name": "stdout",
     "output_type": "stream",
     "text": [
      "Ultralytics 8.3.119 🚀 Python-3.11.11 torch-2.5.1+cu124 CUDA:0 (Tesla T4, 15095MiB)\n",
      "\u001b[34m\u001b[1mval: \u001b[0mFast image access ✅ (ping: 0.0±0.0 ms, read: 1627.2±1199.3 MB/s, size: 630.9 KB)\n"
     ]
    },
    {
     "name": "stderr",
     "output_type": "stream",
     "text": [
      "\u001b[34m\u001b[1mval: \u001b[0mScanning /kaggle/working/yolo_dataset/val/labels.cache... 271 images, 0 backgrounds, 0 corrupt: 100%|██████████| 271/271 [00:00<?, ?it/s]\n",
      "                 Class     Images  Instances      Box(P          R      mAP50  mAP50-95): 100%|██████████| 34/34 [00:08<00:00,  3.99it/s]\n"
     ]
    },
    {
     "name": "stdout",
     "output_type": "stream",
     "text": [
      "                   all        271        271          0          0          0          0\n",
      "             no effect        271        271          0          0          0          0\n"
     ]
    },
    {
     "name": "stderr",
     "output_type": "stream",
     "text": [
      "/usr/local/lib/python3.11/dist-packages/matplotlib/colors.py:721: RuntimeWarning: invalid value encountered in less\n",
      "  xa[xa < 0] = -1\n",
      "/usr/local/lib/python3.11/dist-packages/matplotlib/colors.py:721: RuntimeWarning: invalid value encountered in less\n",
      "  xa[xa < 0] = -1\n"
     ]
    },
    {
     "name": "stdout",
     "output_type": "stream",
     "text": [
      "Speed: 0.6ms preprocess, 10.1ms inference, 0.0ms loss, 1.6ms postprocess per image\n",
      "Saving runs/detect/train58/predictions.json...\n",
      "Results saved to \u001b[1mruns/detect/train58\u001b[0m\n",
      "\n",
      "==================================================\n",
      "Результаты оценки (mAP@50-95): 0.0000\n",
      "mAP@50: 0.0000 | mAP@75: 0.0000\n",
      "Precision: 0.0000 | Recall: 0.0000\n",
      "==================================================\n",
      "\n"
     ]
    }
   ],
   "source": [
    "from ultralytics import YOLO\n",
    "import numpy as np\n",
    "\n",
    "def evaluate_map50_95(model_path, data_yaml, split='val', batch_size=8, imgsz=640):\n",
    "    \"\"\"\n",
    "    Вычисляет mAP@50-95 и другие метрики для YOLO-модели\n",
    "    \n",
    "    Параметры:\n",
    "        model_path (str): Путь к файлу модели (.pt)\n",
    "        data_yaml (str): Путь к dataset.yaml\n",
    "        split (str): 'val' или 'test'\n",
    "        batch_size (int): Размер батча для инференса\n",
    "        imgsz (int): Размер изображения\n",
    "        \n",
    "    Возвращает:\n",
    "        dict: Словарь с метриками (mAP50-95, mAP50, precision, recall и др.)\n",
    "    \"\"\"\n",
    "    # Загрузка модели\n",
    "    # model = YOLO(model_path)\n",
    "    \n",
    "    # Валидация\n",
    "    metrics = model.val(\n",
    "        data=data_yaml,\n",
    "        split=split,\n",
    "        batch=batch_size,\n",
    "        imgsz=imgsz,\n",
    "        iou=0.7,  # Можно настроить\n",
    "        conf=0.001,  # Низкий порог для полного покрытия\n",
    "        rect=False,  # Для более точных метрик\n",
    "        plots=True,  # Генерация графиков\n",
    "        save_json=True,  # Сохранение результатов в JSON\n",
    "        device='0'  # Использовать GPU\n",
    "    )\n",
    "    \n",
    "    # Основные метрики\n",
    "    results = {\n",
    "        'mAP50-95': metrics.box.map,        # mAP@0.5:0.95\n",
    "        'mAP50': metrics.box.map50,         # mAP@0.5\n",
    "        'mAP75': metrics.box.map75,        # mAP@0.75\n",
    "        'precision': metrics.box.p.mean(),  # Средняя precision по классам\n",
    "        'recall': metrics.box.r.mean(),    # Средняя recall по классам\n",
    "        # 'f1': metrics.box.f1.mean(),       # Средний F1-score\n",
    "        'fitness': metrics.fitness,\n",
    "        'speed': metrics.speed['inference']\n",
    "    }\n",
    "    \n",
    "    # Детали по классам\n",
    "    class_metrics = {}\n",
    "    # for i, class_name in enumerate(model.names.values()):\n",
    "    #     class_metrics[class_name] = {\n",
    "    #         'mAP50-95': metrics.box.all_ap[i, :].mean(),  # AP для класса по всем IoU\n",
    "    #         'precision': metrics.box.p[i],\n",
    "    #         'recall': metrics.box.r[i]\n",
    "    #         # ,'f1': metrics.f1[i]\n",
    "    #     }\n",
    "    \n",
    "    results['classes'] = class_metrics\n",
    "    \n",
    "    # Визуализация\n",
    "    print(f\"\\n{'='*50}\")\n",
    "    print(f\"Результаты оценки (mAP@50-95): {results['mAP50-95']:.4f}\")\n",
    "    print(f\"mAP@50: {results['mAP50']:.4f} | mAP@75: {results['mAP75']:.4f}\")\n",
    "    print(f\"Precision: {results['precision']:.4f} | Recall: {results['recall']:.4f}\")\n",
    "    # print(f\"F1-score: {results['f1']:.4f}\")\n",
    "    print(f\"{'='*50}\\n\")\n",
    "    \n",
    "    return results\n",
    "\n",
    "# Пример использования\n",
    "if __name__ == \"__main__\":\n",
    "    metrics = evaluate_map50_95(\n",
    "        model_path='yolov8n.pt',\n",
    "        data_yaml='yolo_dataset/dataset.yaml',\n",
    "        split='val'\n",
    "    )"
   ]
  },
  {
   "cell_type": "code",
   "execution_count": 57,
   "metadata": {
    "execution": {
     "iopub.execute_input": "2025-04-28T16:57:03.898658Z",
     "iopub.status.busy": "2025-04-28T16:57:03.898341Z",
     "iopub.status.idle": "2025-04-28T16:57:03.908892Z",
     "shell.execute_reply": "2025-04-28T16:57:03.908215Z",
     "shell.execute_reply.started": "2025-04-28T16:57:03.898636Z"
    },
    "trusted": true
   },
   "outputs": [
    {
     "data": {
      "text/plain": [
       "('20240120_153843-0-_jpg.rf.60b55d7dd594d0869bf7216a34d16385.jpg',\n",
       " '[[\"corrosion\", 45.85849989276216, 96.31749968578143, 50, 50, 0.6583741830672952]]')"
      ]
     },
     "execution_count": 57,
     "metadata": {},
     "output_type": "execute_result"
    }
   ],
   "source": [
    "submission = pd.read_csv('/kaggle/input/submission/sample_submission_with_errors.csv')\n",
    "submission['image_id'][0], submission['objects'][0]"
   ]
  }
 ],
 "metadata": {
  "kaggle": {
   "accelerator": "nvidiaTeslaT4",
   "dataSources": [
    {
     "databundleVersionId": 11998671,
     "sourceId": 99940,
     "sourceType": "competition"
    },
    {
     "datasetId": 7261208,
     "sourceId": 11580725,
     "sourceType": "datasetVersion"
    },
    {
     "datasetId": 7261343,
     "sourceId": 11580909,
     "sourceType": "datasetVersion"
    }
   ],
   "dockerImageVersionId": 31012,
   "isGpuEnabled": true,
   "isInternetEnabled": true,
   "language": "python",
   "sourceType": "notebook"
  },
  "kernelspec": {
   "display_name": "Python 3",
   "language": "python",
   "name": "python3"
  },
  "language_info": {
   "codemirror_mode": {
    "name": "ipython",
    "version": 3
   },
   "file_extension": ".py",
   "mimetype": "text/x-python",
   "name": "python",
   "nbconvert_exporter": "python",
   "pygments_lexer": "ipython3",
   "version": "3.11.11"
  }
 },
 "nbformat": 4,
 "nbformat_minor": 4
}
